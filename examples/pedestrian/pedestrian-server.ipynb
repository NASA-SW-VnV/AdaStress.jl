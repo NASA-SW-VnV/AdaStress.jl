{
 "cells": [
  {
   "cell_type": "markdown",
   "id": "varied-router",
   "metadata": {},
   "source": [
    "# Pedestrian avoidance system for self-driving car (server-side)\n",
    "\n",
    "This example demonstrates AdaStress's remote stress testing capabilities with an example scenario: Alice has designed a pedestrian avoidance system for her self-driving car and would like to make use of Bob's stress testing infrastructure. For reasons of confidentiality and/or security, Alice does not wish to share or reveal the system software.\n",
    "\n",
    "AdaStress provides an interface by which Bob may connect securely to a server belonging to Alice and perform stress testing. An information gap ensures that he receives no information about the system or its behavior, other than the limited information that Alice chooses to share.\n",
    "\n",
    "In this scenario, Alice chooses the option that affords maximum privacy: a blackbox salted seed-action simulation. No information about the state or action space is shared, and all seeds are rehashed with a private token. This ensures that Bob could not independently reproduce any failures he finds, even given an exact copy of Alice's software.\n",
    "\n",
    "*This notebook contains the server-side implementation, consisting of the SUT, simulation, and server creation.*\n",
    "\n",
    "- **System under test:** proprietary pedestrian avoidance system for self-driving car.\n",
    "- **Failure criterion:** car comes within certain distance of pedestrian.\n",
    "- **Stochastic disturbance:** pedestrian movement, normally distributed in acceleration."
   ]
  },
  {
   "cell_type": "code",
   "execution_count": 1,
   "id": "horizontal-queens",
   "metadata": {},
   "outputs": [
    {
     "name": "stderr",
     "output_type": "stream",
     "text": [
      "\u001b[32m\u001b[1m  Activating\u001b[22m\u001b[39m environment at `C:\\Users\\rlipkis\\.julia\\dev\\adastress\\examples\\pedestrian\\Project.toml`\n"
     ]
    }
   ],
   "source": [
    "using Pkg\n",
    "Pkg.activate(\".\")\n",
    "Pkg.instantiate()"
   ]
  },
  {
   "cell_type": "markdown",
   "id": "material-clarity",
   "metadata": {},
   "source": [
    "## System under test"
   ]
  },
  {
   "cell_type": "code",
   "execution_count": 2,
   "id": "painful-cincinnati",
   "metadata": {},
   "outputs": [
    {
     "name": "stderr",
     "output_type": "stream",
     "text": [
      "┌ Info: Precompiling AdaStress [f8632b6a-8763-4da0-bfaf-5f7707adef25]\n",
      "└ @ Base loading.jl:1317\n"
     ]
    }
   ],
   "source": [
    "using AdaStress\n",
    "using Distributions\n",
    "using StaticArrays"
   ]
  },
  {
   "cell_type": "code",
   "execution_count": 3,
   "id": "interior-plenty",
   "metadata": {},
   "outputs": [
    {
     "data": {
      "text/plain": [
       "pedestrian_avoidance (generic function with 1 method)"
      ]
     },
     "execution_count": 3,
     "metadata": {},
     "output_type": "execute_result"
    }
   ],
   "source": [
    "abstract type Actor end\n",
    "\n",
    "Base.@kwdef mutable struct SelfDrivingCar <: Actor\n",
    "    state::MVector{2, Float64}   = MVector(0.0, 0.0) # car state (position, velocity)\n",
    "    ped_est::MVector{2, Float64} = MVector(0.0, 0.0) # estimated pedestrian state\n",
    "    α::Float64                   = 0.5               # estimation filter smoothing factor\n",
    "    t_crit::Float64              = 3.0               # brake if miss time interval is below this value\n",
    "    br::Float64                  = 3.0               # braking magnitude\n",
    "end\n",
    "\n",
    "Base.@kwdef mutable struct Pedestrian <: Actor\n",
    "    state::MVector{2, Float64} = MVector(0.0, 0.0)\n",
    "    acc_dist::Distribution     = Normal(0.0, 0.25)\n",
    "end\n",
    "\n",
    "# Update internal estimate of pedestrian state.\n",
    "function sensor_update!(car::SelfDrivingCar, ped::Pedestrian)\n",
    "    car.ped_est += (1 - car.α) * (ped.state - car.ped_est)\n",
    "end\n",
    "\n",
    "# Control law for pedestrian avoidance (system under test). All this secrecy for this???\n",
    "function pedestrian_avoidance(car::SelfDrivingCar)\n",
    "    tc = -car.state[1] / car.state[2]      # time until car reaches intersection\n",
    "    tp = -car.ped_est[1] / car.ped_est[2]  # time until pedestrian reaches intersection\n",
    "    \n",
    "    return tc > 0 && tp > 0 && abs(tc - tp) < car.t_crit ? car.br : 0.0\n",
    "end"
   ]
  },
  {
   "cell_type": "markdown",
   "id": "wanted-calibration",
   "metadata": {},
   "source": [
    "## Simulation\n",
    "\n",
    "The car moves forward on the $x$-axis, while the pedestrian moves on the $y$-axis. The crosswalk is located at the point $(0, 0)$."
   ]
  },
  {
   "cell_type": "code",
   "execution_count": 4,
   "id": "round-quest",
   "metadata": {},
   "outputs": [
    {
     "data": {
      "text/plain": [
       "update! (generic function with 3 methods)"
      ]
     },
     "execution_count": 4,
     "metadata": {},
     "output_type": "execute_result"
    }
   ],
   "source": [
    "distance(car::SelfDrivingCar, ped::Pedestrian) = sqrt(car.state[1]^2 + ped.state[1]^2)\n",
    "\n",
    "# Update pedestrian state.\n",
    "function update!(ped::Pedestrian, dt::Float64)\n",
    "    acc = rand(ped.acc_dist)\n",
    "    ped.state[1] += ped.state[2] * dt + 0.5 * acc * dt^2\n",
    "    ped.state[2] += acc * dt\n",
    "    return logpdf(ped.acc_dist, acc) - logpdf(ped.acc_dist, 0.0)\n",
    "end\n",
    "\n",
    "# Update car state with nonnegative braking value.\n",
    "function update!(car::SelfDrivingCar, br::Float64, dt::Float64)\n",
    "    if br * dt <= car.state[2]\n",
    "        car.state[1] += car.state[2] * dt - 0.5 * br * dt^2\n",
    "        car.state[2] += -br * dt\n",
    "    else\n",
    "        # braking can't reverse car\n",
    "        car.state[1] += 0.5 * car.state[2]^2 / br\n",
    "        car.state[2] = 0.0\n",
    "    end\n",
    "end\n",
    "\n",
    "Base.@kwdef mutable struct DriveSim <: AdaStress.BlackBox\n",
    "    t::Float64          = 0.0\n",
    "    dt::Float64         = 1.0\n",
    "    t_max::Float64      = 15.0\n",
    "    car::SelfDrivingCar = SelfDrivingCar()\n",
    "    ped::Pedestrian     = Pedestrian()\n",
    "    d_crit::Float64     = 2.0\n",
    "end\n",
    "\n",
    "function initialize!(sim::DriveSim)\n",
    "    sim.t = 0.0\n",
    "    sim.car.state .= MVector(-100.0, 10.0)\n",
    "    sim.ped.state .= MVector(-10.0, 0.5)\n",
    "    sim.car.ped_est .= MVector(-10.0, 0.5)\n",
    "end\n",
    "\n",
    "function update!(sim::DriveSim)\n",
    "    sim.t += sim.dt\n",
    "    \n",
    "    # pedestrian update\n",
    "    logprob = update!(sim.ped, sim.dt)\n",
    "    \n",
    "    # car response\n",
    "    sensor_update!(sim.car, sim.ped)\n",
    "    br = pedestrian_avoidance(sim.car)\n",
    "    update!(sim.car, br, sim.dt)\n",
    "    \n",
    "    return logprob\n",
    "end"
   ]
  },
  {
   "cell_type": "code",
   "execution_count": 5,
   "id": "nonprofit-miracle",
   "metadata": {},
   "outputs": [],
   "source": [
    "AdaStress.reset!(sim::DriveSim) = initialize!(sim)\n",
    "AdaStress.step!(sim::DriveSim) = update!(sim)\n",
    "AdaStress.isterminal(sim::DriveSim) = sim.t >= sim.t_max\n",
    "AdaStress.isevent(sim::DriveSim) = distance(sim.car, sim.ped) < sim.d_crit\n",
    "AdaStress.distance(sim::DriveSim) = max(distance(sim.car, sim.ped) - sim.d_crit, 0.0)"
   ]
  },
  {
   "cell_type": "markdown",
   "id": "lined-leather",
   "metadata": {},
   "source": [
    "## Server set-up"
   ]
  },
  {
   "cell_type": "code",
   "execution_count": 6,
   "id": "angry-speed",
   "metadata": {},
   "outputs": [
    {
     "data": {
      "text/plain": [
       "1000.0"
      ]
     },
     "execution_count": 6,
     "metadata": {},
     "output_type": "execute_result"
    }
   ],
   "source": [
    "mdp = AdaStress.ASTMDP(DriveSim())\n",
    "mdp.reward.event_bonus = 1000.0"
   ]
  },
  {
   "cell_type": "code",
   "execution_count": 7,
   "id": "japanese-mason",
   "metadata": {
    "scrolled": true
   },
   "outputs": [
    {
     "data": {
      "text/plain": [
       "AdaStress.Interface.ASTServer(ip\"0.0.0.0\", 2000, nothing, AdaStress.Interface.ASTMDP{AdaStress.Interface.UnobservableState, AdaStress.Interface.SeedAction}(DriveSim(0.0, 1.0, 15.0, SelfDrivingCar([-100.0, 10.0], [-10.0, 0.5], 0.5, 3.0, 3.0), Pedestrian([-10.0, 0.5], Normal{Float64}(μ=0.0, σ=0.25)), 2.0), AdaStress.Interface.Reward(true, AdaStress.Interface.GradientHeuristic(), 1000.0, AdaStress.Interface.WeightedObjective(1.0, 1.0, 1.0)), Dict{Symbol, AdaStress.Interface.VariableInfo}(), MersenneTwister(0x925a132de6eba9959a9d744419675476, (0, 1002, 0, 318))), nothing, false)"
      ]
     },
     "execution_count": 7,
     "metadata": {},
     "output_type": "execute_result"
    }
   ],
   "source": [
    "server = AdaStress.ASTServer(mdp, Interface.IPv4(0), 2000)"
   ]
  },
  {
   "cell_type": "code",
   "execution_count": 8,
   "id": "amazing-limitation",
   "metadata": {},
   "outputs": [
    {
     "name": "stdout",
     "output_type": "stream",
     "text": [
      "Enter password: ········\n"
     ]
    },
    {
     "name": "stderr",
     "output_type": "stream",
     "text": [
      "┌ Info: Private token set.\n",
      "└ @ AdaStress.Interface C:\\Users\\rlipkis\\.julia\\dev\\AdaStress\\src\\interface\\remote\\server.jl:51\n"
     ]
    }
   ],
   "source": [
    "Interface.set_password(server)"
   ]
  },
  {
   "cell_type": "code",
   "execution_count": 9,
   "id": "earlier-optics",
   "metadata": {},
   "outputs": [
    {
     "data": {
      "text/plain": [
       "Task (runnable) @0x0000000045079c30"
      ]
     },
     "execution_count": 9,
     "metadata": {},
     "output_type": "execute_result"
    },
    {
     "name": "stderr",
     "output_type": "stream",
     "text": [
      "┌ Info: Connected to AST client.\n",
      "│   conn = Sockets.TCPSocket(Base.Libc.WindowsRawSocket(0x0000000000000f4c) open, 0 bytes waiting)\n",
      "└ @ AdaStress.Interface C:\\Users\\rlipkis\\.julia\\dev\\AdaStress\\src\\interface\\remote\\server.jl:78\n"
     ]
    }
   ],
   "source": [
    "Interface.connect!(server)"
   ]
  },
  {
   "cell_type": "markdown",
   "id": "dying-confidence",
   "metadata": {},
   "source": [
    "## Visualization / analysis"
   ]
  },
  {
   "cell_type": "code",
   "execution_count": 10,
   "id": "personalized-japanese",
   "metadata": {},
   "outputs": [
    {
     "name": "stderr",
     "output_type": "stream",
     "text": [
      "WARNING: using DataStructures.update! in module Main conflicts with an existing identifier.\n"
     ]
    }
   ],
   "source": [
    "using BSON\n",
    "using DataStructures\n",
    "using Plots"
   ]
  },
  {
   "cell_type": "code",
   "execution_count": 11,
   "id": "medieval-seminar",
   "metadata": {},
   "outputs": [],
   "source": [
    "BSON.@load \"best_paths.bson\" sol"
   ]
  },
  {
   "cell_type": "code",
   "execution_count": 12,
   "id": "fresh-diploma",
   "metadata": {},
   "outputs": [
    {
     "data": {
      "image/svg+xml": [
       "<?xml version=\"1.0\" encoding=\"utf-8\"?>\n",
       "<svg xmlns=\"http://www.w3.org/2000/svg\" xmlns:xlink=\"http://www.w3.org/1999/xlink\" width=\"600\" height=\"400\" viewBox=\"0 0 2400 1600\">\n",
       "<defs>\n",
       "  <clipPath id=\"clip470\">\n",
       "    <rect x=\"0\" y=\"0\" width=\"2400\" height=\"1600\"/>\n",
       "  </clipPath>\n",
       "</defs>\n",
       "<path clip-path=\"url(#clip470)\" d=\"\n",
       "M0 1600 L2400 1600 L2400 0 L0 0  Z\n",
       "  \" fill=\"#ffffff\" fill-rule=\"evenodd\" fill-opacity=\"1\"/>\n",
       "<defs>\n",
       "  <clipPath id=\"clip471\">\n",
       "    <rect x=\"480\" y=\"0\" width=\"1681\" height=\"1600\"/>\n",
       "  </clipPath>\n",
       "</defs>\n",
       "<path clip-path=\"url(#clip470)\" d=\"\n",
       "M224.098 1486.45 L2352.76 1486.45 L2352.76 123.472 L224.098 123.472  Z\n",
       "  \" fill=\"#ffffff\" fill-rule=\"evenodd\" fill-opacity=\"1\"/>\n",
       "<defs>\n",
       "  <clipPath id=\"clip472\">\n",
       "    <rect x=\"224\" y=\"123\" width=\"2130\" height=\"1364\"/>\n",
       "  </clipPath>\n",
       "</defs>\n",
       "<polyline clip-path=\"url(#clip472)\" style=\"stroke:#000000; stroke-linecap:butt; stroke-linejoin:round; stroke-width:2; stroke-opacity:0.1; fill:none\" points=\"\n",
       "  284.343,1486.45 284.343,123.472 \n",
       "  \"/>\n",
       "<polyline clip-path=\"url(#clip472)\" style=\"stroke:#000000; stroke-linecap:butt; stroke-linejoin:round; stroke-width:2; stroke-opacity:0.1; fill:none\" points=\"\n",
       "  783.887,1486.45 783.887,123.472 \n",
       "  \"/>\n",
       "<polyline clip-path=\"url(#clip472)\" style=\"stroke:#000000; stroke-linecap:butt; stroke-linejoin:round; stroke-width:2; stroke-opacity:0.1; fill:none\" points=\"\n",
       "  1283.43,1486.45 1283.43,123.472 \n",
       "  \"/>\n",
       "<polyline clip-path=\"url(#clip472)\" style=\"stroke:#000000; stroke-linecap:butt; stroke-linejoin:round; stroke-width:2; stroke-opacity:0.1; fill:none\" points=\"\n",
       "  1782.98,1486.45 1782.98,123.472 \n",
       "  \"/>\n",
       "<polyline clip-path=\"url(#clip472)\" style=\"stroke:#000000; stroke-linecap:butt; stroke-linejoin:round; stroke-width:2; stroke-opacity:0.1; fill:none\" points=\"\n",
       "  2282.52,1486.45 2282.52,123.472 \n",
       "  \"/>\n",
       "<polyline clip-path=\"url(#clip470)\" style=\"stroke:#000000; stroke-linecap:butt; stroke-linejoin:round; stroke-width:4; stroke-opacity:1; fill:none\" points=\"\n",
       "  224.098,1486.45 2352.76,1486.45 \n",
       "  \"/>\n",
       "<polyline clip-path=\"url(#clip470)\" style=\"stroke:#000000; stroke-linecap:butt; stroke-linejoin:round; stroke-width:4; stroke-opacity:1; fill:none\" points=\"\n",
       "  284.343,1486.45 284.343,1467.55 \n",
       "  \"/>\n",
       "<polyline clip-path=\"url(#clip470)\" style=\"stroke:#000000; stroke-linecap:butt; stroke-linejoin:round; stroke-width:4; stroke-opacity:1; fill:none\" points=\"\n",
       "  783.887,1486.45 783.887,1467.55 \n",
       "  \"/>\n",
       "<polyline clip-path=\"url(#clip470)\" style=\"stroke:#000000; stroke-linecap:butt; stroke-linejoin:round; stroke-width:4; stroke-opacity:1; fill:none\" points=\"\n",
       "  1283.43,1486.45 1283.43,1467.55 \n",
       "  \"/>\n",
       "<polyline clip-path=\"url(#clip470)\" style=\"stroke:#000000; stroke-linecap:butt; stroke-linejoin:round; stroke-width:4; stroke-opacity:1; fill:none\" points=\"\n",
       "  1782.98,1486.45 1782.98,1467.55 \n",
       "  \"/>\n",
       "<polyline clip-path=\"url(#clip470)\" style=\"stroke:#000000; stroke-linecap:butt; stroke-linejoin:round; stroke-width:4; stroke-opacity:1; fill:none\" points=\"\n",
       "  2282.52,1486.45 2282.52,1467.55 \n",
       "  \"/>\n",
       "<path clip-path=\"url(#clip470)\" d=\"M223.325 1530.29 L253 1530.29 L253 1534.23 L223.325 1534.23 L223.325 1530.29 Z\" fill=\"#000000\" fill-rule=\"evenodd\" fill-opacity=\"1\" /><path clip-path=\"url(#clip470)\" d=\"M263.903 1543.18 L271.542 1543.18 L271.542 1516.82 L263.232 1518.49 L263.232 1514.23 L271.496 1512.56 L276.172 1512.56 L276.172 1543.18 L283.811 1543.18 L283.811 1547.12 L263.903 1547.12 L263.903 1543.18 Z\" fill=\"#000000\" fill-rule=\"evenodd\" fill-opacity=\"1\" /><path clip-path=\"url(#clip470)\" d=\"M303.255 1515.64 Q299.644 1515.64 297.815 1519.2 Q296.01 1522.75 296.01 1529.87 Q296.01 1536.98 297.815 1540.55 Q299.644 1544.09 303.255 1544.09 Q306.889 1544.09 308.695 1540.55 Q310.523 1536.98 310.523 1529.87 Q310.523 1522.75 308.695 1519.2 Q306.889 1515.64 303.255 1515.64 M303.255 1511.93 Q309.065 1511.93 312.121 1516.54 Q315.199 1521.12 315.199 1529.87 Q315.199 1538.6 312.121 1543.21 Q309.065 1547.79 303.255 1547.79 Q297.445 1547.79 294.366 1543.21 Q291.31 1538.6 291.31 1529.87 Q291.31 1521.12 294.366 1516.54 Q297.445 1511.93 303.255 1511.93 Z\" fill=\"#000000\" fill-rule=\"evenodd\" fill-opacity=\"1\" /><path clip-path=\"url(#clip470)\" d=\"M333.417 1515.64 Q329.806 1515.64 327.977 1519.2 Q326.171 1522.75 326.171 1529.87 Q326.171 1536.98 327.977 1540.55 Q329.806 1544.09 333.417 1544.09 Q337.051 1544.09 338.857 1540.55 Q340.685 1536.98 340.685 1529.87 Q340.685 1522.75 338.857 1519.2 Q337.051 1515.64 333.417 1515.64 M333.417 1511.93 Q339.227 1511.93 342.282 1516.54 Q345.361 1521.12 345.361 1529.87 Q345.361 1538.6 342.282 1543.21 Q339.227 1547.79 333.417 1547.79 Q327.607 1547.79 324.528 1543.21 Q321.472 1538.6 321.472 1529.87 Q321.472 1521.12 324.528 1516.54 Q327.607 1511.93 333.417 1511.93 Z\" fill=\"#000000\" fill-rule=\"evenodd\" fill-opacity=\"1\" /><path clip-path=\"url(#clip470)\" d=\"M738.448 1530.29 L768.123 1530.29 L768.123 1534.23 L738.448 1534.23 L738.448 1530.29 Z\" fill=\"#000000\" fill-rule=\"evenodd\" fill-opacity=\"1\" /><path clip-path=\"url(#clip470)\" d=\"M777.035 1512.56 L799.257 1512.56 L799.257 1514.55 L786.711 1547.12 L781.827 1547.12 L793.632 1516.5 L777.035 1516.5 L777.035 1512.56 Z\" fill=\"#000000\" fill-rule=\"evenodd\" fill-opacity=\"1\" /><path clip-path=\"url(#clip470)\" d=\"M808.424 1512.56 L826.78 1512.56 L826.78 1516.5 L812.706 1516.5 L812.706 1524.97 Q813.725 1524.62 814.743 1524.46 Q815.762 1524.27 816.781 1524.27 Q822.568 1524.27 825.947 1527.44 Q829.327 1530.62 829.327 1536.03 Q829.327 1541.61 825.855 1544.71 Q822.382 1547.79 816.063 1547.79 Q813.887 1547.79 811.619 1547.42 Q809.373 1547.05 806.966 1546.31 L806.966 1541.61 Q809.049 1542.74 811.271 1543.3 Q813.494 1543.86 815.97 1543.86 Q819.975 1543.86 822.313 1541.75 Q824.651 1539.64 824.651 1536.03 Q824.651 1532.42 822.313 1530.31 Q819.975 1528.21 815.97 1528.21 Q814.095 1528.21 812.22 1528.62 Q810.369 1529.04 808.424 1529.92 L808.424 1512.56 Z\" fill=\"#000000\" fill-rule=\"evenodd\" fill-opacity=\"1\" /><path clip-path=\"url(#clip470)\" d=\"M1237.49 1530.29 L1267.17 1530.29 L1267.17 1534.23 L1237.49 1534.23 L1237.49 1530.29 Z\" fill=\"#000000\" fill-rule=\"evenodd\" fill-opacity=\"1\" /><path clip-path=\"url(#clip470)\" d=\"M1277.31 1512.56 L1295.67 1512.56 L1295.67 1516.5 L1281.59 1516.5 L1281.59 1524.97 Q1282.61 1524.62 1283.63 1524.46 Q1284.65 1524.27 1285.67 1524.27 Q1291.45 1524.27 1294.83 1527.44 Q1298.21 1530.62 1298.21 1536.03 Q1298.21 1541.61 1294.74 1544.71 Q1291.27 1547.79 1284.95 1547.79 Q1282.77 1547.79 1280.5 1547.42 Q1278.26 1547.05 1275.85 1546.31 L1275.85 1541.61 Q1277.93 1542.74 1280.16 1543.3 Q1282.38 1543.86 1284.86 1543.86 Q1288.86 1543.86 1291.2 1541.75 Q1293.54 1539.64 1293.54 1536.03 Q1293.54 1532.42 1291.2 1530.31 Q1288.86 1528.21 1284.86 1528.21 Q1282.98 1528.21 1281.11 1528.62 Q1279.25 1529.04 1277.31 1529.92 L1277.31 1512.56 Z\" fill=\"#000000\" fill-rule=\"evenodd\" fill-opacity=\"1\" /><path clip-path=\"url(#clip470)\" d=\"M1317.42 1515.64 Q1313.81 1515.64 1311.98 1519.2 Q1310.18 1522.75 1310.18 1529.87 Q1310.18 1536.98 1311.98 1540.55 Q1313.81 1544.09 1317.42 1544.09 Q1321.06 1544.09 1322.86 1540.55 Q1324.69 1536.98 1324.69 1529.87 Q1324.69 1522.75 1322.86 1519.2 Q1321.06 1515.64 1317.42 1515.64 M1317.42 1511.93 Q1323.23 1511.93 1326.29 1516.54 Q1329.37 1521.12 1329.37 1529.87 Q1329.37 1538.6 1326.29 1543.21 Q1323.23 1547.79 1317.42 1547.79 Q1311.61 1547.79 1308.54 1543.21 Q1305.48 1538.6 1305.48 1529.87 Q1305.48 1521.12 1308.54 1516.54 Q1311.61 1511.93 1317.42 1511.93 Z\" fill=\"#000000\" fill-rule=\"evenodd\" fill-opacity=\"1\" /><path clip-path=\"url(#clip470)\" d=\"M1737.54 1530.29 L1767.21 1530.29 L1767.21 1534.23 L1737.54 1534.23 L1737.54 1530.29 Z\" fill=\"#000000\" fill-rule=\"evenodd\" fill-opacity=\"1\" /><path clip-path=\"url(#clip470)\" d=\"M1781.33 1543.18 L1797.65 1543.18 L1797.65 1547.12 L1775.71 1547.12 L1775.71 1543.18 Q1778.37 1540.43 1782.95 1535.8 Q1787.56 1531.15 1788.74 1529.81 Q1790.98 1527.28 1791.86 1525.55 Q1792.77 1523.79 1792.77 1522.1 Q1792.77 1519.34 1790.82 1517.61 Q1788.9 1515.87 1785.8 1515.87 Q1783.6 1515.87 1781.15 1516.63 Q1778.72 1517.4 1775.94 1518.95 L1775.94 1514.23 Q1778.76 1513.09 1781.22 1512.51 Q1783.67 1511.93 1785.71 1511.93 Q1791.08 1511.93 1794.27 1514.62 Q1797.47 1517.31 1797.47 1521.8 Q1797.47 1523.93 1796.66 1525.85 Q1795.87 1527.74 1793.76 1530.34 Q1793.18 1531.01 1790.08 1534.23 Q1786.98 1537.42 1781.33 1543.18 Z\" fill=\"#000000\" fill-rule=\"evenodd\" fill-opacity=\"1\" /><path clip-path=\"url(#clip470)\" d=\"M1807.51 1512.56 L1825.87 1512.56 L1825.87 1516.5 L1811.8 1516.5 L1811.8 1524.97 Q1812.81 1524.62 1813.83 1524.46 Q1814.85 1524.27 1815.87 1524.27 Q1821.66 1524.27 1825.04 1527.44 Q1828.42 1530.62 1828.42 1536.03 Q1828.42 1541.61 1824.94 1544.71 Q1821.47 1547.79 1815.15 1547.79 Q1812.98 1547.79 1810.71 1547.42 Q1808.46 1547.05 1806.05 1546.31 L1806.05 1541.61 Q1808.14 1542.74 1810.36 1543.3 Q1812.58 1543.86 1815.06 1543.86 Q1819.06 1543.86 1821.4 1541.75 Q1823.74 1539.64 1823.74 1536.03 Q1823.74 1532.42 1821.4 1530.31 Q1819.06 1528.21 1815.06 1528.21 Q1813.18 1528.21 1811.31 1528.62 Q1809.46 1529.04 1807.51 1529.92 L1807.51 1512.56 Z\" fill=\"#000000\" fill-rule=\"evenodd\" fill-opacity=\"1\" /><path clip-path=\"url(#clip470)\" d=\"M2282.52 1515.64 Q2278.91 1515.64 2277.08 1519.2 Q2275.27 1522.75 2275.27 1529.87 Q2275.27 1536.98 2277.08 1540.55 Q2278.91 1544.09 2282.52 1544.09 Q2286.15 1544.09 2287.96 1540.55 Q2289.79 1536.98 2289.79 1529.87 Q2289.79 1522.75 2287.96 1519.2 Q2286.15 1515.64 2282.52 1515.64 M2282.52 1511.93 Q2288.33 1511.93 2291.39 1516.54 Q2294.46 1521.12 2294.46 1529.87 Q2294.46 1538.6 2291.39 1543.21 Q2288.33 1547.79 2282.52 1547.79 Q2276.71 1547.79 2273.63 1543.21 Q2270.58 1538.6 2270.58 1529.87 Q2270.58 1521.12 2273.63 1516.54 Q2276.71 1511.93 2282.52 1511.93 Z\" fill=\"#000000\" fill-rule=\"evenodd\" fill-opacity=\"1\" /><polyline clip-path=\"url(#clip472)\" style=\"stroke:#000000; stroke-linecap:butt; stroke-linejoin:round; stroke-width:2; stroke-opacity:0.1; fill:none\" points=\"\n",
       "  224.098,1447.87 2352.76,1447.87 \n",
       "  \"/>\n",
       "<polyline clip-path=\"url(#clip472)\" style=\"stroke:#000000; stroke-linecap:butt; stroke-linejoin:round; stroke-width:2; stroke-opacity:0.1; fill:none\" points=\"\n",
       "  224.098,1154.44 2352.76,1154.44 \n",
       "  \"/>\n",
       "<polyline clip-path=\"url(#clip472)\" style=\"stroke:#000000; stroke-linecap:butt; stroke-linejoin:round; stroke-width:2; stroke-opacity:0.1; fill:none\" points=\"\n",
       "  224.098,861.015 2352.76,861.015 \n",
       "  \"/>\n",
       "<polyline clip-path=\"url(#clip472)\" style=\"stroke:#000000; stroke-linecap:butt; stroke-linejoin:round; stroke-width:2; stroke-opacity:0.1; fill:none\" points=\"\n",
       "  224.098,567.586 2352.76,567.586 \n",
       "  \"/>\n",
       "<polyline clip-path=\"url(#clip472)\" style=\"stroke:#000000; stroke-linecap:butt; stroke-linejoin:round; stroke-width:2; stroke-opacity:0.1; fill:none\" points=\"\n",
       "  224.098,274.158 2352.76,274.158 \n",
       "  \"/>\n",
       "<polyline clip-path=\"url(#clip470)\" style=\"stroke:#000000; stroke-linecap:butt; stroke-linejoin:round; stroke-width:4; stroke-opacity:1; fill:none\" points=\"\n",
       "  224.098,1486.45 224.098,123.472 \n",
       "  \"/>\n",
       "<polyline clip-path=\"url(#clip470)\" style=\"stroke:#000000; stroke-linecap:butt; stroke-linejoin:round; stroke-width:4; stroke-opacity:1; fill:none\" points=\"\n",
       "  224.098,1447.87 242.996,1447.87 \n",
       "  \"/>\n",
       "<polyline clip-path=\"url(#clip470)\" style=\"stroke:#000000; stroke-linecap:butt; stroke-linejoin:round; stroke-width:4; stroke-opacity:1; fill:none\" points=\"\n",
       "  224.098,1154.44 242.996,1154.44 \n",
       "  \"/>\n",
       "<polyline clip-path=\"url(#clip470)\" style=\"stroke:#000000; stroke-linecap:butt; stroke-linejoin:round; stroke-width:4; stroke-opacity:1; fill:none\" points=\"\n",
       "  224.098,861.015 242.996,861.015 \n",
       "  \"/>\n",
       "<polyline clip-path=\"url(#clip470)\" style=\"stroke:#000000; stroke-linecap:butt; stroke-linejoin:round; stroke-width:4; stroke-opacity:1; fill:none\" points=\"\n",
       "  224.098,567.586 242.996,567.586 \n",
       "  \"/>\n",
       "<polyline clip-path=\"url(#clip470)\" style=\"stroke:#000000; stroke-linecap:butt; stroke-linejoin:round; stroke-width:4; stroke-opacity:1; fill:none\" points=\"\n",
       "  224.098,274.158 242.996,274.158 \n",
       "  \"/>\n",
       "<path clip-path=\"url(#clip470)\" d=\"M50.9921 1448.32 L80.6679 1448.32 L80.6679 1452.26 L50.9921 1452.26 L50.9921 1448.32 Z\" fill=\"#000000\" fill-rule=\"evenodd\" fill-opacity=\"1\" /><path clip-path=\"url(#clip470)\" d=\"M91.5706 1461.22 L99.2095 1461.22 L99.2095 1434.85 L90.8993 1436.52 L90.8993 1432.26 L99.1632 1430.59 L103.839 1430.59 L103.839 1461.22 L111.478 1461.22 L111.478 1465.15 L91.5706 1465.15 L91.5706 1461.22 Z\" fill=\"#000000\" fill-rule=\"evenodd\" fill-opacity=\"1\" /><path clip-path=\"url(#clip470)\" d=\"M130.922 1433.67 Q127.311 1433.67 125.482 1437.24 Q123.677 1440.78 123.677 1447.91 Q123.677 1455.01 125.482 1458.58 Q127.311 1462.12 130.922 1462.12 Q134.556 1462.12 136.362 1458.58 Q138.191 1455.01 138.191 1447.91 Q138.191 1440.78 136.362 1437.24 Q134.556 1433.67 130.922 1433.67 M130.922 1429.97 Q136.732 1429.97 139.788 1434.57 Q142.867 1439.16 142.867 1447.91 Q142.867 1456.63 139.788 1461.24 Q136.732 1465.82 130.922 1465.82 Q125.112 1465.82 122.033 1461.24 Q118.978 1456.63 118.978 1447.91 Q118.978 1439.16 122.033 1434.57 Q125.112 1429.97 130.922 1429.97 Z\" fill=\"#000000\" fill-rule=\"evenodd\" fill-opacity=\"1\" /><path clip-path=\"url(#clip470)\" d=\"M151.084 1459.27 L155.968 1459.27 L155.968 1465.15 L151.084 1465.15 L151.084 1459.27 Z\" fill=\"#000000\" fill-rule=\"evenodd\" fill-opacity=\"1\" /><path clip-path=\"url(#clip470)\" d=\"M176.153 1433.67 Q172.542 1433.67 170.714 1437.24 Q168.908 1440.78 168.908 1447.91 Q168.908 1455.01 170.714 1458.58 Q172.542 1462.12 176.153 1462.12 Q179.788 1462.12 181.593 1458.58 Q183.422 1455.01 183.422 1447.91 Q183.422 1440.78 181.593 1437.24 Q179.788 1433.67 176.153 1433.67 M176.153 1429.97 Q181.964 1429.97 185.019 1434.57 Q188.098 1439.16 188.098 1447.91 Q188.098 1456.63 185.019 1461.24 Q181.964 1465.82 176.153 1465.82 Q170.343 1465.82 167.265 1461.24 Q164.209 1456.63 164.209 1447.91 Q164.209 1439.16 167.265 1434.57 Q170.343 1429.97 176.153 1429.97 Z\" fill=\"#000000\" fill-rule=\"evenodd\" fill-opacity=\"1\" /><path clip-path=\"url(#clip470)\" d=\"M82.1494 1154.9 L111.825 1154.9 L111.825 1158.83 L82.1494 1158.83 L82.1494 1154.9 Z\" fill=\"#000000\" fill-rule=\"evenodd\" fill-opacity=\"1\" /><path clip-path=\"url(#clip470)\" d=\"M120.737 1137.16 L142.959 1137.16 L142.959 1139.15 L130.413 1171.72 L125.529 1171.72 L137.334 1141.1 L120.737 1141.1 L120.737 1137.16 Z\" fill=\"#000000\" fill-rule=\"evenodd\" fill-opacity=\"1\" /><path clip-path=\"url(#clip470)\" d=\"M152.08 1165.84 L156.964 1165.84 L156.964 1171.72 L152.08 1171.72 L152.08 1165.84 Z\" fill=\"#000000\" fill-rule=\"evenodd\" fill-opacity=\"1\" /><path clip-path=\"url(#clip470)\" d=\"M167.195 1137.16 L185.552 1137.16 L185.552 1141.1 L171.478 1141.1 L171.478 1149.57 Q172.496 1149.22 173.515 1149.06 Q174.533 1148.88 175.552 1148.88 Q181.339 1148.88 184.718 1152.05 Q188.098 1155.22 188.098 1160.64 Q188.098 1166.21 184.626 1169.32 Q181.153 1172.4 174.834 1172.4 Q172.658 1172.4 170.39 1172.03 Q168.144 1171.65 165.737 1170.91 L165.737 1166.21 Q167.82 1167.35 170.042 1167.9 Q172.265 1168.46 174.741 1168.46 Q178.746 1168.46 181.084 1166.35 Q183.422 1164.25 183.422 1160.64 Q183.422 1157.03 181.084 1154.92 Q178.746 1152.81 174.741 1152.81 Q172.866 1152.81 170.991 1153.23 Q169.14 1153.65 167.195 1154.53 L167.195 1137.16 Z\" fill=\"#000000\" fill-rule=\"evenodd\" fill-opacity=\"1\" /><path clip-path=\"url(#clip470)\" d=\"M81.154 861.467 L110.83 861.467 L110.83 865.402 L81.154 865.402 L81.154 861.467 Z\" fill=\"#000000\" fill-rule=\"evenodd\" fill-opacity=\"1\" /><path clip-path=\"url(#clip470)\" d=\"M120.969 843.735 L139.325 843.735 L139.325 847.67 L125.251 847.67 L125.251 856.143 Q126.27 855.795 127.288 855.633 Q128.307 855.448 129.325 855.448 Q135.112 855.448 138.492 858.62 Q141.871 861.791 141.871 867.207 Q141.871 872.786 138.399 875.888 Q134.927 878.967 128.607 878.967 Q126.432 878.967 124.163 878.596 Q121.918 878.226 119.51 877.485 L119.51 872.786 Q121.594 873.92 123.816 874.476 Q126.038 875.031 128.515 875.031 Q132.519 875.031 134.857 872.925 Q137.195 870.819 137.195 867.207 Q137.195 863.596 134.857 861.49 Q132.519 859.383 128.515 859.383 Q126.64 859.383 124.765 859.8 Q122.913 860.217 120.969 861.096 L120.969 843.735 Z\" fill=\"#000000\" fill-rule=\"evenodd\" fill-opacity=\"1\" /><path clip-path=\"url(#clip470)\" d=\"M151.084 872.416 L155.968 872.416 L155.968 878.295 L151.084 878.295 L151.084 872.416 Z\" fill=\"#000000\" fill-rule=\"evenodd\" fill-opacity=\"1\" /><path clip-path=\"url(#clip470)\" d=\"M176.153 846.814 Q172.542 846.814 170.714 850.379 Q168.908 853.92 168.908 861.05 Q168.908 868.156 170.714 871.721 Q172.542 875.263 176.153 875.263 Q179.788 875.263 181.593 871.721 Q183.422 868.156 183.422 861.05 Q183.422 853.92 181.593 850.379 Q179.788 846.814 176.153 846.814 M176.153 843.11 Q181.964 843.11 185.019 847.717 Q188.098 852.3 188.098 861.05 Q188.098 869.777 185.019 874.383 Q181.964 878.967 176.153 878.967 Q170.343 878.967 167.265 874.383 Q164.209 869.777 164.209 861.05 Q164.209 852.3 167.265 847.717 Q170.343 843.11 176.153 843.11 Z\" fill=\"#000000\" fill-rule=\"evenodd\" fill-opacity=\"1\" /><path clip-path=\"url(#clip470)\" d=\"M82.1494 568.038 L111.825 568.038 L111.825 571.973 L82.1494 571.973 L82.1494 568.038 Z\" fill=\"#000000\" fill-rule=\"evenodd\" fill-opacity=\"1\" /><path clip-path=\"url(#clip470)\" d=\"M125.945 580.931 L142.265 580.931 L142.265 584.866 L120.32 584.866 L120.32 580.931 Q122.982 578.177 127.566 573.547 Q132.172 568.894 133.353 567.552 Q135.598 565.029 136.478 563.292 Q137.381 561.533 137.381 559.843 Q137.381 557.089 135.436 555.353 Q133.515 553.617 130.413 553.617 Q128.214 553.617 125.76 554.381 Q123.33 555.144 120.552 556.695 L120.552 551.973 Q123.376 550.839 125.83 550.26 Q128.283 549.681 130.32 549.681 Q135.691 549.681 138.885 552.367 Q142.08 555.052 142.08 559.543 Q142.08 561.672 141.269 563.593 Q140.482 565.492 138.376 568.084 Q137.797 568.755 134.695 571.973 Q131.594 575.167 125.945 580.931 Z\" fill=\"#000000\" fill-rule=\"evenodd\" fill-opacity=\"1\" /><path clip-path=\"url(#clip470)\" d=\"M152.08 578.987 L156.964 578.987 L156.964 584.866 L152.08 584.866 L152.08 578.987 Z\" fill=\"#000000\" fill-rule=\"evenodd\" fill-opacity=\"1\" /><path clip-path=\"url(#clip470)\" d=\"M167.195 550.306 L185.552 550.306 L185.552 554.242 L171.478 554.242 L171.478 562.714 Q172.496 562.367 173.515 562.205 Q174.533 562.019 175.552 562.019 Q181.339 562.019 184.718 565.191 Q188.098 568.362 188.098 573.779 Q188.098 579.357 184.626 582.459 Q181.153 585.538 174.834 585.538 Q172.658 585.538 170.39 585.167 Q168.144 584.797 165.737 584.056 L165.737 579.357 Q167.82 580.491 170.042 581.047 Q172.265 581.603 174.741 581.603 Q178.746 581.603 181.084 579.496 Q183.422 577.39 183.422 573.779 Q183.422 570.167 181.084 568.061 Q178.746 565.955 174.741 565.955 Q172.866 565.955 170.991 566.371 Q169.14 566.788 167.195 567.667 L167.195 550.306 Z\" fill=\"#000000\" fill-rule=\"evenodd\" fill-opacity=\"1\" /><path clip-path=\"url(#clip470)\" d=\"M130.922 259.956 Q127.311 259.956 125.482 263.521 Q123.677 267.063 123.677 274.192 Q123.677 281.299 125.482 284.864 Q127.311 288.405 130.922 288.405 Q134.556 288.405 136.362 284.864 Q138.191 281.299 138.191 274.192 Q138.191 267.063 136.362 263.521 Q134.556 259.956 130.922 259.956 M130.922 256.253 Q136.732 256.253 139.788 260.859 Q142.867 265.442 142.867 274.192 Q142.867 282.919 139.788 287.526 Q136.732 292.109 130.922 292.109 Q125.112 292.109 122.033 287.526 Q118.978 282.919 118.978 274.192 Q118.978 265.442 122.033 260.859 Q125.112 256.253 130.922 256.253 Z\" fill=\"#000000\" fill-rule=\"evenodd\" fill-opacity=\"1\" /><path clip-path=\"url(#clip470)\" d=\"M151.084 285.558 L155.968 285.558 L155.968 291.438 L151.084 291.438 L151.084 285.558 Z\" fill=\"#000000\" fill-rule=\"evenodd\" fill-opacity=\"1\" /><path clip-path=\"url(#clip470)\" d=\"M176.153 259.956 Q172.542 259.956 170.714 263.521 Q168.908 267.063 168.908 274.192 Q168.908 281.299 170.714 284.864 Q172.542 288.405 176.153 288.405 Q179.788 288.405 181.593 284.864 Q183.422 281.299 183.422 274.192 Q183.422 267.063 181.593 263.521 Q179.788 259.956 176.153 259.956 M176.153 256.253 Q181.964 256.253 185.019 260.859 Q188.098 265.442 188.098 274.192 Q188.098 282.919 185.019 287.526 Q181.964 292.109 176.153 292.109 Q170.343 292.109 167.265 287.526 Q164.209 282.919 164.209 274.192 Q164.209 265.442 167.265 260.859 Q170.343 256.253 176.153 256.253 Z\" fill=\"#000000\" fill-rule=\"evenodd\" fill-opacity=\"1\" /><path clip-path=\"url(#clip470)\" d=\"M910.336 12.096 L961.499 12.096 L961.499 18.9825 L940.029 18.9825 L940.029 72.576 L931.806 72.576 L931.806 18.9825 L910.336 18.9825 L910.336 12.096 Z\" fill=\"#000000\" fill-rule=\"evenodd\" fill-opacity=\"1\" /><path clip-path=\"url(#clip470)\" d=\"M972.558 32.4315 Q966.562 32.4315 963.079 37.1306 Q959.595 41.7891 959.595 49.9314 Q959.595 58.0738 963.038 62.7728 Q966.522 67.4314 972.558 67.4314 Q978.512 67.4314 981.996 62.7323 Q985.48 58.0333 985.48 49.9314 Q985.48 41.8701 981.996 37.1711 Q978.512 32.4315 972.558 32.4315 M972.558 26.1121 Q982.28 26.1121 987.83 32.4315 Q993.379 38.7509 993.379 49.9314 Q993.379 61.0714 987.83 67.4314 Q982.28 73.7508 972.558 73.7508 Q962.795 73.7508 957.245 67.4314 Q951.736 61.0714 951.736 49.9314 Q951.736 38.7509 957.245 32.4315 Q962.795 26.1121 972.558 26.1121 Z\" fill=\"#000000\" fill-rule=\"evenodd\" fill-opacity=\"1\" /><path clip-path=\"url(#clip470)\" d=\"M1012.95 65.7705 L1012.95 89.8329 L1005.45 89.8329 L1005.45 27.2059 L1012.95 27.2059 L1012.95 34.0924 Q1015.29 30.0415 1018.86 28.0971 Q1022.46 26.1121 1027.45 26.1121 Q1035.71 26.1121 1040.86 32.6746 Q1046.04 39.2371 1046.04 49.9314 Q1046.04 60.6258 1040.86 67.1883 Q1035.71 73.7508 1027.45 73.7508 Q1022.46 73.7508 1018.86 71.8063 Q1015.29 69.8214 1012.95 65.7705 M1038.3 49.9314 Q1038.3 41.7081 1034.9 37.0496 Q1031.54 32.3505 1025.62 32.3505 Q1019.71 32.3505 1016.31 37.0496 Q1012.95 41.7081 1012.95 49.9314 Q1012.95 58.1548 1016.31 62.8538 Q1019.71 67.5124 1025.62 67.5124 Q1031.54 67.5124 1034.9 62.8538 Q1038.3 58.1548 1038.3 49.9314 Z\" fill=\"#000000\" fill-rule=\"evenodd\" fill-opacity=\"1\" /><path clip-path=\"url(#clip470)\" d=\"M1054.63 46.5287 L1076.46 46.5287 L1076.46 53.1722 L1054.63 53.1722 L1054.63 46.5287 Z\" fill=\"#000000\" fill-rule=\"evenodd\" fill-opacity=\"1\" /><path clip-path=\"url(#clip470)\" d=\"M1117.26 28.5427 L1117.26 35.5912 Q1114.1 33.9709 1110.69 33.1607 Q1107.29 32.3505 1103.64 32.3505 Q1098.1 32.3505 1095.3 34.0519 Q1092.55 35.7533 1092.55 39.156 Q1092.55 41.7486 1094.53 43.2475 Q1096.52 44.7058 1102.51 46.0426 L1105.06 46.6097 Q1113 48.3111 1116.32 51.4303 Q1119.69 54.509 1119.69 60.0587 Q1119.69 66.3781 1114.66 70.0644 Q1109.68 73.7508 1100.93 73.7508 Q1097.28 73.7508 1093.32 73.0216 Q1089.39 72.3329 1085.01 70.9151 L1085.01 63.2184 Q1089.14 65.3654 1093.15 66.4591 Q1097.16 67.5124 1101.09 67.5124 Q1106.36 67.5124 1109.19 65.73 Q1112.03 63.9071 1112.03 60.6258 Q1112.03 57.5877 1109.96 55.9673 Q1107.94 54.3469 1101.01 52.8481 L1098.42 52.2405 Q1091.49 50.7821 1088.41 47.7845 Q1085.33 44.7463 1085.33 39.4801 Q1085.33 33.0797 1089.87 29.5959 Q1094.41 26.1121 1102.75 26.1121 Q1106.89 26.1121 1110.53 26.7198 Q1114.18 27.3274 1117.26 28.5427 Z\" fill=\"#000000\" fill-rule=\"evenodd\" fill-opacity=\"1\" /><path clip-path=\"url(#clip470)\" d=\"M1164.21 28.9478 L1164.21 35.9153 Q1161.05 34.1734 1157.85 33.3227 Q1154.69 32.4315 1151.45 32.4315 Q1144.19 32.4315 1140.18 37.0496 Q1136.17 41.6271 1136.17 49.9314 Q1136.17 58.2358 1140.18 62.8538 Q1144.19 67.4314 1151.45 67.4314 Q1154.69 67.4314 1157.85 66.5807 Q1161.05 65.6895 1164.21 63.9476 L1164.21 70.8341 Q1161.09 72.2924 1157.72 73.0216 Q1154.4 73.7508 1150.64 73.7508 Q1140.39 73.7508 1134.35 67.3098 Q1128.31 60.8689 1128.31 49.9314 Q1128.31 38.832 1134.39 32.472 Q1140.51 26.1121 1151.12 26.1121 Q1154.56 26.1121 1157.85 26.8413 Q1161.13 27.5299 1164.21 28.9478 Z\" fill=\"#000000\" fill-rule=\"evenodd\" fill-opacity=\"1\" /><path clip-path=\"url(#clip470)\" d=\"M1194.75 32.4315 Q1188.75 32.4315 1185.27 37.1306 Q1181.79 41.7891 1181.79 49.9314 Q1181.79 58.0738 1185.23 62.7728 Q1188.71 67.4314 1194.75 67.4314 Q1200.7 67.4314 1204.19 62.7323 Q1207.67 58.0333 1207.67 49.9314 Q1207.67 41.8701 1204.19 37.1711 Q1200.7 32.4315 1194.75 32.4315 M1194.75 26.1121 Q1204.47 26.1121 1210.02 32.4315 Q1215.57 38.7509 1215.57 49.9314 Q1215.57 61.0714 1210.02 67.4314 Q1204.47 73.7508 1194.75 73.7508 Q1184.99 73.7508 1179.44 67.4314 Q1173.93 61.0714 1173.93 49.9314 Q1173.93 38.7509 1179.44 32.4315 Q1184.99 26.1121 1194.75 26.1121 Z\" fill=\"#000000\" fill-rule=\"evenodd\" fill-opacity=\"1\" /><path clip-path=\"url(#clip470)\" d=\"M1254.22 34.1734 Q1252.96 33.4443 1251.46 33.1202 Q1250 32.7556 1248.22 32.7556 Q1241.9 32.7556 1238.5 36.8875 Q1235.14 40.9789 1235.14 48.6757 L1235.14 72.576 L1227.64 72.576 L1227.64 27.2059 L1235.14 27.2059 L1235.14 34.2544 Q1237.49 30.1225 1241.25 28.1376 Q1245.02 26.1121 1250.41 26.1121 Q1251.18 26.1121 1252.11 26.2337 Q1253.04 26.3147 1254.18 26.5172 L1254.22 34.1734 Z\" fill=\"#000000\" fill-rule=\"evenodd\" fill-opacity=\"1\" /><path clip-path=\"url(#clip470)\" d=\"M1262.04 27.2059 L1269.49 27.2059 L1269.49 72.576 L1262.04 72.576 L1262.04 27.2059 M1262.04 9.54393 L1269.49 9.54393 L1269.49 18.9825 L1262.04 18.9825 L1262.04 9.54393 Z\" fill=\"#000000\" fill-rule=\"evenodd\" fill-opacity=\"1\" /><path clip-path=\"url(#clip470)\" d=\"M1322.8 45.1919 L1322.8 72.576 L1315.35 72.576 L1315.35 45.4349 Q1315.35 38.994 1312.83 35.7938 Q1310.32 32.5936 1305.3 32.5936 Q1299.26 32.5936 1295.78 36.4419 Q1292.3 40.2903 1292.3 46.9338 L1292.3 72.576 L1284.8 72.576 L1284.8 27.2059 L1292.3 27.2059 L1292.3 34.2544 Q1294.97 30.163 1298.57 28.1376 Q1302.22 26.1121 1306.96 26.1121 Q1314.78 26.1121 1318.79 30.9732 Q1322.8 35.7938 1322.8 45.1919 Z\" fill=\"#000000\" fill-rule=\"evenodd\" fill-opacity=\"1\" /><path clip-path=\"url(#clip470)\" d=\"M1367.52 49.3643 Q1367.52 41.2625 1364.16 36.8065 Q1360.84 32.3505 1354.8 32.3505 Q1348.81 32.3505 1345.44 36.8065 Q1342.12 41.2625 1342.12 49.3643 Q1342.12 57.4256 1345.44 61.8816 Q1348.81 66.3376 1354.8 66.3376 Q1360.84 66.3376 1364.16 61.8816 Q1367.52 57.4256 1367.52 49.3643 M1374.97 66.9452 Q1374.97 78.5308 1369.83 84.1616 Q1364.69 89.8329 1354.07 89.8329 Q1350.14 89.8329 1346.66 89.2252 Q1343.17 88.6581 1339.89 87.4428 L1339.89 80.1917 Q1343.17 81.9741 1346.38 82.8248 Q1349.58 83.6755 1352.9 83.6755 Q1360.23 83.6755 1363.87 79.8271 Q1367.52 76.0193 1367.52 68.282 L1367.52 64.5957 Q1365.21 68.6061 1361.61 70.5911 Q1358 72.576 1352.98 72.576 Q1344.63 72.576 1339.53 66.2161 Q1334.42 59.8562 1334.42 49.3643 Q1334.42 38.832 1339.53 32.472 Q1344.63 26.1121 1352.98 26.1121 Q1358 26.1121 1361.61 28.0971 Q1365.21 30.082 1367.52 34.0924 L1367.52 27.2059 L1374.97 27.2059 L1374.97 66.9452 Z\" fill=\"#000000\" fill-rule=\"evenodd\" fill-opacity=\"1\" /><path clip-path=\"url(#clip470)\" d=\"M1439.67 9.54393 L1439.67 15.7418 L1432.54 15.7418 Q1428.53 15.7418 1426.95 17.3622 Q1425.41 18.9825 1425.41 23.1955 L1425.41 27.2059 L1437.68 27.2059 L1437.68 32.9987 L1425.41 32.9987 L1425.41 72.576 L1417.91 72.576 L1417.91 32.9987 L1410.78 32.9987 L1410.78 27.2059 L1417.91 27.2059 L1417.91 24.0462 Q1417.91 16.471 1421.44 13.0277 Q1424.96 9.54393 1432.62 9.54393 L1439.67 9.54393 Z\" fill=\"#000000\" fill-rule=\"evenodd\" fill-opacity=\"1\" /><path clip-path=\"url(#clip470)\" d=\"M1466.52 49.7694 Q1457.49 49.7694 1454.01 51.8354 Q1450.52 53.9013 1450.52 58.8839 Q1450.52 62.8538 1453.12 65.2034 Q1455.75 67.5124 1460.25 67.5124 Q1466.44 67.5124 1470.17 63.1374 Q1473.94 58.7219 1473.94 51.4303 L1473.94 49.7694 L1466.52 49.7694 M1481.39 46.6907 L1481.39 72.576 L1473.94 72.576 L1473.94 65.6895 Q1471.39 69.8214 1467.58 71.8063 Q1463.77 73.7508 1458.26 73.7508 Q1451.29 73.7508 1447.16 69.8619 Q1443.07 65.9325 1443.07 59.3701 Q1443.07 51.7138 1448.17 47.825 Q1453.32 43.9361 1463.49 43.9361 L1473.94 43.9361 L1473.94 43.2069 Q1473.94 38.0623 1470.54 35.2672 Q1467.17 32.4315 1461.06 32.4315 Q1457.17 32.4315 1453.48 33.3632 Q1449.79 34.295 1446.39 36.1584 L1446.39 29.2718 Q1450.48 27.692 1454.33 26.9223 Q1458.18 26.1121 1461.83 26.1121 Q1471.67 26.1121 1476.53 31.2163 Q1481.39 36.3204 1481.39 46.6907 Z\" fill=\"#000000\" fill-rule=\"evenodd\" fill-opacity=\"1\" /><path clip-path=\"url(#clip470)\" d=\"M1496.74 27.2059 L1504.2 27.2059 L1504.2 72.576 L1496.74 72.576 L1496.74 27.2059 M1496.74 9.54393 L1504.2 9.54393 L1504.2 18.9825 L1496.74 18.9825 L1496.74 9.54393 Z\" fill=\"#000000\" fill-rule=\"evenodd\" fill-opacity=\"1\" /><path clip-path=\"url(#clip470)\" d=\"M1519.79 9.54393 L1527.25 9.54393 L1527.25 72.576 L1519.79 72.576 L1519.79 9.54393 Z\" fill=\"#000000\" fill-rule=\"evenodd\" fill-opacity=\"1\" /><path clip-path=\"url(#clip470)\" d=\"M1542.07 54.671 L1542.07 27.2059 L1549.53 27.2059 L1549.53 54.3874 Q1549.53 60.8284 1552.04 64.0691 Q1554.55 67.2693 1559.57 67.2693 Q1565.61 67.2693 1569.09 63.421 Q1572.62 59.5726 1572.62 52.9291 L1572.62 27.2059 L1580.07 27.2059 L1580.07 72.576 L1572.62 72.576 L1572.62 65.6084 Q1569.9 69.7404 1566.3 71.7658 Q1562.73 73.7508 1557.99 73.7508 Q1550.18 73.7508 1546.13 68.8897 Q1542.07 64.0286 1542.07 54.671 M1560.83 26.1121 L1560.83 26.1121 Z\" fill=\"#000000\" fill-rule=\"evenodd\" fill-opacity=\"1\" /><path clip-path=\"url(#clip470)\" d=\"M1621.72 34.1734 Q1620.46 33.4443 1618.96 33.1202 Q1617.5 32.7556 1615.72 32.7556 Q1609.4 32.7556 1606 36.8875 Q1602.64 40.9789 1602.64 48.6757 L1602.64 72.576 L1595.14 72.576 L1595.14 27.2059 L1602.64 27.2059 L1602.64 34.2544 Q1604.98 30.1225 1608.75 28.1376 Q1612.52 26.1121 1617.91 26.1121 Q1618.68 26.1121 1619.61 26.2337 Q1620.54 26.3147 1621.67 26.5172 L1621.72 34.1734 Z\" fill=\"#000000\" fill-rule=\"evenodd\" fill-opacity=\"1\" /><path clip-path=\"url(#clip470)\" d=\"M1666.52 48.0275 L1666.52 51.6733 L1632.25 51.6733 Q1632.73 59.3701 1636.87 63.421 Q1641.04 67.4314 1648.45 67.4314 Q1652.74 67.4314 1656.76 66.3781 Q1660.81 65.3249 1664.78 63.2184 L1664.78 70.267 Q1660.77 71.9684 1656.55 72.8596 Q1652.34 73.7508 1648.01 73.7508 Q1637.15 73.7508 1630.79 67.4314 Q1624.47 61.1119 1624.47 50.3365 Q1624.47 39.1965 1630.46 32.6746 Q1636.5 26.1121 1646.71 26.1121 Q1655.86 26.1121 1661.17 32.0264 Q1666.52 37.9003 1666.52 48.0275 M1659.06 45.84 Q1658.98 39.7232 1655.62 36.0774 Q1652.3 32.4315 1646.79 32.4315 Q1640.55 32.4315 1636.78 35.9558 Q1633.06 39.4801 1632.49 45.8805 L1659.06 45.84 Z\" fill=\"#000000\" fill-rule=\"evenodd\" fill-opacity=\"1\" /><circle clip-path=\"url(#clip472)\" cx=\"284.343\" cy=\"274.158\" r=\"14\" fill=\"#ff0000\" fill-rule=\"evenodd\" fill-opacity=\"1\" stroke=\"#000000\" stroke-opacity=\"1\" stroke-width=\"3.2\"/>\n",
       "<circle clip-path=\"url(#clip472)\" cx=\"454.188\" cy=\"274.158\" r=\"14\" fill=\"#ff0000\" fill-rule=\"evenodd\" fill-opacity=\"1\" stroke=\"#000000\" stroke-opacity=\"1\" stroke-width=\"3.2\"/>\n",
       "<circle clip-path=\"url(#clip472)\" cx=\"594.06\" cy=\"274.158\" r=\"14\" fill=\"#ff0000\" fill-rule=\"evenodd\" fill-opacity=\"1\" stroke=\"#000000\" stroke-opacity=\"1\" stroke-width=\"3.2\"/>\n",
       "<circle clip-path=\"url(#clip472)\" cx=\"733.933\" cy=\"274.158\" r=\"14\" fill=\"#ff0000\" fill-rule=\"evenodd\" fill-opacity=\"1\" stroke=\"#000000\" stroke-opacity=\"1\" stroke-width=\"3.2\"/>\n",
       "<circle clip-path=\"url(#clip472)\" cx=\"873.805\" cy=\"274.158\" r=\"14\" fill=\"#ff0000\" fill-rule=\"evenodd\" fill-opacity=\"1\" stroke=\"#000000\" stroke-opacity=\"1\" stroke-width=\"3.2\"/>\n",
       "<circle clip-path=\"url(#clip472)\" cx=\"1013.68\" cy=\"274.158\" r=\"14\" fill=\"#ff0000\" fill-rule=\"evenodd\" fill-opacity=\"1\" stroke=\"#000000\" stroke-opacity=\"1\" stroke-width=\"3.2\"/>\n",
       "<circle clip-path=\"url(#clip472)\" cx=\"1153.55\" cy=\"274.158\" r=\"14\" fill=\"#ff0000\" fill-rule=\"evenodd\" fill-opacity=\"1\" stroke=\"#000000\" stroke-opacity=\"1\" stroke-width=\"3.2\"/>\n",
       "<circle clip-path=\"url(#clip472)\" cx=\"1293.42\" cy=\"274.158\" r=\"14\" fill=\"#ff0000\" fill-rule=\"evenodd\" fill-opacity=\"1\" stroke=\"#000000\" stroke-opacity=\"1\" stroke-width=\"3.2\"/>\n",
       "<circle clip-path=\"url(#clip472)\" cx=\"1433.29\" cy=\"274.158\" r=\"14\" fill=\"#ff0000\" fill-rule=\"evenodd\" fill-opacity=\"1\" stroke=\"#000000\" stroke-opacity=\"1\" stroke-width=\"3.2\"/>\n",
       "<circle clip-path=\"url(#clip472)\" cx=\"1573.17\" cy=\"274.158\" r=\"14\" fill=\"#ff0000\" fill-rule=\"evenodd\" fill-opacity=\"1\" stroke=\"#000000\" stroke-opacity=\"1\" stroke-width=\"3.2\"/>\n",
       "<circle clip-path=\"url(#clip472)\" cx=\"1713.04\" cy=\"274.158\" r=\"14\" fill=\"#ff0000\" fill-rule=\"evenodd\" fill-opacity=\"1\" stroke=\"#000000\" stroke-opacity=\"1\" stroke-width=\"3.2\"/>\n",
       "<circle clip-path=\"url(#clip472)\" cx=\"1852.91\" cy=\"274.158\" r=\"14\" fill=\"#ff0000\" fill-rule=\"evenodd\" fill-opacity=\"1\" stroke=\"#000000\" stroke-opacity=\"1\" stroke-width=\"3.2\"/>\n",
       "<circle clip-path=\"url(#clip472)\" cx=\"1992.78\" cy=\"274.158\" r=\"14\" fill=\"#ff0000\" fill-rule=\"evenodd\" fill-opacity=\"1\" stroke=\"#000000\" stroke-opacity=\"1\" stroke-width=\"3.2\"/>\n",
       "<circle clip-path=\"url(#clip472)\" cx=\"2132.66\" cy=\"274.158\" r=\"14\" fill=\"#ff0000\" fill-rule=\"evenodd\" fill-opacity=\"1\" stroke=\"#000000\" stroke-opacity=\"1\" stroke-width=\"3.2\"/>\n",
       "<circle clip-path=\"url(#clip472)\" cx=\"2242.56\" cy=\"274.158\" r=\"14\" fill=\"#ff0000\" fill-rule=\"evenodd\" fill-opacity=\"1\" stroke=\"#000000\" stroke-opacity=\"1\" stroke-width=\"3.2\"/>\n",
       "<circle clip-path=\"url(#clip472)\" cx=\"2292.51\" cy=\"274.158\" r=\"14\" fill=\"#ff0000\" fill-rule=\"evenodd\" fill-opacity=\"1\" stroke=\"#000000\" stroke-opacity=\"1\" stroke-width=\"3.2\"/>\n",
       "<circle clip-path=\"url(#clip472)\" cx=\"2282.52\" cy=\"1447.87\" r=\"14\" fill=\"#0000ff\" fill-rule=\"evenodd\" fill-opacity=\"1\" stroke=\"#000000\" stroke-opacity=\"1\" stroke-width=\"3.2\"/>\n",
       "<circle clip-path=\"url(#clip472)\" cx=\"2282.52\" cy=\"1341.5\" r=\"14\" fill=\"#0000ff\" fill-rule=\"evenodd\" fill-opacity=\"1\" stroke=\"#000000\" stroke-opacity=\"1\" stroke-width=\"3.2\"/>\n",
       "<circle clip-path=\"url(#clip472)\" cx=\"2282.52\" cy=\"1198.04\" r=\"14\" fill=\"#0000ff\" fill-rule=\"evenodd\" fill-opacity=\"1\" stroke=\"#000000\" stroke-opacity=\"1\" stroke-width=\"3.2\"/>\n",
       "<circle clip-path=\"url(#clip472)\" cx=\"2282.52\" cy=\"1068.06\" r=\"14\" fill=\"#0000ff\" fill-rule=\"evenodd\" fill-opacity=\"1\" stroke=\"#000000\" stroke-opacity=\"1\" stroke-width=\"3.2\"/>\n",
       "<circle clip-path=\"url(#clip472)\" cx=\"2282.52\" cy=\"941.396\" r=\"14\" fill=\"#0000ff\" fill-rule=\"evenodd\" fill-opacity=\"1\" stroke=\"#000000\" stroke-opacity=\"1\" stroke-width=\"3.2\"/>\n",
       "<circle clip-path=\"url(#clip472)\" cx=\"2282.52\" cy=\"807.626\" r=\"14\" fill=\"#0000ff\" fill-rule=\"evenodd\" fill-opacity=\"1\" stroke=\"#000000\" stroke-opacity=\"1\" stroke-width=\"3.2\"/>\n",
       "<circle clip-path=\"url(#clip472)\" cx=\"2282.52\" cy=\"670.472\" r=\"14\" fill=\"#0000ff\" fill-rule=\"evenodd\" fill-opacity=\"1\" stroke=\"#000000\" stroke-opacity=\"1\" stroke-width=\"3.2\"/>\n",
       "<circle clip-path=\"url(#clip472)\" cx=\"2282.52\" cy=\"525.32\" r=\"14\" fill=\"#0000ff\" fill-rule=\"evenodd\" fill-opacity=\"1\" stroke=\"#000000\" stroke-opacity=\"1\" stroke-width=\"3.2\"/>\n",
       "<circle clip-path=\"url(#clip472)\" cx=\"2282.52\" cy=\"385.835\" r=\"14\" fill=\"#0000ff\" fill-rule=\"evenodd\" fill-opacity=\"1\" stroke=\"#000000\" stroke-opacity=\"1\" stroke-width=\"3.2\"/>\n",
       "<circle clip-path=\"url(#clip472)\" cx=\"2282.52\" cy=\"288.602\" r=\"14\" fill=\"#0000ff\" fill-rule=\"evenodd\" fill-opacity=\"1\" stroke=\"#000000\" stroke-opacity=\"1\" stroke-width=\"3.2\"/>\n",
       "<circle clip-path=\"url(#clip472)\" cx=\"2282.52\" cy=\"220.286\" r=\"14\" fill=\"#0000ff\" fill-rule=\"evenodd\" fill-opacity=\"1\" stroke=\"#000000\" stroke-opacity=\"1\" stroke-width=\"3.2\"/>\n",
       "<circle clip-path=\"url(#clip472)\" cx=\"2282.52\" cy=\"174.893\" r=\"14\" fill=\"#0000ff\" fill-rule=\"evenodd\" fill-opacity=\"1\" stroke=\"#000000\" stroke-opacity=\"1\" stroke-width=\"3.2\"/>\n",
       "<circle clip-path=\"url(#clip472)\" cx=\"2282.52\" cy=\"162.047\" r=\"14\" fill=\"#0000ff\" fill-rule=\"evenodd\" fill-opacity=\"1\" stroke=\"#000000\" stroke-opacity=\"1\" stroke-width=\"3.2\"/>\n",
       "<circle clip-path=\"url(#clip472)\" cx=\"2282.52\" cy=\"182.121\" r=\"14\" fill=\"#0000ff\" fill-rule=\"evenodd\" fill-opacity=\"1\" stroke=\"#000000\" stroke-opacity=\"1\" stroke-width=\"3.2\"/>\n",
       "<circle clip-path=\"url(#clip472)\" cx=\"2282.52\" cy=\"231.402\" r=\"14\" fill=\"#0000ff\" fill-rule=\"evenodd\" fill-opacity=\"1\" stroke=\"#000000\" stroke-opacity=\"1\" stroke-width=\"3.2\"/>\n",
       "<circle clip-path=\"url(#clip472)\" cx=\"2282.52\" cy=\"283.389\" r=\"14\" fill=\"#0000ff\" fill-rule=\"evenodd\" fill-opacity=\"1\" stroke=\"#000000\" stroke-opacity=\"1\" stroke-width=\"3.2\"/>\n",
       "<path clip-path=\"url(#clip470)\" d=\"\n",
       "M295.053 1441.02 L773.259 1441.02 L773.259 1285.5 L295.053 1285.5  Z\n",
       "  \" fill=\"#ffffff\" fill-rule=\"evenodd\" fill-opacity=\"1\"/>\n",
       "<polyline clip-path=\"url(#clip470)\" style=\"stroke:#000000; stroke-linecap:butt; stroke-linejoin:round; stroke-width:4; stroke-opacity:1; fill:none\" points=\"\n",
       "  295.053,1441.02 773.259,1441.02 773.259,1285.5 295.053,1285.5 295.053,1441.02 \n",
       "  \"/>\n",
       "<circle clip-path=\"url(#clip470)\" cx=\"389.66\" cy=\"1337.34\" r=\"23\" fill=\"#ff0000\" fill-rule=\"evenodd\" fill-opacity=\"1\" stroke=\"#000000\" stroke-opacity=\"1\" stroke-width=\"5.12\"/>\n",
       "<path clip-path=\"url(#clip470)\" d=\"M512.137 1322.72 L512.137 1327.65 Q509.776 1325.45 507.091 1324.36 Q504.429 1323.27 501.42 1323.27 Q495.494 1323.27 492.346 1326.91 Q489.198 1330.52 489.198 1337.37 Q489.198 1344.2 492.346 1347.83 Q495.494 1351.44 501.42 1351.44 Q504.429 1351.44 507.091 1350.36 Q509.776 1349.27 512.137 1347.07 L512.137 1351.95 Q509.684 1353.62 506.929 1354.45 Q504.198 1355.29 501.142 1355.29 Q493.295 1355.29 488.781 1350.5 Q484.267 1345.68 484.267 1337.37 Q484.267 1329.04 488.781 1324.25 Q493.295 1319.43 501.142 1319.43 Q504.244 1319.43 506.975 1320.26 Q509.73 1321.07 512.137 1322.72 Z\" fill=\"#000000\" fill-rule=\"evenodd\" fill-opacity=\"1\" /><path clip-path=\"url(#clip470)\" d=\"M530.957 1341.58 Q525.795 1341.58 523.804 1342.76 Q521.813 1343.94 521.813 1346.79 Q521.813 1349.06 523.295 1350.4 Q524.799 1351.72 527.369 1351.72 Q530.91 1351.72 533.04 1349.22 Q535.193 1346.7 535.193 1342.53 L535.193 1341.58 L530.957 1341.58 M539.452 1339.82 L539.452 1354.62 L535.193 1354.62 L535.193 1350.68 Q533.735 1353.04 531.559 1354.18 Q529.383 1355.29 526.235 1355.29 Q522.253 1355.29 519.892 1353.06 Q517.554 1350.82 517.554 1347.07 Q517.554 1342.69 520.471 1340.47 Q523.41 1338.25 529.221 1338.25 L535.193 1338.25 L535.193 1337.83 Q535.193 1334.89 533.248 1333.3 Q531.327 1331.68 527.832 1331.68 Q525.61 1331.68 523.503 1332.21 Q521.397 1332.74 519.452 1333.81 L519.452 1329.87 Q521.79 1328.97 523.989 1328.53 Q526.188 1328.06 528.272 1328.06 Q533.897 1328.06 536.674 1330.98 Q539.452 1333.9 539.452 1339.82 Z\" fill=\"#000000\" fill-rule=\"evenodd\" fill-opacity=\"1\" /><path clip-path=\"url(#clip470)\" d=\"M563.248 1332.67 Q562.531 1332.25 561.674 1332.07 Q560.841 1331.86 559.822 1331.86 Q556.211 1331.86 554.267 1334.22 Q552.346 1336.56 552.346 1340.96 L552.346 1354.62 L548.063 1354.62 L548.063 1328.69 L552.346 1328.69 L552.346 1332.72 Q553.688 1330.36 555.841 1329.22 Q557.994 1328.06 561.072 1328.06 Q561.512 1328.06 562.045 1328.13 Q562.577 1328.18 563.225 1328.3 L563.248 1332.67 Z\" fill=\"#000000\" fill-rule=\"evenodd\" fill-opacity=\"1\" /><circle clip-path=\"url(#clip470)\" cx=\"389.66\" cy=\"1389.18\" r=\"23\" fill=\"#0000ff\" fill-rule=\"evenodd\" fill-opacity=\"1\" stroke=\"#000000\" stroke-opacity=\"1\" stroke-width=\"5.12\"/>\n",
       "<path clip-path=\"url(#clip470)\" d=\"M488.943 1375.74 L488.943 1388.72 L494.823 1388.72 Q498.087 1388.72 499.869 1387.03 Q501.651 1385.34 501.651 1382.22 Q501.651 1379.12 499.869 1377.43 Q498.087 1375.74 494.823 1375.74 L488.943 1375.74 M484.267 1371.9 L494.823 1371.9 Q500.633 1371.9 503.596 1374.53 Q506.582 1377.15 506.582 1382.22 Q506.582 1387.34 503.596 1389.95 Q500.633 1392.57 494.823 1392.57 L488.943 1392.57 L488.943 1406.46 L484.267 1406.46 L484.267 1371.9 Z\" fill=\"#000000\" fill-rule=\"evenodd\" fill-opacity=\"1\" /><path clip-path=\"url(#clip470)\" d=\"M533.156 1392.43 L533.156 1394.51 L513.573 1394.51 Q513.85 1398.91 516.211 1401.22 Q518.596 1403.52 522.832 1403.52 Q525.285 1403.52 527.577 1402.91 Q529.892 1402.31 532.16 1401.11 L532.16 1405.14 Q529.869 1406.11 527.461 1406.62 Q525.054 1407.13 522.577 1407.13 Q516.373 1407.13 512.739 1403.52 Q509.128 1399.9 509.128 1393.75 Q509.128 1387.38 512.554 1383.65 Q516.003 1379.9 521.836 1379.9 Q527.068 1379.9 530.1 1383.28 Q533.156 1386.64 533.156 1392.43 M528.897 1391.18 Q528.85 1387.68 526.929 1385.6 Q525.031 1383.52 521.883 1383.52 Q518.318 1383.52 516.165 1385.53 Q514.036 1387.54 513.711 1391.2 L528.897 1391.18 Z\" fill=\"#000000\" fill-rule=\"evenodd\" fill-opacity=\"1\" /><path clip-path=\"url(#clip470)\" d=\"M557.207 1384.46 L557.207 1370.44 L561.466 1370.44 L561.466 1406.46 L557.207 1406.46 L557.207 1402.57 Q555.864 1404.88 553.804 1406.02 Q551.767 1407.13 548.896 1407.13 Q544.197 1407.13 541.234 1403.38 Q538.295 1399.63 538.295 1393.52 Q538.295 1387.4 541.234 1383.65 Q544.197 1379.9 548.896 1379.9 Q551.767 1379.9 553.804 1381.04 Q555.864 1382.15 557.207 1384.46 M542.693 1393.52 Q542.693 1398.21 544.614 1400.9 Q546.559 1403.56 549.938 1403.56 Q553.318 1403.56 555.262 1400.9 Q557.207 1398.21 557.207 1393.52 Q557.207 1388.82 555.262 1386.15 Q553.318 1383.47 549.938 1383.47 Q546.559 1383.47 544.614 1386.15 Q542.693 1388.82 542.693 1393.52 Z\" fill=\"#000000\" fill-rule=\"evenodd\" fill-opacity=\"1\" /><path clip-path=\"url(#clip470)\" d=\"M592.415 1392.43 L592.415 1394.51 L572.832 1394.51 Q573.109 1398.91 575.47 1401.22 Q577.855 1403.52 582.091 1403.52 Q584.544 1403.52 586.836 1402.91 Q589.151 1402.31 591.419 1401.11 L591.419 1405.14 Q589.128 1406.11 586.72 1406.62 Q584.313 1407.13 581.836 1407.13 Q575.632 1407.13 571.998 1403.52 Q568.387 1399.9 568.387 1393.75 Q568.387 1387.38 571.813 1383.65 Q575.262 1379.9 581.095 1379.9 Q586.327 1379.9 589.359 1383.28 Q592.415 1386.64 592.415 1392.43 M588.156 1391.18 Q588.109 1387.68 586.188 1385.6 Q584.29 1383.52 581.142 1383.52 Q577.577 1383.52 575.424 1385.53 Q573.294 1387.54 572.97 1391.2 L588.156 1391.18 Z\" fill=\"#000000\" fill-rule=\"evenodd\" fill-opacity=\"1\" /><path clip-path=\"url(#clip470)\" d=\"M615.933 1381.29 L615.933 1385.32 Q614.128 1384.4 612.183 1383.93 Q610.239 1383.47 608.155 1383.47 Q604.984 1383.47 603.387 1384.44 Q601.813 1385.41 601.813 1387.36 Q601.813 1388.84 602.947 1389.7 Q604.081 1390.53 607.507 1391.29 L608.966 1391.62 Q613.503 1392.59 615.401 1394.37 Q617.322 1396.13 617.322 1399.3 Q617.322 1402.91 614.452 1405.02 Q611.604 1407.13 606.604 1407.13 Q604.521 1407.13 602.253 1406.71 Q600.007 1406.32 597.507 1405.51 L597.507 1401.11 Q599.868 1402.34 602.16 1402.96 Q604.452 1403.56 606.697 1403.56 Q609.706 1403.56 611.327 1402.54 Q612.947 1401.5 612.947 1399.63 Q612.947 1397.89 611.767 1396.96 Q610.609 1396.04 606.651 1395.18 L605.169 1394.84 Q601.211 1394 599.452 1392.29 Q597.693 1390.55 597.693 1387.54 Q597.693 1383.89 600.285 1381.9 Q602.878 1379.9 607.646 1379.9 Q610.007 1379.9 612.091 1380.25 Q614.174 1380.6 615.933 1381.29 Z\" fill=\"#000000\" fill-rule=\"evenodd\" fill-opacity=\"1\" /><path clip-path=\"url(#clip470)\" d=\"M628.317 1373.17 L628.317 1380.53 L637.09 1380.53 L637.09 1383.84 L628.317 1383.84 L628.317 1397.91 Q628.317 1401.09 629.174 1401.99 Q630.053 1402.89 632.715 1402.89 L637.09 1402.89 L637.09 1406.46 L632.715 1406.46 Q627.785 1406.46 625.91 1404.63 Q624.035 1402.77 624.035 1397.91 L624.035 1383.84 L620.91 1383.84 L620.91 1380.53 L624.035 1380.53 L624.035 1373.17 L628.317 1373.17 Z\" fill=\"#000000\" fill-rule=\"evenodd\" fill-opacity=\"1\" /><path clip-path=\"url(#clip470)\" d=\"M657.715 1384.51 Q656.998 1384.09 656.141 1383.91 Q655.308 1383.7 654.289 1383.7 Q650.678 1383.7 648.734 1386.06 Q646.813 1388.4 646.813 1392.8 L646.813 1406.46 L642.53 1406.46 L642.53 1380.53 L646.813 1380.53 L646.813 1384.56 Q648.155 1382.2 650.308 1381.06 Q652.461 1379.9 655.539 1379.9 Q655.979 1379.9 656.512 1379.97 Q657.044 1380.02 657.692 1380.14 L657.715 1384.51 Z\" fill=\"#000000\" fill-rule=\"evenodd\" fill-opacity=\"1\" /><path clip-path=\"url(#clip470)\" d=\"M662.183 1380.53 L666.442 1380.53 L666.442 1406.46 L662.183 1406.46 L662.183 1380.53 M662.183 1370.44 L666.442 1370.44 L666.442 1375.83 L662.183 1375.83 L662.183 1370.44 Z\" fill=\"#000000\" fill-rule=\"evenodd\" fill-opacity=\"1\" /><path clip-path=\"url(#clip470)\" d=\"M687.136 1393.42 Q681.974 1393.42 679.984 1394.6 Q677.993 1395.78 677.993 1398.63 Q677.993 1400.9 679.474 1402.24 Q680.979 1403.56 683.549 1403.56 Q687.09 1403.56 689.22 1401.06 Q691.373 1398.54 691.373 1394.37 L691.373 1393.42 L687.136 1393.42 M695.632 1391.66 L695.632 1406.46 L691.373 1406.46 L691.373 1402.52 Q689.914 1404.88 687.738 1406.02 Q685.562 1407.13 682.414 1407.13 Q678.433 1407.13 676.072 1404.9 Q673.734 1402.66 673.734 1398.91 Q673.734 1394.53 676.65 1392.31 Q679.59 1390.09 685.4 1390.09 L691.373 1390.09 L691.373 1389.67 Q691.373 1386.73 689.428 1385.14 Q687.507 1383.52 684.011 1383.52 Q681.789 1383.52 679.683 1384.05 Q677.576 1384.58 675.632 1385.65 L675.632 1381.71 Q677.97 1380.81 680.169 1380.37 Q682.368 1379.9 684.451 1379.9 Q690.076 1379.9 692.854 1382.82 Q695.632 1385.74 695.632 1391.66 Z\" fill=\"#000000\" fill-rule=\"evenodd\" fill-opacity=\"1\" /><path clip-path=\"url(#clip470)\" d=\"M725.956 1390.81 L725.956 1406.46 L721.696 1406.46 L721.696 1390.95 Q721.696 1387.27 720.261 1385.44 Q718.826 1383.61 715.956 1383.61 Q712.507 1383.61 710.516 1385.81 Q708.525 1388.01 708.525 1391.8 L708.525 1406.46 L704.243 1406.46 L704.243 1380.53 L708.525 1380.53 L708.525 1384.56 Q710.053 1382.22 712.113 1381.06 Q714.197 1379.9 716.905 1379.9 Q721.372 1379.9 723.664 1382.68 Q725.956 1385.44 725.956 1390.81 Z\" fill=\"#000000\" fill-rule=\"evenodd\" fill-opacity=\"1\" /></svg>\n"
      ]
     },
     "execution_count": 12,
     "metadata": {},
     "output_type": "execute_result"
    }
   ],
   "source": [
    "path = collect(keys(sol))[end]\n",
    "\n",
    "Interface.reset!(mdp)\n",
    "xs = [mdp.sim.car.state[1]]\n",
    "ys = [mdp.sim.ped.state[1]]\n",
    "\n",
    "for a in path\n",
    "    a = Interface.reseed(a, server.token) # without reseeding, results are completely encrypted\n",
    "    Interface.act!(mdp, a)\n",
    "    push!(xs, mdp.sim.car.state[1])\n",
    "    push!(ys, mdp.sim.ped.state[1])\n",
    "end\n",
    "\n",
    "p = plot(title=\"Top-scoring failure\", legend=:bottomleft)\n",
    "scatter!(p, xs, zeros(length(xs)); mc=:red, label=\"Car\")\n",
    "scatter!(p, zeros(length(ys)), ys; mc=:blue, label=\"Pedestrian\")"
   ]
  },
  {
   "cell_type": "code",
   "execution_count": 13,
   "id": "smaller-panel",
   "metadata": {},
   "outputs": [
    {
     "data": {
      "image/svg+xml": [
       "<?xml version=\"1.0\" encoding=\"utf-8\"?>\n",
       "<svg xmlns=\"http://www.w3.org/2000/svg\" xmlns:xlink=\"http://www.w3.org/1999/xlink\" width=\"600\" height=\"400\" viewBox=\"0 0 2400 1600\">\n",
       "<defs>\n",
       "  <clipPath id=\"clip510\">\n",
       "    <rect x=\"0\" y=\"0\" width=\"2400\" height=\"1600\"/>\n",
       "  </clipPath>\n",
       "</defs>\n",
       "<path clip-path=\"url(#clip510)\" d=\"\n",
       "M0 1600 L2400 1600 L2400 0 L0 0  Z\n",
       "  \" fill=\"#ffffff\" fill-rule=\"evenodd\" fill-opacity=\"1\"/>\n",
       "<defs>\n",
       "  <clipPath id=\"clip511\">\n",
       "    <rect x=\"480\" y=\"0\" width=\"1681\" height=\"1600\"/>\n",
       "  </clipPath>\n",
       "</defs>\n",
       "<path clip-path=\"url(#clip510)\" d=\"\n",
       "M257.366 1423.18 L2352.76 1423.18 L2352.76 123.472 L257.366 123.472  Z\n",
       "  \" fill=\"#ffffff\" fill-rule=\"evenodd\" fill-opacity=\"1\"/>\n",
       "<defs>\n",
       "  <clipPath id=\"clip512\">\n",
       "    <rect x=\"257\" y=\"123\" width=\"2096\" height=\"1301\"/>\n",
       "  </clipPath>\n",
       "</defs>\n",
       "<polyline clip-path=\"url(#clip512)\" style=\"stroke:#000000; stroke-linecap:butt; stroke-linejoin:round; stroke-width:2; stroke-opacity:0.1; fill:none\" points=\"\n",
       "  457.868,1423.18 457.868,123.472 \n",
       "  \"/>\n",
       "<polyline clip-path=\"url(#clip512)\" style=\"stroke:#000000; stroke-linecap:butt; stroke-linejoin:round; stroke-width:2; stroke-opacity:0.1; fill:none\" points=\"\n",
       "  740.266,1423.18 740.266,123.472 \n",
       "  \"/>\n",
       "<polyline clip-path=\"url(#clip512)\" style=\"stroke:#000000; stroke-linecap:butt; stroke-linejoin:round; stroke-width:2; stroke-opacity:0.1; fill:none\" points=\"\n",
       "  1022.66,1423.18 1022.66,123.472 \n",
       "  \"/>\n",
       "<polyline clip-path=\"url(#clip512)\" style=\"stroke:#000000; stroke-linecap:butt; stroke-linejoin:round; stroke-width:2; stroke-opacity:0.1; fill:none\" points=\"\n",
       "  1305.06,1423.18 1305.06,123.472 \n",
       "  \"/>\n",
       "<polyline clip-path=\"url(#clip512)\" style=\"stroke:#000000; stroke-linecap:butt; stroke-linejoin:round; stroke-width:2; stroke-opacity:0.1; fill:none\" points=\"\n",
       "  1587.46,1423.18 1587.46,123.472 \n",
       "  \"/>\n",
       "<polyline clip-path=\"url(#clip512)\" style=\"stroke:#000000; stroke-linecap:butt; stroke-linejoin:round; stroke-width:2; stroke-opacity:0.1; fill:none\" points=\"\n",
       "  1869.86,1423.18 1869.86,123.472 \n",
       "  \"/>\n",
       "<polyline clip-path=\"url(#clip512)\" style=\"stroke:#000000; stroke-linecap:butt; stroke-linejoin:round; stroke-width:2; stroke-opacity:0.1; fill:none\" points=\"\n",
       "  2152.25,1423.18 2152.25,123.472 \n",
       "  \"/>\n",
       "<polyline clip-path=\"url(#clip510)\" style=\"stroke:#000000; stroke-linecap:butt; stroke-linejoin:round; stroke-width:4; stroke-opacity:1; fill:none\" points=\"\n",
       "  257.366,1423.18 2352.76,1423.18 \n",
       "  \"/>\n",
       "<polyline clip-path=\"url(#clip510)\" style=\"stroke:#000000; stroke-linecap:butt; stroke-linejoin:round; stroke-width:4; stroke-opacity:1; fill:none\" points=\"\n",
       "  457.868,1423.18 457.868,1404.28 \n",
       "  \"/>\n",
       "<polyline clip-path=\"url(#clip510)\" style=\"stroke:#000000; stroke-linecap:butt; stroke-linejoin:round; stroke-width:4; stroke-opacity:1; fill:none\" points=\"\n",
       "  740.266,1423.18 740.266,1404.28 \n",
       "  \"/>\n",
       "<polyline clip-path=\"url(#clip510)\" style=\"stroke:#000000; stroke-linecap:butt; stroke-linejoin:round; stroke-width:4; stroke-opacity:1; fill:none\" points=\"\n",
       "  1022.66,1423.18 1022.66,1404.28 \n",
       "  \"/>\n",
       "<polyline clip-path=\"url(#clip510)\" style=\"stroke:#000000; stroke-linecap:butt; stroke-linejoin:round; stroke-width:4; stroke-opacity:1; fill:none\" points=\"\n",
       "  1305.06,1423.18 1305.06,1404.28 \n",
       "  \"/>\n",
       "<polyline clip-path=\"url(#clip510)\" style=\"stroke:#000000; stroke-linecap:butt; stroke-linejoin:round; stroke-width:4; stroke-opacity:1; fill:none\" points=\"\n",
       "  1587.46,1423.18 1587.46,1404.28 \n",
       "  \"/>\n",
       "<polyline clip-path=\"url(#clip510)\" style=\"stroke:#000000; stroke-linecap:butt; stroke-linejoin:round; stroke-width:4; stroke-opacity:1; fill:none\" points=\"\n",
       "  1869.86,1423.18 1869.86,1404.28 \n",
       "  \"/>\n",
       "<polyline clip-path=\"url(#clip510)\" style=\"stroke:#000000; stroke-linecap:butt; stroke-linejoin:round; stroke-width:4; stroke-opacity:1; fill:none\" points=\"\n",
       "  2152.25,1423.18 2152.25,1404.28 \n",
       "  \"/>\n",
       "<path clip-path=\"url(#clip510)\" d=\"M452.521 1479.92 L468.84 1479.92 L468.84 1483.85 L446.896 1483.85 L446.896 1479.92 Q449.558 1477.16 454.141 1472.53 Q458.748 1467.88 459.929 1466.54 Q462.174 1464.01 463.053 1462.28 Q463.956 1460.52 463.956 1458.83 Q463.956 1456.07 462.012 1454.34 Q460.091 1452.6 456.989 1452.6 Q454.79 1452.6 452.336 1453.37 Q449.905 1454.13 447.128 1455.68 L447.128 1450.96 Q449.952 1449.82 452.405 1449.25 Q454.859 1448.67 456.896 1448.67 Q462.266 1448.67 465.461 1451.35 Q468.655 1454.04 468.655 1458.53 Q468.655 1460.66 467.845 1462.58 Q467.058 1464.48 464.952 1467.07 Q464.373 1467.74 461.271 1470.96 Q458.169 1474.15 452.521 1479.92 Z\" fill=\"#000000\" fill-rule=\"evenodd\" fill-opacity=\"1\" /><path clip-path=\"url(#clip510)\" d=\"M743.275 1453.37 L731.47 1471.81 L743.275 1471.81 L743.275 1453.37 M742.048 1449.29 L747.928 1449.29 L747.928 1471.81 L752.858 1471.81 L752.858 1475.7 L747.928 1475.7 L747.928 1483.85 L743.275 1483.85 L743.275 1475.7 L727.673 1475.7 L727.673 1471.19 L742.048 1449.29 Z\" fill=\"#000000\" fill-rule=\"evenodd\" fill-opacity=\"1\" /><path clip-path=\"url(#clip510)\" d=\"M1023.07 1464.71 Q1019.92 1464.71 1018.07 1466.86 Q1016.24 1469.01 1016.24 1472.76 Q1016.24 1476.49 1018.07 1478.67 Q1019.92 1480.82 1023.07 1480.82 Q1026.22 1480.82 1028.05 1478.67 Q1029.9 1476.49 1029.9 1472.76 Q1029.9 1469.01 1028.05 1466.86 Q1026.22 1464.71 1023.07 1464.71 M1032.35 1450.06 L1032.35 1454.31 Q1030.59 1453.48 1028.79 1453.04 Q1027 1452.6 1025.24 1452.6 Q1020.61 1452.6 1018.16 1455.73 Q1015.73 1458.85 1015.38 1465.17 Q1016.75 1463.16 1018.81 1462.09 Q1020.87 1461 1023.35 1461 Q1028.55 1461 1031.56 1464.18 Q1034.6 1467.32 1034.6 1472.76 Q1034.6 1478.09 1031.45 1481.31 Q1028.3 1484.52 1023.07 1484.52 Q1017.07 1484.52 1013.9 1479.94 Q1010.73 1475.33 1010.73 1466.61 Q1010.73 1458.41 1014.62 1453.55 Q1018.51 1448.67 1025.06 1448.67 Q1026.82 1448.67 1028.6 1449.01 Q1030.41 1449.36 1032.35 1450.06 Z\" fill=\"#000000\" fill-rule=\"evenodd\" fill-opacity=\"1\" /><path clip-path=\"url(#clip510)\" d=\"M1305.06 1467.44 Q1301.73 1467.44 1299.81 1469.22 Q1297.91 1471 1297.91 1474.13 Q1297.91 1477.25 1299.81 1479.04 Q1301.73 1480.82 1305.06 1480.82 Q1308.39 1480.82 1310.32 1479.04 Q1312.24 1477.23 1312.24 1474.13 Q1312.24 1471 1310.32 1469.22 Q1308.42 1467.44 1305.06 1467.44 M1300.39 1465.45 Q1297.38 1464.71 1295.69 1462.65 Q1294.02 1460.59 1294.02 1457.63 Q1294.02 1453.48 1296.96 1451.07 Q1299.92 1448.67 1305.06 1448.67 Q1310.22 1448.67 1313.16 1451.07 Q1316.1 1453.48 1316.1 1457.63 Q1316.1 1460.59 1314.41 1462.65 Q1312.75 1464.71 1309.76 1465.45 Q1313.14 1466.24 1315.01 1468.53 Q1316.91 1470.82 1316.91 1474.13 Q1316.91 1479.15 1313.83 1481.84 Q1310.78 1484.52 1305.06 1484.52 Q1299.34 1484.52 1296.26 1481.84 Q1293.21 1479.15 1293.21 1474.13 Q1293.21 1470.82 1295.11 1468.53 Q1297.01 1466.24 1300.39 1465.45 M1298.67 1458.06 Q1298.67 1460.75 1300.34 1462.25 Q1302.03 1463.76 1305.06 1463.76 Q1308.07 1463.76 1309.76 1462.25 Q1311.47 1460.75 1311.47 1458.06 Q1311.47 1455.38 1309.76 1453.88 Q1308.07 1452.37 1305.06 1452.37 Q1302.03 1452.37 1300.34 1453.88 Q1298.67 1455.38 1298.67 1458.06 Z\" fill=\"#000000\" fill-rule=\"evenodd\" fill-opacity=\"1\" /><path clip-path=\"url(#clip510)\" d=\"M1562.15 1479.92 L1569.79 1479.92 L1569.79 1453.55 L1561.47 1455.22 L1561.47 1450.96 L1569.74 1449.29 L1574.41 1449.29 L1574.41 1479.92 L1582.05 1479.92 L1582.05 1483.85 L1562.15 1483.85 L1562.15 1479.92 Z\" fill=\"#000000\" fill-rule=\"evenodd\" fill-opacity=\"1\" /><path clip-path=\"url(#clip510)\" d=\"M1601.5 1452.37 Q1597.89 1452.37 1596.06 1455.94 Q1594.25 1459.48 1594.25 1466.61 Q1594.25 1473.71 1596.06 1477.28 Q1597.89 1480.82 1601.5 1480.82 Q1605.13 1480.82 1606.94 1477.28 Q1608.77 1473.71 1608.77 1466.61 Q1608.77 1459.48 1606.94 1455.94 Q1605.13 1452.37 1601.5 1452.37 M1601.5 1448.67 Q1607.31 1448.67 1610.36 1453.27 Q1613.44 1457.86 1613.44 1466.61 Q1613.44 1475.33 1610.36 1479.94 Q1607.31 1484.52 1601.5 1484.52 Q1595.69 1484.52 1592.61 1479.94 Q1589.55 1475.33 1589.55 1466.61 Q1589.55 1457.86 1592.61 1453.27 Q1595.69 1448.67 1601.5 1448.67 Z\" fill=\"#000000\" fill-rule=\"evenodd\" fill-opacity=\"1\" /><path clip-path=\"url(#clip510)\" d=\"M1845.34 1479.92 L1852.98 1479.92 L1852.98 1453.55 L1844.67 1455.22 L1844.67 1450.96 L1852.93 1449.29 L1857.61 1449.29 L1857.61 1479.92 L1865.25 1479.92 L1865.25 1483.85 L1845.34 1483.85 L1845.34 1479.92 Z\" fill=\"#000000\" fill-rule=\"evenodd\" fill-opacity=\"1\" /><path clip-path=\"url(#clip510)\" d=\"M1878.72 1479.92 L1895.04 1479.92 L1895.04 1483.85 L1873.1 1483.85 L1873.1 1479.92 Q1875.76 1477.16 1880.34 1472.53 Q1884.95 1467.88 1886.13 1466.54 Q1888.37 1464.01 1889.25 1462.28 Q1890.16 1460.52 1890.16 1458.83 Q1890.16 1456.07 1888.21 1454.34 Q1886.29 1452.6 1883.19 1452.6 Q1880.99 1452.6 1878.54 1453.37 Q1876.11 1454.13 1873.33 1455.68 L1873.33 1450.96 Q1876.15 1449.82 1878.61 1449.25 Q1881.06 1448.67 1883.1 1448.67 Q1888.47 1448.67 1891.66 1451.35 Q1894.86 1454.04 1894.86 1458.53 Q1894.86 1460.66 1894.05 1462.58 Q1893.26 1464.48 1891.15 1467.07 Q1890.57 1467.74 1887.47 1470.96 Q1884.37 1474.15 1878.72 1479.92 Z\" fill=\"#000000\" fill-rule=\"evenodd\" fill-opacity=\"1\" /><path clip-path=\"url(#clip510)\" d=\"M2126.7 1479.92 L2134.34 1479.92 L2134.34 1453.55 L2126.03 1455.22 L2126.03 1450.96 L2134.29 1449.29 L2138.97 1449.29 L2138.97 1479.92 L2146.61 1479.92 L2146.61 1483.85 L2126.7 1483.85 L2126.7 1479.92 Z\" fill=\"#000000\" fill-rule=\"evenodd\" fill-opacity=\"1\" /><path clip-path=\"url(#clip510)\" d=\"M2168.9 1453.37 L2157.09 1471.81 L2168.9 1471.81 L2168.9 1453.37 M2167.67 1449.29 L2173.55 1449.29 L2173.55 1471.81 L2178.48 1471.81 L2178.48 1475.7 L2173.55 1475.7 L2173.55 1483.85 L2168.9 1483.85 L2168.9 1475.7 L2153.3 1475.7 L2153.3 1471.19 L2167.67 1449.29 Z\" fill=\"#000000\" fill-rule=\"evenodd\" fill-opacity=\"1\" /><path clip-path=\"url(#clip510)\" d=\"M1253.37 1522.27 L1253.37 1532.4 L1265.43 1532.4 L1265.43 1536.95 L1253.37 1536.95 L1253.37 1556.3 Q1253.37 1560.66 1254.55 1561.9 Q1255.76 1563.14 1259.42 1563.14 L1265.43 1563.14 L1265.43 1568.04 L1259.42 1568.04 Q1252.64 1568.04 1250.06 1565.53 Q1247.48 1562.98 1247.48 1556.3 L1247.48 1536.95 L1243.19 1536.95 L1243.19 1532.4 L1247.48 1532.4 L1247.48 1522.27 L1253.37 1522.27 Z\" fill=\"#000000\" fill-rule=\"evenodd\" fill-opacity=\"1\" /><path clip-path=\"url(#clip510)\" d=\"M1293.32 1518.52 L1306.81 1518.52 L1306.81 1523.07 L1299.17 1523.07 L1299.17 1572.09 L1306.81 1572.09 L1306.81 1576.64 L1293.32 1576.64 L1293.32 1518.52 Z\" fill=\"#000000\" fill-rule=\"evenodd\" fill-opacity=\"1\" /><path clip-path=\"url(#clip510)\" d=\"M1342.01 1533.45 L1342.01 1538.98 Q1339.53 1537.71 1336.86 1537.07 Q1334.18 1536.44 1331.32 1536.44 Q1326.96 1536.44 1324.76 1537.77 Q1322.6 1539.11 1322.6 1541.79 Q1322.6 1543.82 1324.16 1545 Q1325.72 1546.15 1330.43 1547.2 L1332.43 1547.64 Q1338.67 1548.98 1341.28 1551.43 Q1343.92 1553.85 1343.92 1558.21 Q1343.92 1563.17 1339.98 1566.07 Q1336.06 1568.97 1329.19 1568.97 Q1326.32 1568.97 1323.2 1568.39 Q1320.12 1567.85 1316.68 1566.74 L1316.68 1560.69 Q1319.92 1562.38 1323.08 1563.24 Q1326.23 1564.07 1329.31 1564.07 Q1333.45 1564.07 1335.68 1562.66 Q1337.91 1561.23 1337.91 1558.65 Q1337.91 1556.27 1336.28 1554.99 Q1334.69 1553.72 1329.25 1552.54 L1327.21 1552.07 Q1321.77 1550.92 1319.35 1548.56 Q1316.93 1546.18 1316.93 1542.04 Q1316.93 1537.01 1320.5 1534.27 Q1324.06 1531.54 1330.62 1531.54 Q1333.87 1531.54 1336.73 1532.01 Q1339.59 1532.49 1342.01 1533.45 Z\" fill=\"#000000\" fill-rule=\"evenodd\" fill-opacity=\"1\" /><path clip-path=\"url(#clip510)\" d=\"M1366.94 1518.52 L1366.94 1576.64 L1353.44 1576.64 L1353.44 1572.09 L1361.05 1572.09 L1361.05 1523.07 L1353.44 1523.07 L1353.44 1518.52 L1366.94 1518.52 Z\" fill=\"#000000\" fill-rule=\"evenodd\" fill-opacity=\"1\" /><polyline clip-path=\"url(#clip512)\" style=\"stroke:#000000; stroke-linecap:butt; stroke-linejoin:round; stroke-width:2; stroke-opacity:0.1; fill:none\" points=\"\n",
       "  257.366,1304.55 2352.76,1304.55 \n",
       "  \"/>\n",
       "<polyline clip-path=\"url(#clip512)\" style=\"stroke:#000000; stroke-linecap:butt; stroke-linejoin:round; stroke-width:2; stroke-opacity:0.1; fill:none\" points=\"\n",
       "  257.366,1061.54 2352.76,1061.54 \n",
       "  \"/>\n",
       "<polyline clip-path=\"url(#clip512)\" style=\"stroke:#000000; stroke-linecap:butt; stroke-linejoin:round; stroke-width:2; stroke-opacity:0.1; fill:none\" points=\"\n",
       "  257.366,818.526 2352.76,818.526 \n",
       "  \"/>\n",
       "<polyline clip-path=\"url(#clip512)\" style=\"stroke:#000000; stroke-linecap:butt; stroke-linejoin:round; stroke-width:2; stroke-opacity:0.1; fill:none\" points=\"\n",
       "  257.366,575.513 2352.76,575.513 \n",
       "  \"/>\n",
       "<polyline clip-path=\"url(#clip512)\" style=\"stroke:#000000; stroke-linecap:butt; stroke-linejoin:round; stroke-width:2; stroke-opacity:0.1; fill:none\" points=\"\n",
       "  257.366,332.5 2352.76,332.5 \n",
       "  \"/>\n",
       "<polyline clip-path=\"url(#clip510)\" style=\"stroke:#000000; stroke-linecap:butt; stroke-linejoin:round; stroke-width:4; stroke-opacity:1; fill:none\" points=\"\n",
       "  257.366,1423.18 257.366,123.472 \n",
       "  \"/>\n",
       "<polyline clip-path=\"url(#clip510)\" style=\"stroke:#000000; stroke-linecap:butt; stroke-linejoin:round; stroke-width:4; stroke-opacity:1; fill:none\" points=\"\n",
       "  257.366,1304.55 276.264,1304.55 \n",
       "  \"/>\n",
       "<polyline clip-path=\"url(#clip510)\" style=\"stroke:#000000; stroke-linecap:butt; stroke-linejoin:round; stroke-width:4; stroke-opacity:1; fill:none\" points=\"\n",
       "  257.366,1061.54 276.264,1061.54 \n",
       "  \"/>\n",
       "<polyline clip-path=\"url(#clip510)\" style=\"stroke:#000000; stroke-linecap:butt; stroke-linejoin:round; stroke-width:4; stroke-opacity:1; fill:none\" points=\"\n",
       "  257.366,818.526 276.264,818.526 \n",
       "  \"/>\n",
       "<polyline clip-path=\"url(#clip510)\" style=\"stroke:#000000; stroke-linecap:butt; stroke-linejoin:round; stroke-width:4; stroke-opacity:1; fill:none\" points=\"\n",
       "  257.366,575.513 276.264,575.513 \n",
       "  \"/>\n",
       "<polyline clip-path=\"url(#clip510)\" style=\"stroke:#000000; stroke-linecap:butt; stroke-linejoin:round; stroke-width:4; stroke-opacity:1; fill:none\" points=\"\n",
       "  257.366,332.5 276.264,332.5 \n",
       "  \"/>\n",
       "<path clip-path=\"url(#clip510)\" d=\"M114.26 1305 L143.936 1305 L143.936 1308.94 L114.26 1308.94 L114.26 1305 Z\" fill=\"#000000\" fill-rule=\"evenodd\" fill-opacity=\"1\" /><path clip-path=\"url(#clip510)\" d=\"M164.028 1290.35 Q160.417 1290.35 158.589 1293.92 Q156.783 1297.46 156.783 1304.59 Q156.783 1311.69 158.589 1315.26 Q160.417 1318.8 164.028 1318.8 Q167.663 1318.8 169.468 1315.26 Q171.297 1311.69 171.297 1304.59 Q171.297 1297.46 169.468 1293.92 Q167.663 1290.35 164.028 1290.35 M164.028 1286.65 Q169.839 1286.65 172.894 1291.25 Q175.973 1295.84 175.973 1304.59 Q175.973 1313.31 172.894 1317.92 Q169.839 1322.5 164.028 1322.5 Q158.218 1322.5 155.14 1317.92 Q152.084 1313.31 152.084 1304.59 Q152.084 1295.84 155.14 1291.25 Q158.218 1286.65 164.028 1286.65 Z\" fill=\"#000000\" fill-rule=\"evenodd\" fill-opacity=\"1\" /><path clip-path=\"url(#clip510)\" d=\"M184.19 1315.95 L189.075 1315.95 L189.075 1321.83 L184.19 1321.83 L184.19 1315.95 Z\" fill=\"#000000\" fill-rule=\"evenodd\" fill-opacity=\"1\" /><path clip-path=\"url(#clip510)\" d=\"M209.838 1302.69 Q206.69 1302.69 204.838 1304.84 Q203.01 1306.99 203.01 1310.74 Q203.01 1314.47 204.838 1316.65 Q206.69 1318.8 209.838 1318.8 Q212.986 1318.8 214.815 1316.65 Q216.667 1314.47 216.667 1310.74 Q216.667 1306.99 214.815 1304.84 Q212.986 1302.69 209.838 1302.69 M219.121 1288.04 L219.121 1292.3 Q217.361 1291.46 215.556 1291.02 Q213.774 1290.58 212.014 1290.58 Q207.385 1290.58 204.931 1293.71 Q202.5 1296.83 202.153 1303.15 Q203.519 1301.14 205.579 1300.07 Q207.639 1298.98 210.116 1298.98 Q215.324 1298.98 218.334 1302.16 Q221.366 1305.3 221.366 1310.74 Q221.366 1316.07 218.218 1319.29 Q215.07 1322.5 209.838 1322.5 Q203.843 1322.5 200.672 1317.92 Q197.5 1313.31 197.5 1304.59 Q197.5 1296.39 201.389 1291.53 Q205.278 1286.65 211.829 1286.65 Q213.588 1286.65 215.371 1286.99 Q217.176 1287.34 219.121 1288.04 Z\" fill=\"#000000\" fill-rule=\"evenodd\" fill-opacity=\"1\" /><path clip-path=\"url(#clip510)\" d=\"M115.07 1061.99 L144.746 1061.99 L144.746 1065.93 L115.07 1065.93 L115.07 1061.99 Z\" fill=\"#000000\" fill-rule=\"evenodd\" fill-opacity=\"1\" /><path clip-path=\"url(#clip510)\" d=\"M164.839 1047.34 Q161.227 1047.34 159.399 1050.9 Q157.593 1054.44 157.593 1061.57 Q157.593 1068.68 159.399 1072.24 Q161.227 1075.79 164.839 1075.79 Q168.473 1075.79 170.278 1072.24 Q172.107 1068.68 172.107 1061.57 Q172.107 1054.44 170.278 1050.9 Q168.473 1047.34 164.839 1047.34 M164.839 1043.63 Q170.649 1043.63 173.704 1048.24 Q176.783 1052.82 176.783 1061.57 Q176.783 1070.3 173.704 1074.91 Q170.649 1079.49 164.839 1079.49 Q159.028 1079.49 155.95 1074.91 Q152.894 1070.3 152.894 1061.57 Q152.894 1052.82 155.95 1048.24 Q159.028 1043.63 164.839 1043.63 Z\" fill=\"#000000\" fill-rule=\"evenodd\" fill-opacity=\"1\" /><path clip-path=\"url(#clip510)\" d=\"M185.001 1072.94 L189.885 1072.94 L189.885 1078.82 L185.001 1078.82 L185.001 1072.94 Z\" fill=\"#000000\" fill-rule=\"evenodd\" fill-opacity=\"1\" /><path clip-path=\"url(#clip510)\" d=\"M214.236 1060.18 Q217.593 1060.9 219.468 1063.17 Q221.366 1065.44 221.366 1068.77 Q221.366 1073.89 217.848 1076.69 Q214.329 1079.49 207.848 1079.49 Q205.672 1079.49 203.357 1079.05 Q201.065 1078.63 198.612 1077.78 L198.612 1073.26 Q200.556 1074.4 202.871 1074.98 Q205.186 1075.56 207.709 1075.56 Q212.107 1075.56 214.399 1073.82 Q216.713 1072.08 216.713 1068.77 Q216.713 1065.72 214.561 1064 Q212.431 1062.27 208.612 1062.27 L204.584 1062.27 L204.584 1058.43 L208.797 1058.43 Q212.246 1058.43 214.074 1057.06 Q215.903 1055.67 215.903 1053.08 Q215.903 1050.42 214.005 1049 Q212.13 1047.57 208.612 1047.57 Q206.69 1047.57 204.491 1047.99 Q202.292 1048.4 199.653 1049.28 L199.653 1045.12 Q202.315 1044.37 204.63 1044 Q206.968 1043.63 209.028 1043.63 Q214.352 1043.63 217.454 1046.06 Q220.556 1048.47 220.556 1052.59 Q220.556 1055.46 218.912 1057.45 Q217.269 1059.42 214.236 1060.18 Z\" fill=\"#000000\" fill-rule=\"evenodd\" fill-opacity=\"1\" /><path clip-path=\"url(#clip510)\" d=\"M164.19 804.325 Q160.579 804.325 158.751 807.889 Q156.945 811.431 156.945 818.561 Q156.945 825.667 158.751 829.232 Q160.579 832.773 164.19 832.773 Q167.825 832.773 169.63 829.232 Q171.459 825.667 171.459 818.561 Q171.459 811.431 169.63 807.889 Q167.825 804.325 164.19 804.325 M164.19 800.621 Q170.001 800.621 173.056 805.227 Q176.135 809.811 176.135 818.561 Q176.135 827.287 173.056 831.894 Q170.001 836.477 164.19 836.477 Q158.38 836.477 155.302 831.894 Q152.246 827.287 152.246 818.561 Q152.246 809.811 155.302 805.227 Q158.38 800.621 164.19 800.621 Z\" fill=\"#000000\" fill-rule=\"evenodd\" fill-opacity=\"1\" /><path clip-path=\"url(#clip510)\" d=\"M184.352 829.926 L189.237 829.926 L189.237 835.806 L184.352 835.806 L184.352 829.926 Z\" fill=\"#000000\" fill-rule=\"evenodd\" fill-opacity=\"1\" /><path clip-path=\"url(#clip510)\" d=\"M209.422 804.325 Q205.811 804.325 203.982 807.889 Q202.176 811.431 202.176 818.561 Q202.176 825.667 203.982 829.232 Q205.811 832.773 209.422 832.773 Q213.056 832.773 214.861 829.232 Q216.69 825.667 216.69 818.561 Q216.69 811.431 214.861 807.889 Q213.056 804.325 209.422 804.325 M209.422 800.621 Q215.232 800.621 218.287 805.227 Q221.366 809.811 221.366 818.561 Q221.366 827.287 218.287 831.894 Q215.232 836.477 209.422 836.477 Q203.612 836.477 200.533 831.894 Q197.477 827.287 197.477 818.561 Q197.477 809.811 200.533 805.227 Q203.612 800.621 209.422 800.621 Z\" fill=\"#000000\" fill-rule=\"evenodd\" fill-opacity=\"1\" /><path clip-path=\"url(#clip510)\" d=\"M164.839 561.312 Q161.227 561.312 159.399 564.876 Q157.593 568.418 157.593 575.548 Q157.593 582.654 159.399 586.219 Q161.227 589.76 164.839 589.76 Q168.473 589.76 170.278 586.219 Q172.107 582.654 172.107 575.548 Q172.107 568.418 170.278 564.876 Q168.473 561.312 164.839 561.312 M164.839 557.608 Q170.649 557.608 173.704 562.214 Q176.783 566.798 176.783 575.548 Q176.783 584.274 173.704 588.881 Q170.649 593.464 164.839 593.464 Q159.028 593.464 155.95 588.881 Q152.894 584.274 152.894 575.548 Q152.894 566.798 155.95 562.214 Q159.028 557.608 164.839 557.608 Z\" fill=\"#000000\" fill-rule=\"evenodd\" fill-opacity=\"1\" /><path clip-path=\"url(#clip510)\" d=\"M185.001 586.913 L189.885 586.913 L189.885 592.793 L185.001 592.793 L185.001 586.913 Z\" fill=\"#000000\" fill-rule=\"evenodd\" fill-opacity=\"1\" /><path clip-path=\"url(#clip510)\" d=\"M214.236 574.159 Q217.593 574.876 219.468 577.145 Q221.366 579.413 221.366 582.747 Q221.366 587.862 217.848 590.663 Q214.329 593.464 207.848 593.464 Q205.672 593.464 203.357 593.024 Q201.065 592.608 198.612 591.751 L198.612 587.237 Q200.556 588.372 202.871 588.95 Q205.186 589.529 207.709 589.529 Q212.107 589.529 214.399 587.793 Q216.713 586.057 216.713 582.747 Q216.713 579.691 214.561 577.978 Q212.431 576.242 208.612 576.242 L204.584 576.242 L204.584 572.399 L208.797 572.399 Q212.246 572.399 214.074 571.034 Q215.903 569.645 215.903 567.052 Q215.903 564.39 214.005 562.978 Q212.13 561.543 208.612 561.543 Q206.69 561.543 204.491 561.96 Q202.292 562.376 199.653 563.256 L199.653 559.089 Q202.315 558.349 204.63 557.978 Q206.968 557.608 209.028 557.608 Q214.352 557.608 217.454 560.038 Q220.556 562.446 220.556 566.566 Q220.556 569.437 218.912 571.427 Q217.269 573.395 214.236 574.159 Z\" fill=\"#000000\" fill-rule=\"evenodd\" fill-opacity=\"1\" /><path clip-path=\"url(#clip510)\" d=\"M164.028 318.299 Q160.417 318.299 158.589 321.863 Q156.783 325.405 156.783 332.535 Q156.783 339.641 158.589 343.206 Q160.417 346.747 164.028 346.747 Q167.663 346.747 169.468 343.206 Q171.297 339.641 171.297 332.535 Q171.297 325.405 169.468 321.863 Q167.663 318.299 164.028 318.299 M164.028 314.595 Q169.839 314.595 172.894 319.201 Q175.973 323.785 175.973 332.535 Q175.973 341.261 172.894 345.868 Q169.839 350.451 164.028 350.451 Q158.218 350.451 155.14 345.868 Q152.084 341.261 152.084 332.535 Q152.084 323.785 155.14 319.201 Q158.218 314.595 164.028 314.595 Z\" fill=\"#000000\" fill-rule=\"evenodd\" fill-opacity=\"1\" /><path clip-path=\"url(#clip510)\" d=\"M184.19 343.9 L189.075 343.9 L189.075 349.78 L184.19 349.78 L184.19 343.9 Z\" fill=\"#000000\" fill-rule=\"evenodd\" fill-opacity=\"1\" /><path clip-path=\"url(#clip510)\" d=\"M209.838 330.636 Q206.69 330.636 204.838 332.789 Q203.01 334.942 203.01 338.692 Q203.01 342.419 204.838 344.595 Q206.69 346.747 209.838 346.747 Q212.986 346.747 214.815 344.595 Q216.667 342.419 216.667 338.692 Q216.667 334.942 214.815 332.789 Q212.986 330.636 209.838 330.636 M219.121 315.984 L219.121 320.243 Q217.361 319.41 215.556 318.97 Q213.774 318.53 212.014 318.53 Q207.385 318.53 204.931 321.655 Q202.5 324.78 202.153 331.099 Q203.519 329.086 205.579 328.021 Q207.639 326.933 210.116 326.933 Q215.324 326.933 218.334 330.104 Q221.366 333.252 221.366 338.692 Q221.366 344.016 218.218 347.234 Q215.07 350.451 209.838 350.451 Q203.843 350.451 200.672 345.868 Q197.5 341.261 197.5 332.535 Q197.5 324.34 201.389 319.479 Q205.278 314.595 211.829 314.595 Q213.588 314.595 215.371 314.942 Q217.176 315.289 219.121 315.984 Z\" fill=\"#000000\" fill-rule=\"evenodd\" fill-opacity=\"1\" /><path clip-path=\"url(#clip510)\" d=\"M46.0847 913.658 Q46.0847 920.756 47.7079 923.493 Q49.3312 926.23 53.2461 926.23 Q56.3653 926.23 58.2114 924.193 Q60.0256 922.124 60.0256 918.591 Q60.0256 913.722 56.5881 910.793 Q53.1188 907.833 47.3897 907.833 L46.0847 907.833 L46.0847 913.658 M43.6657 901.977 L64.0042 901.977 L64.0042 907.833 L58.5933 907.833 Q61.8398 909.839 63.3994 912.83 Q64.9272 915.822 64.9272 920.151 Q64.9272 925.626 61.8716 928.872 Q58.7843 932.087 53.6281 932.087 Q47.6125 932.087 44.5569 928.076 Q41.5014 924.034 41.5014 916.045 L41.5014 907.833 L40.9285 907.833 Q36.8862 907.833 34.6901 910.507 Q32.4621 913.149 32.4621 917.955 Q32.4621 921.01 33.1941 923.907 Q33.9262 926.803 35.3903 929.477 L29.9795 929.477 Q28.7381 926.262 28.1334 923.238 Q27.4968 920.215 27.4968 917.35 Q27.4968 909.616 31.5072 905.796 Q35.5176 901.977 43.6657 901.977 Z\" fill=\"#000000\" fill-rule=\"evenodd\" fill-opacity=\"1\" /><path clip-path=\"url(#clip510)\" d=\"M14.479 869.735 L14.479 856.239 L19.0304 856.239 L19.0304 863.878 L68.0464 863.878 L68.0464 856.239 L72.5979 856.239 L72.5979 869.735 L14.479 869.735 Z\" fill=\"#000000\" fill-rule=\"evenodd\" fill-opacity=\"1\" /><path clip-path=\"url(#clip510)\" d=\"M35.1993 816.008 Q31.2526 813.812 29.3747 810.756 Q27.4968 807.701 27.4968 803.563 Q27.4968 797.993 31.4117 794.969 Q35.2948 791.946 42.4881 791.946 L64.0042 791.946 L64.0042 797.834 L42.679 797.834 Q37.5546 797.834 35.072 799.648 Q32.5894 801.462 32.5894 805.186 Q32.5894 809.738 35.6131 812.38 Q38.6368 815.021 43.8567 815.021 L64.0042 815.021 L64.0042 820.91 L42.679 820.91 Q37.5228 820.91 35.072 822.724 Q32.5894 824.538 32.5894 828.326 Q32.5894 832.814 35.6449 835.455 Q38.6686 838.097 43.8567 838.097 L64.0042 838.097 L64.0042 843.985 L28.3562 843.985 L28.3562 838.097 L33.8944 838.097 Q30.616 836.092 29.0564 833.291 Q27.4968 830.49 27.4968 826.639 Q27.4968 822.756 29.4702 820.05 Q31.4436 817.313 35.1993 816.008 Z\" fill=\"#000000\" fill-rule=\"evenodd\" fill-opacity=\"1\" /><path clip-path=\"url(#clip510)\" d=\"M16.4842 769.857 L16.4842 764.446 L70.0516 780.997 L70.0516 786.408 L16.4842 769.857 Z\" fill=\"#000000\" fill-rule=\"evenodd\" fill-opacity=\"1\" /><path clip-path=\"url(#clip510)\" d=\"M29.4065 735.577 L34.9447 735.577 Q33.6716 738.06 33.035 740.734 Q32.3984 743.407 32.3984 746.272 Q32.3984 750.632 33.7352 752.828 Q35.072 754.993 37.7456 754.993 Q39.7826 754.993 40.9603 753.433 Q42.1061 751.874 43.1565 747.163 L43.6021 745.158 Q44.9389 738.919 47.3897 736.309 Q49.8086 733.668 54.1691 733.668 Q59.1344 733.668 62.0308 737.614 Q64.9272 741.529 64.9272 748.404 Q64.9272 751.269 64.3543 754.388 Q63.8132 757.475 62.6992 760.913 L56.6518 760.913 Q58.3387 757.666 59.198 754.515 Q60.0256 751.364 60.0256 748.277 Q60.0256 744.139 58.6251 741.911 Q57.1929 739.683 54.6147 739.683 Q52.2276 739.683 50.9545 741.306 Q49.6813 742.898 48.5037 748.341 L48.0262 750.378 Q46.8804 755.82 44.5251 758.239 Q42.138 760.658 38.0002 760.658 Q32.9713 760.658 30.2341 757.093 Q27.4968 753.529 27.4968 746.972 Q27.4968 743.725 27.9743 740.861 Q28.4517 737.996 29.4065 735.577 Z\" fill=\"#000000\" fill-rule=\"evenodd\" fill-opacity=\"1\" /><path clip-path=\"url(#clip510)\" d=\"M16.4842 700.057 L34.2127 682.774 L34.2127 689.171 L21.6404 703.176 L34.2127 717.18 L34.2127 723.578 L16.4842 706.295 L16.4842 700.057 Z\" fill=\"#000000\" fill-rule=\"evenodd\" fill-opacity=\"1\" /><path clip-path=\"url(#clip510)\" d=\"M58.5933 663.358 L58.5933 640.919 L64.0042 640.919 L64.0042 671.093 L58.5933 671.093 Q54.8057 667.432 48.44 661.13 Q42.0425 654.797 40.1964 653.173 Q36.7271 650.086 34.34 648.876 Q31.921 647.635 29.5975 647.635 Q25.8099 647.635 23.4228 650.309 Q21.0356 652.95 21.0356 657.215 Q21.0356 660.239 22.086 663.613 Q23.1363 666.955 25.2688 670.774 L18.7758 670.774 Q17.2162 666.891 16.4205 663.518 Q15.6248 660.144 15.6248 657.343 Q15.6248 649.959 19.3169 645.566 Q23.009 641.174 29.1837 641.174 Q32.112 641.174 34.7537 642.288 Q37.3637 643.37 40.9285 646.266 Q41.8515 647.062 46.2757 651.327 Q50.668 655.592 58.5933 663.358 Z\" fill=\"#000000\" fill-rule=\"evenodd\" fill-opacity=\"1\" /><path clip-path=\"url(#clip510)\" d=\"M14.479 614.565 L72.5979 614.565 L72.5979 628.061 L68.0464 628.061 L68.0464 620.454 L19.0304 620.454 L19.0304 628.061 L14.479 628.061 L14.479 614.565 Z\" fill=\"#000000\" fill-rule=\"evenodd\" fill-opacity=\"1\" /><path clip-path=\"url(#clip510)\" d=\"M653.595 18.8205 L653.595 41.5461 L663.884 41.5461 Q669.596 41.5461 672.715 38.5889 Q675.834 35.6318 675.834 30.163 Q675.834 24.7348 672.715 21.7777 Q669.596 18.8205 663.884 18.8205 L653.595 18.8205 M645.412 12.096 L663.884 12.096 Q674.052 12.096 679.237 16.714 Q684.462 21.2916 684.462 30.163 Q684.462 39.1155 679.237 43.6931 Q674.052 48.2706 663.884 48.2706 L653.595 48.2706 L653.595 72.576 L645.412 72.576 L645.412 12.096 Z\" fill=\"#000000\" fill-rule=\"evenodd\" fill-opacity=\"1\" /><path clip-path=\"url(#clip510)\" d=\"M730.967 48.0275 L730.967 51.6733 L696.696 51.6733 Q697.182 59.3701 701.314 63.421 Q705.487 67.4314 712.9 67.4314 Q717.194 67.4314 721.204 66.3781 Q725.255 65.3249 729.225 63.2184 L729.225 70.267 Q725.215 71.9684 721.002 72.8596 Q716.789 73.7508 712.454 73.7508 Q701.598 73.7508 695.238 67.4314 Q688.918 61.1119 688.918 50.3365 Q688.918 39.1965 694.914 32.6746 Q700.95 26.1121 711.158 26.1121 Q720.313 26.1121 725.62 32.0264 Q730.967 37.9003 730.967 48.0275 M723.513 45.84 Q723.432 39.7232 720.07 36.0774 Q716.748 32.4315 711.239 32.4315 Q705.001 32.4315 701.233 35.9558 Q697.506 39.4801 696.939 45.8805 L723.513 45.84 Z\" fill=\"#000000\" fill-rule=\"evenodd\" fill-opacity=\"1\" /><path clip-path=\"url(#clip510)\" d=\"M773.056 34.0924 L773.056 9.54393 L780.509 9.54393 L780.509 72.576 L773.056 72.576 L773.056 65.7705 Q770.706 69.8214 767.101 71.8063 Q763.536 73.7508 758.513 73.7508 Q750.29 73.7508 745.104 67.1883 Q739.96 60.6258 739.96 49.9314 Q739.96 39.2371 745.104 32.6746 Q750.29 26.1121 758.513 26.1121 Q763.536 26.1121 767.101 28.0971 Q770.706 30.0415 773.056 34.0924 M747.657 49.9314 Q747.657 58.1548 751.019 62.8538 Q754.422 67.5124 760.336 67.5124 Q766.25 67.5124 769.653 62.8538 Q773.056 58.1548 773.056 49.9314 Q773.056 41.7081 769.653 37.0496 Q766.25 32.3505 760.336 32.3505 Q754.422 32.3505 751.019 37.0496 Q747.657 41.7081 747.657 49.9314 Z\" fill=\"#000000\" fill-rule=\"evenodd\" fill-opacity=\"1\" /><path clip-path=\"url(#clip510)\" d=\"M834.67 48.0275 L834.67 51.6733 L800.399 51.6733 Q800.885 59.3701 805.017 63.421 Q809.19 67.4314 816.603 67.4314 Q820.897 67.4314 824.907 66.3781 Q828.958 65.3249 832.928 63.2184 L832.928 70.267 Q828.918 71.9684 824.705 72.8596 Q820.492 73.7508 816.157 73.7508 Q805.301 73.7508 798.941 67.4314 Q792.622 61.1119 792.622 50.3365 Q792.622 39.1965 798.617 32.6746 Q804.653 26.1121 814.861 26.1121 Q824.016 26.1121 829.323 32.0264 Q834.67 37.9003 834.67 48.0275 M827.216 45.84 Q827.135 39.7232 823.773 36.0774 Q820.451 32.4315 814.942 32.4315 Q808.704 32.4315 804.936 35.9558 Q801.21 39.4801 800.642 45.8805 L827.216 45.84 Z\" fill=\"#000000\" fill-rule=\"evenodd\" fill-opacity=\"1\" /><path clip-path=\"url(#clip510)\" d=\"M875.827 28.5427 L875.827 35.5912 Q872.667 33.9709 869.265 33.1607 Q865.862 32.3505 862.216 32.3505 Q856.666 32.3505 853.871 34.0519 Q851.117 35.7533 851.117 39.156 Q851.117 41.7486 853.102 43.2475 Q855.087 44.7058 861.082 46.0426 L863.634 46.6097 Q871.574 48.3111 874.895 51.4303 Q878.258 54.509 878.258 60.0587 Q878.258 66.3781 873.235 70.0644 Q868.252 73.7508 859.502 73.7508 Q855.856 73.7508 851.886 73.0216 Q847.957 72.3329 843.582 70.9151 L843.582 63.2184 Q847.714 65.3654 851.724 66.4591 Q855.735 67.5124 859.664 67.5124 Q864.93 67.5124 867.766 65.73 Q870.602 63.9071 870.602 60.6258 Q870.602 57.5877 868.536 55.9673 Q866.51 54.3469 859.583 52.8481 L856.99 52.2405 Q850.063 50.7821 846.985 47.7845 Q843.906 44.7463 843.906 39.4801 Q843.906 33.0797 848.443 29.5959 Q852.98 26.1121 861.325 26.1121 Q865.457 26.1121 869.103 26.7198 Q872.748 27.3274 875.827 28.5427 Z\" fill=\"#000000\" fill-rule=\"evenodd\" fill-opacity=\"1\" /><path clip-path=\"url(#clip510)\" d=\"M897.5 14.324 L897.5 27.2059 L912.852 27.2059 L912.852 32.9987 L897.5 32.9987 L897.5 57.6282 Q897.5 63.1779 898.998 64.7578 Q900.538 66.3376 905.196 66.3376 L912.852 66.3376 L912.852 72.576 L905.196 72.576 Q896.568 72.576 893.287 69.3758 Q890.005 66.1351 890.005 57.6282 L890.005 32.9987 L884.537 32.9987 L884.537 27.2059 L890.005 27.2059 L890.005 14.324 L897.5 14.324 Z\" fill=\"#000000\" fill-rule=\"evenodd\" fill-opacity=\"1\" /><path clip-path=\"url(#clip510)\" d=\"M948.946 34.1734 Q947.69 33.4443 946.191 33.1202 Q944.733 32.7556 942.951 32.7556 Q936.631 32.7556 933.228 36.8875 Q929.866 40.9789 929.866 48.6757 L929.866 72.576 L922.372 72.576 L922.372 27.2059 L929.866 27.2059 L929.866 34.2544 Q932.216 30.1225 935.983 28.1376 Q939.75 26.1121 945.138 26.1121 Q945.908 26.1121 946.84 26.2337 Q947.771 26.3147 948.905 26.5172 L948.946 34.1734 Z\" fill=\"#000000\" fill-rule=\"evenodd\" fill-opacity=\"1\" /><path clip-path=\"url(#clip510)\" d=\"M956.764 27.2059 L964.218 27.2059 L964.218 72.576 L956.764 72.576 L956.764 27.2059 M956.764 9.54393 L964.218 9.54393 L964.218 18.9825 L956.764 18.9825 L956.764 9.54393 Z\" fill=\"#000000\" fill-rule=\"evenodd\" fill-opacity=\"1\" /><path clip-path=\"url(#clip510)\" d=\"M1000.43 49.7694 Q991.399 49.7694 987.916 51.8354 Q984.432 53.9013 984.432 58.8839 Q984.432 62.8538 987.024 65.2034 Q989.658 67.5124 994.154 67.5124 Q1000.35 67.5124 1004.08 63.1374 Q1007.85 58.7219 1007.85 51.4303 L1007.85 49.7694 L1000.43 49.7694 M1015.3 46.6907 L1015.3 72.576 L1007.85 72.576 L1007.85 65.6895 Q1005.29 69.8214 1001.49 71.8063 Q997.678 73.7508 992.169 73.7508 Q985.202 73.7508 981.07 69.8619 Q976.978 65.9325 976.978 59.3701 Q976.978 51.7138 982.082 47.825 Q987.227 43.9361 997.395 43.9361 L1007.85 43.9361 L1007.85 43.2069 Q1007.85 38.0623 1004.44 35.2672 Q1001.08 32.4315 994.964 32.4315 Q991.075 32.4315 987.389 33.3632 Q983.703 34.295 980.3 36.1584 L980.3 29.2718 Q984.391 27.692 988.24 26.9223 Q992.088 26.1121 995.734 26.1121 Q1005.58 26.1121 1010.44 31.2163 Q1015.3 36.3204 1015.3 46.6907 Z\" fill=\"#000000\" fill-rule=\"evenodd\" fill-opacity=\"1\" /><path clip-path=\"url(#clip510)\" d=\"M1068.37 45.1919 L1068.37 72.576 L1060.91 72.576 L1060.91 45.4349 Q1060.91 38.994 1058.4 35.7938 Q1055.89 32.5936 1050.87 32.5936 Q1044.83 32.5936 1041.35 36.4419 Q1037.86 40.2903 1037.86 46.9338 L1037.86 72.576 L1030.37 72.576 L1030.37 27.2059 L1037.86 27.2059 L1037.86 34.2544 Q1040.54 30.163 1044.14 28.1376 Q1047.79 26.1121 1052.53 26.1121 Q1060.35 26.1121 1064.36 30.9732 Q1068.37 35.7938 1068.37 45.1919 Z\" fill=\"#000000\" fill-rule=\"evenodd\" fill-opacity=\"1\" /><path clip-path=\"url(#clip510)\" d=\"M1130.22 49.7694 Q1121.19 49.7694 1117.71 51.8354 Q1114.22 53.9013 1114.22 58.8839 Q1114.22 62.8538 1116.82 65.2034 Q1119.45 67.5124 1123.95 67.5124 Q1130.14 67.5124 1133.87 63.1374 Q1137.64 58.7219 1137.64 51.4303 L1137.64 49.7694 L1130.22 49.7694 M1145.09 46.6907 L1145.09 72.576 L1137.64 72.576 L1137.64 65.6895 Q1135.09 69.8214 1131.28 71.8063 Q1127.47 73.7508 1121.96 73.7508 Q1114.99 73.7508 1110.86 69.8619 Q1106.77 65.9325 1106.77 59.3701 Q1106.77 51.7138 1111.87 47.825 Q1117.02 43.9361 1127.19 43.9361 L1137.64 43.9361 L1137.64 43.2069 Q1137.64 38.0623 1134.23 35.2672 Q1130.87 32.4315 1124.76 32.4315 Q1120.87 32.4315 1117.18 33.3632 Q1113.49 34.295 1110.09 36.1584 L1110.09 29.2718 Q1114.18 27.692 1118.03 26.9223 Q1121.88 26.1121 1125.52 26.1121 Q1135.37 26.1121 1140.23 31.2163 Q1145.09 36.3204 1145.09 46.6907 Z\" fill=\"#000000\" fill-rule=\"evenodd\" fill-opacity=\"1\" /><path clip-path=\"url(#clip510)\" d=\"M1193.09 28.9478 L1193.09 35.9153 Q1189.93 34.1734 1186.73 33.3227 Q1183.57 32.4315 1180.33 32.4315 Q1173.08 32.4315 1169.07 37.0496 Q1165.06 41.6271 1165.06 49.9314 Q1165.06 58.2358 1169.07 62.8538 Q1173.08 67.4314 1180.33 67.4314 Q1183.57 67.4314 1186.73 66.5807 Q1189.93 65.6895 1193.09 63.9476 L1193.09 70.8341 Q1189.97 72.2924 1186.61 73.0216 Q1183.29 73.7508 1179.52 73.7508 Q1169.27 73.7508 1163.24 67.3098 Q1157.2 60.8689 1157.2 49.9314 Q1157.2 38.832 1163.28 32.472 Q1169.4 26.1121 1180.01 26.1121 Q1183.45 26.1121 1186.73 26.8413 Q1190.02 27.5299 1193.09 28.9478 Z\" fill=\"#000000\" fill-rule=\"evenodd\" fill-opacity=\"1\" /><path clip-path=\"url(#clip510)\" d=\"M1238.71 28.9478 L1238.71 35.9153 Q1235.55 34.1734 1232.35 33.3227 Q1229.19 32.4315 1225.95 32.4315 Q1218.7 32.4315 1214.69 37.0496 Q1210.67 41.6271 1210.67 49.9314 Q1210.67 58.2358 1214.69 62.8538 Q1218.7 67.4314 1225.95 67.4314 Q1229.19 67.4314 1232.35 66.5807 Q1235.55 65.6895 1238.71 63.9476 L1238.71 70.8341 Q1235.59 72.2924 1232.23 73.0216 Q1228.9 73.7508 1225.14 73.7508 Q1214.89 73.7508 1208.85 67.3098 Q1202.82 60.8689 1202.82 49.9314 Q1202.82 38.832 1208.89 32.472 Q1215.01 26.1121 1225.62 26.1121 Q1229.07 26.1121 1232.35 26.8413 Q1235.63 27.5299 1238.71 28.9478 Z\" fill=\"#000000\" fill-rule=\"evenodd\" fill-opacity=\"1\" /><path clip-path=\"url(#clip510)\" d=\"M1290.48 48.0275 L1290.48 51.6733 L1256.21 51.6733 Q1256.69 59.3701 1260.83 63.421 Q1265 67.4314 1272.41 67.4314 Q1276.7 67.4314 1280.72 66.3781 Q1284.77 65.3249 1288.74 63.2184 L1288.74 70.267 Q1284.73 71.9684 1280.51 72.8596 Q1276.3 73.7508 1271.97 73.7508 Q1261.11 73.7508 1254.75 67.4314 Q1248.43 61.1119 1248.43 50.3365 Q1248.43 39.1965 1254.42 32.6746 Q1260.46 26.1121 1270.67 26.1121 Q1279.82 26.1121 1285.13 32.0264 Q1290.48 37.9003 1290.48 48.0275 M1283.02 45.84 Q1282.94 39.7232 1279.58 36.0774 Q1276.26 32.4315 1270.75 32.4315 Q1264.51 32.4315 1260.74 35.9558 Q1257.02 39.4801 1256.45 45.8805 L1283.02 45.84 Z\" fill=\"#000000\" fill-rule=\"evenodd\" fill-opacity=\"1\" /><path clip-path=\"url(#clip510)\" d=\"M1302.71 9.54393 L1310.17 9.54393 L1310.17 72.576 L1302.71 72.576 L1302.71 9.54393 Z\" fill=\"#000000\" fill-rule=\"evenodd\" fill-opacity=\"1\" /><path clip-path=\"url(#clip510)\" d=\"M1364.57 48.0275 L1364.57 51.6733 L1330.3 51.6733 Q1330.78 59.3701 1334.92 63.421 Q1339.09 67.4314 1346.5 67.4314 Q1350.8 67.4314 1354.81 66.3781 Q1358.86 65.3249 1362.83 63.2184 L1362.83 70.267 Q1358.82 71.9684 1354.6 72.8596 Q1350.39 73.7508 1346.06 73.7508 Q1335.2 73.7508 1328.84 67.4314 Q1322.52 61.1119 1322.52 50.3365 Q1322.52 39.1965 1328.52 32.6746 Q1334.55 26.1121 1344.76 26.1121 Q1353.91 26.1121 1359.22 32.0264 Q1364.57 37.9003 1364.57 48.0275 M1357.12 45.84 Q1357.03 39.7232 1353.67 36.0774 Q1350.35 32.4315 1344.84 32.4315 Q1338.6 32.4315 1334.84 35.9558 Q1331.11 39.4801 1330.54 45.8805 L1357.12 45.84 Z\" fill=\"#000000\" fill-rule=\"evenodd\" fill-opacity=\"1\" /><path clip-path=\"url(#clip510)\" d=\"M1403.09 34.1734 Q1401.84 33.4443 1400.34 33.1202 Q1398.88 32.7556 1397.1 32.7556 Q1390.78 32.7556 1387.38 36.8875 Q1384.01 40.9789 1384.01 48.6757 L1384.01 72.576 L1376.52 72.576 L1376.52 27.2059 L1384.01 27.2059 L1384.01 34.2544 Q1386.36 30.1225 1390.13 28.1376 Q1393.9 26.1121 1399.29 26.1121 Q1400.05 26.1121 1400.99 26.2337 Q1401.92 26.3147 1403.05 26.5172 L1403.09 34.1734 Z\" fill=\"#000000\" fill-rule=\"evenodd\" fill-opacity=\"1\" /><path clip-path=\"url(#clip510)\" d=\"M1431.53 49.7694 Q1422.5 49.7694 1419.01 51.8354 Q1415.53 53.9013 1415.53 58.8839 Q1415.53 62.8538 1418.12 65.2034 Q1420.75 67.5124 1425.25 67.5124 Q1431.45 67.5124 1435.18 63.1374 Q1438.94 58.7219 1438.94 51.4303 L1438.94 49.7694 L1431.53 49.7694 M1446.4 46.6907 L1446.4 72.576 L1438.94 72.576 L1438.94 65.6895 Q1436.39 69.8214 1432.58 71.8063 Q1428.78 73.7508 1423.27 73.7508 Q1416.3 73.7508 1412.17 69.8619 Q1408.08 65.9325 1408.08 59.3701 Q1408.08 51.7138 1413.18 47.825 Q1418.32 43.9361 1428.49 43.9361 L1438.94 43.9361 L1438.94 43.2069 Q1438.94 38.0623 1435.54 35.2672 Q1432.18 32.4315 1426.06 32.4315 Q1422.17 32.4315 1418.49 33.3632 Q1414.8 34.295 1411.4 36.1584 L1411.4 29.2718 Q1415.49 27.692 1419.34 26.9223 Q1423.19 26.1121 1426.83 26.1121 Q1436.67 26.1121 1441.54 31.2163 Q1446.4 36.3204 1446.4 46.6907 Z\" fill=\"#000000\" fill-rule=\"evenodd\" fill-opacity=\"1\" /><path clip-path=\"url(#clip510)\" d=\"M1469.12 14.324 L1469.12 27.2059 L1484.48 27.2059 L1484.48 32.9987 L1469.12 32.9987 L1469.12 57.6282 Q1469.12 63.1779 1470.62 64.7578 Q1472.16 66.3376 1476.82 66.3376 L1484.48 66.3376 L1484.48 72.576 L1476.82 72.576 Q1468.19 72.576 1464.91 69.3758 Q1461.63 66.1351 1461.63 57.6282 L1461.63 32.9987 L1456.16 32.9987 L1456.16 27.2059 L1461.63 27.2059 L1461.63 14.324 L1469.12 14.324 Z\" fill=\"#000000\" fill-rule=\"evenodd\" fill-opacity=\"1\" /><path clip-path=\"url(#clip510)\" d=\"M1494.28 27.2059 L1501.73 27.2059 L1501.73 72.576 L1494.28 72.576 L1494.28 27.2059 M1494.28 9.54393 L1501.73 9.54393 L1501.73 18.9825 L1494.28 18.9825 L1494.28 9.54393 Z\" fill=\"#000000\" fill-rule=\"evenodd\" fill-opacity=\"1\" /><path clip-path=\"url(#clip510)\" d=\"M1534.91 32.4315 Q1528.91 32.4315 1525.43 37.1306 Q1521.95 41.7891 1521.95 49.9314 Q1521.95 58.0738 1525.39 62.7728 Q1528.87 67.4314 1534.91 67.4314 Q1540.86 67.4314 1544.35 62.7323 Q1547.83 58.0333 1547.83 49.9314 Q1547.83 41.8701 1544.35 37.1711 Q1540.86 32.4315 1534.91 32.4315 M1534.91 26.1121 Q1544.63 26.1121 1550.18 32.4315 Q1555.73 38.7509 1555.73 49.9314 Q1555.73 61.0714 1550.18 67.4314 Q1544.63 73.7508 1534.91 73.7508 Q1525.15 73.7508 1519.6 67.4314 Q1514.09 61.0714 1514.09 49.9314 Q1514.09 38.7509 1519.6 32.4315 Q1525.15 26.1121 1534.91 26.1121 Z\" fill=\"#000000\" fill-rule=\"evenodd\" fill-opacity=\"1\" /><path clip-path=\"url(#clip510)\" d=\"M1605.8 45.1919 L1605.8 72.576 L1598.35 72.576 L1598.35 45.4349 Q1598.35 38.994 1595.83 35.7938 Q1593.32 32.5936 1588.3 32.5936 Q1582.26 32.5936 1578.78 36.4419 Q1575.3 40.2903 1575.3 46.9338 L1575.3 72.576 L1567.8 72.576 L1567.8 27.2059 L1575.3 27.2059 L1575.3 34.2544 Q1577.97 30.163 1581.58 28.1376 Q1585.22 26.1121 1589.96 26.1121 Q1597.78 26.1121 1601.79 30.9732 Q1605.8 35.7938 1605.8 45.1919 Z\" fill=\"#000000\" fill-rule=\"evenodd\" fill-opacity=\"1\" /><path clip-path=\"url(#clip510)\" d=\"M1664.94 9.62495 Q1659.52 18.942 1656.88 28.0566 Q1654.25 37.1711 1654.25 46.5287 Q1654.25 55.8863 1656.88 65.0818 Q1659.56 74.2369 1664.94 83.5134 L1658.46 83.5134 Q1652.39 73.9938 1649.35 64.7983 Q1646.35 55.6027 1646.35 46.5287 Q1646.35 37.4952 1649.35 28.3401 Q1652.35 19.1851 1658.46 9.62495 L1664.94 9.62495 Z\" fill=\"#000000\" fill-rule=\"evenodd\" fill-opacity=\"1\" /><path clip-path=\"url(#clip510)\" d=\"M1686.78 14.324 L1686.78 27.2059 L1702.13 27.2059 L1702.13 32.9987 L1686.78 32.9987 L1686.78 57.6282 Q1686.78 63.1779 1688.28 64.7578 Q1689.82 66.3376 1694.47 66.3376 L1702.13 66.3376 L1702.13 72.576 L1694.47 72.576 Q1685.85 72.576 1682.56 69.3758 Q1679.28 66.1351 1679.28 57.6282 L1679.28 32.9987 L1673.81 32.9987 L1673.81 27.2059 L1679.28 27.2059 L1679.28 14.324 L1686.78 14.324 Z\" fill=\"#000000\" fill-rule=\"evenodd\" fill-opacity=\"1\" /><path clip-path=\"url(#clip510)\" d=\"M1729.51 32.4315 Q1723.52 32.4315 1720.04 37.1306 Q1716.55 41.7891 1716.55 49.9314 Q1716.55 58.0738 1720 62.7728 Q1723.48 67.4314 1729.51 67.4314 Q1735.47 67.4314 1738.95 62.7323 Q1742.44 58.0333 1742.44 49.9314 Q1742.44 41.8701 1738.95 37.1711 Q1735.47 32.4315 1729.51 32.4315 M1729.51 26.1121 Q1739.24 26.1121 1744.79 32.4315 Q1750.34 38.7509 1750.34 49.9314 Q1750.34 61.0714 1744.79 67.4314 Q1739.24 73.7508 1729.51 73.7508 Q1719.75 73.7508 1714.2 67.4314 Q1708.69 61.0714 1708.69 49.9314 Q1708.69 38.7509 1714.2 32.4315 Q1719.75 26.1121 1729.51 26.1121 Z\" fill=\"#000000\" fill-rule=\"evenodd\" fill-opacity=\"1\" /><path clip-path=\"url(#clip510)\" d=\"M1769.9 65.7705 L1769.9 89.8329 L1762.41 89.8329 L1762.41 27.2059 L1769.9 27.2059 L1769.9 34.0924 Q1772.25 30.0415 1775.82 28.0971 Q1779.42 26.1121 1784.4 26.1121 Q1792.67 26.1121 1797.81 32.6746 Q1803 39.2371 1803 49.9314 Q1803 60.6258 1797.81 67.1883 Q1792.67 73.7508 1784.4 73.7508 Q1779.42 73.7508 1775.82 71.8063 Q1772.25 69.8214 1769.9 65.7705 M1795.26 49.9314 Q1795.26 41.7081 1791.86 37.0496 Q1788.5 32.3505 1782.58 32.3505 Q1776.67 32.3505 1773.26 37.0496 Q1769.9 41.7081 1769.9 49.9314 Q1769.9 58.1548 1773.26 62.8538 Q1776.67 67.5124 1782.58 67.5124 Q1788.5 67.5124 1791.86 62.8538 Q1795.26 58.1548 1795.26 49.9314 Z\" fill=\"#000000\" fill-rule=\"evenodd\" fill-opacity=\"1\" /><path clip-path=\"url(#clip510)\" d=\"M1844.2 65.6895 L1857.56 65.6895 L1857.56 19.5497 L1843.02 22.4663 L1843.02 15.0127 L1857.48 12.096 L1865.67 12.096 L1865.67 65.6895 L1879.03 65.6895 L1879.03 72.576 L1844.2 72.576 L1844.2 65.6895 Z\" fill=\"#000000\" fill-rule=\"evenodd\" fill-opacity=\"1\" /><path clip-path=\"url(#clip510)\" d=\"M1913.06 17.4837 Q1906.74 17.4837 1903.54 23.7221 Q1900.38 29.92 1900.38 42.3968 Q1900.38 54.833 1903.54 61.0714 Q1906.74 67.2693 1913.06 67.2693 Q1919.42 67.2693 1922.58 61.0714 Q1925.78 54.833 1925.78 42.3968 Q1925.78 29.92 1922.58 23.7221 Q1919.42 17.4837 1913.06 17.4837 M1913.06 11.0023 Q1923.23 11.0023 1928.58 19.0636 Q1933.96 27.0843 1933.96 42.3968 Q1933.96 57.6687 1928.58 65.73 Q1923.23 73.7508 1913.06 73.7508 Q1902.89 73.7508 1897.51 65.73 Q1892.16 57.6687 1892.16 42.3968 Q1892.16 27.0843 1897.51 19.0636 Q1902.89 11.0023 1913.06 11.0023 Z\" fill=\"#000000\" fill-rule=\"evenodd\" fill-opacity=\"1\" /><path clip-path=\"url(#clip510)\" d=\"M1946.12 9.62495 L1952.6 9.62495 Q1958.67 19.1851 1961.67 28.3401 Q1964.71 37.4952 1964.71 46.5287 Q1964.71 55.6027 1961.67 64.7983 Q1958.67 73.9938 1952.6 83.5134 L1946.12 83.5134 Q1951.5 74.2369 1954.14 65.0818 Q1956.81 55.8863 1956.81 46.5287 Q1956.81 37.1711 1954.14 28.0566 Q1951.5 18.942 1946.12 9.62495 Z\" fill=\"#000000\" fill-rule=\"evenodd\" fill-opacity=\"1\" /><polyline clip-path=\"url(#clip512)\" style=\"stroke:#009af9; stroke-linecap:butt; stroke-linejoin:round; stroke-width:4; stroke-opacity:1; fill:none\" points=\"\n",
       "  316.67,160.256 457.868,964.978 599.067,750.228 740.266,646.983 881.465,911.929 1022.66,911.489 1163.86,1135.13 1305.06,1051.74 1446.26,854.031 1587.46,772.371 \n",
       "  1728.66,1075.61 1869.86,719.999 2011.05,774.618 2152.25,730.57 \n",
       "  \"/>\n",
       "<polyline clip-path=\"url(#clip512)\" style=\"stroke:#e26f46; stroke-linecap:butt; stroke-linejoin:round; stroke-width:4; stroke-opacity:1; fill:none\" points=\"\n",
       "  316.67,160.256 457.868,570.741 599.067,938.669 740.266,851.588 881.465,1073.56 1022.66,1044.35 1163.86,962.905 1305.06,803.998 1446.26,939.976 1587.46,1029.51 \n",
       "  1728.66,889.981 1869.86,908.175 2011.05,627.544 2152.25,790.297 \n",
       "  \"/>\n",
       "<polyline clip-path=\"url(#clip512)\" style=\"stroke:#3da44d; stroke-linecap:butt; stroke-linejoin:round; stroke-width:4; stroke-opacity:1; fill:none\" points=\"\n",
       "  316.67,160.256 457.868,806.766 599.067,783.548 740.266,807.575 881.465,1052.49 1022.66,837.522 1163.86,881.128 1305.06,970.295 1446.26,836.716 1587.46,1031.16 \n",
       "  1728.66,1182.92 1869.86,895.992 2011.05,876 2152.25,900.192 \n",
       "  \"/>\n",
       "<polyline clip-path=\"url(#clip512)\" style=\"stroke:#c271d2; stroke-linecap:butt; stroke-linejoin:round; stroke-width:4; stroke-opacity:1; fill:none\" points=\"\n",
       "  316.67,160.256 457.868,574.08 599.067,994.271 740.266,1183.97 881.465,773.772 1022.66,936.522 1163.86,886.718 1305.06,859.57 1446.26,802.95 1587.46,917.698 \n",
       "  1728.66,872.361 1869.86,1386.4 2011.05,1001.2 2152.25,828.872 2293.45,530.297 \n",
       "  \"/>\n",
       "<polyline clip-path=\"url(#clip512)\" style=\"stroke:#ac8d18; stroke-linecap:butt; stroke-linejoin:round; stroke-width:4; stroke-opacity:1; fill:none\" points=\"\n",
       "  316.67,160.256 457.868,806.766 599.067,909.369 740.266,538.28 881.465,1041.2 1022.66,1067.43 1163.86,880.278 1305.06,913.063 1446.26,1049.39 1587.46,1145.21 \n",
       "  1728.66,979.436 1869.86,889.302 2011.05,892.843 2152.25,395.731 2293.45,868.912 \n",
       "  \"/>\n",
       "<polyline clip-path=\"url(#clip512)\" style=\"stroke:#00a9ad; stroke-linecap:butt; stroke-linejoin:round; stroke-width:4; stroke-opacity:1; fill:none\" points=\"\n",
       "  316.67,160.256 457.868,754.265 599.067,797.277 740.266,1069.67 881.465,953.444 1022.66,795.669 1163.86,864.762 1305.06,1030.24 1446.26,865.755 1587.46,941.537 \n",
       "  1728.66,926.875 1869.86,920.12 2011.05,706.3 2152.25,1010.78 \n",
       "  \"/>\n",
       "<polyline clip-path=\"url(#clip512)\" style=\"stroke:#ed5d92; stroke-linecap:butt; stroke-linejoin:round; stroke-width:4; stroke-opacity:1; fill:none\" points=\"\n",
       "  316.67,160.256 457.868,730.915 599.067,1077.72 740.266,1022.65 881.465,692.094 1022.66,751.3 1163.86,969.063 1305.06,999.669 1446.26,784.838 1587.46,851.545 \n",
       "  1728.66,825.325 1869.86,1060.83 2011.05,786.852 2152.25,841.532 \n",
       "  \"/>\n",
       "<polyline clip-path=\"url(#clip512)\" style=\"stroke:#c68125; stroke-linecap:butt; stroke-linejoin:round; stroke-width:4; stroke-opacity:1; fill:none\" points=\"\n",
       "  316.67,160.256 457.868,903.915 599.067,586.378 740.266,884.039 881.465,970.667 1022.66,776.232 1163.86,883.52 1305.06,1148.99 1446.26,1036.97 1587.46,1132.54 \n",
       "  1728.66,1032.19 1869.86,811.972 2011.05,761.171 2152.25,1060.65 2293.45,548.649 \n",
       "  \"/>\n",
       "<polyline clip-path=\"url(#clip512)\" style=\"stroke:#00a98d; stroke-linecap:butt; stroke-linejoin:round; stroke-width:4; stroke-opacity:1; fill:none\" points=\"\n",
       "  316.67,160.256 457.868,582.384 599.067,1013.82 740.266,1006.06 881.465,844.352 1022.66,797.497 1163.86,1083.21 1305.06,982.393 1446.26,832.895 1587.46,1166.44 \n",
       "  1728.66,787.704 1869.86,833.089 2011.05,1027.54 2152.25,1009.04 2293.45,606.098 \n",
       "  \"/>\n",
       "<polyline clip-path=\"url(#clip512)\" style=\"stroke:#8e971d; stroke-linecap:butt; stroke-linejoin:round; stroke-width:4; stroke-opacity:1; fill:none\" points=\"\n",
       "  316.67,160.256 457.868,964.978 599.067,858.064 740.266,824.779 881.465,714.18 1022.66,876.16 1163.86,650.503 1305.06,1064.77 1446.26,1155.49 1587.46,880.708 \n",
       "  1728.66,1072.75 1869.86,1013.54 2011.05,1077.91 2152.25,962.279 2293.45,712.138 \n",
       "  \"/>\n",
       "</svg>\n"
      ]
     },
     "execution_count": 13,
     "metadata": {},
     "output_type": "execute_result"
    }
   ],
   "source": [
    "acc_paths = []\n",
    "\n",
    "for path in collect(keys(sol))\n",
    "    Interface.reset!(mdp)\n",
    "    vs = [mdp.sim.ped.state[2]]\n",
    "    for a in path\n",
    "        a = Interface.reseed(a, server.token)\n",
    "        Interface.act!(mdp, a)\n",
    "        push!(vs, mdp.sim.ped.state[2])\n",
    "    end\n",
    "    push!(acc_paths, diff(vs))\n",
    "end\n",
    "\n",
    "p = plot(title=\"Pedestrian acceleration (top $(length(acc_paths)))\", xlabel=\"t [s]\", ylabel=\"a [m/s^2]\")\n",
    "for acc in acc_paths\n",
    "    plot!(p, acc; label=false)\n",
    "end\n",
    "p"
   ]
  },
  {
   "cell_type": "code",
   "execution_count": null,
   "id": "imposed-float",
   "metadata": {},
   "outputs": [],
   "source": []
  }
 ],
 "metadata": {
  "kernelspec": {
   "display_name": "Julia 1.6.0",
   "language": "julia",
   "name": "julia-1.6"
  },
  "language_info": {
   "file_extension": ".jl",
   "mimetype": "application/julia",
   "name": "julia",
   "version": "1.6.0"
  }
 },
 "nbformat": 4,
 "nbformat_minor": 5
}
