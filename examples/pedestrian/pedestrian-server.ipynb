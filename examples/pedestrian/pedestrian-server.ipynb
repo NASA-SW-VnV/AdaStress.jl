{
 "cells": [
  {
   "cell_type": "markdown",
   "id": "varied-router",
   "metadata": {},
   "source": [
    "# Pedestrian avoidance system for self-driving car (server-side)\n",
    "\n",
    "This example demonstrates AdaStress's remote stress testing capabilities with an example scenario: Alice has designed a pedestrian avoidance system for her self-driving car and would like to make use of Bob's stress testing infrastructure. For reasons of confidentiality and/or security, Alice does not wish to share or reveal the system software.\n",
    "\n",
    "AdaStress provides an interface by which Bob may connect securely to a server belonging to Alice and perform stress testing. An information gap ensures that he receives no information about the system or its behavior, other than the limited information that Alice chooses to share.\n",
    "\n",
    "In this scenario, Alice chooses the option that affords maximum privacy: a blackbox salted seed-action simulation. No information about the state or action space is shared, and all seeds are rehashed with a private token. This ensures that Bob could not independently reproduce any failures he finds, even given an exact copy of Alice's software.\n",
    "\n",
    "*This notebook contains the server-side implementation, consisting of the SUT, simulation, and server creation.*\n",
    "\n",
    "- **System under test:** proprietary pedestrian avoidance system for self-driving car.\n",
    "- **Failure criterion:** car comes within certain distance of pedestrian.\n",
    "- **Stochastic disturbance:** pedestrian movement, normally distributed in acceleration."
   ]
  },
  {
   "cell_type": "code",
   "execution_count": 1,
   "id": "horizontal-queens",
   "metadata": {},
   "outputs": [
    {
     "name": "stderr",
     "output_type": "stream",
     "text": [
      "\u001b[32m\u001b[1m  Activating\u001b[22m\u001b[39m project at `C:\\Users\\rlipkis\\.julia\\dev\\adastress\\examples\\pedestrian`\n",
      "\u001b[32m\u001b[1m   Resolving\u001b[22m\u001b[39m package versions...\n",
      "\u001b[32m\u001b[1m  No Changes\u001b[22m\u001b[39m to `C:\\Users\\rlipkis\\.julia\\dev\\adastress\\examples\\pedestrian\\Project.toml`\n",
      "\u001b[32m\u001b[1m  No Changes\u001b[22m\u001b[39m to `C:\\Users\\rlipkis\\.julia\\dev\\adastress\\examples\\pedestrian\\Manifest.toml`\n",
      "\u001b[32m\u001b[1mPrecompiling\u001b[22m\u001b[39m project...\n",
      "\u001b[32m  ✓ \u001b[39mAdaStress\n",
      "  1 dependency successfully precompiled in 3 seconds (143 already precompiled)\n"
     ]
    }
   ],
   "source": [
    "using Pkg\n",
    "Pkg.activate(\".\")\n",
    "Pkg.develop(path=\"../..\")\n",
    "Pkg.instantiate()"
   ]
  },
  {
   "cell_type": "markdown",
   "id": "material-clarity",
   "metadata": {},
   "source": [
    "## System under test"
   ]
  },
  {
   "cell_type": "code",
   "execution_count": 2,
   "id": "painful-cincinnati",
   "metadata": {},
   "outputs": [],
   "source": [
    "using AdaStress\n",
    "using Distributions\n",
    "using StaticArrays"
   ]
  },
  {
   "cell_type": "code",
   "execution_count": 3,
   "id": "interior-plenty",
   "metadata": {},
   "outputs": [
    {
     "data": {
      "text/plain": [
       "pedestrian_avoidance (generic function with 1 method)"
      ]
     },
     "execution_count": 3,
     "metadata": {},
     "output_type": "execute_result"
    }
   ],
   "source": [
    "abstract type Actor end\n",
    "\n",
    "Base.@kwdef mutable struct SelfDrivingCar <: Actor\n",
    "    state::MVector{2, Float64}   = MVector(0.0, 0.0) # car state (position, velocity)\n",
    "    ped_est::MVector{2, Float64} = MVector(0.0, 0.0) # estimated pedestrian state\n",
    "    α::Float64                   = 0.5               # estimation filter smoothing factor\n",
    "    t_crit::Float64              = 3.0               # brake if miss time interval is below this value\n",
    "    br::Float64                  = 3.0               # braking magnitude\n",
    "end\n",
    "\n",
    "Base.@kwdef mutable struct Pedestrian <: Actor\n",
    "    state::MVector{2, Float64} = MVector(0.0, 0.0)\n",
    "    acc_dist::Distribution     = Normal(0.0, 0.25)\n",
    "end\n",
    "\n",
    "# Update internal estimate of pedestrian state.\n",
    "function sensor_update!(car::SelfDrivingCar, ped::Pedestrian)\n",
    "    car.ped_est += (1 - car.α) * (ped.state - car.ped_est)\n",
    "end\n",
    "\n",
    "# Control law for pedestrian avoidance (system under test). All this secrecy for this???\n",
    "function pedestrian_avoidance(car::SelfDrivingCar)\n",
    "    tc = -car.state[1] / car.state[2]      # time until car reaches intersection\n",
    "    tp = -car.ped_est[1] / car.ped_est[2]  # time until pedestrian reaches intersection\n",
    "    \n",
    "    return tc > 0 && tp > 0 && abs(tc - tp) < car.t_crit ? car.br : 0.0\n",
    "end"
   ]
  },
  {
   "cell_type": "markdown",
   "id": "wanted-calibration",
   "metadata": {},
   "source": [
    "## Simulation\n",
    "\n",
    "The car moves forward on the $x$-axis, while the pedestrian moves on the $y$-axis. The crosswalk is located at the point $(0, 0)$."
   ]
  },
  {
   "cell_type": "code",
   "execution_count": 4,
   "id": "round-quest",
   "metadata": {},
   "outputs": [
    {
     "data": {
      "text/plain": [
       "update! (generic function with 3 methods)"
      ]
     },
     "execution_count": 4,
     "metadata": {},
     "output_type": "execute_result"
    }
   ],
   "source": [
    "distance(car::SelfDrivingCar, ped::Pedestrian) = sqrt(car.state[1]^2 + ped.state[1]^2)\n",
    "\n",
    "# Update pedestrian state.\n",
    "function update!(ped::Pedestrian, dt::Float64)\n",
    "    acc = rand(ped.acc_dist)\n",
    "    ped.state[1] += ped.state[2] * dt + 0.5 * acc * dt^2\n",
    "    ped.state[2] += acc * dt\n",
    "    return logpdf(ped.acc_dist, acc) - logpdf(ped.acc_dist, 0.0)\n",
    "end\n",
    "\n",
    "# Update car state with nonnegative braking value.\n",
    "function update!(car::SelfDrivingCar, br::Float64, dt::Float64)\n",
    "    if br * dt <= car.state[2]\n",
    "        car.state[1] += car.state[2] * dt - 0.5 * br * dt^2\n",
    "        car.state[2] += -br * dt\n",
    "    else\n",
    "        # braking can't reverse car\n",
    "        car.state[1] += 0.5 * car.state[2]^2 / br\n",
    "        car.state[2] = 0.0\n",
    "    end\n",
    "end\n",
    "\n",
    "Base.@kwdef mutable struct DriveSim <: AdaStress.BlackBox\n",
    "    t::Float64          = 0.0\n",
    "    dt::Float64         = 1.0\n",
    "    t_max::Float64      = 15.0\n",
    "    car::SelfDrivingCar = SelfDrivingCar()\n",
    "    ped::Pedestrian     = Pedestrian()\n",
    "    d_crit::Float64     = 2.0\n",
    "    log::Dict           = Dict()\n",
    "end\n",
    "\n",
    "function initialize!(sim::DriveSim)\n",
    "    sim.t = 0.0\n",
    "    sim.car.state .= MVector(-100.0, 10.0)\n",
    "    sim.ped.state .= MVector(-10.0, 0.5)\n",
    "    sim.car.ped_est .= MVector(-10.0, 0.5)\n",
    "    \n",
    "    sim.log[:t] = [sim.t]\n",
    "    sim.log[:car] = [copy(sim.car.state)]\n",
    "    sim.log[:ped] = [copy(sim.ped.state)]\n",
    "end\n",
    "\n",
    "function update!(sim::DriveSim)\n",
    "    sim.t += sim.dt\n",
    "    \n",
    "    # pedestrian update\n",
    "    logprob = update!(sim.ped, sim.dt)\n",
    "    \n",
    "    # car response\n",
    "    sensor_update!(sim.car, sim.ped)\n",
    "    br = pedestrian_avoidance(sim.car)\n",
    "    update!(sim.car, br, sim.dt)\n",
    "    \n",
    "    push!(sim.log[:t], sim.t)\n",
    "    push!(sim.log[:car], copy(sim.car.state))\n",
    "    push!(sim.log[:ped], copy(sim.ped.state))\n",
    "    \n",
    "    return logprob\n",
    "end"
   ]
  },
  {
   "cell_type": "code",
   "execution_count": 5,
   "id": "nonprofit-miracle",
   "metadata": {},
   "outputs": [],
   "source": [
    "AdaStress.reset!(sim::DriveSim) = initialize!(sim)\n",
    "AdaStress.step!(sim::DriveSim) = update!(sim)\n",
    "AdaStress.isterminal(sim::DriveSim) = sim.t >= sim.t_max\n",
    "AdaStress.isevent(sim::DriveSim) = distance(sim.car, sim.ped) < sim.d_crit\n",
    "AdaStress.distance(sim::DriveSim) = max(distance(sim.car, sim.ped) - sim.d_crit, 0.0)"
   ]
  },
  {
   "cell_type": "markdown",
   "id": "lined-leather",
   "metadata": {},
   "source": [
    "## Server set-up"
   ]
  },
  {
   "cell_type": "code",
   "execution_count": 6,
   "id": "angry-speed",
   "metadata": {},
   "outputs": [
    {
     "data": {
      "text/plain": [
       "1000.0"
      ]
     },
     "execution_count": 6,
     "metadata": {},
     "output_type": "execute_result"
    }
   ],
   "source": [
    "mdp = AdaStress.ASTMDP(DriveSim())\n",
    "mdp.reward.event_bonus = 1000.0"
   ]
  },
  {
   "cell_type": "code",
   "execution_count": 7,
   "id": "japanese-mason",
   "metadata": {
    "scrolled": true
   },
   "outputs": [
    {
     "data": {
      "text/plain": [
       "AdaStress.Interface.ASTServer(ip\"0.0.0.0\", 2000, nothing, AdaStress.Interface.ASTMDP{AdaStress.Interface.UnobservableState, AdaStress.Interface.SeedAction}(DriveSim(0.0, 1.0, 15.0, SelfDrivingCar([-100.0, 10.0], [-10.0, 0.5], 0.5, 3.0, 3.0), Pedestrian([-10.0, 0.5], Normal{Float64}(μ=0.0, σ=0.25)), 2.0, Dict{Any, Any}(:ped => MVector{2, Float64}[[-10.0, 0.5]], :car => MVector{2, Float64}[[-100.0, 10.0]], :t => [0.0])), AdaStress.Interface.Reward(true, AdaStress.Interface.GradientHeuristic(), 1000.0, AdaStress.Interface.WeightedObjective(1.0, 1.0, 1.0)), false, 0, Dict{Symbol, AdaStress.Interface.VariableInfo}(), Random.TaskLocalRNG()), nothing, false, false, true)"
      ]
     },
     "execution_count": 7,
     "metadata": {},
     "output_type": "execute_result"
    }
   ],
   "source": [
    "server = AdaStress.ASTServer(mdp; ip=Interface.IPv4(0), port=2000)"
   ]
  },
  {
   "cell_type": "code",
   "execution_count": 8,
   "id": "amazing-limitation",
   "metadata": {},
   "outputs": [
    {
     "name": "stdout",
     "output_type": "stream",
     "text": [
      "Enter password: ········\n"
     ]
    },
    {
     "name": "stderr",
     "output_type": "stream",
     "text": [
      "┌ Info: Private token set.\n",
      "└ @ AdaStress.Interface C:\\Users\\rlipkis\\.julia\\dev\\adastress\\src\\interface\\remote\\server.jl:50\n"
     ]
    }
   ],
   "source": [
    "Interface.set_password(server)"
   ]
  },
  {
   "cell_type": "code",
   "execution_count": 9,
   "id": "earlier-optics",
   "metadata": {},
   "outputs": [],
   "source": [
    "Interface.connect!(server)"
   ]
  },
  {
   "cell_type": "markdown",
   "id": "dying-confidence",
   "metadata": {},
   "source": [
    "## Visualization / analysis"
   ]
  },
  {
   "cell_type": "code",
   "execution_count": 10,
   "id": "personalized-japanese",
   "metadata": {},
   "outputs": [
    {
     "name": "stderr",
     "output_type": "stream",
     "text": [
      "┌ Info: Connected to AST client.\n",
      "│   conn = Sockets.TCPSocket(Base.Libc.WindowsRawSocket(0x00000000000004b4) open, 0 bytes waiting)\n",
      "└ @ AdaStress.Interface C:\\Users\\rlipkis\\.julia\\dev\\adastress\\src\\interface\\remote\\server.jl:128\n",
      "WARNING: using DataStructures.update! in module Main conflicts with an existing identifier.\n"
     ]
    }
   ],
   "source": [
    "using BSON\n",
    "using DataStructures\n",
    "using Plots"
   ]
  },
  {
   "cell_type": "code",
   "execution_count": 11,
   "id": "medieval-seminar",
   "metadata": {},
   "outputs": [],
   "source": [
    "BSON.@load \"best_paths.bson\" sol"
   ]
  },
  {
   "cell_type": "code",
   "execution_count": 12,
   "id": "inclusive-ecuador",
   "metadata": {},
   "outputs": [],
   "source": [
    "# without reseeding, results are encrypted\n",
    "for as in keys(sol)\n",
    "    as.path = Interface.reseed.(as.path, Ref(server.token))\n",
    "end"
   ]
  },
  {
   "cell_type": "code",
   "execution_count": 13,
   "id": "judicial-space",
   "metadata": {},
   "outputs": [
    {
     "data": {
      "image/svg+xml": [
       "<?xml version=\"1.0\" encoding=\"utf-8\"?>\n",
       "<svg xmlns=\"http://www.w3.org/2000/svg\" xmlns:xlink=\"http://www.w3.org/1999/xlink\" width=\"600\" height=\"400\" viewBox=\"0 0 2400 1600\">\n",
       "<defs>\n",
       "  <clipPath id=\"clip350\">\n",
       "    <rect x=\"0\" y=\"0\" width=\"2400\" height=\"1600\"/>\n",
       "  </clipPath>\n",
       "</defs>\n",
       "<path clip-path=\"url(#clip350)\" d=\"\n",
       "M0 1600 L2400 1600 L2400 0 L0 0  Z\n",
       "  \" fill=\"#ffffff\" fill-rule=\"evenodd\" fill-opacity=\"1\"/>\n",
       "<defs>\n",
       "  <clipPath id=\"clip351\">\n",
       "    <rect x=\"480\" y=\"0\" width=\"1681\" height=\"1600\"/>\n",
       "  </clipPath>\n",
       "</defs>\n",
       "<path clip-path=\"url(#clip350)\" d=\"\n",
       "M224.098 1486.45 L2352.76 1486.45 L2352.76 123.472 L224.098 123.472  Z\n",
       "  \" fill=\"#ffffff\" fill-rule=\"evenodd\" fill-opacity=\"1\"/>\n",
       "<defs>\n",
       "  <clipPath id=\"clip352\">\n",
       "    <rect x=\"224\" y=\"123\" width=\"2130\" height=\"1364\"/>\n",
       "  </clipPath>\n",
       "</defs>\n",
       "<polyline clip-path=\"url(#clip352)\" style=\"stroke:#000000; stroke-linecap:butt; stroke-linejoin:round; stroke-width:2; stroke-opacity:0.1; fill:none\" points=\"\n",
       "  284.343,1486.45 284.343,123.472 \n",
       "  \"/>\n",
       "<polyline clip-path=\"url(#clip352)\" style=\"stroke:#000000; stroke-linecap:butt; stroke-linejoin:round; stroke-width:2; stroke-opacity:0.1; fill:none\" points=\"\n",
       "  786.385,1486.45 786.385,123.472 \n",
       "  \"/>\n",
       "<polyline clip-path=\"url(#clip352)\" style=\"stroke:#000000; stroke-linecap:butt; stroke-linejoin:round; stroke-width:2; stroke-opacity:0.1; fill:none\" points=\"\n",
       "  1288.43,1486.45 1288.43,123.472 \n",
       "  \"/>\n",
       "<polyline clip-path=\"url(#clip352)\" style=\"stroke:#000000; stroke-linecap:butt; stroke-linejoin:round; stroke-width:2; stroke-opacity:0.1; fill:none\" points=\"\n",
       "  1790.47,1486.45 1790.47,123.472 \n",
       "  \"/>\n",
       "<polyline clip-path=\"url(#clip352)\" style=\"stroke:#000000; stroke-linecap:butt; stroke-linejoin:round; stroke-width:2; stroke-opacity:0.1; fill:none\" points=\"\n",
       "  2292.51,1486.45 2292.51,123.472 \n",
       "  \"/>\n",
       "<polyline clip-path=\"url(#clip350)\" style=\"stroke:#000000; stroke-linecap:butt; stroke-linejoin:round; stroke-width:4; stroke-opacity:1; fill:none\" points=\"\n",
       "  224.098,1486.45 2352.76,1486.45 \n",
       "  \"/>\n",
       "<polyline clip-path=\"url(#clip350)\" style=\"stroke:#000000; stroke-linecap:butt; stroke-linejoin:round; stroke-width:4; stroke-opacity:1; fill:none\" points=\"\n",
       "  284.343,1486.45 284.343,1467.55 \n",
       "  \"/>\n",
       "<polyline clip-path=\"url(#clip350)\" style=\"stroke:#000000; stroke-linecap:butt; stroke-linejoin:round; stroke-width:4; stroke-opacity:1; fill:none\" points=\"\n",
       "  786.385,1486.45 786.385,1467.55 \n",
       "  \"/>\n",
       "<polyline clip-path=\"url(#clip350)\" style=\"stroke:#000000; stroke-linecap:butt; stroke-linejoin:round; stroke-width:4; stroke-opacity:1; fill:none\" points=\"\n",
       "  1288.43,1486.45 1288.43,1467.55 \n",
       "  \"/>\n",
       "<polyline clip-path=\"url(#clip350)\" style=\"stroke:#000000; stroke-linecap:butt; stroke-linejoin:round; stroke-width:4; stroke-opacity:1; fill:none\" points=\"\n",
       "  1790.47,1486.45 1790.47,1467.55 \n",
       "  \"/>\n",
       "<polyline clip-path=\"url(#clip350)\" style=\"stroke:#000000; stroke-linecap:butt; stroke-linejoin:round; stroke-width:4; stroke-opacity:1; fill:none\" points=\"\n",
       "  2292.51,1486.45 2292.51,1467.55 \n",
       "  \"/>\n",
       "<path clip-path=\"url(#clip350)\" d=\"M223.325 1532.02 L253 1532.02 L253 1535.95 L223.325 1535.95 L223.325 1532.02 Z\" fill=\"#000000\" fill-rule=\"evenodd\" fill-opacity=\"1\" /><path clip-path=\"url(#clip350)\" d=\"M263.903 1544.91 L271.542 1544.91 L271.542 1518.55 L263.232 1520.21 L263.232 1515.95 L271.496 1514.29 L276.172 1514.29 L276.172 1544.91 L283.811 1544.91 L283.811 1548.85 L263.903 1548.85 L263.903 1544.91 Z\" fill=\"#000000\" fill-rule=\"evenodd\" fill-opacity=\"1\" /><path clip-path=\"url(#clip350)\" d=\"M303.255 1517.37 Q299.644 1517.37 297.815 1520.93 Q296.01 1524.47 296.01 1531.6 Q296.01 1538.71 297.815 1542.27 Q299.644 1545.82 303.255 1545.82 Q306.889 1545.82 308.695 1542.27 Q310.523 1538.71 310.523 1531.6 Q310.523 1524.47 308.695 1520.93 Q306.889 1517.37 303.255 1517.37 M303.255 1513.66 Q309.065 1513.66 312.121 1518.27 Q315.199 1522.85 315.199 1531.6 Q315.199 1540.33 312.121 1544.94 Q309.065 1549.52 303.255 1549.52 Q297.445 1549.52 294.366 1544.94 Q291.31 1540.33 291.31 1531.6 Q291.31 1522.85 294.366 1518.27 Q297.445 1513.66 303.255 1513.66 Z\" fill=\"#000000\" fill-rule=\"evenodd\" fill-opacity=\"1\" /><path clip-path=\"url(#clip350)\" d=\"M333.417 1517.37 Q329.806 1517.37 327.977 1520.93 Q326.171 1524.47 326.171 1531.6 Q326.171 1538.71 327.977 1542.27 Q329.806 1545.82 333.417 1545.82 Q337.051 1545.82 338.857 1542.27 Q340.685 1538.71 340.685 1531.6 Q340.685 1524.47 338.857 1520.93 Q337.051 1517.37 333.417 1517.37 M333.417 1513.66 Q339.227 1513.66 342.282 1518.27 Q345.361 1522.85 345.361 1531.6 Q345.361 1540.33 342.282 1544.94 Q339.227 1549.52 333.417 1549.52 Q327.607 1549.52 324.528 1544.94 Q321.472 1540.33 321.472 1531.6 Q321.472 1522.85 324.528 1518.27 Q327.607 1513.66 333.417 1513.66 Z\" fill=\"#000000\" fill-rule=\"evenodd\" fill-opacity=\"1\" /><path clip-path=\"url(#clip350)\" d=\"M740.945 1532.02 L770.621 1532.02 L770.621 1535.95 L740.945 1535.95 L740.945 1532.02 Z\" fill=\"#000000\" fill-rule=\"evenodd\" fill-opacity=\"1\" /><path clip-path=\"url(#clip350)\" d=\"M779.533 1514.29 L801.755 1514.29 L801.755 1516.28 L789.209 1548.85 L784.325 1548.85 L796.13 1518.22 L779.533 1518.22 L779.533 1514.29 Z\" fill=\"#000000\" fill-rule=\"evenodd\" fill-opacity=\"1\" /><path clip-path=\"url(#clip350)\" d=\"M810.922 1514.29 L829.278 1514.29 L829.278 1518.22 L815.204 1518.22 L815.204 1526.7 Q816.223 1526.35 817.241 1526.19 Q818.26 1526 819.278 1526 Q825.065 1526 828.445 1529.17 Q831.824 1532.34 831.824 1537.76 Q831.824 1543.34 828.352 1546.44 Q824.88 1549.52 818.561 1549.52 Q816.385 1549.52 814.116 1549.15 Q811.871 1548.78 809.463 1548.04 L809.463 1543.34 Q811.547 1544.47 813.769 1545.03 Q815.991 1545.58 818.468 1545.58 Q822.473 1545.58 824.811 1543.48 Q827.149 1541.37 827.149 1537.76 Q827.149 1534.15 824.811 1532.04 Q822.473 1529.94 818.468 1529.94 Q816.593 1529.94 814.718 1530.35 Q812.866 1530.77 810.922 1531.65 L810.922 1514.29 Z\" fill=\"#000000\" fill-rule=\"evenodd\" fill-opacity=\"1\" /><path clip-path=\"url(#clip350)\" d=\"M1242.49 1532.02 L1272.17 1532.02 L1272.17 1535.95 L1242.49 1535.95 L1242.49 1532.02 Z\" fill=\"#000000\" fill-rule=\"evenodd\" fill-opacity=\"1\" /><path clip-path=\"url(#clip350)\" d=\"M1282.3 1514.29 L1300.66 1514.29 L1300.66 1518.22 L1286.59 1518.22 L1286.59 1526.7 Q1287.61 1526.35 1288.62 1526.19 Q1289.64 1526 1290.66 1526 Q1296.45 1526 1299.83 1529.17 Q1303.21 1532.34 1303.21 1537.76 Q1303.21 1543.34 1299.73 1546.44 Q1296.26 1549.52 1289.94 1549.52 Q1287.77 1549.52 1285.5 1549.15 Q1283.25 1548.78 1280.85 1548.04 L1280.85 1543.34 Q1282.93 1544.47 1285.15 1545.03 Q1287.37 1545.58 1289.85 1545.58 Q1293.86 1545.58 1296.19 1543.48 Q1298.53 1541.37 1298.53 1537.76 Q1298.53 1534.15 1296.19 1532.04 Q1293.86 1529.94 1289.85 1529.94 Q1287.98 1529.94 1286.1 1530.35 Q1284.25 1530.77 1282.3 1531.65 L1282.3 1514.29 Z\" fill=\"#000000\" fill-rule=\"evenodd\" fill-opacity=\"1\" /><path clip-path=\"url(#clip350)\" d=\"M1322.42 1517.37 Q1318.81 1517.37 1316.98 1520.93 Q1315.17 1524.47 1315.17 1531.6 Q1315.17 1538.71 1316.98 1542.27 Q1318.81 1545.82 1322.42 1545.82 Q1326.05 1545.82 1327.86 1542.27 Q1329.69 1538.71 1329.69 1531.6 Q1329.69 1524.47 1327.86 1520.93 Q1326.05 1517.37 1322.42 1517.37 M1322.42 1513.66 Q1328.23 1513.66 1331.29 1518.27 Q1334.36 1522.85 1334.36 1531.6 Q1334.36 1540.33 1331.29 1544.94 Q1328.23 1549.52 1322.42 1549.52 Q1316.61 1549.52 1313.53 1544.94 Q1310.48 1540.33 1310.48 1531.6 Q1310.48 1522.85 1313.53 1518.27 Q1316.61 1513.66 1322.42 1513.66 Z\" fill=\"#000000\" fill-rule=\"evenodd\" fill-opacity=\"1\" /><path clip-path=\"url(#clip350)\" d=\"M1745.03 1532.02 L1774.71 1532.02 L1774.71 1535.95 L1745.03 1535.95 L1745.03 1532.02 Z\" fill=\"#000000\" fill-rule=\"evenodd\" fill-opacity=\"1\" /><path clip-path=\"url(#clip350)\" d=\"M1788.83 1544.91 L1805.14 1544.91 L1805.14 1548.85 L1783.2 1548.85 L1783.2 1544.91 Q1785.86 1542.16 1790.45 1537.53 Q1795.05 1532.88 1796.23 1531.53 Q1798.48 1529.01 1799.36 1527.27 Q1800.26 1525.51 1800.26 1523.82 Q1800.26 1521.07 1798.32 1519.33 Q1796.39 1517.6 1793.29 1517.6 Q1791.09 1517.6 1788.64 1518.36 Q1786.21 1519.13 1783.43 1520.68 L1783.43 1515.95 Q1786.26 1514.82 1788.71 1514.24 Q1791.16 1513.66 1793.2 1513.66 Q1798.57 1513.66 1801.77 1516.35 Q1804.96 1519.03 1804.96 1523.52 Q1804.96 1525.65 1804.15 1527.57 Q1803.36 1529.47 1801.26 1532.07 Q1800.68 1532.74 1797.58 1535.95 Q1794.47 1539.15 1788.83 1544.91 Z\" fill=\"#000000\" fill-rule=\"evenodd\" fill-opacity=\"1\" /><path clip-path=\"url(#clip350)\" d=\"M1815.01 1514.29 L1833.36 1514.29 L1833.36 1518.22 L1819.29 1518.22 L1819.29 1526.7 Q1820.31 1526.35 1821.33 1526.19 Q1822.34 1526 1823.36 1526 Q1829.15 1526 1832.53 1529.17 Q1835.91 1532.34 1835.91 1537.76 Q1835.91 1543.34 1832.44 1546.44 Q1828.96 1549.52 1822.64 1549.52 Q1820.47 1549.52 1818.2 1549.15 Q1815.95 1548.78 1813.55 1548.04 L1813.55 1543.34 Q1815.63 1544.47 1817.85 1545.03 Q1820.08 1545.58 1822.55 1545.58 Q1826.56 1545.58 1828.89 1543.48 Q1831.23 1541.37 1831.23 1537.76 Q1831.23 1534.15 1828.89 1532.04 Q1826.56 1529.94 1822.55 1529.94 Q1820.68 1529.94 1818.8 1530.35 Q1816.95 1530.77 1815.01 1531.65 L1815.01 1514.29 Z\" fill=\"#000000\" fill-rule=\"evenodd\" fill-opacity=\"1\" /><path clip-path=\"url(#clip350)\" d=\"M2292.51 1517.37 Q2288.9 1517.37 2287.07 1520.93 Q2285.27 1524.47 2285.27 1531.6 Q2285.27 1538.71 2287.07 1542.27 Q2288.9 1545.82 2292.51 1545.82 Q2296.15 1545.82 2297.95 1542.27 Q2299.78 1538.71 2299.78 1531.6 Q2299.78 1524.47 2297.95 1520.93 Q2296.15 1517.37 2292.51 1517.37 M2292.51 1513.66 Q2298.32 1513.66 2301.38 1518.27 Q2304.46 1522.85 2304.46 1531.6 Q2304.46 1540.33 2301.38 1544.94 Q2298.32 1549.52 2292.51 1549.52 Q2286.7 1549.52 2283.62 1544.94 Q2280.57 1540.33 2280.57 1531.6 Q2280.57 1522.85 2283.62 1518.27 Q2286.7 1513.66 2292.51 1513.66 Z\" fill=\"#000000\" fill-rule=\"evenodd\" fill-opacity=\"1\" /><polyline clip-path=\"url(#clip352)\" style=\"stroke:#000000; stroke-linecap:butt; stroke-linejoin:round; stroke-width:2; stroke-opacity:0.1; fill:none\" points=\"\n",
       "  224.098,1447.87 2352.76,1447.87 \n",
       "  \"/>\n",
       "<polyline clip-path=\"url(#clip352)\" style=\"stroke:#000000; stroke-linecap:butt; stroke-linejoin:round; stroke-width:2; stroke-opacity:0.1; fill:none\" points=\"\n",
       "  224.098,1169.73 2352.76,1169.73 \n",
       "  \"/>\n",
       "<polyline clip-path=\"url(#clip352)\" style=\"stroke:#000000; stroke-linecap:butt; stroke-linejoin:round; stroke-width:2; stroke-opacity:0.1; fill:none\" points=\"\n",
       "  224.098,891.588 2352.76,891.588 \n",
       "  \"/>\n",
       "<polyline clip-path=\"url(#clip352)\" style=\"stroke:#000000; stroke-linecap:butt; stroke-linejoin:round; stroke-width:2; stroke-opacity:0.1; fill:none\" points=\"\n",
       "  224.098,613.446 2352.76,613.446 \n",
       "  \"/>\n",
       "<polyline clip-path=\"url(#clip352)\" style=\"stroke:#000000; stroke-linecap:butt; stroke-linejoin:round; stroke-width:2; stroke-opacity:0.1; fill:none\" points=\"\n",
       "  224.098,335.303 2352.76,335.303 \n",
       "  \"/>\n",
       "<polyline clip-path=\"url(#clip350)\" style=\"stroke:#000000; stroke-linecap:butt; stroke-linejoin:round; stroke-width:4; stroke-opacity:1; fill:none\" points=\"\n",
       "  224.098,1486.45 224.098,123.472 \n",
       "  \"/>\n",
       "<polyline clip-path=\"url(#clip350)\" style=\"stroke:#000000; stroke-linecap:butt; stroke-linejoin:round; stroke-width:4; stroke-opacity:1; fill:none\" points=\"\n",
       "  224.098,1447.87 242.996,1447.87 \n",
       "  \"/>\n",
       "<polyline clip-path=\"url(#clip350)\" style=\"stroke:#000000; stroke-linecap:butt; stroke-linejoin:round; stroke-width:4; stroke-opacity:1; fill:none\" points=\"\n",
       "  224.098,1169.73 242.996,1169.73 \n",
       "  \"/>\n",
       "<polyline clip-path=\"url(#clip350)\" style=\"stroke:#000000; stroke-linecap:butt; stroke-linejoin:round; stroke-width:4; stroke-opacity:1; fill:none\" points=\"\n",
       "  224.098,891.588 242.996,891.588 \n",
       "  \"/>\n",
       "<polyline clip-path=\"url(#clip350)\" style=\"stroke:#000000; stroke-linecap:butt; stroke-linejoin:round; stroke-width:4; stroke-opacity:1; fill:none\" points=\"\n",
       "  224.098,613.446 242.996,613.446 \n",
       "  \"/>\n",
       "<polyline clip-path=\"url(#clip350)\" style=\"stroke:#000000; stroke-linecap:butt; stroke-linejoin:round; stroke-width:4; stroke-opacity:1; fill:none\" points=\"\n",
       "  224.098,335.303 242.996,335.303 \n",
       "  \"/>\n",
       "<path clip-path=\"url(#clip350)\" d=\"M50.9921 1448.32 L80.6679 1448.32 L80.6679 1452.26 L50.9921 1452.26 L50.9921 1448.32 Z\" fill=\"#000000\" fill-rule=\"evenodd\" fill-opacity=\"1\" /><path clip-path=\"url(#clip350)\" d=\"M91.5706 1461.22 L99.2095 1461.22 L99.2095 1434.85 L90.8993 1436.52 L90.8993 1432.26 L99.1632 1430.59 L103.839 1430.59 L103.839 1461.22 L111.478 1461.22 L111.478 1465.15 L91.5706 1465.15 L91.5706 1461.22 Z\" fill=\"#000000\" fill-rule=\"evenodd\" fill-opacity=\"1\" /><path clip-path=\"url(#clip350)\" d=\"M130.922 1433.67 Q127.311 1433.67 125.482 1437.24 Q123.677 1440.78 123.677 1447.91 Q123.677 1455.01 125.482 1458.58 Q127.311 1462.12 130.922 1462.12 Q134.556 1462.12 136.362 1458.58 Q138.191 1455.01 138.191 1447.91 Q138.191 1440.78 136.362 1437.24 Q134.556 1433.67 130.922 1433.67 M130.922 1429.97 Q136.732 1429.97 139.788 1434.57 Q142.867 1439.16 142.867 1447.91 Q142.867 1456.63 139.788 1461.24 Q136.732 1465.82 130.922 1465.82 Q125.112 1465.82 122.033 1461.24 Q118.978 1456.63 118.978 1447.91 Q118.978 1439.16 122.033 1434.57 Q125.112 1429.97 130.922 1429.97 Z\" fill=\"#000000\" fill-rule=\"evenodd\" fill-opacity=\"1\" /><path clip-path=\"url(#clip350)\" d=\"M151.084 1459.27 L155.968 1459.27 L155.968 1465.15 L151.084 1465.15 L151.084 1459.27 Z\" fill=\"#000000\" fill-rule=\"evenodd\" fill-opacity=\"1\" /><path clip-path=\"url(#clip350)\" d=\"M176.153 1433.67 Q172.542 1433.67 170.714 1437.24 Q168.908 1440.78 168.908 1447.91 Q168.908 1455.01 170.714 1458.58 Q172.542 1462.12 176.153 1462.12 Q179.788 1462.12 181.593 1458.58 Q183.422 1455.01 183.422 1447.91 Q183.422 1440.78 181.593 1437.24 Q179.788 1433.67 176.153 1433.67 M176.153 1429.97 Q181.964 1429.97 185.019 1434.57 Q188.098 1439.16 188.098 1447.91 Q188.098 1456.63 185.019 1461.24 Q181.964 1465.82 176.153 1465.82 Q170.343 1465.82 167.265 1461.24 Q164.209 1456.63 164.209 1447.91 Q164.209 1439.16 167.265 1434.57 Q170.343 1429.97 176.153 1429.97 Z\" fill=\"#000000\" fill-rule=\"evenodd\" fill-opacity=\"1\" /><path clip-path=\"url(#clip350)\" d=\"M82.1494 1170.18 L111.825 1170.18 L111.825 1174.12 L82.1494 1174.12 L82.1494 1170.18 Z\" fill=\"#000000\" fill-rule=\"evenodd\" fill-opacity=\"1\" /><path clip-path=\"url(#clip350)\" d=\"M120.737 1152.45 L142.959 1152.45 L142.959 1154.44 L130.413 1187.01 L125.529 1187.01 L137.334 1156.39 L120.737 1156.39 L120.737 1152.45 Z\" fill=\"#000000\" fill-rule=\"evenodd\" fill-opacity=\"1\" /><path clip-path=\"url(#clip350)\" d=\"M152.08 1181.13 L156.964 1181.13 L156.964 1187.01 L152.08 1187.01 L152.08 1181.13 Z\" fill=\"#000000\" fill-rule=\"evenodd\" fill-opacity=\"1\" /><path clip-path=\"url(#clip350)\" d=\"M167.195 1152.45 L185.552 1152.45 L185.552 1156.39 L171.478 1156.39 L171.478 1164.86 Q172.496 1164.51 173.515 1164.35 Q174.533 1164.16 175.552 1164.16 Q181.339 1164.16 184.718 1167.33 Q188.098 1170.51 188.098 1175.92 Q188.098 1181.5 184.626 1184.6 Q181.153 1187.68 174.834 1187.68 Q172.658 1187.68 170.39 1187.31 Q168.144 1186.94 165.737 1186.2 L165.737 1181.5 Q167.82 1182.64 170.042 1183.19 Q172.265 1183.75 174.741 1183.75 Q178.746 1183.75 181.084 1181.64 Q183.422 1179.53 183.422 1175.92 Q183.422 1172.31 181.084 1170.21 Q178.746 1168.1 174.741 1168.1 Q172.866 1168.1 170.991 1168.52 Q169.14 1168.93 167.195 1169.81 L167.195 1152.45 Z\" fill=\"#000000\" fill-rule=\"evenodd\" fill-opacity=\"1\" /><path clip-path=\"url(#clip350)\" d=\"M81.154 892.039 L110.83 892.039 L110.83 895.975 L81.154 895.975 L81.154 892.039 Z\" fill=\"#000000\" fill-rule=\"evenodd\" fill-opacity=\"1\" /><path clip-path=\"url(#clip350)\" d=\"M120.969 874.308 L139.325 874.308 L139.325 878.243 L125.251 878.243 L125.251 886.715 Q126.27 886.368 127.288 886.206 Q128.307 886.021 129.325 886.021 Q135.112 886.021 138.492 889.192 Q141.871 892.364 141.871 897.78 Q141.871 903.359 138.399 906.461 Q134.927 909.539 128.607 909.539 Q126.432 909.539 124.163 909.169 Q121.918 908.799 119.51 908.058 L119.51 903.359 Q121.594 904.493 123.816 905.049 Q126.038 905.604 128.515 905.604 Q132.519 905.604 134.857 903.498 Q137.195 901.391 137.195 897.78 Q137.195 894.169 134.857 892.063 Q132.519 889.956 128.515 889.956 Q126.64 889.956 124.765 890.373 Q122.913 890.789 120.969 891.669 L120.969 874.308 Z\" fill=\"#000000\" fill-rule=\"evenodd\" fill-opacity=\"1\" /><path clip-path=\"url(#clip350)\" d=\"M151.084 902.988 L155.968 902.988 L155.968 908.868 L151.084 908.868 L151.084 902.988 Z\" fill=\"#000000\" fill-rule=\"evenodd\" fill-opacity=\"1\" /><path clip-path=\"url(#clip350)\" d=\"M176.153 877.387 Q172.542 877.387 170.714 880.952 Q168.908 884.493 168.908 891.623 Q168.908 898.729 170.714 902.294 Q172.542 905.836 176.153 905.836 Q179.788 905.836 181.593 902.294 Q183.422 898.729 183.422 891.623 Q183.422 884.493 181.593 880.952 Q179.788 877.387 176.153 877.387 M176.153 873.683 Q181.964 873.683 185.019 878.29 Q188.098 882.873 188.098 891.623 Q188.098 900.35 185.019 904.956 Q181.964 909.539 176.153 909.539 Q170.343 909.539 167.265 904.956 Q164.209 900.35 164.209 891.623 Q164.209 882.873 167.265 878.29 Q170.343 873.683 176.153 873.683 Z\" fill=\"#000000\" fill-rule=\"evenodd\" fill-opacity=\"1\" /><path clip-path=\"url(#clip350)\" d=\"M82.1494 613.897 L111.825 613.897 L111.825 617.832 L82.1494 617.832 L82.1494 613.897 Z\" fill=\"#000000\" fill-rule=\"evenodd\" fill-opacity=\"1\" /><path clip-path=\"url(#clip350)\" d=\"M125.945 626.79 L142.265 626.79 L142.265 630.726 L120.32 630.726 L120.32 626.79 Q122.982 624.036 127.566 619.406 Q132.172 614.753 133.353 613.411 Q135.598 610.888 136.478 609.152 Q137.381 607.392 137.381 605.703 Q137.381 602.948 135.436 601.212 Q133.515 599.476 130.413 599.476 Q128.214 599.476 125.76 600.24 Q123.33 601.003 120.552 602.554 L120.552 597.832 Q123.376 596.698 125.83 596.119 Q128.283 595.541 130.32 595.541 Q135.691 595.541 138.885 598.226 Q142.08 600.911 142.08 605.402 Q142.08 607.531 141.269 609.453 Q140.482 611.351 138.376 613.943 Q137.797 614.615 134.695 617.832 Q131.594 621.027 125.945 626.79 Z\" fill=\"#000000\" fill-rule=\"evenodd\" fill-opacity=\"1\" /><path clip-path=\"url(#clip350)\" d=\"M152.08 624.846 L156.964 624.846 L156.964 630.726 L152.08 630.726 L152.08 624.846 Z\" fill=\"#000000\" fill-rule=\"evenodd\" fill-opacity=\"1\" /><path clip-path=\"url(#clip350)\" d=\"M167.195 596.166 L185.552 596.166 L185.552 600.101 L171.478 600.101 L171.478 608.573 Q172.496 608.226 173.515 608.064 Q174.533 607.878 175.552 607.878 Q181.339 607.878 184.718 611.05 Q188.098 614.221 188.098 619.638 Q188.098 625.216 184.626 628.318 Q181.153 631.397 174.834 631.397 Q172.658 631.397 170.39 631.026 Q168.144 630.656 165.737 629.915 L165.737 625.216 Q167.82 626.351 170.042 626.906 Q172.265 627.462 174.741 627.462 Q178.746 627.462 181.084 625.355 Q183.422 623.249 183.422 619.638 Q183.422 616.027 181.084 613.92 Q178.746 611.814 174.741 611.814 Q172.866 611.814 170.991 612.23 Q169.14 612.647 167.195 613.527 L167.195 596.166 Z\" fill=\"#000000\" fill-rule=\"evenodd\" fill-opacity=\"1\" /><path clip-path=\"url(#clip350)\" d=\"M130.922 321.102 Q127.311 321.102 125.482 324.667 Q123.677 328.208 123.677 335.338 Q123.677 342.444 125.482 346.009 Q127.311 349.551 130.922 349.551 Q134.556 349.551 136.362 346.009 Q138.191 342.444 138.191 335.338 Q138.191 328.208 136.362 324.667 Q134.556 321.102 130.922 321.102 M130.922 317.398 Q136.732 317.398 139.788 322.005 Q142.867 326.588 142.867 335.338 Q142.867 344.065 139.788 348.671 Q136.732 353.254 130.922 353.254 Q125.112 353.254 122.033 348.671 Q118.978 344.065 118.978 335.338 Q118.978 326.588 122.033 322.005 Q125.112 317.398 130.922 317.398 Z\" fill=\"#000000\" fill-rule=\"evenodd\" fill-opacity=\"1\" /><path clip-path=\"url(#clip350)\" d=\"M151.084 346.703 L155.968 346.703 L155.968 352.583 L151.084 352.583 L151.084 346.703 Z\" fill=\"#000000\" fill-rule=\"evenodd\" fill-opacity=\"1\" /><path clip-path=\"url(#clip350)\" d=\"M176.153 321.102 Q172.542 321.102 170.714 324.667 Q168.908 328.208 168.908 335.338 Q168.908 342.444 170.714 346.009 Q172.542 349.551 176.153 349.551 Q179.788 349.551 181.593 346.009 Q183.422 342.444 183.422 335.338 Q183.422 328.208 181.593 324.667 Q179.788 321.102 176.153 321.102 M176.153 317.398 Q181.964 317.398 185.019 322.005 Q188.098 326.588 188.098 335.338 Q188.098 344.065 185.019 348.671 Q181.964 353.254 176.153 353.254 Q170.343 353.254 167.265 348.671 Q164.209 344.065 164.209 335.338 Q164.209 326.588 167.265 322.005 Q170.343 317.398 176.153 317.398 Z\" fill=\"#000000\" fill-rule=\"evenodd\" fill-opacity=\"1\" /><path clip-path=\"url(#clip350)\" d=\"M910.336 12.096 L961.499 12.096 L961.499 18.9825 L940.029 18.9825 L940.029 72.576 L931.806 72.576 L931.806 18.9825 L910.336 18.9825 L910.336 12.096 Z\" fill=\"#000000\" fill-rule=\"evenodd\" fill-opacity=\"1\" /><path clip-path=\"url(#clip350)\" d=\"M972.558 32.4315 Q966.562 32.4315 963.079 37.1306 Q959.595 41.7891 959.595 49.9314 Q959.595 58.0738 963.038 62.7728 Q966.522 67.4314 972.558 67.4314 Q978.512 67.4314 981.996 62.7323 Q985.48 58.0333 985.48 49.9314 Q985.48 41.8701 981.996 37.1711 Q978.512 32.4315 972.558 32.4315 M972.558 26.1121 Q982.28 26.1121 987.83 32.4315 Q993.379 38.7509 993.379 49.9314 Q993.379 61.0714 987.83 67.4314 Q982.28 73.7508 972.558 73.7508 Q962.795 73.7508 957.245 67.4314 Q951.736 61.0714 951.736 49.9314 Q951.736 38.7509 957.245 32.4315 Q962.795 26.1121 972.558 26.1121 Z\" fill=\"#000000\" fill-rule=\"evenodd\" fill-opacity=\"1\" /><path clip-path=\"url(#clip350)\" d=\"M1012.95 65.7705 L1012.95 89.8329 L1005.45 89.8329 L1005.45 27.2059 L1012.95 27.2059 L1012.95 34.0924 Q1015.29 30.0415 1018.86 28.0971 Q1022.46 26.1121 1027.45 26.1121 Q1035.71 26.1121 1040.86 32.6746 Q1046.04 39.2371 1046.04 49.9314 Q1046.04 60.6258 1040.86 67.1883 Q1035.71 73.7508 1027.45 73.7508 Q1022.46 73.7508 1018.86 71.8063 Q1015.29 69.8214 1012.95 65.7705 M1038.3 49.9314 Q1038.3 41.7081 1034.9 37.0496 Q1031.54 32.3505 1025.62 32.3505 Q1019.71 32.3505 1016.31 37.0496 Q1012.95 41.7081 1012.95 49.9314 Q1012.95 58.1548 1016.31 62.8538 Q1019.71 67.5124 1025.62 67.5124 Q1031.54 67.5124 1034.9 62.8538 Q1038.3 58.1548 1038.3 49.9314 Z\" fill=\"#000000\" fill-rule=\"evenodd\" fill-opacity=\"1\" /><path clip-path=\"url(#clip350)\" d=\"M1054.63 46.5287 L1076.46 46.5287 L1076.46 53.1722 L1054.63 53.1722 L1054.63 46.5287 Z\" fill=\"#000000\" fill-rule=\"evenodd\" fill-opacity=\"1\" /><path clip-path=\"url(#clip350)\" d=\"M1117.26 28.5427 L1117.26 35.5912 Q1114.1 33.9709 1110.69 33.1607 Q1107.29 32.3505 1103.64 32.3505 Q1098.1 32.3505 1095.3 34.0519 Q1092.55 35.7533 1092.55 39.156 Q1092.55 41.7486 1094.53 43.2475 Q1096.52 44.7058 1102.51 46.0426 L1105.06 46.6097 Q1113 48.3111 1116.32 51.4303 Q1119.69 54.509 1119.69 60.0587 Q1119.69 66.3781 1114.66 70.0644 Q1109.68 73.7508 1100.93 73.7508 Q1097.28 73.7508 1093.32 73.0216 Q1089.39 72.3329 1085.01 70.9151 L1085.01 63.2184 Q1089.14 65.3654 1093.15 66.4591 Q1097.16 67.5124 1101.09 67.5124 Q1106.36 67.5124 1109.19 65.73 Q1112.03 63.9071 1112.03 60.6258 Q1112.03 57.5877 1109.96 55.9673 Q1107.94 54.3469 1101.01 52.8481 L1098.42 52.2405 Q1091.49 50.7821 1088.41 47.7845 Q1085.33 44.7463 1085.33 39.4801 Q1085.33 33.0797 1089.87 29.5959 Q1094.41 26.1121 1102.75 26.1121 Q1106.89 26.1121 1110.53 26.7198 Q1114.18 27.3274 1117.26 28.5427 Z\" fill=\"#000000\" fill-rule=\"evenodd\" fill-opacity=\"1\" /><path clip-path=\"url(#clip350)\" d=\"M1164.21 28.9478 L1164.21 35.9153 Q1161.05 34.1734 1157.85 33.3227 Q1154.69 32.4315 1151.45 32.4315 Q1144.19 32.4315 1140.18 37.0496 Q1136.17 41.6271 1136.17 49.9314 Q1136.17 58.2358 1140.18 62.8538 Q1144.19 67.4314 1151.45 67.4314 Q1154.69 67.4314 1157.85 66.5807 Q1161.05 65.6895 1164.21 63.9476 L1164.21 70.8341 Q1161.09 72.2924 1157.72 73.0216 Q1154.4 73.7508 1150.64 73.7508 Q1140.39 73.7508 1134.35 67.3098 Q1128.31 60.8689 1128.31 49.9314 Q1128.31 38.832 1134.39 32.472 Q1140.51 26.1121 1151.12 26.1121 Q1154.56 26.1121 1157.85 26.8413 Q1161.13 27.5299 1164.21 28.9478 Z\" fill=\"#000000\" fill-rule=\"evenodd\" fill-opacity=\"1\" /><path clip-path=\"url(#clip350)\" d=\"M1194.75 32.4315 Q1188.75 32.4315 1185.27 37.1306 Q1181.79 41.7891 1181.79 49.9314 Q1181.79 58.0738 1185.23 62.7728 Q1188.71 67.4314 1194.75 67.4314 Q1200.7 67.4314 1204.19 62.7323 Q1207.67 58.0333 1207.67 49.9314 Q1207.67 41.8701 1204.19 37.1711 Q1200.7 32.4315 1194.75 32.4315 M1194.75 26.1121 Q1204.47 26.1121 1210.02 32.4315 Q1215.57 38.7509 1215.57 49.9314 Q1215.57 61.0714 1210.02 67.4314 Q1204.47 73.7508 1194.75 73.7508 Q1184.99 73.7508 1179.44 67.4314 Q1173.93 61.0714 1173.93 49.9314 Q1173.93 38.7509 1179.44 32.4315 Q1184.99 26.1121 1194.75 26.1121 Z\" fill=\"#000000\" fill-rule=\"evenodd\" fill-opacity=\"1\" /><path clip-path=\"url(#clip350)\" d=\"M1254.22 34.1734 Q1252.96 33.4443 1251.46 33.1202 Q1250 32.7556 1248.22 32.7556 Q1241.9 32.7556 1238.5 36.8875 Q1235.14 40.9789 1235.14 48.6757 L1235.14 72.576 L1227.64 72.576 L1227.64 27.2059 L1235.14 27.2059 L1235.14 34.2544 Q1237.49 30.1225 1241.25 28.1376 Q1245.02 26.1121 1250.41 26.1121 Q1251.18 26.1121 1252.11 26.2337 Q1253.04 26.3147 1254.18 26.5172 L1254.22 34.1734 Z\" fill=\"#000000\" fill-rule=\"evenodd\" fill-opacity=\"1\" /><path clip-path=\"url(#clip350)\" d=\"M1262.04 27.2059 L1269.49 27.2059 L1269.49 72.576 L1262.04 72.576 L1262.04 27.2059 M1262.04 9.54393 L1269.49 9.54393 L1269.49 18.9825 L1262.04 18.9825 L1262.04 9.54393 Z\" fill=\"#000000\" fill-rule=\"evenodd\" fill-opacity=\"1\" /><path clip-path=\"url(#clip350)\" d=\"M1322.8 45.1919 L1322.8 72.576 L1315.35 72.576 L1315.35 45.4349 Q1315.35 38.994 1312.83 35.7938 Q1310.32 32.5936 1305.3 32.5936 Q1299.26 32.5936 1295.78 36.4419 Q1292.3 40.2903 1292.3 46.9338 L1292.3 72.576 L1284.8 72.576 L1284.8 27.2059 L1292.3 27.2059 L1292.3 34.2544 Q1294.97 30.163 1298.57 28.1376 Q1302.22 26.1121 1306.96 26.1121 Q1314.78 26.1121 1318.79 30.9732 Q1322.8 35.7938 1322.8 45.1919 Z\" fill=\"#000000\" fill-rule=\"evenodd\" fill-opacity=\"1\" /><path clip-path=\"url(#clip350)\" d=\"M1367.52 49.3643 Q1367.52 41.2625 1364.16 36.8065 Q1360.84 32.3505 1354.8 32.3505 Q1348.81 32.3505 1345.44 36.8065 Q1342.12 41.2625 1342.12 49.3643 Q1342.12 57.4256 1345.44 61.8816 Q1348.81 66.3376 1354.8 66.3376 Q1360.84 66.3376 1364.16 61.8816 Q1367.52 57.4256 1367.52 49.3643 M1374.97 66.9452 Q1374.97 78.5308 1369.83 84.1616 Q1364.69 89.8329 1354.07 89.8329 Q1350.14 89.8329 1346.66 89.2252 Q1343.17 88.6581 1339.89 87.4428 L1339.89 80.1917 Q1343.17 81.9741 1346.38 82.8248 Q1349.58 83.6755 1352.9 83.6755 Q1360.23 83.6755 1363.87 79.8271 Q1367.52 76.0193 1367.52 68.282 L1367.52 64.5957 Q1365.21 68.6061 1361.61 70.5911 Q1358 72.576 1352.98 72.576 Q1344.63 72.576 1339.53 66.2161 Q1334.42 59.8562 1334.42 49.3643 Q1334.42 38.832 1339.53 32.472 Q1344.63 26.1121 1352.98 26.1121 Q1358 26.1121 1361.61 28.0971 Q1365.21 30.082 1367.52 34.0924 L1367.52 27.2059 L1374.97 27.2059 L1374.97 66.9452 Z\" fill=\"#000000\" fill-rule=\"evenodd\" fill-opacity=\"1\" /><path clip-path=\"url(#clip350)\" d=\"M1439.67 9.54393 L1439.67 15.7418 L1432.54 15.7418 Q1428.53 15.7418 1426.95 17.3622 Q1425.41 18.9825 1425.41 23.1955 L1425.41 27.2059 L1437.68 27.2059 L1437.68 32.9987 L1425.41 32.9987 L1425.41 72.576 L1417.91 72.576 L1417.91 32.9987 L1410.78 32.9987 L1410.78 27.2059 L1417.91 27.2059 L1417.91 24.0462 Q1417.91 16.471 1421.44 13.0277 Q1424.96 9.54393 1432.62 9.54393 L1439.67 9.54393 Z\" fill=\"#000000\" fill-rule=\"evenodd\" fill-opacity=\"1\" /><path clip-path=\"url(#clip350)\" d=\"M1466.52 49.7694 Q1457.49 49.7694 1454.01 51.8354 Q1450.52 53.9013 1450.52 58.8839 Q1450.52 62.8538 1453.12 65.2034 Q1455.75 67.5124 1460.25 67.5124 Q1466.44 67.5124 1470.17 63.1374 Q1473.94 58.7219 1473.94 51.4303 L1473.94 49.7694 L1466.52 49.7694 M1481.39 46.6907 L1481.39 72.576 L1473.94 72.576 L1473.94 65.6895 Q1471.39 69.8214 1467.58 71.8063 Q1463.77 73.7508 1458.26 73.7508 Q1451.29 73.7508 1447.16 69.8619 Q1443.07 65.9325 1443.07 59.3701 Q1443.07 51.7138 1448.17 47.825 Q1453.32 43.9361 1463.49 43.9361 L1473.94 43.9361 L1473.94 43.2069 Q1473.94 38.0623 1470.54 35.2672 Q1467.17 32.4315 1461.06 32.4315 Q1457.17 32.4315 1453.48 33.3632 Q1449.79 34.295 1446.39 36.1584 L1446.39 29.2718 Q1450.48 27.692 1454.33 26.9223 Q1458.18 26.1121 1461.83 26.1121 Q1471.67 26.1121 1476.53 31.2163 Q1481.39 36.3204 1481.39 46.6907 Z\" fill=\"#000000\" fill-rule=\"evenodd\" fill-opacity=\"1\" /><path clip-path=\"url(#clip350)\" d=\"M1496.74 27.2059 L1504.2 27.2059 L1504.2 72.576 L1496.74 72.576 L1496.74 27.2059 M1496.74 9.54393 L1504.2 9.54393 L1504.2 18.9825 L1496.74 18.9825 L1496.74 9.54393 Z\" fill=\"#000000\" fill-rule=\"evenodd\" fill-opacity=\"1\" /><path clip-path=\"url(#clip350)\" d=\"M1519.79 9.54393 L1527.25 9.54393 L1527.25 72.576 L1519.79 72.576 L1519.79 9.54393 Z\" fill=\"#000000\" fill-rule=\"evenodd\" fill-opacity=\"1\" /><path clip-path=\"url(#clip350)\" d=\"M1542.07 54.671 L1542.07 27.2059 L1549.53 27.2059 L1549.53 54.3874 Q1549.53 60.8284 1552.04 64.0691 Q1554.55 67.2693 1559.57 67.2693 Q1565.61 67.2693 1569.09 63.421 Q1572.62 59.5726 1572.62 52.9291 L1572.62 27.2059 L1580.07 27.2059 L1580.07 72.576 L1572.62 72.576 L1572.62 65.6084 Q1569.9 69.7404 1566.3 71.7658 Q1562.73 73.7508 1557.99 73.7508 Q1550.18 73.7508 1546.13 68.8897 Q1542.07 64.0286 1542.07 54.671 M1560.83 26.1121 L1560.83 26.1121 Z\" fill=\"#000000\" fill-rule=\"evenodd\" fill-opacity=\"1\" /><path clip-path=\"url(#clip350)\" d=\"M1621.72 34.1734 Q1620.46 33.4443 1618.96 33.1202 Q1617.5 32.7556 1615.72 32.7556 Q1609.4 32.7556 1606 36.8875 Q1602.64 40.9789 1602.64 48.6757 L1602.64 72.576 L1595.14 72.576 L1595.14 27.2059 L1602.64 27.2059 L1602.64 34.2544 Q1604.98 30.1225 1608.75 28.1376 Q1612.52 26.1121 1617.91 26.1121 Q1618.68 26.1121 1619.61 26.2337 Q1620.54 26.3147 1621.67 26.5172 L1621.72 34.1734 Z\" fill=\"#000000\" fill-rule=\"evenodd\" fill-opacity=\"1\" /><path clip-path=\"url(#clip350)\" d=\"M1666.52 48.0275 L1666.52 51.6733 L1632.25 51.6733 Q1632.73 59.3701 1636.87 63.421 Q1641.04 67.4314 1648.45 67.4314 Q1652.74 67.4314 1656.76 66.3781 Q1660.81 65.3249 1664.78 63.2184 L1664.78 70.267 Q1660.77 71.9684 1656.55 72.8596 Q1652.34 73.7508 1648.01 73.7508 Q1637.15 73.7508 1630.79 67.4314 Q1624.47 61.1119 1624.47 50.3365 Q1624.47 39.1965 1630.46 32.6746 Q1636.5 26.1121 1646.71 26.1121 Q1655.86 26.1121 1661.17 32.0264 Q1666.52 37.9003 1666.52 48.0275 M1659.06 45.84 Q1658.98 39.7232 1655.62 36.0774 Q1652.3 32.4315 1646.79 32.4315 Q1640.55 32.4315 1636.78 35.9558 Q1633.06 39.4801 1632.49 45.8805 L1659.06 45.84 Z\" fill=\"#000000\" fill-rule=\"evenodd\" fill-opacity=\"1\" /><circle clip-path=\"url(#clip352)\" cx=\"284.343\" cy=\"335.303\" r=\"14\" fill=\"#ff0000\" fill-rule=\"evenodd\" fill-opacity=\"1\" stroke=\"#000000\" stroke-opacity=\"1\" stroke-width=\"3.2\"/>\n",
       "<circle clip-path=\"url(#clip352)\" cx=\"455.037\" cy=\"335.303\" r=\"14\" fill=\"#ff0000\" fill-rule=\"evenodd\" fill-opacity=\"1\" stroke=\"#000000\" stroke-opacity=\"1\" stroke-width=\"3.2\"/>\n",
       "<circle clip-path=\"url(#clip352)\" cx=\"595.609\" cy=\"335.303\" r=\"14\" fill=\"#ff0000\" fill-rule=\"evenodd\" fill-opacity=\"1\" stroke=\"#000000\" stroke-opacity=\"1\" stroke-width=\"3.2\"/>\n",
       "<circle clip-path=\"url(#clip352)\" cx=\"736.181\" cy=\"335.303\" r=\"14\" fill=\"#ff0000\" fill-rule=\"evenodd\" fill-opacity=\"1\" stroke=\"#000000\" stroke-opacity=\"1\" stroke-width=\"3.2\"/>\n",
       "<circle clip-path=\"url(#clip352)\" cx=\"876.752\" cy=\"335.303\" r=\"14\" fill=\"#ff0000\" fill-rule=\"evenodd\" fill-opacity=\"1\" stroke=\"#000000\" stroke-opacity=\"1\" stroke-width=\"3.2\"/>\n",
       "<circle clip-path=\"url(#clip352)\" cx=\"1017.32\" cy=\"335.303\" r=\"14\" fill=\"#ff0000\" fill-rule=\"evenodd\" fill-opacity=\"1\" stroke=\"#000000\" stroke-opacity=\"1\" stroke-width=\"3.2\"/>\n",
       "<circle clip-path=\"url(#clip352)\" cx=\"1157.9\" cy=\"335.303\" r=\"14\" fill=\"#ff0000\" fill-rule=\"evenodd\" fill-opacity=\"1\" stroke=\"#000000\" stroke-opacity=\"1\" stroke-width=\"3.2\"/>\n",
       "<circle clip-path=\"url(#clip352)\" cx=\"1298.47\" cy=\"335.303\" r=\"14\" fill=\"#ff0000\" fill-rule=\"evenodd\" fill-opacity=\"1\" stroke=\"#000000\" stroke-opacity=\"1\" stroke-width=\"3.2\"/>\n",
       "<circle clip-path=\"url(#clip352)\" cx=\"1439.04\" cy=\"335.303\" r=\"14\" fill=\"#ff0000\" fill-rule=\"evenodd\" fill-opacity=\"1\" stroke=\"#000000\" stroke-opacity=\"1\" stroke-width=\"3.2\"/>\n",
       "<circle clip-path=\"url(#clip352)\" cx=\"1579.61\" cy=\"335.303\" r=\"14\" fill=\"#ff0000\" fill-rule=\"evenodd\" fill-opacity=\"1\" stroke=\"#000000\" stroke-opacity=\"1\" stroke-width=\"3.2\"/>\n",
       "<circle clip-path=\"url(#clip352)\" cx=\"1720.18\" cy=\"335.303\" r=\"14\" fill=\"#ff0000\" fill-rule=\"evenodd\" fill-opacity=\"1\" stroke=\"#000000\" stroke-opacity=\"1\" stroke-width=\"3.2\"/>\n",
       "<circle clip-path=\"url(#clip352)\" cx=\"1860.75\" cy=\"335.303\" r=\"14\" fill=\"#ff0000\" fill-rule=\"evenodd\" fill-opacity=\"1\" stroke=\"#000000\" stroke-opacity=\"1\" stroke-width=\"3.2\"/>\n",
       "<circle clip-path=\"url(#clip352)\" cx=\"2001.33\" cy=\"335.303\" r=\"14\" fill=\"#ff0000\" fill-rule=\"evenodd\" fill-opacity=\"1\" stroke=\"#000000\" stroke-opacity=\"1\" stroke-width=\"3.2\"/>\n",
       "<circle clip-path=\"url(#clip352)\" cx=\"2141.9\" cy=\"335.303\" r=\"14\" fill=\"#ff0000\" fill-rule=\"evenodd\" fill-opacity=\"1\" stroke=\"#000000\" stroke-opacity=\"1\" stroke-width=\"3.2\"/>\n",
       "<circle clip-path=\"url(#clip352)\" cx=\"2282.47\" cy=\"335.303\" r=\"14\" fill=\"#ff0000\" fill-rule=\"evenodd\" fill-opacity=\"1\" stroke=\"#000000\" stroke-opacity=\"1\" stroke-width=\"3.2\"/>\n",
       "<circle clip-path=\"url(#clip352)\" cx=\"2292.51\" cy=\"1447.87\" r=\"14\" fill=\"#0000ff\" fill-rule=\"evenodd\" fill-opacity=\"1\" stroke=\"#000000\" stroke-opacity=\"1\" stroke-width=\"3.2\"/>\n",
       "<circle clip-path=\"url(#clip352)\" cx=\"2292.51\" cy=\"1360.39\" r=\"14\" fill=\"#0000ff\" fill-rule=\"evenodd\" fill-opacity=\"1\" stroke=\"#000000\" stroke-opacity=\"1\" stroke-width=\"3.2\"/>\n",
       "<circle clip-path=\"url(#clip352)\" cx=\"2292.51\" cy=\"1222.95\" r=\"14\" fill=\"#0000ff\" fill-rule=\"evenodd\" fill-opacity=\"1\" stroke=\"#000000\" stroke-opacity=\"1\" stroke-width=\"3.2\"/>\n",
       "<circle clip-path=\"url(#clip352)\" cx=\"2292.51\" cy=\"1069.46\" r=\"14\" fill=\"#0000ff\" fill-rule=\"evenodd\" fill-opacity=\"1\" stroke=\"#000000\" stroke-opacity=\"1\" stroke-width=\"3.2\"/>\n",
       "<circle clip-path=\"url(#clip352)\" cx=\"2292.51\" cy=\"923.782\" r=\"14\" fill=\"#0000ff\" fill-rule=\"evenodd\" fill-opacity=\"1\" stroke=\"#000000\" stroke-opacity=\"1\" stroke-width=\"3.2\"/>\n",
       "<circle clip-path=\"url(#clip352)\" cx=\"2292.51\" cy=\"794.94\" r=\"14\" fill=\"#0000ff\" fill-rule=\"evenodd\" fill-opacity=\"1\" stroke=\"#000000\" stroke-opacity=\"1\" stroke-width=\"3.2\"/>\n",
       "<circle clip-path=\"url(#clip352)\" cx=\"2292.51\" cy=\"682.94\" r=\"14\" fill=\"#0000ff\" fill-rule=\"evenodd\" fill-opacity=\"1\" stroke=\"#000000\" stroke-opacity=\"1\" stroke-width=\"3.2\"/>\n",
       "<circle clip-path=\"url(#clip352)\" cx=\"2292.51\" cy=\"580.04\" r=\"14\" fill=\"#0000ff\" fill-rule=\"evenodd\" fill-opacity=\"1\" stroke=\"#000000\" stroke-opacity=\"1\" stroke-width=\"3.2\"/>\n",
       "<circle clip-path=\"url(#clip352)\" cx=\"2292.51\" cy=\"488.327\" r=\"14\" fill=\"#0000ff\" fill-rule=\"evenodd\" fill-opacity=\"1\" stroke=\"#000000\" stroke-opacity=\"1\" stroke-width=\"3.2\"/>\n",
       "<circle clip-path=\"url(#clip352)\" cx=\"2292.51\" cy=\"401.585\" r=\"14\" fill=\"#0000ff\" fill-rule=\"evenodd\" fill-opacity=\"1\" stroke=\"#000000\" stroke-opacity=\"1\" stroke-width=\"3.2\"/>\n",
       "<circle clip-path=\"url(#clip352)\" cx=\"2292.51\" cy=\"329.731\" r=\"14\" fill=\"#0000ff\" fill-rule=\"evenodd\" fill-opacity=\"1\" stroke=\"#000000\" stroke-opacity=\"1\" stroke-width=\"3.2\"/>\n",
       "<circle clip-path=\"url(#clip352)\" cx=\"2292.51\" cy=\"284.193\" r=\"14\" fill=\"#0000ff\" fill-rule=\"evenodd\" fill-opacity=\"1\" stroke=\"#000000\" stroke-opacity=\"1\" stroke-width=\"3.2\"/>\n",
       "<circle clip-path=\"url(#clip352)\" cx=\"2292.51\" cy=\"245.609\" r=\"14\" fill=\"#0000ff\" fill-rule=\"evenodd\" fill-opacity=\"1\" stroke=\"#000000\" stroke-opacity=\"1\" stroke-width=\"3.2\"/>\n",
       "<circle clip-path=\"url(#clip352)\" cx=\"2292.51\" cy=\"204.255\" r=\"14\" fill=\"#0000ff\" fill-rule=\"evenodd\" fill-opacity=\"1\" stroke=\"#000000\" stroke-opacity=\"1\" stroke-width=\"3.2\"/>\n",
       "<circle clip-path=\"url(#clip352)\" cx=\"2292.51\" cy=\"162.047\" r=\"14\" fill=\"#0000ff\" fill-rule=\"evenodd\" fill-opacity=\"1\" stroke=\"#000000\" stroke-opacity=\"1\" stroke-width=\"3.2\"/>\n",
       "<path clip-path=\"url(#clip350)\" d=\"\n",
       "M295.053 1441.02 L776.742 1441.02 L776.742 1285.5 L295.053 1285.5  Z\n",
       "  \" fill=\"#ffffff\" fill-rule=\"evenodd\" fill-opacity=\"1\"/>\n",
       "<polyline clip-path=\"url(#clip350)\" style=\"stroke:#000000; stroke-linecap:butt; stroke-linejoin:round; stroke-width:4; stroke-opacity:1; fill:none\" points=\"\n",
       "  295.053,1441.02 776.742,1441.02 776.742,1285.5 295.053,1285.5 295.053,1441.02 \n",
       "  \"/>\n",
       "<circle clip-path=\"url(#clip350)\" cx=\"391.053\" cy=\"1337.34\" r=\"23\" fill=\"#ff0000\" fill-rule=\"evenodd\" fill-opacity=\"1\" stroke=\"#000000\" stroke-opacity=\"1\" stroke-width=\"5.12\"/>\n",
       "<path clip-path=\"url(#clip350)\" d=\"M514.923 1322.72 L514.923 1327.65 Q512.562 1325.45 509.877 1324.36 Q507.215 1323.27 504.206 1323.27 Q498.28 1323.27 495.132 1326.91 Q491.984 1330.52 491.984 1337.37 Q491.984 1344.2 495.132 1347.83 Q498.28 1351.44 504.206 1351.44 Q507.215 1351.44 509.877 1350.36 Q512.562 1349.27 514.923 1347.07 L514.923 1351.95 Q512.47 1353.62 509.715 1354.45 Q506.984 1355.29 503.928 1355.29 Q496.081 1355.29 491.567 1350.5 Q487.053 1345.68 487.053 1337.37 Q487.053 1329.04 491.567 1324.25 Q496.081 1319.43 503.928 1319.43 Q507.03 1319.43 509.761 1320.26 Q512.516 1321.07 514.923 1322.72 Z\" fill=\"#000000\" fill-rule=\"evenodd\" fill-opacity=\"1\" /><path clip-path=\"url(#clip350)\" d=\"M533.743 1341.58 Q528.581 1341.58 526.59 1342.76 Q524.599 1343.94 524.599 1346.79 Q524.599 1349.06 526.081 1350.4 Q527.585 1351.72 530.155 1351.72 Q533.696 1351.72 535.826 1349.22 Q537.979 1346.7 537.979 1342.53 L537.979 1341.58 L533.743 1341.58 M542.238 1339.82 L542.238 1354.62 L537.979 1354.62 L537.979 1350.68 Q536.52 1353.04 534.345 1354.18 Q532.169 1355.29 529.021 1355.29 Q525.039 1355.29 522.678 1353.06 Q520.34 1350.82 520.34 1347.07 Q520.34 1342.69 523.257 1340.47 Q526.196 1338.25 532.007 1338.25 L537.979 1338.25 L537.979 1337.83 Q537.979 1334.89 536.034 1333.3 Q534.113 1331.68 530.618 1331.68 Q528.396 1331.68 526.289 1332.21 Q524.183 1332.74 522.238 1333.81 L522.238 1329.87 Q524.576 1328.97 526.775 1328.53 Q528.974 1328.06 531.058 1328.06 Q536.683 1328.06 539.46 1330.98 Q542.238 1333.9 542.238 1339.82 Z\" fill=\"#000000\" fill-rule=\"evenodd\" fill-opacity=\"1\" /><path clip-path=\"url(#clip350)\" d=\"M566.034 1332.67 Q565.317 1332.25 564.46 1332.07 Q563.627 1331.86 562.608 1331.86 Q558.997 1331.86 557.053 1334.22 Q555.131 1336.56 555.131 1340.96 L555.131 1354.62 L550.849 1354.62 L550.849 1328.69 L555.131 1328.69 L555.131 1332.72 Q556.474 1330.36 558.627 1329.22 Q560.78 1328.06 563.858 1328.06 Q564.298 1328.06 564.831 1328.13 Q565.363 1328.18 566.011 1328.3 L566.034 1332.67 Z\" fill=\"#000000\" fill-rule=\"evenodd\" fill-opacity=\"1\" /><circle clip-path=\"url(#clip350)\" cx=\"391.053\" cy=\"1389.18\" r=\"23\" fill=\"#0000ff\" fill-rule=\"evenodd\" fill-opacity=\"1\" stroke=\"#000000\" stroke-opacity=\"1\" stroke-width=\"5.12\"/>\n",
       "<path clip-path=\"url(#clip350)\" d=\"M491.729 1375.74 L491.729 1388.72 L497.609 1388.72 Q500.873 1388.72 502.655 1387.03 Q504.437 1385.34 504.437 1382.22 Q504.437 1379.12 502.655 1377.43 Q500.873 1375.74 497.609 1375.74 L491.729 1375.74 M487.053 1371.9 L497.609 1371.9 Q503.419 1371.9 506.382 1374.53 Q509.368 1377.15 509.368 1382.22 Q509.368 1387.34 506.382 1389.95 Q503.419 1392.57 497.609 1392.57 L491.729 1392.57 L491.729 1406.46 L487.053 1406.46 L487.053 1371.9 Z\" fill=\"#000000\" fill-rule=\"evenodd\" fill-opacity=\"1\" /><path clip-path=\"url(#clip350)\" d=\"M535.942 1392.43 L535.942 1394.51 L516.359 1394.51 Q516.636 1398.91 518.997 1401.22 Q521.382 1403.52 525.618 1403.52 Q528.071 1403.52 530.363 1402.91 Q532.678 1402.31 534.946 1401.11 L534.946 1405.14 Q532.655 1406.11 530.247 1406.62 Q527.84 1407.13 525.363 1407.13 Q519.159 1407.13 515.525 1403.52 Q511.914 1399.9 511.914 1393.75 Q511.914 1387.38 515.34 1383.65 Q518.789 1379.9 524.622 1379.9 Q529.854 1379.9 532.886 1383.28 Q535.942 1386.64 535.942 1392.43 M531.683 1391.18 Q531.636 1387.68 529.715 1385.6 Q527.817 1383.52 524.669 1383.52 Q521.104 1383.52 518.951 1385.53 Q516.821 1387.54 516.497 1391.2 L531.683 1391.18 Z\" fill=\"#000000\" fill-rule=\"evenodd\" fill-opacity=\"1\" /><path clip-path=\"url(#clip350)\" d=\"M559.993 1384.46 L559.993 1370.44 L564.252 1370.44 L564.252 1406.46 L559.993 1406.46 L559.993 1402.57 Q558.65 1404.88 556.59 1406.02 Q554.553 1407.13 551.682 1407.13 Q546.983 1407.13 544.02 1403.38 Q541.081 1399.63 541.081 1393.52 Q541.081 1387.4 544.02 1383.65 Q546.983 1379.9 551.682 1379.9 Q554.553 1379.9 556.59 1381.04 Q558.65 1382.15 559.993 1384.46 M545.479 1393.52 Q545.479 1398.21 547.4 1400.9 Q549.344 1403.56 552.724 1403.56 Q556.104 1403.56 558.048 1400.9 Q559.993 1398.21 559.993 1393.52 Q559.993 1388.82 558.048 1386.15 Q556.104 1383.47 552.724 1383.47 Q549.344 1383.47 547.4 1386.15 Q545.479 1388.82 545.479 1393.52 Z\" fill=\"#000000\" fill-rule=\"evenodd\" fill-opacity=\"1\" /><path clip-path=\"url(#clip350)\" d=\"M595.201 1392.43 L595.201 1394.51 L575.617 1394.51 Q575.895 1398.91 578.256 1401.22 Q580.641 1403.52 584.877 1403.52 Q587.33 1403.52 589.622 1402.91 Q591.937 1402.31 594.205 1401.11 L594.205 1405.14 Q591.914 1406.11 589.506 1406.62 Q587.099 1407.13 584.622 1407.13 Q578.418 1407.13 574.784 1403.52 Q571.173 1399.9 571.173 1393.75 Q571.173 1387.38 574.599 1383.65 Q578.048 1379.9 583.881 1379.9 Q589.113 1379.9 592.145 1383.28 Q595.201 1386.64 595.201 1392.43 M590.941 1391.18 Q590.895 1387.68 588.974 1385.6 Q587.076 1383.52 583.928 1383.52 Q580.363 1383.52 578.21 1385.53 Q576.08 1387.54 575.756 1391.2 L590.941 1391.18 Z\" fill=\"#000000\" fill-rule=\"evenodd\" fill-opacity=\"1\" /><path clip-path=\"url(#clip350)\" d=\"M618.719 1381.29 L618.719 1385.32 Q616.914 1384.4 614.969 1383.93 Q613.025 1383.47 610.941 1383.47 Q607.77 1383.47 606.173 1384.44 Q604.599 1385.41 604.599 1387.36 Q604.599 1388.84 605.733 1389.7 Q606.867 1390.53 610.293 1391.29 L611.752 1391.62 Q616.289 1392.59 618.187 1394.37 Q620.108 1396.13 620.108 1399.3 Q620.108 1402.91 617.238 1405.02 Q614.39 1407.13 609.39 1407.13 Q607.307 1407.13 605.039 1406.71 Q602.793 1406.32 600.293 1405.51 L600.293 1401.11 Q602.654 1402.34 604.946 1402.96 Q607.238 1403.56 609.483 1403.56 Q612.492 1403.56 614.113 1402.54 Q615.733 1401.5 615.733 1399.63 Q615.733 1397.89 614.552 1396.96 Q613.395 1396.04 609.437 1395.18 L607.955 1394.84 Q603.997 1394 602.238 1392.29 Q600.478 1390.55 600.478 1387.54 Q600.478 1383.89 603.071 1381.9 Q605.664 1379.9 610.432 1379.9 Q612.793 1379.9 614.877 1380.25 Q616.96 1380.6 618.719 1381.29 Z\" fill=\"#000000\" fill-rule=\"evenodd\" fill-opacity=\"1\" /><path clip-path=\"url(#clip350)\" d=\"M631.103 1373.17 L631.103 1380.53 L639.876 1380.53 L639.876 1383.84 L631.103 1383.84 L631.103 1397.91 Q631.103 1401.09 631.96 1401.99 Q632.839 1402.89 635.501 1402.89 L639.876 1402.89 L639.876 1406.46 L635.501 1406.46 Q630.571 1406.46 628.696 1404.63 Q626.821 1402.77 626.821 1397.91 L626.821 1383.84 L623.696 1383.84 L623.696 1380.53 L626.821 1380.53 L626.821 1373.17 L631.103 1373.17 Z\" fill=\"#000000\" fill-rule=\"evenodd\" fill-opacity=\"1\" /><path clip-path=\"url(#clip350)\" d=\"M660.501 1384.51 Q659.784 1384.09 658.927 1383.91 Q658.094 1383.7 657.075 1383.7 Q653.464 1383.7 651.52 1386.06 Q649.599 1388.4 649.599 1392.8 L649.599 1406.46 L645.316 1406.46 L645.316 1380.53 L649.599 1380.53 L649.599 1384.56 Q650.941 1382.2 653.094 1381.06 Q655.247 1379.9 658.325 1379.9 Q658.765 1379.9 659.298 1379.97 Q659.83 1380.02 660.478 1380.14 L660.501 1384.51 Z\" fill=\"#000000\" fill-rule=\"evenodd\" fill-opacity=\"1\" /><path clip-path=\"url(#clip350)\" d=\"M664.969 1380.53 L669.228 1380.53 L669.228 1406.46 L664.969 1406.46 L664.969 1380.53 M664.969 1370.44 L669.228 1370.44 L669.228 1375.83 L664.969 1375.83 L664.969 1370.44 Z\" fill=\"#000000\" fill-rule=\"evenodd\" fill-opacity=\"1\" /><path clip-path=\"url(#clip350)\" d=\"M689.922 1393.42 Q684.76 1393.42 682.77 1394.6 Q680.779 1395.78 680.779 1398.63 Q680.779 1400.9 682.26 1402.24 Q683.765 1403.56 686.334 1403.56 Q689.876 1403.56 692.006 1401.06 Q694.159 1398.54 694.159 1394.37 L694.159 1393.42 L689.922 1393.42 M698.418 1391.66 L698.418 1406.46 L694.159 1406.46 L694.159 1402.52 Q692.7 1404.88 690.524 1406.02 Q688.348 1407.13 685.2 1407.13 Q681.219 1407.13 678.858 1404.9 Q676.52 1402.66 676.52 1398.91 Q676.52 1394.53 679.436 1392.31 Q682.376 1390.09 688.186 1390.09 L694.159 1390.09 L694.159 1389.67 Q694.159 1386.73 692.214 1385.14 Q690.293 1383.52 686.797 1383.52 Q684.575 1383.52 682.469 1384.05 Q680.362 1384.58 678.418 1385.65 L678.418 1381.71 Q680.756 1380.81 682.955 1380.37 Q685.154 1379.9 687.237 1379.9 Q692.862 1379.9 695.64 1382.82 Q698.418 1385.74 698.418 1391.66 Z\" fill=\"#000000\" fill-rule=\"evenodd\" fill-opacity=\"1\" /><path clip-path=\"url(#clip350)\" d=\"M728.742 1390.81 L728.742 1406.46 L724.482 1406.46 L724.482 1390.95 Q724.482 1387.27 723.047 1385.44 Q721.612 1383.61 718.742 1383.61 Q715.293 1383.61 713.302 1385.81 Q711.311 1388.01 711.311 1391.8 L711.311 1406.46 L707.029 1406.46 L707.029 1380.53 L711.311 1380.53 L711.311 1384.56 Q712.839 1382.22 714.899 1381.06 Q716.982 1379.9 719.691 1379.9 Q724.158 1379.9 726.45 1382.68 Q728.742 1385.44 728.742 1390.81 Z\" fill=\"#000000\" fill-rule=\"evenodd\" fill-opacity=\"1\" /></svg>\n"
      ]
     },
     "execution_count": 13,
     "metadata": {},
     "output_type": "execute_result"
    }
   ],
   "source": [
    "best_path = collect(keys(sol))[end]\n",
    "AdaStress.Solvers.replay!(mdp, best_path)\n",
    "xs = getindex.(mdp.sim.log[:car], 1)\n",
    "ys = getindex.(mdp.sim.log[:ped], 1)\n",
    "\n",
    "p = plot(title=\"Top-scoring failure\", legend=:bottomleft)\n",
    "scatter!(p, xs, zeros(length(xs)); mc=:red, label=\"Car\")\n",
    "scatter!(p, zeros(length(ys)), ys; mc=:blue, label=\"Pedestrian\")"
   ]
  },
  {
   "cell_type": "code",
   "execution_count": 14,
   "id": "imposed-float",
   "metadata": {
    "scrolled": false
   },
   "outputs": [
    {
     "data": {
      "image/svg+xml": [
       "<?xml version=\"1.0\" encoding=\"utf-8\"?>\n",
       "<svg xmlns=\"http://www.w3.org/2000/svg\" xmlns:xlink=\"http://www.w3.org/1999/xlink\" width=\"600\" height=\"400\" viewBox=\"0 0 2400 1600\">\n",
       "<defs>\n",
       "  <clipPath id=\"clip430\">\n",
       "    <rect x=\"0\" y=\"0\" width=\"2400\" height=\"1600\"/>\n",
       "  </clipPath>\n",
       "</defs>\n",
       "<path clip-path=\"url(#clip430)\" d=\"\n",
       "M0 1600 L2400 1600 L2400 0 L0 0  Z\n",
       "  \" fill=\"#ffffff\" fill-rule=\"evenodd\" fill-opacity=\"1\"/>\n",
       "<defs>\n",
       "  <clipPath id=\"clip431\">\n",
       "    <rect x=\"480\" y=\"0\" width=\"1681\" height=\"1600\"/>\n",
       "  </clipPath>\n",
       "</defs>\n",
       "<defs>\n",
       "  <clipPath id=\"clip432\">\n",
       "    <rect x=\"291\" y=\"123\" width=\"2062\" height=\"1301\"/>\n",
       "  </clipPath>\n",
       "</defs>\n",
       "<path clip-path=\"url(#clip430)\" d=\"\n",
       "M291.608 1423.18 L2352.76 1423.18 L2352.76 123.472 L291.608 123.472  Z\n",
       "  \" fill=\"#ffffff\" fill-rule=\"evenodd\" fill-opacity=\"1\"/>\n",
       "<polyline clip-path=\"url(#clip432)\" style=\"stroke:#000000; stroke-linecap:butt; stroke-linejoin:round; stroke-width:2; stroke-opacity:0.1; fill:none\" points=\"\n",
       "  574.305,1423.18 574.305,123.472 \n",
       "  \"/>\n",
       "<polyline clip-path=\"url(#clip432)\" style=\"stroke:#000000; stroke-linecap:butt; stroke-linejoin:round; stroke-width:2; stroke-opacity:0.1; fill:none\" points=\"\n",
       "  948.243,1423.18 948.243,123.472 \n",
       "  \"/>\n",
       "<polyline clip-path=\"url(#clip432)\" style=\"stroke:#000000; stroke-linecap:butt; stroke-linejoin:round; stroke-width:2; stroke-opacity:0.1; fill:none\" points=\"\n",
       "  1322.18,1423.18 1322.18,123.472 \n",
       "  \"/>\n",
       "<polyline clip-path=\"url(#clip432)\" style=\"stroke:#000000; stroke-linecap:butt; stroke-linejoin:round; stroke-width:2; stroke-opacity:0.1; fill:none\" points=\"\n",
       "  1696.12,1423.18 1696.12,123.472 \n",
       "  \"/>\n",
       "<polyline clip-path=\"url(#clip432)\" style=\"stroke:#000000; stroke-linecap:butt; stroke-linejoin:round; stroke-width:2; stroke-opacity:0.1; fill:none\" points=\"\n",
       "  2070.06,1423.18 2070.06,123.472 \n",
       "  \"/>\n",
       "<polyline clip-path=\"url(#clip430)\" style=\"stroke:#000000; stroke-linecap:butt; stroke-linejoin:round; stroke-width:4; stroke-opacity:1; fill:none\" points=\"\n",
       "  291.608,1423.18 2352.76,1423.18 \n",
       "  \"/>\n",
       "<polyline clip-path=\"url(#clip430)\" style=\"stroke:#000000; stroke-linecap:butt; stroke-linejoin:round; stroke-width:4; stroke-opacity:1; fill:none\" points=\"\n",
       "  574.305,1423.18 574.305,1404.28 \n",
       "  \"/>\n",
       "<polyline clip-path=\"url(#clip430)\" style=\"stroke:#000000; stroke-linecap:butt; stroke-linejoin:round; stroke-width:4; stroke-opacity:1; fill:none\" points=\"\n",
       "  948.243,1423.18 948.243,1404.28 \n",
       "  \"/>\n",
       "<polyline clip-path=\"url(#clip430)\" style=\"stroke:#000000; stroke-linecap:butt; stroke-linejoin:round; stroke-width:4; stroke-opacity:1; fill:none\" points=\"\n",
       "  1322.18,1423.18 1322.18,1404.28 \n",
       "  \"/>\n",
       "<polyline clip-path=\"url(#clip430)\" style=\"stroke:#000000; stroke-linecap:butt; stroke-linejoin:round; stroke-width:4; stroke-opacity:1; fill:none\" points=\"\n",
       "  1696.12,1423.18 1696.12,1404.28 \n",
       "  \"/>\n",
       "<polyline clip-path=\"url(#clip430)\" style=\"stroke:#000000; stroke-linecap:butt; stroke-linejoin:round; stroke-width:4; stroke-opacity:1; fill:none\" points=\"\n",
       "  2070.06,1423.18 2070.06,1404.28 \n",
       "  \"/>\n",
       "<path clip-path=\"url(#clip430)\" d=\"M546.041 1481.64 L562.361 1481.64 L562.361 1485.58 L540.416 1485.58 L540.416 1481.64 Q543.078 1478.89 547.662 1474.26 Q552.268 1469.61 553.449 1468.27 Q555.694 1465.74 556.574 1464.01 Q557.476 1462.25 557.476 1460.56 Q557.476 1457.8 555.532 1456.07 Q553.611 1454.33 550.509 1454.33 Q548.31 1454.33 545.856 1455.09 Q543.426 1455.86 540.648 1457.41 L540.648 1452.69 Q543.472 1451.55 545.926 1450.97 Q548.379 1450.39 550.416 1450.39 Q555.787 1450.39 558.981 1453.08 Q562.176 1455.77 562.176 1460.26 Q562.176 1462.39 561.365 1464.31 Q560.578 1466.2 558.472 1468.8 Q557.893 1469.47 554.791 1472.69 Q551.689 1475.88 546.041 1481.64 Z\" fill=\"#000000\" fill-rule=\"evenodd\" fill-opacity=\"1\" /><path clip-path=\"url(#clip430)\" d=\"M572.175 1479.7 L577.06 1479.7 L577.06 1485.58 L572.175 1485.58 L572.175 1479.7 Z\" fill=\"#000000\" fill-rule=\"evenodd\" fill-opacity=\"1\" /><path clip-path=\"url(#clip430)\" d=\"M587.291 1451.02 L605.647 1451.02 L605.647 1454.96 L591.573 1454.96 L591.573 1463.43 Q592.592 1463.08 593.611 1462.92 Q594.629 1462.73 595.648 1462.73 Q601.435 1462.73 604.814 1465.9 Q608.194 1469.08 608.194 1474.49 Q608.194 1480.07 604.722 1483.17 Q601.249 1486.25 594.93 1486.25 Q592.754 1486.25 590.486 1485.88 Q588.24 1485.51 585.833 1484.77 L585.833 1480.07 Q587.916 1481.2 590.138 1481.76 Q592.361 1482.32 594.837 1482.32 Q598.842 1482.32 601.18 1480.21 Q603.518 1478.1 603.518 1474.49 Q603.518 1470.88 601.18 1468.77 Q598.842 1466.67 594.837 1466.67 Q592.962 1466.67 591.087 1467.08 Q589.236 1467.5 587.291 1468.38 L587.291 1451.02 Z\" fill=\"#000000\" fill-rule=\"evenodd\" fill-opacity=\"1\" /><path clip-path=\"url(#clip430)\" d=\"M915.408 1451.02 L933.764 1451.02 L933.764 1454.96 L919.69 1454.96 L919.69 1463.43 Q920.709 1463.08 921.727 1462.92 Q922.746 1462.73 923.764 1462.73 Q929.551 1462.73 932.931 1465.9 Q936.311 1469.08 936.311 1474.49 Q936.311 1480.07 932.838 1483.17 Q929.366 1486.25 923.047 1486.25 Q920.871 1486.25 918.602 1485.88 Q916.357 1485.51 913.95 1484.77 L913.95 1480.07 Q916.033 1481.2 918.255 1481.76 Q920.477 1482.32 922.954 1482.32 Q926.959 1482.32 929.297 1480.21 Q931.635 1478.1 931.635 1474.49 Q931.635 1470.88 929.297 1468.77 Q926.959 1466.67 922.954 1466.67 Q921.079 1466.67 919.204 1467.08 Q917.352 1467.5 915.408 1468.38 L915.408 1451.02 Z\" fill=\"#000000\" fill-rule=\"evenodd\" fill-opacity=\"1\" /><path clip-path=\"url(#clip430)\" d=\"M945.524 1479.7 L950.408 1479.7 L950.408 1485.58 L945.524 1485.58 L945.524 1479.7 Z\" fill=\"#000000\" fill-rule=\"evenodd\" fill-opacity=\"1\" /><path clip-path=\"url(#clip430)\" d=\"M970.593 1454.1 Q966.982 1454.1 965.153 1457.66 Q963.348 1461.2 963.348 1468.33 Q963.348 1475.44 965.153 1479.01 Q966.982 1482.55 970.593 1482.55 Q974.227 1482.55 976.033 1479.01 Q977.861 1475.44 977.861 1468.33 Q977.861 1461.2 976.033 1457.66 Q974.227 1454.1 970.593 1454.1 M970.593 1450.39 Q976.403 1450.39 979.459 1455 Q982.537 1459.58 982.537 1468.33 Q982.537 1477.06 979.459 1481.67 Q976.403 1486.25 970.593 1486.25 Q964.783 1486.25 961.704 1481.67 Q958.648 1477.06 958.648 1468.33 Q958.648 1459.58 961.704 1455 Q964.783 1450.39 970.593 1450.39 Z\" fill=\"#000000\" fill-rule=\"evenodd\" fill-opacity=\"1\" /><path clip-path=\"url(#clip430)\" d=\"M1288.5 1451.02 L1310.72 1451.02 L1310.72 1453.01 L1298.18 1485.58 L1293.29 1485.58 L1305.1 1454.96 L1288.5 1454.96 L1288.5 1451.02 Z\" fill=\"#000000\" fill-rule=\"evenodd\" fill-opacity=\"1\" /><path clip-path=\"url(#clip430)\" d=\"M1319.84 1479.7 L1324.73 1479.7 L1324.73 1485.58 L1319.84 1485.58 L1319.84 1479.7 Z\" fill=\"#000000\" fill-rule=\"evenodd\" fill-opacity=\"1\" /><path clip-path=\"url(#clip430)\" d=\"M1334.96 1451.02 L1353.32 1451.02 L1353.32 1454.96 L1339.24 1454.96 L1339.24 1463.43 Q1340.26 1463.08 1341.28 1462.92 Q1342.3 1462.73 1343.32 1462.73 Q1349.1 1462.73 1352.48 1465.9 Q1355.86 1469.08 1355.86 1474.49 Q1355.86 1480.07 1352.39 1483.17 Q1348.92 1486.25 1342.6 1486.25 Q1340.42 1486.25 1338.15 1485.88 Q1335.91 1485.51 1333.5 1484.77 L1333.5 1480.07 Q1335.58 1481.2 1337.81 1481.76 Q1340.03 1482.32 1342.51 1482.32 Q1346.51 1482.32 1348.85 1480.21 Q1351.19 1478.1 1351.19 1474.49 Q1351.19 1470.88 1348.85 1468.77 Q1346.51 1466.67 1342.51 1466.67 Q1340.63 1466.67 1338.76 1467.08 Q1336.9 1467.5 1334.96 1468.38 L1334.96 1451.02 Z\" fill=\"#000000\" fill-rule=\"evenodd\" fill-opacity=\"1\" /><path clip-path=\"url(#clip430)\" d=\"M1648.19 1481.64 L1655.83 1481.64 L1655.83 1455.28 L1647.52 1456.95 L1647.52 1452.69 L1655.78 1451.02 L1660.46 1451.02 L1660.46 1481.64 L1668.1 1481.64 L1668.1 1485.58 L1648.19 1485.58 L1648.19 1481.64 Z\" fill=\"#000000\" fill-rule=\"evenodd\" fill-opacity=\"1\" /><path clip-path=\"url(#clip430)\" d=\"M1687.54 1454.1 Q1683.93 1454.1 1682.1 1457.66 Q1680.3 1461.2 1680.3 1468.33 Q1680.3 1475.44 1682.1 1479.01 Q1683.93 1482.55 1687.54 1482.55 Q1691.18 1482.55 1692.98 1479.01 Q1694.81 1475.44 1694.81 1468.33 Q1694.81 1461.2 1692.98 1457.66 Q1691.18 1454.1 1687.54 1454.1 M1687.54 1450.39 Q1693.35 1450.39 1696.41 1455 Q1699.49 1459.58 1699.49 1468.33 Q1699.49 1477.06 1696.41 1481.67 Q1693.35 1486.25 1687.54 1486.25 Q1681.73 1486.25 1678.65 1481.67 Q1675.6 1477.06 1675.6 1468.33 Q1675.6 1459.58 1678.65 1455 Q1681.73 1450.39 1687.54 1450.39 Z\" fill=\"#000000\" fill-rule=\"evenodd\" fill-opacity=\"1\" /><path clip-path=\"url(#clip430)\" d=\"M1707.71 1479.7 L1712.59 1479.7 L1712.59 1485.58 L1707.71 1485.58 L1707.71 1479.7 Z\" fill=\"#000000\" fill-rule=\"evenodd\" fill-opacity=\"1\" /><path clip-path=\"url(#clip430)\" d=\"M1732.78 1454.1 Q1729.16 1454.1 1727.34 1457.66 Q1725.53 1461.2 1725.53 1468.33 Q1725.53 1475.44 1727.34 1479.01 Q1729.16 1482.55 1732.78 1482.55 Q1736.41 1482.55 1738.21 1479.01 Q1740.04 1475.44 1740.04 1468.33 Q1740.04 1461.2 1738.21 1457.66 Q1736.41 1454.1 1732.78 1454.1 M1732.78 1450.39 Q1738.59 1450.39 1741.64 1455 Q1744.72 1459.58 1744.72 1468.33 Q1744.72 1477.06 1741.64 1481.67 Q1738.59 1486.25 1732.78 1486.25 Q1726.96 1486.25 1723.89 1481.67 Q1720.83 1477.06 1720.83 1468.33 Q1720.83 1459.58 1723.89 1455 Q1726.96 1450.39 1732.78 1450.39 Z\" fill=\"#000000\" fill-rule=\"evenodd\" fill-opacity=\"1\" /><path clip-path=\"url(#clip430)\" d=\"M2022.63 1481.64 L2030.27 1481.64 L2030.27 1455.28 L2021.96 1456.95 L2021.96 1452.69 L2030.22 1451.02 L2034.9 1451.02 L2034.9 1481.64 L2042.54 1481.64 L2042.54 1485.58 L2022.63 1485.58 L2022.63 1481.64 Z\" fill=\"#000000\" fill-rule=\"evenodd\" fill-opacity=\"1\" /><path clip-path=\"url(#clip430)\" d=\"M2056.01 1481.64 L2072.33 1481.64 L2072.33 1485.58 L2050.38 1485.58 L2050.38 1481.64 Q2053.04 1478.89 2057.63 1474.26 Q2062.23 1469.61 2063.42 1468.27 Q2065.66 1465.74 2066.54 1464.01 Q2067.44 1462.25 2067.44 1460.56 Q2067.44 1457.8 2065.5 1456.07 Q2063.58 1454.33 2060.48 1454.33 Q2058.28 1454.33 2055.82 1455.09 Q2053.39 1455.86 2050.61 1457.41 L2050.61 1452.69 Q2053.44 1451.55 2055.89 1450.97 Q2058.35 1450.39 2060.38 1450.39 Q2065.75 1450.39 2068.95 1453.08 Q2072.14 1455.77 2072.14 1460.26 Q2072.14 1462.39 2071.33 1464.31 Q2070.54 1466.2 2068.44 1468.8 Q2067.86 1469.47 2064.76 1472.69 Q2061.66 1475.88 2056.01 1481.64 Z\" fill=\"#000000\" fill-rule=\"evenodd\" fill-opacity=\"1\" /><path clip-path=\"url(#clip430)\" d=\"M2082.14 1479.7 L2087.03 1479.7 L2087.03 1485.58 L2082.14 1485.58 L2082.14 1479.7 Z\" fill=\"#000000\" fill-rule=\"evenodd\" fill-opacity=\"1\" /><path clip-path=\"url(#clip430)\" d=\"M2097.26 1451.02 L2115.61 1451.02 L2115.61 1454.96 L2101.54 1454.96 L2101.54 1463.43 Q2102.56 1463.08 2103.58 1462.92 Q2104.6 1462.73 2105.61 1462.73 Q2111.4 1462.73 2114.78 1465.9 Q2118.16 1469.08 2118.16 1474.49 Q2118.16 1480.07 2114.69 1483.17 Q2111.22 1486.25 2104.9 1486.25 Q2102.72 1486.25 2100.45 1485.88 Q2098.21 1485.51 2095.8 1484.77 L2095.8 1480.07 Q2097.88 1481.2 2100.1 1481.76 Q2102.33 1482.32 2104.8 1482.32 Q2108.81 1482.32 2111.15 1480.21 Q2113.48 1478.1 2113.48 1474.49 Q2113.48 1470.88 2111.15 1468.77 Q2108.81 1466.67 2104.8 1466.67 Q2102.93 1466.67 2101.05 1467.08 Q2099.2 1467.5 2097.26 1468.38 L2097.26 1451.02 Z\" fill=\"#000000\" fill-rule=\"evenodd\" fill-opacity=\"1\" /><path clip-path=\"url(#clip430)\" d=\"M1270.49 1522.27 L1270.49 1532.4 L1282.56 1532.4 L1282.56 1536.95 L1270.49 1536.95 L1270.49 1556.3 Q1270.49 1560.66 1271.67 1561.9 Q1272.88 1563.14 1276.54 1563.14 L1282.56 1563.14 L1282.56 1568.04 L1276.54 1568.04 Q1269.76 1568.04 1267.18 1565.53 Q1264.6 1562.98 1264.6 1556.3 L1264.6 1536.95 L1260.31 1536.95 L1260.31 1532.4 L1264.6 1532.4 L1264.6 1522.27 L1270.49 1522.27 Z\" fill=\"#000000\" fill-rule=\"evenodd\" fill-opacity=\"1\" /><path clip-path=\"url(#clip430)\" d=\"M1310.44 1518.52 L1323.93 1518.52 L1323.93 1523.07 L1316.29 1523.07 L1316.29 1572.09 L1323.93 1572.09 L1323.93 1576.64 L1310.44 1576.64 L1310.44 1518.52 Z\" fill=\"#000000\" fill-rule=\"evenodd\" fill-opacity=\"1\" /><path clip-path=\"url(#clip430)\" d=\"M1359.13 1533.45 L1359.13 1538.98 Q1356.65 1537.71 1353.98 1537.07 Q1351.3 1536.44 1348.44 1536.44 Q1344.08 1536.44 1341.88 1537.77 Q1339.72 1539.11 1339.72 1541.79 Q1339.72 1543.82 1341.28 1545 Q1342.84 1546.15 1347.55 1547.2 L1349.55 1547.64 Q1355.79 1548.98 1358.4 1551.43 Q1361.04 1553.85 1361.04 1558.21 Q1361.04 1563.17 1357.1 1566.07 Q1353.18 1568.97 1346.31 1568.97 Q1343.44 1568.97 1340.32 1568.39 Q1337.24 1567.85 1333.8 1566.74 L1333.8 1560.69 Q1337.05 1562.38 1340.2 1563.24 Q1343.35 1564.07 1346.44 1564.07 Q1350.57 1564.07 1352.8 1562.66 Q1355.03 1561.23 1355.03 1558.65 Q1355.03 1556.27 1353.41 1554.99 Q1351.81 1553.72 1346.37 1552.54 L1344.33 1552.07 Q1338.89 1550.92 1336.47 1548.56 Q1334.05 1546.18 1334.05 1542.04 Q1334.05 1537.01 1337.62 1534.27 Q1341.18 1531.54 1347.74 1531.54 Q1350.99 1531.54 1353.85 1532.01 Q1356.72 1532.49 1359.13 1533.45 Z\" fill=\"#000000\" fill-rule=\"evenodd\" fill-opacity=\"1\" /><path clip-path=\"url(#clip430)\" d=\"M1384.06 1518.52 L1384.06 1576.64 L1370.56 1576.64 L1370.56 1572.09 L1378.17 1572.09 L1378.17 1523.07 L1370.56 1523.07 L1370.56 1518.52 L1384.06 1518.52 Z\" fill=\"#000000\" fill-rule=\"evenodd\" fill-opacity=\"1\" /><polyline clip-path=\"url(#clip432)\" style=\"stroke:#000000; stroke-linecap:butt; stroke-linejoin:round; stroke-width:2; stroke-opacity:0.1; fill:none\" points=\"\n",
       "  291.608,1342.11 2352.76,1342.11 \n",
       "  \"/>\n",
       "<polyline clip-path=\"url(#clip432)\" style=\"stroke:#000000; stroke-linecap:butt; stroke-linejoin:round; stroke-width:2; stroke-opacity:0.1; fill:none\" points=\"\n",
       "  291.608,1066.67 2352.76,1066.67 \n",
       "  \"/>\n",
       "<polyline clip-path=\"url(#clip432)\" style=\"stroke:#000000; stroke-linecap:butt; stroke-linejoin:round; stroke-width:2; stroke-opacity:0.1; fill:none\" points=\"\n",
       "  291.608,791.222 2352.76,791.222 \n",
       "  \"/>\n",
       "<polyline clip-path=\"url(#clip432)\" style=\"stroke:#000000; stroke-linecap:butt; stroke-linejoin:round; stroke-width:2; stroke-opacity:0.1; fill:none\" points=\"\n",
       "  291.608,515.776 2352.76,515.776 \n",
       "  \"/>\n",
       "<polyline clip-path=\"url(#clip432)\" style=\"stroke:#000000; stroke-linecap:butt; stroke-linejoin:round; stroke-width:2; stroke-opacity:0.1; fill:none\" points=\"\n",
       "  291.608,240.33 2352.76,240.33 \n",
       "  \"/>\n",
       "<polyline clip-path=\"url(#clip430)\" style=\"stroke:#000000; stroke-linecap:butt; stroke-linejoin:round; stroke-width:4; stroke-opacity:1; fill:none\" points=\"\n",
       "  291.608,1423.18 291.608,123.472 \n",
       "  \"/>\n",
       "<polyline clip-path=\"url(#clip430)\" style=\"stroke:#000000; stroke-linecap:butt; stroke-linejoin:round; stroke-width:4; stroke-opacity:1; fill:none\" points=\"\n",
       "  291.608,1342.11 310.505,1342.11 \n",
       "  \"/>\n",
       "<polyline clip-path=\"url(#clip430)\" style=\"stroke:#000000; stroke-linecap:butt; stroke-linejoin:round; stroke-width:4; stroke-opacity:1; fill:none\" points=\"\n",
       "  291.608,1066.67 310.505,1066.67 \n",
       "  \"/>\n",
       "<polyline clip-path=\"url(#clip430)\" style=\"stroke:#000000; stroke-linecap:butt; stroke-linejoin:round; stroke-width:4; stroke-opacity:1; fill:none\" points=\"\n",
       "  291.608,791.222 310.505,791.222 \n",
       "  \"/>\n",
       "<polyline clip-path=\"url(#clip430)\" style=\"stroke:#000000; stroke-linecap:butt; stroke-linejoin:round; stroke-width:4; stroke-opacity:1; fill:none\" points=\"\n",
       "  291.608,515.776 310.505,515.776 \n",
       "  \"/>\n",
       "<polyline clip-path=\"url(#clip430)\" style=\"stroke:#000000; stroke-linecap:butt; stroke-linejoin:round; stroke-width:4; stroke-opacity:1; fill:none\" points=\"\n",
       "  291.608,240.33 310.505,240.33 \n",
       "  \"/>\n",
       "<path clip-path=\"url(#clip430)\" d=\"M118.502 1342.57 L148.178 1342.57 L148.178 1346.5 L118.502 1346.5 L118.502 1342.57 Z\" fill=\"#000000\" fill-rule=\"evenodd\" fill-opacity=\"1\" /><path clip-path=\"url(#clip430)\" d=\"M168.27 1327.91 Q164.659 1327.91 162.83 1331.48 Q161.025 1335.02 161.025 1342.15 Q161.025 1349.26 162.83 1352.82 Q164.659 1356.36 168.27 1356.36 Q171.904 1356.36 173.71 1352.82 Q175.539 1349.26 175.539 1342.15 Q175.539 1335.02 173.71 1331.48 Q171.904 1327.91 168.27 1327.91 M168.27 1324.21 Q174.08 1324.21 177.136 1328.82 Q180.215 1333.4 180.215 1342.15 Q180.215 1350.88 177.136 1355.48 Q174.08 1360.07 168.27 1360.07 Q162.46 1360.07 159.381 1355.48 Q156.326 1350.88 156.326 1342.15 Q156.326 1333.4 159.381 1328.82 Q162.46 1324.21 168.27 1324.21 Z\" fill=\"#000000\" fill-rule=\"evenodd\" fill-opacity=\"1\" /><path clip-path=\"url(#clip430)\" d=\"M188.432 1353.51 L193.316 1353.51 L193.316 1359.39 L188.432 1359.39 L188.432 1353.51 Z\" fill=\"#000000\" fill-rule=\"evenodd\" fill-opacity=\"1\" /><path clip-path=\"url(#clip430)\" d=\"M203.548 1324.83 L221.904 1324.83 L221.904 1328.77 L207.83 1328.77 L207.83 1337.24 Q208.849 1336.89 209.867 1336.73 Q210.886 1336.55 211.904 1336.55 Q217.691 1336.55 221.071 1339.72 Q224.45 1342.89 224.45 1348.31 Q224.45 1353.89 220.978 1356.99 Q217.506 1360.07 211.187 1360.07 Q209.011 1360.07 206.742 1359.7 Q204.497 1359.32 202.089 1358.58 L202.089 1353.89 Q204.173 1355.02 206.395 1355.57 Q208.617 1356.13 211.094 1356.13 Q215.099 1356.13 217.437 1354.02 Q219.775 1351.92 219.775 1348.31 Q219.775 1344.7 217.437 1342.59 Q215.099 1340.48 211.094 1340.48 Q209.219 1340.48 207.344 1340.9 Q205.492 1341.32 203.548 1342.2 L203.548 1324.83 Z\" fill=\"#000000\" fill-rule=\"evenodd\" fill-opacity=\"1\" /><path clip-path=\"url(#clip430)\" d=\"M243.663 1327.91 Q240.052 1327.91 238.224 1331.48 Q236.418 1335.02 236.418 1342.15 Q236.418 1349.26 238.224 1352.82 Q240.052 1356.36 243.663 1356.36 Q247.298 1356.36 249.103 1352.82 Q250.932 1349.26 250.932 1342.15 Q250.932 1335.02 249.103 1331.48 Q247.298 1327.91 243.663 1327.91 M243.663 1324.21 Q249.473 1324.21 252.529 1328.82 Q255.608 1333.4 255.608 1342.15 Q255.608 1350.88 252.529 1355.48 Q249.473 1360.07 243.663 1360.07 Q237.853 1360.07 234.774 1355.48 Q231.719 1350.88 231.719 1342.15 Q231.719 1333.4 234.774 1328.82 Q237.853 1324.21 243.663 1324.21 Z\" fill=\"#000000\" fill-rule=\"evenodd\" fill-opacity=\"1\" /><path clip-path=\"url(#clip430)\" d=\"M119.497 1067.12 L149.173 1067.12 L149.173 1071.05 L119.497 1071.05 L119.497 1067.12 Z\" fill=\"#000000\" fill-rule=\"evenodd\" fill-opacity=\"1\" /><path clip-path=\"url(#clip430)\" d=\"M169.266 1052.47 Q165.654 1052.47 163.826 1056.03 Q162.02 1059.57 162.02 1066.7 Q162.02 1073.81 163.826 1077.37 Q165.654 1080.92 169.266 1080.92 Q172.9 1080.92 174.705 1077.37 Q176.534 1073.81 176.534 1066.7 Q176.534 1059.57 174.705 1056.03 Q172.9 1052.47 169.266 1052.47 M169.266 1048.76 Q175.076 1048.76 178.131 1053.37 Q181.21 1057.95 181.21 1066.7 Q181.21 1075.43 178.131 1080.04 Q175.076 1084.62 169.266 1084.62 Q163.455 1084.62 160.377 1080.04 Q157.321 1075.43 157.321 1066.7 Q157.321 1057.95 160.377 1053.37 Q163.455 1048.76 169.266 1048.76 Z\" fill=\"#000000\" fill-rule=\"evenodd\" fill-opacity=\"1\" /><path clip-path=\"url(#clip430)\" d=\"M189.427 1078.07 L194.312 1078.07 L194.312 1083.95 L189.427 1083.95 L189.427 1078.07 Z\" fill=\"#000000\" fill-rule=\"evenodd\" fill-opacity=\"1\" /><path clip-path=\"url(#clip430)\" d=\"M208.525 1080.01 L224.844 1080.01 L224.844 1083.95 L202.9 1083.95 L202.9 1080.01 Q205.562 1077.26 210.145 1072.63 Q214.751 1067.98 215.932 1066.63 Q218.177 1064.11 219.057 1062.37 Q219.96 1060.62 219.96 1058.93 Q219.96 1056.17 218.015 1054.43 Q216.094 1052.7 212.992 1052.7 Q210.793 1052.7 208.339 1053.46 Q205.909 1054.23 203.131 1055.78 L203.131 1051.05 Q205.955 1049.92 208.409 1049.34 Q210.863 1048.76 212.9 1048.76 Q218.27 1048.76 221.464 1051.45 Q224.659 1054.13 224.659 1058.62 Q224.659 1060.75 223.849 1062.68 Q223.062 1064.57 220.955 1067.17 Q220.376 1067.84 217.275 1071.05 Q214.173 1074.25 208.525 1080.01 Z\" fill=\"#000000\" fill-rule=\"evenodd\" fill-opacity=\"1\" /><path clip-path=\"url(#clip430)\" d=\"M234.705 1049.39 L253.061 1049.39 L253.061 1053.32 L238.987 1053.32 L238.987 1061.8 Q240.006 1061.45 241.024 1061.29 Q242.043 1061.1 243.061 1061.1 Q248.848 1061.1 252.228 1064.27 Q255.608 1067.44 255.608 1072.86 Q255.608 1078.44 252.135 1081.54 Q248.663 1084.62 242.344 1084.62 Q240.168 1084.62 237.899 1084.25 Q235.654 1083.88 233.247 1083.14 L233.247 1078.44 Q235.33 1079.57 237.552 1080.13 Q239.774 1080.68 242.251 1080.68 Q246.256 1080.68 248.594 1078.58 Q250.932 1076.47 250.932 1072.86 Q250.932 1069.25 248.594 1067.14 Q246.256 1065.04 242.251 1065.04 Q240.376 1065.04 238.501 1065.45 Q236.649 1065.87 234.705 1066.75 L234.705 1049.39 Z\" fill=\"#000000\" fill-rule=\"evenodd\" fill-opacity=\"1\" /><path clip-path=\"url(#clip430)\" d=\"M168.27 777.021 Q164.659 777.021 162.83 780.586 Q161.025 784.127 161.025 791.257 Q161.025 798.363 162.83 801.928 Q164.659 805.47 168.27 805.47 Q171.904 805.47 173.71 801.928 Q175.539 798.363 175.539 791.257 Q175.539 784.127 173.71 780.586 Q171.904 777.021 168.27 777.021 M168.27 773.317 Q174.08 773.317 177.136 777.924 Q180.215 782.507 180.215 791.257 Q180.215 799.984 177.136 804.59 Q174.08 809.174 168.27 809.174 Q162.46 809.174 159.381 804.59 Q156.326 799.984 156.326 791.257 Q156.326 782.507 159.381 777.924 Q162.46 773.317 168.27 773.317 Z\" fill=\"#000000\" fill-rule=\"evenodd\" fill-opacity=\"1\" /><path clip-path=\"url(#clip430)\" d=\"M188.432 802.623 L193.316 802.623 L193.316 808.502 L188.432 808.502 L188.432 802.623 Z\" fill=\"#000000\" fill-rule=\"evenodd\" fill-opacity=\"1\" /><path clip-path=\"url(#clip430)\" d=\"M213.501 777.021 Q209.89 777.021 208.062 780.586 Q206.256 784.127 206.256 791.257 Q206.256 798.363 208.062 801.928 Q209.89 805.47 213.501 805.47 Q217.136 805.47 218.941 801.928 Q220.77 798.363 220.77 791.257 Q220.77 784.127 218.941 780.586 Q217.136 777.021 213.501 777.021 M213.501 773.317 Q219.312 773.317 222.367 777.924 Q225.446 782.507 225.446 791.257 Q225.446 799.984 222.367 804.59 Q219.312 809.174 213.501 809.174 Q207.691 809.174 204.613 804.59 Q201.557 799.984 201.557 791.257 Q201.557 782.507 204.613 777.924 Q207.691 773.317 213.501 773.317 Z\" fill=\"#000000\" fill-rule=\"evenodd\" fill-opacity=\"1\" /><path clip-path=\"url(#clip430)\" d=\"M243.663 777.021 Q240.052 777.021 238.224 780.586 Q236.418 784.127 236.418 791.257 Q236.418 798.363 238.224 801.928 Q240.052 805.47 243.663 805.47 Q247.298 805.47 249.103 801.928 Q250.932 798.363 250.932 791.257 Q250.932 784.127 249.103 780.586 Q247.298 777.021 243.663 777.021 M243.663 773.317 Q249.473 773.317 252.529 777.924 Q255.608 782.507 255.608 791.257 Q255.608 799.984 252.529 804.59 Q249.473 809.174 243.663 809.174 Q237.853 809.174 234.774 804.59 Q231.719 799.984 231.719 791.257 Q231.719 782.507 234.774 777.924 Q237.853 773.317 243.663 773.317 Z\" fill=\"#000000\" fill-rule=\"evenodd\" fill-opacity=\"1\" /><path clip-path=\"url(#clip430)\" d=\"M169.266 501.575 Q165.654 501.575 163.826 505.14 Q162.02 508.681 162.02 515.811 Q162.02 522.917 163.826 526.482 Q165.654 530.024 169.266 530.024 Q172.9 530.024 174.705 526.482 Q176.534 522.917 176.534 515.811 Q176.534 508.681 174.705 505.14 Q172.9 501.575 169.266 501.575 M169.266 497.871 Q175.076 497.871 178.131 502.478 Q181.21 507.061 181.21 515.811 Q181.21 524.538 178.131 529.144 Q175.076 533.728 169.266 533.728 Q163.455 533.728 160.377 529.144 Q157.321 524.538 157.321 515.811 Q157.321 507.061 160.377 502.478 Q163.455 497.871 169.266 497.871 Z\" fill=\"#000000\" fill-rule=\"evenodd\" fill-opacity=\"1\" /><path clip-path=\"url(#clip430)\" d=\"M189.427 527.177 L194.312 527.177 L194.312 533.056 L189.427 533.056 L189.427 527.177 Z\" fill=\"#000000\" fill-rule=\"evenodd\" fill-opacity=\"1\" /><path clip-path=\"url(#clip430)\" d=\"M208.525 529.121 L224.844 529.121 L224.844 533.056 L202.9 533.056 L202.9 529.121 Q205.562 526.367 210.145 521.737 Q214.751 517.084 215.932 515.742 Q218.177 513.218 219.057 511.482 Q219.96 509.723 219.96 508.033 Q219.96 505.279 218.015 503.543 Q216.094 501.806 212.992 501.806 Q210.793 501.806 208.339 502.57 Q205.909 503.334 203.131 504.885 L203.131 500.163 Q205.955 499.029 208.409 498.45 Q210.863 497.871 212.9 497.871 Q218.27 497.871 221.464 500.556 Q224.659 503.242 224.659 507.732 Q224.659 509.862 223.849 511.783 Q223.062 513.681 220.955 516.274 Q220.376 516.945 217.275 520.163 Q214.173 523.357 208.525 529.121 Z\" fill=\"#000000\" fill-rule=\"evenodd\" fill-opacity=\"1\" /><path clip-path=\"url(#clip430)\" d=\"M234.705 498.496 L253.061 498.496 L253.061 502.431 L238.987 502.431 L238.987 510.904 Q240.006 510.556 241.024 510.394 Q242.043 510.209 243.061 510.209 Q248.848 510.209 252.228 513.38 Q255.608 516.552 255.608 521.968 Q255.608 527.547 252.135 530.649 Q248.663 533.728 242.344 533.728 Q240.168 533.728 237.899 533.357 Q235.654 532.987 233.247 532.246 L233.247 527.547 Q235.33 528.681 237.552 529.237 Q239.774 529.792 242.251 529.792 Q246.256 529.792 248.594 527.686 Q250.932 525.579 250.932 521.968 Q250.932 518.357 248.594 516.251 Q246.256 514.144 242.251 514.144 Q240.376 514.144 238.501 514.561 Q236.649 514.978 234.705 515.857 L234.705 498.496 Z\" fill=\"#000000\" fill-rule=\"evenodd\" fill-opacity=\"1\" /><path clip-path=\"url(#clip430)\" d=\"M168.27 226.129 Q164.659 226.129 162.83 229.694 Q161.025 233.235 161.025 240.365 Q161.025 247.471 162.83 251.036 Q164.659 254.578 168.27 254.578 Q171.904 254.578 173.71 251.036 Q175.539 247.471 175.539 240.365 Q175.539 233.235 173.71 229.694 Q171.904 226.129 168.27 226.129 M168.27 222.425 Q174.08 222.425 177.136 227.032 Q180.215 231.615 180.215 240.365 Q180.215 249.092 177.136 253.698 Q174.08 258.282 168.27 258.282 Q162.46 258.282 159.381 253.698 Q156.326 249.092 156.326 240.365 Q156.326 231.615 159.381 227.032 Q162.46 222.425 168.27 222.425 Z\" fill=\"#000000\" fill-rule=\"evenodd\" fill-opacity=\"1\" /><path clip-path=\"url(#clip430)\" d=\"M188.432 251.731 L193.316 251.731 L193.316 257.61 L188.432 257.61 L188.432 251.731 Z\" fill=\"#000000\" fill-rule=\"evenodd\" fill-opacity=\"1\" /><path clip-path=\"url(#clip430)\" d=\"M203.548 223.05 L221.904 223.05 L221.904 226.985 L207.83 226.985 L207.83 235.458 Q208.849 235.11 209.867 234.948 Q210.886 234.763 211.904 234.763 Q217.691 234.763 221.071 237.934 Q224.45 241.106 224.45 246.522 Q224.45 252.101 220.978 255.203 Q217.506 258.282 211.187 258.282 Q209.011 258.282 206.742 257.911 Q204.497 257.541 202.089 256.8 L202.089 252.101 Q204.173 253.235 206.395 253.791 Q208.617 254.346 211.094 254.346 Q215.099 254.346 217.437 252.24 Q219.775 250.133 219.775 246.522 Q219.775 242.911 217.437 240.805 Q215.099 238.698 211.094 238.698 Q209.219 238.698 207.344 239.115 Q205.492 239.532 203.548 240.411 L203.548 223.05 Z\" fill=\"#000000\" fill-rule=\"evenodd\" fill-opacity=\"1\" /><path clip-path=\"url(#clip430)\" d=\"M243.663 226.129 Q240.052 226.129 238.224 229.694 Q236.418 233.235 236.418 240.365 Q236.418 247.471 238.224 251.036 Q240.052 254.578 243.663 254.578 Q247.298 254.578 249.103 251.036 Q250.932 247.471 250.932 240.365 Q250.932 233.235 249.103 229.694 Q247.298 226.129 243.663 226.129 M243.663 222.425 Q249.473 222.425 252.529 227.032 Q255.608 231.615 255.608 240.365 Q255.608 249.092 252.529 253.698 Q249.473 258.282 243.663 258.282 Q237.853 258.282 234.774 253.698 Q231.719 249.092 231.719 240.365 Q231.719 231.615 234.774 227.032 Q237.853 222.425 243.663 222.425 Z\" fill=\"#000000\" fill-rule=\"evenodd\" fill-opacity=\"1\" /><path clip-path=\"url(#clip430)\" d=\"M74.0865 877.022 Q74.0865 884.12 75.7097 886.857 Q77.333 889.594 81.2479 889.594 Q84.3671 889.594 86.2131 887.557 Q88.0274 885.488 88.0274 881.955 Q88.0274 877.085 84.5899 874.157 Q81.1206 871.197 75.3914 871.197 L74.0865 871.197 L74.0865 877.022 M71.6675 865.341 L92.0059 865.341 L92.0059 871.197 L86.5951 871.197 Q89.8416 873.202 91.4012 876.194 Q92.929 879.186 92.929 883.515 Q92.929 888.989 89.8734 892.236 Q86.786 895.451 81.6298 895.451 Q75.6142 895.451 72.5587 891.44 Q69.5032 887.398 69.5032 879.409 L69.5032 871.197 L68.9302 871.197 Q64.888 871.197 62.6918 873.871 Q60.4639 876.513 60.4639 881.319 Q60.4639 884.374 61.1959 887.271 Q61.928 890.167 63.3921 892.841 L57.9812 892.841 Q56.7399 889.626 56.1352 886.602 Q55.4986 883.578 55.4986 880.714 Q55.4986 872.98 59.509 869.16 Q63.5194 865.341 71.6675 865.341 Z\" fill=\"#000000\" fill-rule=\"evenodd\" fill-opacity=\"1\" /><path clip-path=\"url(#clip430)\" d=\"M42.4807 833.098 L42.4807 819.603 L47.0322 819.603 L47.0322 827.242 L96.0482 827.242 L96.0482 819.603 L100.6 819.603 L100.6 833.098 L42.4807 833.098 Z\" fill=\"#000000\" fill-rule=\"evenodd\" fill-opacity=\"1\" /><path clip-path=\"url(#clip430)\" d=\"M63.2011 779.372 Q59.2544 777.176 57.3765 774.12 Q55.4986 771.065 55.4986 766.927 Q55.4986 761.357 59.4135 758.333 Q63.2966 755.309 70.4898 755.309 L92.0059 755.309 L92.0059 761.198 L70.6808 761.198 Q65.5564 761.198 63.0738 763.012 Q60.5912 764.826 60.5912 768.55 Q60.5912 773.102 63.6149 775.743 Q66.6386 778.385 71.8585 778.385 L92.0059 778.385 L92.0059 784.273 L70.6808 784.273 Q65.5246 784.273 63.0738 786.088 Q60.5912 787.902 60.5912 791.689 Q60.5912 796.177 63.6467 798.819 Q66.6704 801.461 71.8585 801.461 L92.0059 801.461 L92.0059 807.349 L56.358 807.349 L56.358 801.461 L61.8961 801.461 Q58.6178 799.456 57.0582 796.655 Q55.4986 793.854 55.4986 790.003 Q55.4986 786.12 57.472 783.414 Q59.4453 780.677 63.2011 779.372 Z\" fill=\"#000000\" fill-rule=\"evenodd\" fill-opacity=\"1\" /><path clip-path=\"url(#clip430)\" d=\"M44.4859 733.22 L44.4859 727.81 L98.0533 744.36 L98.0533 749.771 L44.4859 733.22 Z\" fill=\"#000000\" fill-rule=\"evenodd\" fill-opacity=\"1\" /><path clip-path=\"url(#clip430)\" d=\"M57.4083 698.941 L62.9465 698.941 Q61.6733 701.424 61.0368 704.097 Q60.4002 706.771 60.4002 709.636 Q60.4002 713.996 61.737 716.192 Q63.0738 718.357 65.7474 718.357 Q67.7844 718.357 68.9621 716.797 Q70.1079 715.237 71.1582 710.527 L71.6038 708.522 Q72.9406 702.283 75.3914 699.673 Q77.8104 697.031 82.1709 697.031 Q87.1362 697.031 90.0326 700.978 Q92.929 704.893 92.929 711.768 Q92.929 714.633 92.356 717.752 Q91.815 720.839 90.701 724.277 L84.6535 724.277 Q86.3404 721.03 87.1998 717.879 Q88.0274 714.728 88.0274 711.641 Q88.0274 707.503 86.6269 705.275 Q85.1946 703.047 82.6165 703.047 Q80.2294 703.047 78.9562 704.67 Q77.6831 706.262 76.5054 711.704 L76.028 713.741 Q74.8822 719.184 72.5269 721.603 Q70.1397 724.022 66.002 724.022 Q60.9731 724.022 58.2359 720.457 Q55.4986 716.892 55.4986 710.336 Q55.4986 707.089 55.976 704.225 Q56.4535 701.36 57.4083 698.941 Z\" fill=\"#000000\" fill-rule=\"evenodd\" fill-opacity=\"1\" /><path clip-path=\"url(#clip430)\" d=\"M44.8242 689.991 Q43.9901 689.991 43.7421 689.924 Q43.4941 689.834 43.1109 689.473 L33.2365 680.613 Q27.7809 675.766 23.0241 675.766 Q19.9355 675.766 17.7262 677.389 Q15.5169 678.99 15.5169 681.943 Q15.5169 683.972 16.7568 685.686 Q17.9967 687.399 20.206 688.188 Q20.161 688.053 20.161 687.579 Q20.161 686.429 20.8824 685.798 Q21.6038 685.144 22.5732 685.144 Q23.8131 685.144 24.4218 685.956 Q25.0079 686.745 25.0079 687.534 Q25.0079 687.85 24.9403 688.278 Q24.8727 688.684 24.2414 689.338 Q23.5877 689.991 22.4379 689.991 Q19.2141 689.991 16.6441 687.557 Q14.0741 685.099 14.0741 681.357 Q14.0741 677.119 16.599 674.346 Q19.1014 671.55 23.0241 671.55 Q24.3993 671.55 25.6617 671.979 Q26.9016 672.384 27.871 672.948 Q28.8404 673.489 30.396 674.977 Q31.9515 676.465 33.0562 677.66 Q34.1608 678.855 36.5054 681.537 L41.2622 686.429 L41.2622 678.111 Q41.2622 674.053 40.9015 673.737 Q40.2478 673.286 36.7985 672.723 L36.7985 671.55 L44.8242 672.858 L44.8242 689.991 Z\" fill=\"#000000\" fill-rule=\"evenodd\" fill-opacity=\"1\" /><path clip-path=\"url(#clip430)\" d=\"M42.4807 651.201 L100.6 651.201 L100.6 664.697 L96.0482 664.697 L96.0482 657.09 L47.0322 657.09 L47.0322 664.697 L42.4807 664.697 L42.4807 651.201 Z\" fill=\"#000000\" fill-rule=\"evenodd\" fill-opacity=\"1\" /><path clip-path=\"url(#clip430)\" d=\"M670.715 18.8205 L670.715 41.5461 L681.005 41.5461 Q686.716 41.5461 689.836 38.5889 Q692.955 35.6318 692.955 30.163 Q692.955 24.7348 689.836 21.7777 Q686.716 18.8205 681.005 18.8205 L670.715 18.8205 M662.533 12.096 L681.005 12.096 Q691.172 12.096 696.358 16.714 Q701.583 21.2916 701.583 30.163 Q701.583 39.1155 696.358 43.6931 Q691.172 48.2706 681.005 48.2706 L670.715 48.2706 L670.715 72.576 L662.533 72.576 L662.533 12.096 Z\" fill=\"#000000\" fill-rule=\"evenodd\" fill-opacity=\"1\" /><path clip-path=\"url(#clip430)\" d=\"M748.088 48.0275 L748.088 51.6733 L713.817 51.6733 Q714.303 59.3701 718.435 63.421 Q722.607 67.4314 730.021 67.4314 Q734.315 67.4314 738.325 66.3781 Q742.376 65.3249 746.346 63.2184 L746.346 70.267 Q742.335 71.9684 738.122 72.8596 Q733.909 73.7508 729.575 73.7508 Q718.719 73.7508 712.359 67.4314 Q706.039 61.1119 706.039 50.3365 Q706.039 39.1965 712.035 32.6746 Q718.07 26.1121 728.279 26.1121 Q737.434 26.1121 742.74 32.0264 Q748.088 37.9003 748.088 48.0275 M740.634 45.84 Q740.553 39.7232 737.191 36.0774 Q733.869 32.4315 728.36 32.4315 Q722.121 32.4315 718.354 35.9558 Q714.627 39.4801 714.06 45.8805 L740.634 45.84 Z\" fill=\"#000000\" fill-rule=\"evenodd\" fill-opacity=\"1\" /><path clip-path=\"url(#clip430)\" d=\"M790.177 34.0924 L790.177 9.54393 L797.63 9.54393 L797.63 72.576 L790.177 72.576 L790.177 65.7705 Q787.827 69.8214 784.222 71.8063 Q780.657 73.7508 775.634 73.7508 Q767.41 73.7508 762.225 67.1883 Q757.081 60.6258 757.081 49.9314 Q757.081 39.2371 762.225 32.6746 Q767.41 26.1121 775.634 26.1121 Q780.657 26.1121 784.222 28.0971 Q787.827 30.0415 790.177 34.0924 M764.777 49.9314 Q764.777 58.1548 768.14 62.8538 Q771.542 67.5124 777.457 67.5124 Q783.371 67.5124 786.774 62.8538 Q790.177 58.1548 790.177 49.9314 Q790.177 41.7081 786.774 37.0496 Q783.371 32.3505 777.457 32.3505 Q771.542 32.3505 768.14 37.0496 Q764.777 41.7081 764.777 49.9314 Z\" fill=\"#000000\" fill-rule=\"evenodd\" fill-opacity=\"1\" /><path clip-path=\"url(#clip430)\" d=\"M851.791 48.0275 L851.791 51.6733 L817.52 51.6733 Q818.006 59.3701 822.138 63.421 Q826.311 67.4314 833.724 67.4314 Q838.018 67.4314 842.028 66.3781 Q846.079 65.3249 850.049 63.2184 L850.049 70.267 Q846.039 71.9684 841.826 72.8596 Q837.613 73.7508 833.278 73.7508 Q822.422 73.7508 816.062 67.4314 Q809.742 61.1119 809.742 50.3365 Q809.742 39.1965 815.738 32.6746 Q821.774 26.1121 831.982 26.1121 Q841.137 26.1121 846.444 32.0264 Q851.791 37.9003 851.791 48.0275 M844.337 45.84 Q844.256 39.7232 840.894 36.0774 Q837.572 32.4315 832.063 32.4315 Q825.824 32.4315 822.057 35.9558 Q818.33 39.4801 817.763 45.8805 L844.337 45.84 Z\" fill=\"#000000\" fill-rule=\"evenodd\" fill-opacity=\"1\" /><path clip-path=\"url(#clip430)\" d=\"M892.948 28.5427 L892.948 35.5912 Q889.788 33.9709 886.386 33.1607 Q882.983 32.3505 879.337 32.3505 Q873.787 32.3505 870.992 34.0519 Q868.237 35.7533 868.237 39.156 Q868.237 41.7486 870.222 43.2475 Q872.207 44.7058 878.203 46.0426 L880.755 46.6097 Q888.695 48.3111 892.016 51.4303 Q895.379 54.509 895.379 60.0587 Q895.379 66.3781 890.355 70.0644 Q885.373 73.7508 876.623 73.7508 Q872.977 73.7508 869.007 73.0216 Q865.078 72.3329 860.703 70.9151 L860.703 63.2184 Q864.835 65.3654 868.845 66.4591 Q872.855 67.5124 876.785 67.5124 Q882.051 67.5124 884.887 65.73 Q887.722 63.9071 887.722 60.6258 Q887.722 57.5877 885.656 55.9673 Q883.631 54.3469 876.704 52.8481 L874.111 52.2405 Q867.184 50.7821 864.106 47.7845 Q861.027 44.7463 861.027 39.4801 Q861.027 33.0797 865.564 29.5959 Q870.101 26.1121 878.446 26.1121 Q882.578 26.1121 886.223 26.7198 Q889.869 27.3274 892.948 28.5427 Z\" fill=\"#000000\" fill-rule=\"evenodd\" fill-opacity=\"1\" /><path clip-path=\"url(#clip430)\" d=\"M914.62 14.324 L914.62 27.2059 L929.973 27.2059 L929.973 32.9987 L914.62 32.9987 L914.62 57.6282 Q914.62 63.1779 916.119 64.7578 Q917.658 66.3376 922.317 66.3376 L929.973 66.3376 L929.973 72.576 L922.317 72.576 Q913.689 72.576 910.407 69.3758 Q907.126 66.1351 907.126 57.6282 L907.126 32.9987 L901.657 32.9987 L901.657 27.2059 L907.126 27.2059 L907.126 14.324 L914.62 14.324 Z\" fill=\"#000000\" fill-rule=\"evenodd\" fill-opacity=\"1\" /><path clip-path=\"url(#clip430)\" d=\"M966.067 34.1734 Q964.811 33.4443 963.312 33.1202 Q961.854 32.7556 960.071 32.7556 Q953.752 32.7556 950.349 36.8875 Q946.987 40.9789 946.987 48.6757 L946.987 72.576 L939.493 72.576 L939.493 27.2059 L946.987 27.2059 L946.987 34.2544 Q949.337 30.1225 953.104 28.1376 Q956.871 26.1121 962.259 26.1121 Q963.029 26.1121 963.96 26.2337 Q964.892 26.3147 966.026 26.5172 L966.067 34.1734 Z\" fill=\"#000000\" fill-rule=\"evenodd\" fill-opacity=\"1\" /><path clip-path=\"url(#clip430)\" d=\"M973.885 27.2059 L981.339 27.2059 L981.339 72.576 L973.885 72.576 L973.885 27.2059 M973.885 9.54393 L981.339 9.54393 L981.339 18.9825 L973.885 18.9825 L973.885 9.54393 Z\" fill=\"#000000\" fill-rule=\"evenodd\" fill-opacity=\"1\" /><path clip-path=\"url(#clip430)\" d=\"M1017.55 49.7694 Q1008.52 49.7694 1005.04 51.8354 Q1001.55 53.9013 1001.55 58.8839 Q1001.55 62.8538 1004.15 65.2034 Q1006.78 67.5124 1011.27 67.5124 Q1017.47 67.5124 1021.2 63.1374 Q1024.97 58.7219 1024.97 51.4303 L1024.97 49.7694 L1017.55 49.7694 M1032.42 46.6907 L1032.42 72.576 L1024.97 72.576 L1024.97 65.6895 Q1022.41 69.8214 1018.61 71.8063 Q1014.8 73.7508 1009.29 73.7508 Q1002.32 73.7508 998.19 69.8619 Q994.099 65.9325 994.099 59.3701 Q994.099 51.7138 999.203 47.825 Q1004.35 43.9361 1014.52 43.9361 L1024.97 43.9361 L1024.97 43.2069 Q1024.97 38.0623 1021.56 35.2672 Q1018.2 32.4315 1012.09 32.4315 Q1008.2 32.4315 1004.51 33.3632 Q1000.82 34.295 997.421 36.1584 L997.421 29.2718 Q1001.51 27.692 1005.36 26.9223 Q1009.21 26.1121 1012.85 26.1121 Q1022.7 26.1121 1027.56 31.2163 Q1032.42 36.3204 1032.42 46.6907 Z\" fill=\"#000000\" fill-rule=\"evenodd\" fill-opacity=\"1\" /><path clip-path=\"url(#clip430)\" d=\"M1085.49 45.1919 L1085.49 72.576 L1078.03 72.576 L1078.03 45.4349 Q1078.03 38.994 1075.52 35.7938 Q1073.01 32.5936 1067.99 32.5936 Q1061.95 32.5936 1058.47 36.4419 Q1054.98 40.2903 1054.98 46.9338 L1054.98 72.576 L1047.49 72.576 L1047.49 27.2059 L1054.98 27.2059 L1054.98 34.2544 Q1057.66 30.163 1061.26 28.1376 Q1064.91 26.1121 1069.65 26.1121 Q1077.47 26.1121 1081.48 30.9732 Q1085.49 35.7938 1085.49 45.1919 Z\" fill=\"#000000\" fill-rule=\"evenodd\" fill-opacity=\"1\" /><path clip-path=\"url(#clip430)\" d=\"M1147.34 49.7694 Q1138.31 49.7694 1134.83 51.8354 Q1131.34 53.9013 1131.34 58.8839 Q1131.34 62.8538 1133.94 65.2034 Q1136.57 67.5124 1141.07 67.5124 Q1147.26 67.5124 1150.99 63.1374 Q1154.76 58.7219 1154.76 51.4303 L1154.76 49.7694 L1147.34 49.7694 M1162.21 46.6907 L1162.21 72.576 L1154.76 72.576 L1154.76 65.6895 Q1152.21 69.8214 1148.4 71.8063 Q1144.59 73.7508 1139.08 73.7508 Q1132.11 73.7508 1127.98 69.8619 Q1123.89 65.9325 1123.89 59.3701 Q1123.89 51.7138 1128.99 47.825 Q1134.14 43.9361 1144.31 43.9361 L1154.76 43.9361 L1154.76 43.2069 Q1154.76 38.0623 1151.36 35.2672 Q1147.99 32.4315 1141.88 32.4315 Q1137.99 32.4315 1134.3 33.3632 Q1130.61 34.295 1127.21 36.1584 L1127.21 29.2718 Q1131.3 27.692 1135.15 26.9223 Q1139 26.1121 1142.65 26.1121 Q1152.49 26.1121 1157.35 31.2163 Q1162.21 36.3204 1162.21 46.6907 Z\" fill=\"#000000\" fill-rule=\"evenodd\" fill-opacity=\"1\" /><path clip-path=\"url(#clip430)\" d=\"M1210.21 28.9478 L1210.21 35.9153 Q1207.06 34.1734 1203.85 33.3227 Q1200.7 32.4315 1197.45 32.4315 Q1190.2 32.4315 1186.19 37.0496 Q1182.18 41.6271 1182.18 49.9314 Q1182.18 58.2358 1186.19 62.8538 Q1190.2 67.4314 1197.45 67.4314 Q1200.7 67.4314 1203.85 66.5807 Q1207.06 65.6895 1210.21 63.9476 L1210.21 70.8341 Q1207.1 72.2924 1203.73 73.0216 Q1200.41 73.7508 1196.64 73.7508 Q1186.4 73.7508 1180.36 67.3098 Q1174.32 60.8689 1174.32 49.9314 Q1174.32 38.832 1180.4 32.472 Q1186.52 26.1121 1197.13 26.1121 Q1200.57 26.1121 1203.85 26.8413 Q1207.14 27.5299 1210.21 28.9478 Z\" fill=\"#000000\" fill-rule=\"evenodd\" fill-opacity=\"1\" /><path clip-path=\"url(#clip430)\" d=\"M1255.83 28.9478 L1255.83 35.9153 Q1252.67 34.1734 1249.47 33.3227 Q1246.31 32.4315 1243.07 32.4315 Q1235.82 32.4315 1231.81 37.0496 Q1227.8 41.6271 1227.8 49.9314 Q1227.8 58.2358 1231.81 62.8538 Q1235.82 67.4314 1243.07 67.4314 Q1246.31 67.4314 1249.47 66.5807 Q1252.67 65.6895 1255.83 63.9476 L1255.83 70.8341 Q1252.71 72.2924 1249.35 73.0216 Q1246.02 73.7508 1242.26 73.7508 Q1232.01 73.7508 1225.97 67.3098 Q1219.94 60.8689 1219.94 49.9314 Q1219.94 38.832 1226.01 32.472 Q1232.13 26.1121 1242.74 26.1121 Q1246.19 26.1121 1249.47 26.8413 Q1252.75 27.5299 1255.83 28.9478 Z\" fill=\"#000000\" fill-rule=\"evenodd\" fill-opacity=\"1\" /><path clip-path=\"url(#clip430)\" d=\"M1307.6 48.0275 L1307.6 51.6733 L1273.33 51.6733 Q1273.81 59.3701 1277.95 63.421 Q1282.12 67.4314 1289.53 67.4314 Q1293.83 67.4314 1297.84 66.3781 Q1301.89 65.3249 1305.86 63.2184 L1305.86 70.267 Q1301.85 71.9684 1297.63 72.8596 Q1293.42 73.7508 1289.09 73.7508 Q1278.23 73.7508 1271.87 67.4314 Q1265.55 61.1119 1265.55 50.3365 Q1265.55 39.1965 1271.55 32.6746 Q1277.58 26.1121 1287.79 26.1121 Q1296.94 26.1121 1302.25 32.0264 Q1307.6 37.9003 1307.6 48.0275 M1300.14 45.84 Q1300.06 39.7232 1296.7 36.0774 Q1293.38 32.4315 1287.87 32.4315 Q1281.63 32.4315 1277.86 35.9558 Q1274.14 39.4801 1273.57 45.8805 L1300.14 45.84 Z\" fill=\"#000000\" fill-rule=\"evenodd\" fill-opacity=\"1\" /><path clip-path=\"url(#clip430)\" d=\"M1319.83 9.54393 L1327.29 9.54393 L1327.29 72.576 L1319.83 72.576 L1319.83 9.54393 Z\" fill=\"#000000\" fill-rule=\"evenodd\" fill-opacity=\"1\" /><path clip-path=\"url(#clip430)\" d=\"M1381.69 48.0275 L1381.69 51.6733 L1347.42 51.6733 Q1347.91 59.3701 1352.04 63.421 Q1356.21 67.4314 1363.62 67.4314 Q1367.92 67.4314 1371.93 66.3781 Q1375.98 65.3249 1379.95 63.2184 L1379.95 70.267 Q1375.94 71.9684 1371.72 72.8596 Q1367.51 73.7508 1363.18 73.7508 Q1352.32 73.7508 1345.96 67.4314 Q1339.64 61.1119 1339.64 50.3365 Q1339.64 39.1965 1345.64 32.6746 Q1351.67 26.1121 1361.88 26.1121 Q1371.04 26.1121 1376.34 32.0264 Q1381.69 37.9003 1381.69 48.0275 M1374.24 45.84 Q1374.15 39.7232 1370.79 36.0774 Q1367.47 32.4315 1361.96 32.4315 Q1355.72 32.4315 1351.96 35.9558 Q1348.23 39.4801 1347.66 45.8805 L1374.24 45.84 Z\" fill=\"#000000\" fill-rule=\"evenodd\" fill-opacity=\"1\" /><path clip-path=\"url(#clip430)\" d=\"M1420.21 34.1734 Q1418.96 33.4443 1417.46 33.1202 Q1416 32.7556 1414.22 32.7556 Q1407.9 32.7556 1404.5 36.8875 Q1401.13 40.9789 1401.13 48.6757 L1401.13 72.576 L1393.64 72.576 L1393.64 27.2059 L1401.13 27.2059 L1401.13 34.2544 Q1403.48 30.1225 1407.25 28.1376 Q1411.02 26.1121 1416.41 26.1121 Q1417.18 26.1121 1418.11 26.2337 Q1419.04 26.3147 1420.17 26.5172 L1420.21 34.1734 Z\" fill=\"#000000\" fill-rule=\"evenodd\" fill-opacity=\"1\" /><path clip-path=\"url(#clip430)\" d=\"M1448.65 49.7694 Q1439.62 49.7694 1436.13 51.8354 Q1432.65 53.9013 1432.65 58.8839 Q1432.65 62.8538 1435.24 65.2034 Q1437.88 67.5124 1442.37 67.5124 Q1448.57 67.5124 1452.3 63.1374 Q1456.06 58.7219 1456.06 51.4303 L1456.06 49.7694 L1448.65 49.7694 M1463.52 46.6907 L1463.52 72.576 L1456.06 72.576 L1456.06 65.6895 Q1453.51 69.8214 1449.7 71.8063 Q1445.9 73.7508 1440.39 73.7508 Q1433.42 73.7508 1429.29 69.8619 Q1425.2 65.9325 1425.2 59.3701 Q1425.2 51.7138 1430.3 47.825 Q1435.45 43.9361 1445.61 43.9361 L1456.06 43.9361 L1456.06 43.2069 Q1456.06 38.0623 1452.66 35.2672 Q1449.3 32.4315 1443.18 32.4315 Q1439.29 32.4315 1435.61 33.3632 Q1431.92 34.295 1428.52 36.1584 L1428.52 29.2718 Q1432.61 27.692 1436.46 26.9223 Q1440.31 26.1121 1443.95 26.1121 Q1453.8 26.1121 1458.66 31.2163 Q1463.52 36.3204 1463.52 46.6907 Z\" fill=\"#000000\" fill-rule=\"evenodd\" fill-opacity=\"1\" /><path clip-path=\"url(#clip430)\" d=\"M1486.24 14.324 L1486.24 27.2059 L1501.6 27.2059 L1501.6 32.9987 L1486.24 32.9987 L1486.24 57.6282 Q1486.24 63.1779 1487.74 64.7578 Q1489.28 66.3376 1493.94 66.3376 L1501.6 66.3376 L1501.6 72.576 L1493.94 72.576 Q1485.31 72.576 1482.03 69.3758 Q1478.75 66.1351 1478.75 57.6282 L1478.75 32.9987 L1473.28 32.9987 L1473.28 27.2059 L1478.75 27.2059 L1478.75 14.324 L1486.24 14.324 Z\" fill=\"#000000\" fill-rule=\"evenodd\" fill-opacity=\"1\" /><path clip-path=\"url(#clip430)\" d=\"M1511.4 27.2059 L1518.85 27.2059 L1518.85 72.576 L1511.4 72.576 L1511.4 27.2059 M1511.4 9.54393 L1518.85 9.54393 L1518.85 18.9825 L1511.4 18.9825 L1511.4 9.54393 Z\" fill=\"#000000\" fill-rule=\"evenodd\" fill-opacity=\"1\" /><path clip-path=\"url(#clip430)\" d=\"M1552.03 32.4315 Q1546.03 32.4315 1542.55 37.1306 Q1539.07 41.7891 1539.07 49.9314 Q1539.07 58.0738 1542.51 62.7728 Q1545.99 67.4314 1552.03 67.4314 Q1557.98 67.4314 1561.47 62.7323 Q1564.95 58.0333 1564.95 49.9314 Q1564.95 41.8701 1561.47 37.1711 Q1557.98 32.4315 1552.03 32.4315 M1552.03 26.1121 Q1561.75 26.1121 1567.3 32.4315 Q1572.85 38.7509 1572.85 49.9314 Q1572.85 61.0714 1567.3 67.4314 Q1561.75 73.7508 1552.03 73.7508 Q1542.27 73.7508 1536.72 67.4314 Q1531.21 61.0714 1531.21 49.9314 Q1531.21 38.7509 1536.72 32.4315 Q1542.27 26.1121 1552.03 26.1121 Z\" fill=\"#000000\" fill-rule=\"evenodd\" fill-opacity=\"1\" /><path clip-path=\"url(#clip430)\" d=\"M1622.92 45.1919 L1622.92 72.576 L1615.47 72.576 L1615.47 45.4349 Q1615.47 38.994 1612.96 35.7938 Q1610.44 32.5936 1605.42 32.5936 Q1599.39 32.5936 1595.9 36.4419 Q1592.42 40.2903 1592.42 46.9338 L1592.42 72.576 L1584.92 72.576 L1584.92 27.2059 L1592.42 27.2059 L1592.42 34.2544 Q1595.09 30.163 1598.7 28.1376 Q1602.34 26.1121 1607.08 26.1121 Q1614.9 26.1121 1618.91 30.9732 Q1622.92 35.7938 1622.92 45.1919 Z\" fill=\"#000000\" fill-rule=\"evenodd\" fill-opacity=\"1\" /><path clip-path=\"url(#clip430)\" d=\"M1682.06 9.62495 Q1676.64 18.942 1674 28.0566 Q1671.37 37.1711 1671.37 46.5287 Q1671.37 55.8863 1674 65.0818 Q1676.68 74.2369 1682.06 83.5134 L1675.58 83.5134 Q1669.51 73.9938 1666.47 64.7983 Q1663.47 55.6027 1663.47 46.5287 Q1663.47 37.4952 1666.47 28.3401 Q1669.47 19.1851 1675.58 9.62495 L1682.06 9.62495 Z\" fill=\"#000000\" fill-rule=\"evenodd\" fill-opacity=\"1\" /><path clip-path=\"url(#clip430)\" d=\"M1703.9 14.324 L1703.9 27.2059 L1719.25 27.2059 L1719.25 32.9987 L1703.9 32.9987 L1703.9 57.6282 Q1703.9 63.1779 1705.4 64.7578 Q1706.94 66.3376 1711.6 66.3376 L1719.25 66.3376 L1719.25 72.576 L1711.6 72.576 Q1702.97 72.576 1699.69 69.3758 Q1696.4 66.1351 1696.4 57.6282 L1696.4 32.9987 L1690.94 32.9987 L1690.94 27.2059 L1696.4 27.2059 L1696.4 14.324 L1703.9 14.324 Z\" fill=\"#000000\" fill-rule=\"evenodd\" fill-opacity=\"1\" /><path clip-path=\"url(#clip430)\" d=\"M1746.64 32.4315 Q1740.64 32.4315 1737.16 37.1306 Q1733.67 41.7891 1733.67 49.9314 Q1733.67 58.0738 1737.12 62.7728 Q1740.6 67.4314 1746.64 67.4314 Q1752.59 67.4314 1756.07 62.7323 Q1759.56 58.0333 1759.56 49.9314 Q1759.56 41.8701 1756.07 37.1711 Q1752.59 32.4315 1746.64 32.4315 M1746.64 26.1121 Q1756.36 26.1121 1761.91 32.4315 Q1767.46 38.7509 1767.46 49.9314 Q1767.46 61.0714 1761.91 67.4314 Q1756.36 73.7508 1746.64 73.7508 Q1736.87 73.7508 1731.32 67.4314 Q1725.81 61.0714 1725.81 49.9314 Q1725.81 38.7509 1731.32 32.4315 Q1736.87 26.1121 1746.64 26.1121 Z\" fill=\"#000000\" fill-rule=\"evenodd\" fill-opacity=\"1\" /><path clip-path=\"url(#clip430)\" d=\"M1787.02 65.7705 L1787.02 89.8329 L1779.53 89.8329 L1779.53 27.2059 L1787.02 27.2059 L1787.02 34.0924 Q1789.37 30.0415 1792.94 28.0971 Q1796.54 26.1121 1801.53 26.1121 Q1809.79 26.1121 1814.93 32.6746 Q1820.12 39.2371 1820.12 49.9314 Q1820.12 60.6258 1814.93 67.1883 Q1809.79 73.7508 1801.53 73.7508 Q1796.54 73.7508 1792.94 71.8063 Q1789.37 69.8214 1787.02 65.7705 M1812.38 49.9314 Q1812.38 41.7081 1808.98 37.0496 Q1805.62 32.3505 1799.7 32.3505 Q1793.79 32.3505 1790.39 37.0496 Q1787.02 41.7081 1787.02 49.9314 Q1787.02 58.1548 1790.39 62.8538 Q1793.79 67.5124 1799.7 67.5124 Q1805.62 67.5124 1808.98 62.8538 Q1812.38 58.1548 1812.38 49.9314 Z\" fill=\"#000000\" fill-rule=\"evenodd\" fill-opacity=\"1\" /><path clip-path=\"url(#clip430)\" d=\"M1861.32 65.6895 L1874.68 65.6895 L1874.68 19.5497 L1860.14 22.4663 L1860.14 15.0127 L1874.6 12.096 L1882.79 12.096 L1882.79 65.6895 L1896.15 65.6895 L1896.15 72.576 L1861.32 72.576 L1861.32 65.6895 Z\" fill=\"#000000\" fill-rule=\"evenodd\" fill-opacity=\"1\" /><path clip-path=\"url(#clip430)\" d=\"M1930.18 17.4837 Q1923.86 17.4837 1920.66 23.7221 Q1917.5 29.92 1917.5 42.3968 Q1917.5 54.833 1920.66 61.0714 Q1923.86 67.2693 1930.18 67.2693 Q1936.54 67.2693 1939.7 61.0714 Q1942.9 54.833 1942.9 42.3968 Q1942.9 29.92 1939.7 23.7221 Q1936.54 17.4837 1930.18 17.4837 M1930.18 11.0023 Q1940.35 11.0023 1945.7 19.0636 Q1951.08 27.0843 1951.08 42.3968 Q1951.08 57.6687 1945.7 65.73 Q1940.35 73.7508 1930.18 73.7508 Q1920.01 73.7508 1914.63 65.73 Q1909.28 57.6687 1909.28 42.3968 Q1909.28 27.0843 1914.63 19.0636 Q1920.01 11.0023 1930.18 11.0023 Z\" fill=\"#000000\" fill-rule=\"evenodd\" fill-opacity=\"1\" /><path clip-path=\"url(#clip430)\" d=\"M1963.24 9.62495 L1969.72 9.62495 Q1975.8 19.1851 1978.79 28.3401 Q1981.83 37.4952 1981.83 46.5287 Q1981.83 55.6027 1978.79 64.7983 Q1975.8 73.9938 1969.72 83.5134 L1963.24 83.5134 Q1968.63 74.2369 1971.26 65.0818 Q1973.93 55.8863 1973.93 46.5287 Q1973.93 37.1711 1971.26 28.0566 Q1968.63 18.942 1963.24 9.62495 Z\" fill=\"#000000\" fill-rule=\"evenodd\" fill-opacity=\"1\" /><polyline clip-path=\"url(#clip432)\" style=\"stroke:#009af9; stroke-linecap:butt; stroke-linejoin:round; stroke-width:4; stroke-opacity:1; fill:none\" points=\"\n",
       "  349.942,160.256 499.517,484.353 649.093,797.602 798.668,982.385 948.243,610.639 1097.82,1132.08 1247.39,1078 1396.97,882.716 1546.54,661.343 1696.12,889.151 \n",
       "  1845.7,1277.19 1995.27,1116.9 2144.85,935.957 2294.42,736.883 \n",
       "  \"/>\n",
       "<polyline clip-path=\"url(#clip432)\" style=\"stroke:#e26f46; stroke-linecap:butt; stroke-linejoin:round; stroke-width:4; stroke-opacity:1; fill:none\" points=\"\n",
       "  349.942,364.346 499.517,1100.97 649.093,1073.18 798.668,423.488 948.243,558.04 1097.82,706.226 1247.39,1386.4 1396.97,847.611 1546.54,731.354 1696.12,818.481 \n",
       "  1845.7,187.194 1995.27,412.023 2144.85,492.845 \n",
       "  \"/>\n",
       "<polyline clip-path=\"url(#clip432)\" style=\"stroke:#3da44d; stroke-linecap:butt; stroke-linejoin:round; stroke-width:4; stroke-opacity:1; fill:none\" points=\"\n",
       "  349.942,160.256 499.517,550.505 649.093,840.037 798.668,654.096 948.243,1035.06 1097.82,862.763 1247.39,944.207 1396.97,804.143 1546.54,870.53 1696.12,1259.76 \n",
       "  1845.7,690.281 1995.27,946.561 2144.85,1060.92 2294.42,829.233 \n",
       "  \"/>\n",
       "<polyline clip-path=\"url(#clip432)\" style=\"stroke:#c271d2; stroke-linecap:butt; stroke-linejoin:round; stroke-width:4; stroke-opacity:1; fill:none\" points=\"\n",
       "  349.942,160.256 499.517,774.899 649.093,918.851 798.668,454.891 948.243,643.847 1097.82,1013.42 1247.39,1207.4 1396.97,1046.19 1546.54,844.168 1696.12,758.568 \n",
       "  1845.7,838.694 1995.27,1050.16 2144.85,827.463 2294.42,880.268 \n",
       "  \"/>\n",
       "<polyline clip-path=\"url(#clip432)\" style=\"stroke:#ac8d18; stroke-linecap:butt; stroke-linejoin:round; stroke-width:4; stroke-opacity:1; fill:none\" points=\"\n",
       "  349.942,160.256 499.517,688.069 649.093,783.674 798.668,729.314 948.243,1076.75 1097.82,797.008 1247.39,1003.25 1396.97,580.532 1546.54,989.883 1696.12,1007.83 \n",
       "  1845.7,958.956 1995.27,970.238 2144.85,770.592 2294.42,780.657 \n",
       "  \"/>\n",
       "<polyline clip-path=\"url(#clip432)\" style=\"stroke:#00a9ad; stroke-linecap:butt; stroke-linejoin:round; stroke-width:4; stroke-opacity:1; fill:none\" points=\"\n",
       "  349.942,160.256 499.517,774.899 649.093,629.337 798.668,803.904 948.243,644.341 1097.82,957.452 1247.39,1170 1396.97,964.346 1546.54,915.243 1696.12,706.742 \n",
       "  1845.7,1283.87 1995.27,1038.14 2144.85,724.862 2294.42,1068.19 \n",
       "  \"/>\n",
       "<polyline clip-path=\"url(#clip432)\" style=\"stroke:#ed5d92; stroke-linecap:butt; stroke-linejoin:round; stroke-width:4; stroke-opacity:1; fill:none\" points=\"\n",
       "  349.942,160.256 499.517,774.899 649.093,804.534 798.668,790.13 948.243,627.988 1097.82,866.729 1247.39,1014.79 1396.97,1010.7 1546.54,584.255 1696.12,935.659 \n",
       "  1845.7,989.772 1995.27,1080.33 2144.85,1045.91 2294.42,937.4 \n",
       "  \"/>\n",
       "<polyline clip-path=\"url(#clip432)\" style=\"stroke:#c68125; stroke-linecap:butt; stroke-linejoin:round; stroke-width:4; stroke-opacity:1; fill:none\" points=\"\n",
       "  349.942,160.256 499.517,774.899 649.093,629.337 798.668,776.111 948.243,881.265 1097.82,969.174 1247.39,800.167 1396.97,776.533 1546.54,1234.18 1696.12,1025.84 \n",
       "  1845.7,727.577 1995.27,797.07 2144.85,833.772 2294.42,599.516 \n",
       "  \"/>\n",
       "<polyline clip-path=\"url(#clip432)\" style=\"stroke:#00a98d; stroke-linecap:butt; stroke-linejoin:round; stroke-width:4; stroke-opacity:1; fill:none\" points=\"\n",
       "  349.942,160.256 499.517,774.899 649.093,629.337 798.668,856.887 948.243,842.948 1097.82,915.441 1247.39,893.01 1396.97,909.774 1546.54,765.945 1696.12,954.171 \n",
       "  1845.7,1087.41 1995.27,1011.38 2144.85,1185.71 2294.42,534.588 \n",
       "  \"/>\n",
       "<polyline clip-path=\"url(#clip432)\" style=\"stroke:#8e971d; stroke-linecap:butt; stroke-linejoin:round; stroke-width:4; stroke-opacity:1; fill:none\" points=\"\n",
       "  349.942,160.256 499.517,432.795 649.093,831.719 798.668,905.558 948.243,1010.27 1097.82,905.747 1247.39,856.94 1396.97,947.079 1546.54,733.812 1696.12,1143.51 \n",
       "  1845.7,960.138 1995.27,760.045 2144.85,767.526 2294.42,798.009 \n",
       "  \"/>\n",
       "</svg>\n"
      ]
     },
     "execution_count": 14,
     "metadata": {},
     "output_type": "execute_result"
    }
   ],
   "source": [
    "acc_paths = []\n",
    "\n",
    "for path in collect(keys(sol))\n",
    "    AdaStress.Solvers.replay!(mdp, path)\n",
    "    vs = getindex.(mdp.sim.log[:ped], 2)\n",
    "    push!(acc_paths, diff(vs))\n",
    "end\n",
    "\n",
    "p = plot(title=\"Pedestrian acceleration (top $(length(acc_paths)))\", xlabel=\"t [s]\", ylabel=\"a [m/s\\$^2\\$]\")\n",
    "for acc in acc_paths\n",
    "    plot!(p, acc; label=false)\n",
    "end\n",
    "p"
   ]
  },
  {
   "cell_type": "code",
   "execution_count": null,
   "id": "arctic-brooklyn",
   "metadata": {},
   "outputs": [],
   "source": []
  }
 ],
 "metadata": {
  "kernelspec": {
   "display_name": "Julia 1.7.0",
   "language": "julia",
   "name": "julia-1.7"
  },
  "language_info": {
   "file_extension": ".jl",
   "mimetype": "application/julia",
   "name": "julia",
   "version": "1.7.0"
  }
 },
 "nbformat": 4,
 "nbformat_minor": 5
}
