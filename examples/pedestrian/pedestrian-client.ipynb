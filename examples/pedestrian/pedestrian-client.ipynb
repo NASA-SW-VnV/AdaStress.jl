{
 "cells": [
  {
   "cell_type": "markdown",
   "id": "lined-leather",
   "metadata": {},
   "source": [
    "# Pedestrian avoidance system for self-driving car (client-side)\n",
    "\n",
    "This example demonstrates AdaStress's remote stress testing capabilities with an example scenario: Alice has designed a pedestrian avoidance system for her self-driving car and would like to make use of Bob's stress testing infrastructure. For reasons of confidentiality and/or security, Alice does not wish to share or reveal the system software.\n",
    "\n",
    "AdaStress provides an interface by which Bob may connect securely to a server belonging to Alice and perform stress testing. An information gap ensures that he receives no information about the system or its behavior, other than the limited information that Alice chooses to share.\n",
    "\n",
    "In this scenario, Alice chooses the option that affords maximum privacy: a blackbox salted seed-action simulation. No information about the state or action space is shared, and all seeds are rehashed with a private token. This ensures that Bob could not independently reproduce any failures he finds, even given an exact copy of Alice's software.\n",
    "\n",
    "*This notebook contains the client-side implementation, consisting of the client and solver.*"
   ]
  },
  {
   "cell_type": "code",
   "execution_count": 1,
   "id": "celtic-clerk",
   "metadata": {},
   "outputs": [
    {
     "name": "stderr",
     "output_type": "stream",
     "text": [
      "\u001b[32m\u001b[1m  Activating\u001b[22m\u001b[39m environment at `C:\\Users\\rlipkis\\.julia\\dev\\adastress\\examples\\pedestrian\\Project.toml`\n"
     ]
    }
   ],
   "source": [
    "using Pkg\n",
    "Pkg.activate(\".\")\n",
    "Pkg.instantiate()"
   ]
  },
  {
   "cell_type": "code",
   "execution_count": 2,
   "id": "ongoing-regulation",
   "metadata": {},
   "outputs": [
    {
     "name": "stderr",
     "output_type": "stream",
     "text": [
      "┌ Info: Precompiling AdaStress [f8632b6a-8763-4da0-bfaf-5f7707adef25]\n",
      "└ @ Base loading.jl:1317\n"
     ]
    }
   ],
   "source": [
    "using AdaStress\n",
    "using AdaStress.MonteCarloTreeSearch\n",
    "using Random"
   ]
  },
  {
   "cell_type": "code",
   "execution_count": 3,
   "id": "pacific-nation",
   "metadata": {},
   "outputs": [
    {
     "data": {
      "text/plain": [
       "mdp_client (generic function with 1 method)"
      ]
     },
     "execution_count": 3,
     "metadata": {},
     "output_type": "execute_result"
    }
   ],
   "source": [
    "function mdp_client()\n",
    "    client = Interface.ASTClient{Interface.UnobservableState, Interface.SeedAction}()\n",
    "    Interface.connect!(client, Interface.getipaddr(), 2000)\n",
    "    return client\n",
    "end"
   ]
  },
  {
   "cell_type": "code",
   "execution_count": 4,
   "id": "forced-poker",
   "metadata": {},
   "outputs": [
    {
     "data": {
      "text/plain": [
       "MCTS(10000, 10, 1.0, 0.85, 1.0, nothing)"
      ]
     },
     "execution_count": 4,
     "metadata": {},
     "output_type": "execute_result"
    }
   ],
   "source": [
    "mcts = MCTS(num_iterations=10_000, α=0.85)"
   ]
  },
  {
   "cell_type": "code",
   "execution_count": 5,
   "id": "brutal-brooklyn",
   "metadata": {},
   "outputs": [
    {
     "name": "stderr",
     "output_type": "stream",
     "text": [
      "┌ Info: Connected to AST server in 0.0320276 seconds.\n",
      "│   client.conn = Sockets.TCPSocket(Base.Libc.WindowsRawSocket(0x0000000000001130) open, 0 bytes waiting)\n",
      "└ @ AdaStress.Interface C:\\Users\\rlipkis\\.julia\\dev\\AdaStress\\src\\interface\\remote\\client.jl:33\n",
      "\u001b[32mProgress: 100%|█████████████████████████████████████████| Time: 0:02:21\u001b[39m\n"
     ]
    },
    {
     "data": {
      "text/plain": [
       "DataStructures.PriorityQueue{Any, Any, Base.Order.ForwardOrdering} with 10 entries:\n",
       "  UInt32[0xe5e0c783, 0xc7bb0a3d, 0x57a89aa5, 0xe02f0396, 0x3cdcca20,… => 1084.57\n",
       "  UInt32[0xe5e0c783, 0xc7e4cd8a, 0x4c80391e, 0x1021b9d2, 0xbcc4cbd5,… => 1084.6\n",
       "  UInt32[0xe5e0c783, 0xe535ba11, 0xdd294da9, 0xd8dbd174, 0xe7ebc2fd,… => 1084.61\n",
       "  UInt32[0xe5e0c783, 0xb3118e31, 0x1dd32a10, 0x517971ca, 0xcd0a4974,… => 1084.7\n",
       "  UInt32[0xe5e0c783, 0xe535ba11, 0x4dad7963, 0xabe979b4, 0xfede8c05,… => 1084.84\n",
       "  UInt32[0xe5e0c783, 0x7f9e1498, 0x673b6fa1, 0x8b7ec923, 0xfb6e0c1c,… => 1084.97\n",
       "  UInt32[0xe5e0c783, 0xe62d20d1, 0x1bd877d5, 0x2412d807, 0xac738344,… => 1085.08\n",
       "  UInt32[0xe5e0c783, 0xa515af0a, 0x412e94a8, 0x6def48c7, 0x0bb3d802,… => 1086.73\n",
       "  UInt32[0xe5e0c783, 0x710fdc45, 0x08a9a46b, 0x90c278e4, 0x2a5dacce,… => 1086.98\n",
       "  UInt32[0xe5e0c783, 0xc7bb0a3d, 0x96cbaddc, 0xdbebcc3c, 0xa41602e3,… => 1087.03"
      ]
     },
     "execution_count": 5,
     "metadata": {},
     "output_type": "execute_result"
    }
   ],
   "source": [
    "Random.seed!(0)\n",
    "sol = mcts(mdp_client)"
   ]
  },
  {
   "cell_type": "code",
   "execution_count": 6,
   "id": "angry-speed",
   "metadata": {},
   "outputs": [
    {
     "name": "stdout",
     "output_type": "stream",
     "text": [
      "MonteCarloTreeSearch.total_size(mcts.tree) = 10000\n",
      "MonteCarloTreeSearch.max_depth(mcts.tree) = 8\n"
     ]
    }
   ],
   "source": [
    "@show MonteCarloTreeSearch.total_size(mcts.tree);\n",
    "@show MonteCarloTreeSearch.max_depth(mcts.tree);"
   ]
  },
  {
   "cell_type": "code",
   "execution_count": 7,
   "id": "competitive-apollo",
   "metadata": {},
   "outputs": [],
   "source": [
    "using BSON"
   ]
  },
  {
   "cell_type": "code",
   "execution_count": 8,
   "id": "gentle-strengthening",
   "metadata": {},
   "outputs": [],
   "source": [
    "BSON.@save \"best_paths.bson\" sol"
   ]
  },
  {
   "cell_type": "code",
   "execution_count": null,
   "id": "superb-requirement",
   "metadata": {},
   "outputs": [],
   "source": []
  }
 ],
 "metadata": {
  "kernelspec": {
   "display_name": "Julia 1.6.0",
   "language": "julia",
   "name": "julia-1.6"
  },
  "language_info": {
   "file_extension": ".jl",
   "mimetype": "application/julia",
   "name": "julia",
   "version": "1.6.0"
  }
 },
 "nbformat": 4,
 "nbformat_minor": 5
}
