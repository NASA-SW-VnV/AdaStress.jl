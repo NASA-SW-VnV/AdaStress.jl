{
 "cells": [
  {
   "cell_type": "markdown",
   "id": "lined-leather",
   "metadata": {},
   "source": [
    "# Pedestrian avoidance system for self-driving car (client-side)\n",
    "\n",
    "This example demonstrates AdaStress's remote stress testing capabilities with an example scenario: Alice has designed a pedestrian avoidance system for her self-driving car and would like to make use of Bob's stress testing infrastructure. For reasons of confidentiality and/or security, Alice does not wish to share or reveal the system software.\n",
    "\n",
    "AdaStress provides an interface by which Bob may connect securely to a server belonging to Alice and perform stress testing. An information gap ensures that he receives no information about the system or its behavior, other than the limited information that Alice chooses to share.\n",
    "\n",
    "In this scenario, Alice chooses the option that affords maximum privacy: a blackbox salted seed-action simulation. No information about the state or action space is shared, and all seeds are rehashed with a private token. This ensures that Bob could not independently reproduce any failures he finds, even given an exact copy of Alice's software.\n",
    "\n",
    "*This notebook contains the client-side implementation, consisting of the client and solver.*"
   ]
  },
  {
   "cell_type": "code",
   "execution_count": 1,
   "id": "celtic-clerk",
   "metadata": {
    "scrolled": true
   },
   "outputs": [
    {
     "name": "stderr",
     "output_type": "stream",
     "text": [
      "\u001b[32m\u001b[1m  Activating\u001b[22m\u001b[39m project at `C:\\Users\\rlipkis\\.julia\\dev\\adastress\\examples\\pedestrian`\n",
      "\u001b[32m\u001b[1m   Resolving\u001b[22m\u001b[39m package versions...\n",
      "\u001b[32m\u001b[1m  No Changes\u001b[22m\u001b[39m to `C:\\Users\\rlipkis\\.julia\\dev\\adastress\\examples\\pedestrian\\Project.toml`\n",
      "\u001b[32m\u001b[1m  No Changes\u001b[22m\u001b[39m to `C:\\Users\\rlipkis\\.julia\\dev\\adastress\\examples\\pedestrian\\Manifest.toml`\n"
     ]
    }
   ],
   "source": [
    "using Pkg\n",
    "Pkg.activate(\".\")\n",
    "Pkg.develop(path=\"../..\")\n",
    "Pkg.instantiate()"
   ]
  },
  {
   "cell_type": "code",
   "execution_count": 2,
   "id": "ongoing-regulation",
   "metadata": {},
   "outputs": [],
   "source": [
    "using AdaStress\n",
    "using AdaStress.MonteCarloTreeSearch\n",
    "using Random"
   ]
  },
  {
   "cell_type": "code",
   "execution_count": 3,
   "id": "metropolitan-charm",
   "metadata": {},
   "outputs": [
    {
     "data": {
      "text/plain": [
       "AdaStress.Interface.ASTClient(ip\"156.68.48.136\", 2000, nothing, false, false, false, Any[])"
      ]
     },
     "execution_count": 3,
     "metadata": {},
     "output_type": "execute_result"
    }
   ],
   "source": [
    "client = Interface.ASTClient(; ip=Interface.getipaddr(), port=2000)"
   ]
  },
  {
   "cell_type": "code",
   "execution_count": 4,
   "id": "challenging-switch",
   "metadata": {},
   "outputs": [
    {
     "name": "stderr",
     "output_type": "stream",
     "text": [
      "┌ Info: ASTServer responded in 1666 milliseconds.\n",
      "└ @ AdaStress.Interface C:\\Users\\rlipkis\\.julia\\dev\\adastress\\src\\interface\\remote\\client.jl:131\n"
     ]
    }
   ],
   "source": [
    "Interface.connect!(client)"
   ]
  },
  {
   "cell_type": "code",
   "execution_count": 5,
   "id": "forced-poker",
   "metadata": {},
   "outputs": [
    {
     "data": {
      "text/plain": [
       "MCTS(10000, 10, 1.0, 0.85, 1.0, nothing)"
      ]
     },
     "execution_count": 5,
     "metadata": {},
     "output_type": "execute_result"
    }
   ],
   "source": [
    "mcts = MCTS(num_iterations=10_000, α=0.85)"
   ]
  },
  {
   "cell_type": "code",
   "execution_count": 6,
   "id": "brutal-brooklyn",
   "metadata": {},
   "outputs": [
    {
     "name": "stderr",
     "output_type": "stream",
     "text": [
      "\u001b[32mProgress: 100%|█████████████████████████████████████████| Time: 0:01:51\u001b[39m\n"
     ]
    },
    {
     "data": {
      "text/plain": [
       "DataStructures.PriorityQueue{Any, Any, Base.Order.ForwardOrdering} with 10 entries:\n",
       "  MCTSResult(UInt32[0xe67d225b, 0x5f9be755, 0x0aed2eeb, 0x26840a96, … => 1087.52\n",
       "  MCTSResult(UInt32[0xef05d725, 0xde2fae7c, 0x2cf7afe5, 0x512ae58c, … => 1087.8\n",
       "  MCTSResult(UInt32[0xe67d225b, 0xaccaa267, 0x9944dbf8, 0x20727eff, … => 1087.81\n",
       "  MCTSResult(UInt32[0xe67d225b, 0x34e1b7a5, 0x27d8ee5b, 0x4d041c41, … => 1087.82\n",
       "  MCTSResult(UInt32[0xe67d225b, 0xd21aebe7, 0xd339f33c, 0x6847add5, … => 1087.86\n",
       "  MCTSResult(UInt32[0xe67d225b, 0x34e1b7a5, 0x900a8fe4, 0xc1741547, … => 1087.87\n",
       "  MCTSResult(UInt32[0xe67d225b, 0x34e1b7a5, 0xe3ebdc90, 0x0daa5991, … => 1088.13\n",
       "  MCTSResult(UInt32[0xe67d225b, 0x34e1b7a5, 0x900a8fe4, 0xab3981e6, … => 1088.23\n",
       "  MCTSResult(UInt32[0xe67d225b, 0x34e1b7a5, 0x900a8fe4, 0x3a475166, … => 1088.29\n",
       "  MCTSResult(UInt32[0xe67d225b, 0x17803b35, 0x78726223, 0x7ea848d4, … => 1088.46"
      ]
     },
     "execution_count": 6,
     "metadata": {},
     "output_type": "execute_result"
    }
   ],
   "source": [
    "Random.seed!(0)\n",
    "sol = mcts(() -> Interface.generate_mdp(client))"
   ]
  },
  {
   "cell_type": "code",
   "execution_count": 7,
   "id": "angry-speed",
   "metadata": {},
   "outputs": [
    {
     "name": "stdout",
     "output_type": "stream",
     "text": [
      "MonteCarloTreeSearch.total_size(mcts.tree) = 10000\n",
      "MonteCarloTreeSearch.max_depth(mcts.tree) = 8\n"
     ]
    }
   ],
   "source": [
    "@show MonteCarloTreeSearch.total_size(mcts.tree);\n",
    "@show MonteCarloTreeSearch.max_depth(mcts.tree);"
   ]
  },
  {
   "cell_type": "code",
   "execution_count": 8,
   "id": "competitive-apollo",
   "metadata": {},
   "outputs": [],
   "source": [
    "using BSON"
   ]
  },
  {
   "cell_type": "code",
   "execution_count": 9,
   "id": "gentle-strengthening",
   "metadata": {},
   "outputs": [],
   "source": [
    "BSON.@save \"best_paths.bson\" sol"
   ]
  },
  {
   "cell_type": "code",
   "execution_count": null,
   "id": "superb-requirement",
   "metadata": {},
   "outputs": [],
   "source": []
  }
 ],
 "metadata": {
  "kernelspec": {
   "display_name": "Julia 1.7.0",
   "language": "julia",
   "name": "julia-1.7"
  },
  "language_info": {
   "file_extension": ".jl",
   "mimetype": "application/julia",
   "name": "julia",
   "version": "1.7.0"
  }
 },
 "nbformat": 4,
 "nbformat_minor": 5
}
