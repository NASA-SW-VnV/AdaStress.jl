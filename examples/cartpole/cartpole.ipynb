{
 "cells": [
  {
   "cell_type": "markdown",
   "source": [
    "# Cartpole Example\n",
    "This example demonstrates global adversarial stress testing in the classic cartpole environment. The system under test (SUT) is a pre-trained DQN controller with a very low natural rate of failure."
   ],
   "metadata": {}
  },
  {
   "cell_type": "code",
   "execution_count": null,
   "source": [
    "using Pkg\n",
    "Pkg.activate(\".\")\n",
    "Pkg.instantiate()"
   ],
   "outputs": [],
   "metadata": {}
  },
  {
   "cell_type": "markdown",
   "source": [
    "# Loading cart-pole controller (SUT)"
   ],
   "metadata": {}
  },
  {
   "cell_type": "code",
   "execution_count": null,
   "source": [
    "# to learn\n",
    "using ReinforcementLearning\n",
    "using ReinforcementLearningExperiments\n",
    "\n",
    "# to load\n",
    "using BSON\n",
    "using Flux\n",
    "using NNlib\n",
    "using Random\n",
    "using ReinforcementLearningCore\n",
    "using ReinforcementLearningZoo\n",
    "using StableRNGs"
   ],
   "outputs": [],
   "metadata": {}
  },
  {
   "cell_type": "code",
   "execution_count": null,
   "source": [
    "# This function can be invoked to re-train the DQN policy if desired.\n",
    "function learn_policy()\n",
    "    ex = E`JuliaRL_BasicDQN_CartPole`\n",
    "    ex.stop_condition = StopAfterStep(100_000)\n",
    "    run(ex)\n",
    "    learned_policy = ex.policy.policy\n",
    "    learned_policy.explorer.is_training = false\n",
    "    bson(\"dqn_policy.bson\", policy = learned_policy)\n",
    "end"
   ],
   "outputs": [],
   "metadata": {}
  },
  {
   "cell_type": "code",
   "execution_count": null,
   "source": [
    "load_policy() = BSON.load(\"dqn_policy.bson\")[:policy]"
   ],
   "outputs": [],
   "metadata": {}
  },
  {
   "cell_type": "markdown",
   "source": [
    "# Simulation"
   ],
   "metadata": {}
  },
  {
   "cell_type": "code",
   "execution_count": null,
   "source": [
    "using Random\r\n",
    "using CommonRLInterface\r\n",
    "using AdaStress\r\n",
    "import AdaStress.Interface as ASTInterface\r\n",
    "using Distributions\r\n",
    "using Plots\r\n",
    "using ProgressMeter\r\n",
    "ProgressMeter.ijulia_behavior(:clear)"
   ],
   "outputs": [],
   "metadata": {}
  },
  {
   "cell_type": "code",
   "execution_count": null,
   "source": [
    "Base.@kwdef mutable struct CartPoleSim <: ASTInterface.GrayBox\r\n",
    "    env::ReinforcementLearning.AbstractEnv = CartPoleEnv()\r\n",
    "    tmax::Float64 = 50.0 #100.0\r\n",
    "    pi::ReinforcementLearning.AbstractPolicy = load_policy()\r\n",
    "    x_dist::ASTInterface.Environment = ASTInterface.Environment(:wind => Normal(0.0, 0.01))\r\n",
    "    log::Dict{Symbol, Any} = Dict{Symbol, Any}()\r\n",
    "    logging::Bool = false\r\n",
    "end"
   ],
   "outputs": [],
   "metadata": {}
  },
  {
   "cell_type": "code",
   "execution_count": null,
   "source": [
    "function ASTInterface.reset!(sim::CartPoleSim)\r\n",
    "    ReinforcementLearning.reset!(sim.env)\r\n",
    "    if sim.logging\r\n",
    "        sim.log[:s] = []\r\n",
    "        sim.log[:x] = []\r\n",
    "        sim.log[:a] = []\r\n",
    "        push!(sim.log[:s], ASTInterface.observe(sim))\r\n",
    "    end\r\n",
    "end\r\n",
    "\r\n",
    "ASTInterface.environment(sim::CartPoleSim) = sim.x_dist\r\n",
    "\r\n",
    "ASTInterface.observe(sim::CartPoleSim) = copy(ReinforcementLearning.state(sim.env))\r\n",
    "\r\n",
    "function ASTInterface.step!(sim::CartPoleSim, x::ASTInterface.EnvironmentValue)\r\n",
    "    a = sim.pi(sim.env)\r\n",
    "    s = ReinforcementLearning.state(sim.env)\r\n",
    "    s[2] += x[:wind]\r\n",
    "    sim.env(a)\r\n",
    "    if sim.logging\r\n",
    "        push!(sim.log[:s], ASTInterface.observe(sim))\r\n",
    "        push!(sim.log[:x], x[:wind])\r\n",
    "        push!(sim.log[:a], a)\r\n",
    "    end     \r\n",
    "end\r\n",
    "\r\n",
    "ASTInterface.isterminal(sim::CartPoleSim) = sim.env.t >= sim.tmax\r\n",
    "\r\n",
    "function ASTInterface.isevent(sim::CartPoleSim)\r\n",
    "    state, params = sim.env.state, sim.env.params\r\n",
    "    return abs(state[1]) > params.xthreshold || abs(state[3]) > params.thetathreshold\r\n",
    "end\r\n",
    "\r\n",
    "interval_dist(x::Real, r::Real) = interval_dist(x, -r, r)\r\n",
    "\r\n",
    "interval_dist(x::Real, l::Real, u::Real) = (l < x < u) ? min(x - l, u - x) : zero(x)\r\n",
    "\r\n",
    "function ASTInterface.distance(sim::CartPoleSim)\r\n",
    "    s = ReinforcementLearning.state(sim.env)\r\n",
    "    dx = interval_dist(s[1], sim.env.params.xthreshold)\r\n",
    "    dθ = interval_dist(s[3], sim.env.params.thetathreshold)\r\n",
    "    d = sqrt(dx^2 + dθ^2)\r\n",
    "    return d\r\n",
    "end"
   ],
   "outputs": [],
   "metadata": {}
  },
  {
   "cell_type": "markdown",
   "source": [
    "# Trajectory examples"
   ],
   "metadata": {}
  },
  {
   "cell_type": "code",
   "execution_count": null,
   "source": [
    "Random.seed!(0)\r\n",
    "p = plot()\r\n",
    "sim = CartPoleSim(logging=true)\r\n",
    "\r\n",
    "for _ in 1:100\r\n",
    "    ASTInterface.reset!(sim)\r\n",
    "    while !(ASTInterface.isterminal(sim) || ASTInterface.isevent(sim))\r\n",
    "        x = rand(sim.x_dist; flat=false)\r\n",
    "        ASTInterface.step!(sim, x)\r\n",
    "    end\r\n",
    "    τ = collect(1:length(sim.log[:s]))\r\n",
    "    q = getindex.(sim.log[:s], 3)\r\n",
    "    plot!(p, τ, q, label=:none, lc=:black, alpha=0.1)\r\n",
    "    scatter!(p, [τ[1]], [q[1]], mc=:green, ms=2.0, label=:none)\r\n",
    "    scatter!(p, [τ[end]], [q[end]], mc=:red, ms=2.0, label=:none)\r\n",
    "end\r\n",
    "p"
   ],
   "outputs": [],
   "metadata": {}
  },
  {
   "cell_type": "markdown",
   "source": [
    "# Failure prevalence"
   ],
   "metadata": {}
  },
  {
   "cell_type": "code",
   "execution_count": null,
   "source": [
    "Random.seed!(0)\r\n",
    "c = 0\r\n",
    "N = 1_000_000\r\n",
    "\r\n",
    "ASTInterface.reset!(sim)\r\n",
    "@showprogress for _ in 1:N\r\n",
    "    x = rand(sim.x_dist; flat=false)\r\n",
    "    ASTInterface.step!(sim, x)\r\n",
    "    d, e = ASTInterface.isterminal(sim), ASTInterface.isevent(sim)\r\n",
    "    c += e\r\n",
    "    (d || e) && ASTInterface.reset!(sim)\r\n",
    "end\r\n",
    "rate = c / N"
   ],
   "outputs": [],
   "metadata": {}
  },
  {
   "cell_type": "markdown",
   "source": [
    "# Failure trajectory example"
   ],
   "metadata": {}
  },
  {
   "cell_type": "code",
   "execution_count": null,
   "source": [
    "Random.seed!(0)\r\n",
    "num_eps = 100_000\r\n",
    "\r\n",
    "@showprogress for _ in 1:num_eps\r\n",
    "    ASTInterface.reset!(sim)\r\n",
    "    while !(ASTInterface.isterminal(sim) || ASTInterface.isevent(sim))\r\n",
    "        x = rand(sim.x_dist; flat=false)\r\n",
    "        ASTInterface.step!(sim, x)\r\n",
    "    end\r\n",
    "    ASTInterface.isevent(sim) && break\r\n",
    "end\r\n",
    "plot(getindex.(sim.log[:s], 3); grid=true, minorgrid=true, ga=0.5)"
   ],
   "outputs": [],
   "metadata": {}
  },
  {
   "cell_type": "markdown",
   "source": [
    "# AST"
   ],
   "metadata": {}
  },
  {
   "cell_type": "code",
   "execution_count": null,
   "source": [
    "function mdp_env(σ::Float64)\r\n",
    "    mdp = ASTInterface.ASTMDP(CartPoleSim())\r\n",
    "    mdp.reward.event_bonus = 100.0\r\n",
    "    mdp.sim.x_dist[:wind] = Normal(0.0, σ)\r\n",
    "    return mdp\r\n",
    "end"
   ],
   "outputs": [],
   "metadata": {}
  },
  {
   "cell_type": "markdown",
   "source": [
    "# Single run"
   ],
   "metadata": {}
  },
  {
   "cell_type": "code",
   "execution_count": null,
   "source": [
    "Random.seed!(0)\r\n",
    "\r\n",
    "sac = AdaStress.SoftActorCritic.SAC(;\r\n",
    "    obs_dim=4, \r\n",
    "    act_dim=1,\r\n",
    "    act_mins=-3.0*ones(1),\r\n",
    "    act_maxs=3.0*ones(1),\r\n",
    "    hidden_sizes=[30,30,30],\r\n",
    "    q_optimizer=AdaStress.SoftActorCritic.AdaBelief(1e-4),\r\n",
    "    pi_optimizer=AdaStress.SoftActorCritic.AdaBelief(1e-4),\r\n",
    "    alpha_optimizer=AdaStress.SoftActorCritic.AdaBelief(1e-4),\r\n",
    "    gamma=1.0,\r\n",
    "    num_q=3,\r\n",
    "    max_buffer_size=100_000,\r\n",
    "    batch_size=1024,\r\n",
    "    epochs=100,\r\n",
    "    steps_per_epoch=1_000,\r\n",
    "    start_steps=10_000,\r\n",
    "    max_ep_len=100,\r\n",
    "    update_after=10_000,\r\n",
    "    update_every=1_000,\r\n",
    "    num_batches=10,\r\n",
    "    num_test_episodes=100,\r\n",
    "    displays=[(:fails, mdp->ASTInterface.isevent(mdp.sim))]\r\n",
    ")\r\n",
    "\r\n",
    "ac, info = sac(() -> mdp_env(0.1))"
   ],
   "outputs": [],
   "metadata": {}
  },
  {
   "cell_type": "code",
   "execution_count": null,
   "source": [
    "plot(info[\"score\"]; label=:none)"
   ],
   "outputs": [],
   "metadata": {}
  },
  {
   "cell_type": "code",
   "execution_count": null,
   "source": [
    "plot(info[\"fails\"]; label=:none)"
   ],
   "outputs": [],
   "metadata": {}
  },
  {
   "cell_type": "code",
   "execution_count": null,
   "source": [
    "plot(info[\"stdev\"]; label=:none)"
   ],
   "outputs": [],
   "metadata": {
    "scrolled": false
   }
  },
  {
   "cell_type": "markdown",
   "source": [
    "# Sample trajectories"
   ],
   "metadata": {}
  },
  {
   "cell_type": "code",
   "execution_count": null,
   "source": [
    "Random.seed!(0)\r\n",
    "pθ = plot(; title=\"\\\\theta\", ga=0.5, minorgrid=true, minorgridalpha=0.25)\r\n",
    "px = plot(; title=\"x\", ga=0.5, minorgrid=true, minorgridalpha=0.25)\r\n",
    "mdp = mdp_env(0.1)\r\n",
    "mdp.sim.logging = true\r\n",
    "\r\n",
    "for _ in 1:100\r\n",
    "    CommonRLInterface.reset!(mdp)\r\n",
    "    while !terminated(mdp)\r\n",
    "        a = ac(Float32.(CommonRLInterface.observe(mdp)), true)\r\n",
    "        act!(mdp, a)\r\n",
    "    end\r\n",
    "    \r\n",
    "    τ = collect(1:length(mdp.sim.log[:s]))\r\n",
    "    \r\n",
    "    θ = getindex.(mdp.sim.log[:s], 3)\r\n",
    "    plot!(pθ, τ, θ, label=:none, lc=:black, alpha=0.25)\r\n",
    "    scatter!(pθ, [τ[1]], [θ[1]], mc=:green, ms=2.0, label=:none)\r\n",
    "    scatter!(pθ, [τ[end]], [θ[end]], mc=:red, ms=2.0, label=:none)\r\n",
    "    \r\n",
    "    x = getindex.(mdp.sim.log[:s], 1)\r\n",
    "    plot!(px, τ, x, label=:none, lc=:black, alpha=0.25)\r\n",
    "    scatter!(px, [τ[1]], [x[1]], mc=:green, ms=2.0, label=:none)\r\n",
    "    scatter!(px, [τ[end]], [x[end]], mc=:red, ms=2.0, label=:none)\r\n",
    "end\r\n",
    "display(pθ)\r\n",
    "display(px)"
   ],
   "outputs": [],
   "metadata": {}
  },
  {
   "cell_type": "code",
   "execution_count": null,
   "source": [
    "plot(mdp.sim.log[:x]; title=\"Sample disturbance\", label=:none, lc=:black, ga=0.5, minorgrid=true, minorgridalpha=0.25)"
   ],
   "outputs": [],
   "metadata": {}
  },
  {
   "cell_type": "markdown",
   "source": [
    "# Animation"
   ],
   "metadata": {}
  },
  {
   "cell_type": "code",
   "execution_count": null,
   "source": [
    "function Circle(xc::Real, yc::Real, r::Real; n::Int64=100)\r\n",
    "    θ = range(0, 2π; length=n+1)\r\n",
    "    xs = @. xc + r*cos(θ)\r\n",
    "    ys = @. yc + r*sin(θ)\r\n",
    "    return Shape(xs, ys)\r\n",
    "end\r\n",
    "\r\n",
    "function Rectangle(xc::Real, yc::Real, l::Real, h::Real)\r\n",
    "    xs = [xc - l/2, xc + l/2, xc + l/2, xc - l/2]\r\n",
    "    ys = [yc - h/2, yc - h/2, yc + h/2, yc + h/2]\r\n",
    "    return Shape(xs, ys)\r\n",
    "end"
   ],
   "outputs": [],
   "metadata": {}
  },
  {
   "cell_type": "code",
   "execution_count": null,
   "source": [
    "function movie(sim::CartPoleSim, filename::String=\"animation\")\r\n",
    "    cart_length = 0.5\r\n",
    "    cart_height = 0.25\r\n",
    "    wheel_offset = 0.2\r\n",
    "    wheel_height = 0.025\r\n",
    "    wheel_radius = 0.05\r\n",
    "    pole_length = 1.0\r\n",
    "\r\n",
    "    x_grid = 10\r\n",
    "    y_grid = 5\r\n",
    "    σ_max = 3\r\n",
    "    xlim = sim.env.params.xthreshold * [-1, 1]\r\n",
    "    ylim = [0, cart_height + pole_length + 0.1]\r\n",
    "    xs = range(xlim..., length=x_grid)\r\n",
    "    ys = range(ylim..., length=y_grid)\r\n",
    "    X = [x for x in xs for y in ys]\r\n",
    "    Y = [y for x in xs for y in ys]\r\n",
    "    h = xs[2] - xs[1]\r\n",
    "\r\n",
    "    log = sim.log\r\n",
    "    anim = @animate for i in 1:length(log[:s])\r\n",
    "        x = log[:s][i][1]\r\n",
    "        θ = log[:s][i][3]\r\n",
    "        i_trunc = min(i, length(log[:s]) - 1)\r\n",
    "        a = log[:a][i_trunc]\r\n",
    "        w = log[:x][i_trunc] * 10\r\n",
    "\r\n",
    "        # empty scene\r\n",
    "        p = plot(; \r\n",
    "            xlim=xlim, \r\n",
    "            ylim=ylim, \r\n",
    "            yaxis=false, \r\n",
    "            minorticks=10, \r\n",
    "            yticks=false, \r\n",
    "            aspect_ratio=:equal, \r\n",
    "            label=:none\r\n",
    "        )\r\n",
    "\r\n",
    "        # wind disturbance\r\n",
    "        quiver!(p, X, Y; quiver=(x,y)->[w, 0.0], lc=:dodgerblue)\r\n",
    "\r\n",
    "        # pole\r\n",
    "        color = abs(θ) < sim.env.params.thetathreshold ? :blue : :red\r\n",
    "        x_pole, y_pole = x, cart_height\r\n",
    "        xs = x_pole .+ [0, pole_length] * sin(θ)\r\n",
    "        ys = y_pole .+ [0, pole_length] * cos(θ)\r\n",
    "        plot!(p, xs, ys; lw=5, lc=color, label=:none)\r\n",
    "        scatter!(p, [xs[1]], [ys[1]]; ms=5, mc=color, label=:none)\r\n",
    "        scatter!(p, [xs[2]], [ys[2]]; ms=8, mc=color, label=:none)\r\n",
    "\r\n",
    "        # cart body\r\n",
    "        color = abs(x) < sim.env.params.xthreshold ? :gray : :red\r\n",
    "        plot!(p, Rectangle(x, cart_height/2, cart_length, cart_height); fill=color, label=:none)\r\n",
    "\r\n",
    "        # cart wheels\r\n",
    "        plot!(p, Circle(x + wheel_offset, wheel_height, wheel_radius); lw=2, fill=:gray, label=:none)\r\n",
    "        plot!(p, Circle(x - wheel_offset, wheel_height, wheel_radius); lw=2, fill=:gray, label=:none)\r\n",
    "\r\n",
    "        # controller force\r\n",
    "        dir = a == 2 ? 1 : -1\r\n",
    "        xs = (x - dir * cart_length / 2) * [1, 1] .- dir * [0.25, 0]\r\n",
    "        ys = cart_height / 2 * [1, 1] \r\n",
    "        plot!(p, xs, ys; arrow=true, lc=:red, lw=4, label=:none)\r\n",
    "\r\n",
    "        p\r\n",
    "    end\r\n",
    "\r\n",
    "    return gif(anim, \"$filename.mp4\", fps = 15)\r\n",
    "end"
   ],
   "outputs": [],
   "metadata": {
    "scrolled": true
   }
  },
  {
   "cell_type": "code",
   "execution_count": null,
   "source": [
    "Random.seed!(0)\r\n",
    "p = plot()\r\n",
    "mdp = mdp_env(0.1)\r\n",
    "mdp.sim.logging = true\r\n",
    "\r\n",
    "CommonRLInterface.reset!(mdp)\r\n",
    "while !terminated(mdp)\r\n",
    "    a = ac(Float32.(CommonRLInterface.observe(mdp)), true)\r\n",
    "    act!(mdp, a)\r\n",
    "end\r\n",
    "movie(mdp.sim)"
   ],
   "outputs": [],
   "metadata": {
    "scrolled": false
   }
  },
  {
   "cell_type": "code",
   "execution_count": null,
   "source": [],
   "outputs": [],
   "metadata": {}
  }
 ],
 "metadata": {
  "kernelspec": {
   "display_name": "Julia 1.6.0",
   "language": "julia",
   "name": "julia-1.6"
  },
  "language_info": {
   "file_extension": ".jl",
   "mimetype": "application/julia",
   "name": "julia",
   "version": "1.6.0"
  }
 },
 "nbformat": 4,
 "nbformat_minor": 5
}