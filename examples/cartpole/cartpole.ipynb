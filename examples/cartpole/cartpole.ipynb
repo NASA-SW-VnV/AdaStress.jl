{
 "cells": [
  {
   "cell_type": "markdown",
   "id": "brazilian-efficiency",
   "metadata": {},
   "source": [
    "# Cartpole Example\n",
    "This example demonstrates global adversarial stress testing in the classic cartpole environment. The system under test (SUT) is a pre-trained DQN controller with a very low natural rate of failure."
   ]
  },
  {
   "cell_type": "code",
   "execution_count": null,
   "id": "sensitive-preference",
   "metadata": {},
   "outputs": [],
   "source": [
    "using Pkg\n",
    "Pkg.activate(\".\")\n",
    "Pkg.instantiate()"
   ]
  },
  {
   "cell_type": "markdown",
   "id": "entitled-rating",
   "metadata": {},
   "source": [
    "# Loading cart-pole controller (SUT)"
   ]
  },
  {
   "cell_type": "code",
   "execution_count": null,
   "id": "fleet-immunology",
   "metadata": {},
   "outputs": [],
   "source": [
    "# to learn\n",
    "using ReinforcementLearning\n",
    "using ReinforcementLearningExperiments\n",
    "\n",
    "# to load\n",
    "using BSON\n",
    "using Flux\n",
    "using NNlib\n",
    "using Random\n",
    "using ReinforcementLearningCore\n",
    "using ReinforcementLearningZoo\n",
    "using StableRNGs"
   ]
  },
  {
   "cell_type": "code",
   "execution_count": null,
   "id": "capable-class",
   "metadata": {},
   "outputs": [],
   "source": [
    "# This function can be invoked to re-train the DQN policy if desired.\n",
    "function learn_policy()\n",
    "    ex = E`JuliaRL_BasicDQN_CartPole`\n",
    "    ex.stop_condition = StopAfterStep(100_000)\n",
    "    run(ex)\n",
    "    learned_policy = ex.policy.policy\n",
    "    learned_policy.explorer.is_training = false\n",
    "    bson(\"dqn_policy.bson\", policy = learned_policy)\n",
    "end"
   ]
  },
  {
   "cell_type": "code",
   "execution_count": null,
   "id": "laughing-notion",
   "metadata": {},
   "outputs": [],
   "source": [
    "load_policy() = BSON.load(\"dqn_policy.bson\")[:policy]"
   ]
  },
  {
   "cell_type": "markdown",
   "id": "fancy-zambia",
   "metadata": {},
   "source": [
    "# Simulation"
   ]
  },
  {
   "cell_type": "code",
   "execution_count": null,
   "id": "molecular-switch",
   "metadata": {},
   "outputs": [],
   "source": [
    "using Random\n",
    "using CommonRLInterface\n",
    "using AdaStress\n",
    "import AdaStress.Interface as ASTInterface\n",
    "using Distributions\n",
    "using Plots\n",
    "using ProgressMeter\n",
    "ProgressMeter.ijulia_behavior(:clear)"
   ]
  },
  {
   "cell_type": "code",
   "execution_count": null,
   "id": "buried-feeling",
   "metadata": {},
   "outputs": [],
   "source": [
    "Base.@kwdef mutable struct CartPoleSim <: ASTInterface.GrayBox\n",
    "    env::ReinforcementLearning.AbstractEnv = CartPoleEnv()\n",
    "    tmax::Float64 = 50.0 #100.0\n",
    "    pi::ReinforcementLearning.AbstractPolicy = load_policy()\n",
    "    x_dist::ASTInterface.Environment = ASTInterface.Environment(:wind => Normal(0.0, 0.01))\n",
    "    log::Dict{Symbol, Any} = Dict{Symbol, Any}()\n",
    "    logging::Bool = false\n",
    "end"
   ]
  },
  {
   "cell_type": "code",
   "execution_count": null,
   "id": "labeled-engine",
   "metadata": {},
   "outputs": [],
   "source": [
    "function ASTInterface.reset!(sim::CartPoleSim)\n",
    "    ReinforcementLearning.reset!(sim.env)\n",
    "    if sim.logging\n",
    "        sim.log[:s] = []\n",
    "        sim.log[:x] = []\n",
    "        sim.log[:a] = []\n",
    "        push!(sim.log[:s], ASTInterface.observe(sim))\n",
    "    end\n",
    "end\n",
    "\n",
    "ASTInterface.environment(sim::CartPoleSim) = sim.x_dist\n",
    "\n",
    "ASTInterface.observe(sim::CartPoleSim) = copy(ReinforcementLearning.state(sim.env))\n",
    "\n",
    "function ASTInterface.step!(sim::CartPoleSim, x::ASTInterface.EnvironmentValue)\n",
    "    a = sim.pi(sim.env)\n",
    "    s = ReinforcementLearning.state(sim.env)\n",
    "    s[2] += x[:wind]\n",
    "    sim.env(a)\n",
    "    if sim.logging\n",
    "        push!(sim.log[:s], ASTInterface.observe(sim))\n",
    "        push!(sim.log[:x], x[:wind])\n",
    "        push!(sim.log[:a], a)\n",
    "    end     \n",
    "end\n",
    "\n",
    "ASTInterface.isterminal(sim::CartPoleSim) = sim.env.t >= sim.tmax\n",
    "\n",
    "function ASTInterface.isevent(sim::CartPoleSim)\n",
    "    state, params = sim.env.state, sim.env.params\n",
    "    return abs(state[1]) > params.xthreshold || abs(state[3]) > params.thetathreshold\n",
    "end\n",
    "\n",
    "interval_dist(x::Real, r::Real) = interval_dist(x, -r, r)\n",
    "\n",
    "interval_dist(x::Real, l::Real, u::Real) = (l < x < u) ? min(x - l, u - x) : zero(x)\n",
    "\n",
    "function ASTInterface.distance(sim::CartPoleSim)\n",
    "    s = ReinforcementLearning.state(sim.env)\n",
    "    dx = interval_dist(s[1], sim.env.params.xthreshold)\n",
    "    dθ = interval_dist(s[3], sim.env.params.thetathreshold)\n",
    "    d = sqrt(dx^2 + dθ^2)\n",
    "    return d\n",
    "end"
   ]
  },
  {
   "cell_type": "markdown",
   "id": "decimal-signature",
   "metadata": {},
   "source": [
    "# Trajectory examples"
   ]
  },
  {
   "cell_type": "code",
   "execution_count": null,
   "id": "constitutional-kazakhstan",
   "metadata": {},
   "outputs": [],
   "source": [
    "Random.seed!(0)\n",
    "p = plot()\n",
    "sim = CartPoleSim(logging=true)\n",
    "\n",
    "for _ in 1:100\n",
    "    ASTInterface.reset!(sim)\n",
    "    while !(ASTInterface.isterminal(sim) || ASTInterface.isevent(sim))\n",
    "        x = rand(sim.x_dist; flat=false)\n",
    "        ASTInterface.step!(sim, x)\n",
    "    end\n",
    "    τ = collect(1:length(sim.log[:s]))\n",
    "    q = getindex.(sim.log[:s], 3)\n",
    "    plot!(p, τ, q, label=:none, lc=:black, alpha=0.1)\n",
    "    scatter!(p, [τ[1]], [q[1]], mc=:green, ms=2.0, label=:none)\n",
    "    scatter!(p, [τ[end]], [q[end]], mc=:red, ms=2.0, label=:none)\n",
    "end\n",
    "p"
   ]
  },
  {
   "cell_type": "markdown",
   "id": "contemporary-support",
   "metadata": {},
   "source": [
    "# Failure prevalence"
   ]
  },
  {
   "cell_type": "code",
   "execution_count": null,
   "id": "adopted-keyboard",
   "metadata": {},
   "outputs": [],
   "source": [
    "Random.seed!(0)\n",
    "c = 0\n",
    "N = 1_000_000\n",
    "\n",
    "ASTInterface.reset!(sim)\n",
    "@showprogress for _ in 1:N\n",
    "    x = rand(sim.x_dist; flat=false)\n",
    "    ASTInterface.step!(sim, x)\n",
    "    d, e = ASTInterface.isterminal(sim), ASTInterface.isevent(sim)\n",
    "    c += e\n",
    "    (d || e) && ASTInterface.reset!(sim)\n",
    "end\n",
    "rate = c / N"
   ]
  },
  {
   "cell_type": "markdown",
   "id": "british-regulation",
   "metadata": {},
   "source": [
    "# Failure trajectory example"
   ]
  },
  {
   "cell_type": "code",
   "execution_count": null,
   "id": "straight-chess",
   "metadata": {},
   "outputs": [],
   "source": [
    "Random.seed!(0)\n",
    "num_eps = 100_000\n",
    "\n",
    "@showprogress for _ in 1:num_eps\n",
    "    ASTInterface.reset!(sim)\n",
    "    while !(ASTInterface.isterminal(sim) || ASTInterface.isevent(sim))\n",
    "        x = rand(sim.x_dist; flat=false)\n",
    "        ASTInterface.step!(sim, x)\n",
    "    end\n",
    "    ASTInterface.isevent(sim) && break\n",
    "end\n",
    "plot(getindex.(sim.log[:s], 3); grid=true, minorgrid=true, ga=0.5)"
   ]
  },
  {
   "cell_type": "markdown",
   "id": "structured-savage",
   "metadata": {},
   "source": [
    "# AST"
   ]
  },
  {
   "cell_type": "code",
   "execution_count": null,
   "id": "successful-differential",
   "metadata": {},
   "outputs": [],
   "source": [
    "function mdp_env(σ::Float64)\n",
    "    mdp = ASTInterface.ASTMDP(CartPoleSim())\n",
    "    mdp.reward.event_bonus = 100.0\n",
    "    mdp.sim.x_dist[:wind] = Normal(0.0, σ)\n",
    "    return mdp\n",
    "end"
   ]
  },
  {
   "cell_type": "markdown",
   "id": "australian-oregon",
   "metadata": {},
   "source": [
    "# Single run"
   ]
  },
  {
   "cell_type": "code",
   "execution_count": null,
   "id": "collect-berlin",
   "metadata": {},
   "outputs": [],
   "source": [
    "Random.seed!(0)\n",
    "\n",
    "sac = AdaStress.SoftActorCritic.SAC(;\n",
    "    obs_dim=4, \n",
    "    act_dim=1,\n",
    "    act_mins=-3.0*ones(1),\n",
    "    act_maxs=3.0*ones(1),\n",
    "    hidden_sizes=[30,30,30],\n",
    "    q_optimizer=AdaStress.SoftActorCritic.AdaBelief(1e-4),\n",
    "    pi_optimizer=AdaStress.SoftActorCritic.AdaBelief(1e-4),\n",
    "    alpha_optimizer=AdaStress.SoftActorCritic.AdaBelief(1e-4),\n",
    "    gamma=1.0,\n",
    "    num_q=3,\n",
    "    max_buffer_size=100_000,\n",
    "    batch_size=1024,\n",
    "    epochs=100,\n",
    "    steps_per_epoch=1_000,\n",
    "    start_steps=10_000,\n",
    "    max_ep_len=100,\n",
    "    update_after=10_000,\n",
    "    update_every=1_000,\n",
    "    num_batches=10,\n",
    "    num_test_episodes=100\n",
    ")\n",
    "\n",
    "ac, info = sac(() -> mdp_env(0.1))"
   ]
  },
  {
   "cell_type": "code",
   "execution_count": null,
   "id": "danish-environment",
   "metadata": {},
   "outputs": [],
   "source": [
    "plot(info[\"score\"]; label=:none)"
   ]
  },
  {
   "cell_type": "code",
   "execution_count": null,
   "id": "visible-teens",
   "metadata": {},
   "outputs": [],
   "source": [
    "plot(info[\"fails\"]; label=:none)"
   ]
  },
  {
   "cell_type": "code",
   "execution_count": null,
   "id": "executive-protein",
   "metadata": {
    "scrolled": false
   },
   "outputs": [],
   "source": [
    "plot(info[\"stdev\"]; label=:none)"
   ]
  },
  {
   "cell_type": "markdown",
   "id": "useful-passenger",
   "metadata": {},
   "source": [
    "# Sample trajectories"
   ]
  },
  {
   "cell_type": "code",
   "execution_count": null,
   "id": "smooth-investment",
   "metadata": {},
   "outputs": [],
   "source": [
    "Random.seed!(0)\n",
    "pθ = plot(; title=\"\\\\theta\", ga=0.5, minorgrid=true, minorgridalpha=0.25)\n",
    "px = plot(; title=\"x\", ga=0.5, minorgrid=true, minorgridalpha=0.25)\n",
    "mdp = mdp_env(0.1)\n",
    "mdp.sim.logging = true\n",
    "\n",
    "for _ in 1:100\n",
    "    CommonRLInterface.reset!(mdp)\n",
    "    while !terminated(mdp)\n",
    "        a = ac(Float32.(CommonRLInterface.observe(mdp)), true)\n",
    "        act!(mdp, a)\n",
    "    end\n",
    "    \n",
    "    τ = collect(1:length(mdp.sim.log[:s]))\n",
    "    \n",
    "    θ = getindex.(mdp.sim.log[:s], 3)\n",
    "    plot!(pθ, τ, θ, label=:none, lc=:black, alpha=0.25)\n",
    "    scatter!(pθ, [τ[1]], [θ[1]], mc=:green, ms=2.0, label=:none)\n",
    "    scatter!(pθ, [τ[end]], [θ[end]], mc=:red, ms=2.0, label=:none)\n",
    "    \n",
    "    x = getindex.(mdp.sim.log[:s], 1)\n",
    "    plot!(px, τ, x, label=:none, lc=:black, alpha=0.25)\n",
    "    scatter!(px, [τ[1]], [x[1]], mc=:green, ms=2.0, label=:none)\n",
    "    scatter!(px, [τ[end]], [x[end]], mc=:red, ms=2.0, label=:none)\n",
    "end\n",
    "display(pθ)\n",
    "display(px)"
   ]
  },
  {
   "cell_type": "code",
   "execution_count": null,
   "id": "worst-optimization",
   "metadata": {},
   "outputs": [],
   "source": [
    "plot(mdp.sim.log[:x]; title=\"Sample disturbance\", label=:none, lc=:black, ga=0.5, minorgrid=true, minorgridalpha=0.25)"
   ]
  },
  {
   "cell_type": "markdown",
   "id": "through-entrance",
   "metadata": {},
   "source": [
    "# Animation"
   ]
  },
  {
   "cell_type": "code",
   "execution_count": null,
   "id": "collect-government",
   "metadata": {},
   "outputs": [],
   "source": [
    "function Circle(xc::Real, yc::Real, r::Real; n::Int64=100)\n",
    "    θ = range(0, 2π; length=n+1)\n",
    "    xs = @. xc + r*cos(θ)\n",
    "    ys = @. yc + r*sin(θ)\n",
    "    return Shape(xs, ys)\n",
    "end\n",
    "\n",
    "function Rectangle(xc::Real, yc::Real, l::Real, h::Real)\n",
    "    xs = [xc - l/2, xc + l/2, xc + l/2, xc - l/2]\n",
    "    ys = [yc - h/2, yc - h/2, yc + h/2, yc + h/2]\n",
    "    return Shape(xs, ys)\n",
    "end"
   ]
  },
  {
   "cell_type": "code",
   "execution_count": null,
   "id": "rapid-transformation",
   "metadata": {
    "scrolled": true
   },
   "outputs": [],
   "source": [
    "function movie(sim::CartPoleSim, filename::String=\"animation\")\n",
    "    cart_length = 0.5\n",
    "    cart_height = 0.25\n",
    "    wheel_offset = 0.2\n",
    "    wheel_height = 0.025\n",
    "    wheel_radius = 0.05\n",
    "    pole_length = 1.0\n",
    "\n",
    "    x_grid = 10\n",
    "    y_grid = 5\n",
    "    σ_max = 3\n",
    "    xlim = sim.env.params.xthreshold * [-1, 1]\n",
    "    ylim = [0, cart_height + pole_length + 0.1]\n",
    "    xs = range(xlim..., length=x_grid)\n",
    "    ys = range(ylim..., length=y_grid)\n",
    "    X = [x for x in xs for y in ys]\n",
    "    Y = [y for x in xs for y in ys]\n",
    "    h = xs[2] - xs[1]\n",
    "\n",
    "    log = sim.log\n",
    "    anim = @animate for i in 1:length(log[:s])\n",
    "        x = log[:s][i][1]\n",
    "        θ = log[:s][i][3]\n",
    "        i_trunc = min(i, length(log[:s]) - 1)\n",
    "        a = log[:a][i_trunc]\n",
    "        w = log[:x][i_trunc] * 10\n",
    "\n",
    "        # empty scene\n",
    "        p = plot(; \n",
    "            xlim=xlim, \n",
    "            ylim=ylim, \n",
    "            yaxis=false, \n",
    "            minorticks=10, \n",
    "            yticks=false, \n",
    "            aspect_ratio=:equal, \n",
    "            label=:none\n",
    "        )\n",
    "\n",
    "        # wind disturbance\n",
    "        quiver!(p, X, Y; quiver=(x,y)->[w, 0.0], lc=:dodgerblue)\n",
    "\n",
    "        # pole\n",
    "        color = abs(θ) < sim.env.params.thetathreshold ? :blue : :red\n",
    "        x_pole, y_pole = x, cart_height\n",
    "        xs = x_pole .+ [0, pole_length] * sin(θ)\n",
    "        ys = y_pole .+ [0, pole_length] * cos(θ)\n",
    "        plot!(p, xs, ys; lw=5, lc=color, label=:none)\n",
    "        scatter!(p, [xs[1]], [ys[1]]; ms=5, mc=color, label=:none)\n",
    "        scatter!(p, [xs[2]], [ys[2]]; ms=8, mc=color, label=:none)\n",
    "\n",
    "        # cart body\n",
    "        color = abs(x) < sim.env.params.xthreshold ? :gray : :red\n",
    "        plot!(p, Rectangle(x, cart_height/2, cart_length, cart_height); fill=color, label=:none)\n",
    "\n",
    "        # cart wheels\n",
    "        plot!(p, Circle(x + wheel_offset, wheel_height, wheel_radius); lw=2, fill=:gray, label=:none)\n",
    "        plot!(p, Circle(x - wheel_offset, wheel_height, wheel_radius); lw=2, fill=:gray, label=:none)\n",
    "\n",
    "        # controller force\n",
    "        dir = a == 2 ? 1 : -1\n",
    "        xs = (x - dir * cart_length / 2) * [1, 1] .- dir * [0.25, 0]\n",
    "        ys = cart_height / 2 * [1, 1] \n",
    "        plot!(p, xs, ys; arrow=true, lc=:red, lw=4, label=:none)\n",
    "\n",
    "        p\n",
    "    end\n",
    "\n",
    "    return gif(anim, \"$filename.mp4\", fps = 15)\n",
    "end"
   ]
  },
  {
   "cell_type": "code",
   "execution_count": null,
   "id": "collect-valentine",
   "metadata": {
    "scrolled": false
   },
   "outputs": [],
   "source": [
    "Random.seed!(0)\n",
    "p = plot()\n",
    "mdp = mdp_env(0.1)\n",
    "mdp.sim.logging = true\n",
    "\n",
    "CommonRLInterface.reset!(mdp)\n",
    "while !terminated(mdp)\n",
    "    a = ac(Float32.(CommonRLInterface.observe(mdp)), true)\n",
    "    act!(mdp, a)\n",
    "end\n",
    "movie(mdp.sim)"
   ]
  },
  {
   "cell_type": "code",
   "execution_count": null,
   "id": "approximate-jewel",
   "metadata": {},
   "outputs": [],
   "source": []
  }
 ],
 "metadata": {
  "kernelspec": {
   "display_name": "Julia 1.6.0",
   "language": "julia",
   "name": "julia-1.6"
  },
  "language_info": {
   "file_extension": ".jl",
   "mimetype": "application/julia",
   "name": "julia",
   "version": "1.6.0"
  }
 },
 "nbformat": 4,
 "nbformat_minor": 5
}
