{
 "cells": [
  {
   "cell_type": "markdown",
   "id": "material-accent",
   "metadata": {},
   "source": [
    "# Walk1D\n",
    "\n",
    "This example demonstrates local stress testing in a 1D random walk environment.\n",
    "- **System under test:** inactive; does nothing to control pawn movement or avoid failure.\n",
    "- **Failure criterion:** pawn position exceeds critical value.\n",
    "- **Stochastic disturbance:** 1-dimensional pawn movement, normally distributed.\n",
    "\n",
    "In this case, the AST problem reduces to a simple goal-seeking reinforcement learning problem. This allows us to easily evaluate the efficacy of the solvers."
   ]
  },
  {
   "cell_type": "code",
   "execution_count": 1,
   "id": "numerous-merchant",
   "metadata": {},
   "outputs": [
    {
     "name": "stderr",
     "output_type": "stream",
     "text": [
      "\u001b[32m\u001b[1m  Activating\u001b[22m\u001b[39m environment at `C:\\Users\\rlipkis\\.julia\\dev\\adastress\\examples\\walk1d\\Project.toml`\n"
     ]
    },
    {
     "data": {
      "text/plain": [
       "instantiate (generic function with 2 methods)"
      ]
     },
     "execution_count": 1,
     "metadata": {},
     "output_type": "execute_result"
    }
   ],
   "source": [
    "using Pkg\n",
    "Pkg.activate(\".\")\n",
    "Pkg.instantiate"
   ]
  },
  {
   "cell_type": "code",
   "execution_count": 2,
   "id": "instrumental-tomorrow",
   "metadata": {},
   "outputs": [],
   "source": [
    "using AdaStress\n",
    "import AdaStress.BlackBox\n",
    "using Plots"
   ]
  },
  {
   "cell_type": "markdown",
   "id": "fifty-queen",
   "metadata": {},
   "source": [
    "## Simulation"
   ]
  },
  {
   "cell_type": "code",
   "execution_count": 3,
   "id": "found-generic",
   "metadata": {},
   "outputs": [],
   "source": [
    "using Distributions\n",
    "using Random"
   ]
  },
  {
   "cell_type": "code",
   "execution_count": 4,
   "id": "architectural-distance",
   "metadata": {},
   "outputs": [
    {
     "data": {
      "text/plain": [
       "update! (generic function with 1 method)"
      ]
     },
     "execution_count": 4,
     "metadata": {},
     "output_type": "execute_result"
    }
   ],
   "source": [
    "Base.@kwdef mutable struct Walk1D <: AdaStress.BlackBox\n",
    "    t::Float64=0.0\n",
    "    t_max::Float64=10.0\n",
    "    x::Float64=0.0\n",
    "    x_fail::Float64=10.0\n",
    "    dist::Normal=Normal(0.0, 1.0)\n",
    "end\n",
    "\n",
    "function initialize!(sim::Walk1D)\n",
    "    sim.t = 0.0\n",
    "    sim.x = 0.0\n",
    "end\n",
    "\n",
    "function update!(sim::Walk1D)\n",
    "    sim.t += 1.0\n",
    "    a = rand(sim.dist)\n",
    "    sim.x += a\n",
    "    return logpdf(sim.dist, a) - logpdf(sim.dist, 0.0)\n",
    "end"
   ]
  },
  {
   "cell_type": "code",
   "execution_count": 5,
   "id": "demonstrated-commerce",
   "metadata": {},
   "outputs": [],
   "source": [
    "AdaStress.reset!(sim::Walk1D) = initialize!(sim)\n",
    "AdaStress.step!(sim::Walk1D) = update!(sim)\n",
    "AdaStress.isterminal(sim::Walk1D) = sim.t >= sim.t_max\n",
    "AdaStress.isevent(sim::Walk1D) = sim.x >= sim.x_fail\n",
    "AdaStress.distance(sim::Walk1D) = max(sim.x_fail - sim.x, 0.0)"
   ]
  },
  {
   "cell_type": "markdown",
   "id": "dominican-halifax",
   "metadata": {},
   "source": [
    "## MCS"
   ]
  },
  {
   "cell_type": "code",
   "execution_count": 6,
   "id": "amended-pencil",
   "metadata": {},
   "outputs": [
    {
     "data": {
      "text/plain": [
       "AdaStress.Solvers.MonteCarloSearch.MCS(100000, 10)"
      ]
     },
     "execution_count": 6,
     "metadata": {},
     "output_type": "execute_result"
    }
   ],
   "source": [
    "mcs = AdaStress.Solvers.MCS(num_iterations=100_000)"
   ]
  },
  {
   "cell_type": "code",
   "execution_count": 7,
   "id": "unlikely-thinking",
   "metadata": {
    "scrolled": true
   },
   "outputs": [
    {
     "data": {
      "text/plain": [
       "100.0"
      ]
     },
     "execution_count": 7,
     "metadata": {},
     "output_type": "execute_result"
    }
   ],
   "source": [
    "mdp = AdaStress.ASTMDP(Walk1D())\n",
    "mdp.reward.event_bonus = 100.0"
   ]
  },
  {
   "cell_type": "code",
   "execution_count": 8,
   "id": "insured-gossip",
   "metadata": {},
   "outputs": [
    {
     "name": "stderr",
     "output_type": "stream",
     "text": [
      "\u001b[32mProgress: 100%|█████████████████████████████████████████| Time: 0:00:12\u001b[39m\n"
     ]
    },
    {
     "name": "stdout",
     "output_type": "stream",
     "text": [
      " 14.257129 seconds (29.35 M allocations: 1.010 GiB, 1.49% gc time, 14.12% compilation time)\n"
     ]
    },
    {
     "data": {
      "text/plain": [
       "DataStructures.PriorityQueue{Any, Any, Base.Order.ForwardOrdering} with 10 entries:\n",
       "  UInt32[0xeff14857, 0x80aa8b17, 0x60cbb52a, 0xc7adaa61, 0x8396285d,… => 102.006\n",
       "  UInt32[0xb92e356d, 0xdeba480c, 0x606ae90e, 0x9e5c4aa0, 0xf0060a6e,… => 102.007\n",
       "  UInt32[0xcd1f8b74, 0x2afe5ca4, 0xf669453a, 0xad8d867d, 0x6f812e32,… => 102.071\n",
       "  UInt32[0xefa754cd, 0xe22fc1c5, 0xebfd0f38, 0x83180c7a, 0x1a6c4ece,… => 102.081\n",
       "  UInt32[0x664255d2, 0x40c581fb, 0xa79f9fd3, 0xfe977a2d, 0x5abc8863,… => 102.117\n",
       "  UInt32[0xa4164c2a, 0x1c70195f, 0xe1b7614a, 0xc262a5b8, 0xdde86baf,… => 102.193\n",
       "  UInt32[0x989ff3a4, 0xe5498926, 0x72c4d693, 0x021bb825, 0x0cbc157e,… => 102.226\n",
       "  UInt32[0xb88e140d, 0x70d080ac, 0xe3332922, 0x52220bba, 0x0568c57f,… => 102.227\n",
       "  UInt32[0xcda6db5a, 0xd23349c0, 0x4805d9c2, 0x49fc2010, 0xb250c66f,… => 102.393\n",
       "  UInt32[0x4536c787, 0x00d750eb, 0x0409d7f2, 0x0fd07702, 0xaddfb80b,… => 103.186"
      ]
     },
     "execution_count": 8,
     "metadata": {},
     "output_type": "execute_result"
    }
   ],
   "source": [
    "Random.seed!(0)\n",
    "@time sol = mcs(() -> mdp)"
   ]
  },
  {
   "cell_type": "code",
   "execution_count": 9,
   "id": "retained-douglas",
   "metadata": {
    "scrolled": false
   },
   "outputs": [
    {
     "data": {
      "image/svg+xml": [
       "<?xml version=\"1.0\" encoding=\"utf-8\"?>\n",
       "<svg xmlns=\"http://www.w3.org/2000/svg\" xmlns:xlink=\"http://www.w3.org/1999/xlink\" width=\"600\" height=\"400\" viewBox=\"0 0 2400 1600\">\n",
       "<defs>\n",
       "  <clipPath id=\"clip610\">\n",
       "    <rect x=\"0\" y=\"0\" width=\"2400\" height=\"1600\"/>\n",
       "  </clipPath>\n",
       "</defs>\n",
       "<path clip-path=\"url(#clip610)\" d=\"\n",
       "M0 1600 L2400 1600 L2400 0 L0 0  Z\n",
       "  \" fill=\"#ffffff\" fill-rule=\"evenodd\" fill-opacity=\"1\"/>\n",
       "<defs>\n",
       "  <clipPath id=\"clip611\">\n",
       "    <rect x=\"480\" y=\"0\" width=\"1681\" height=\"1600\"/>\n",
       "  </clipPath>\n",
       "</defs>\n",
       "<path clip-path=\"url(#clip610)\" d=\"\n",
       "M184.191 1486.45 L2352.76 1486.45 L2352.76 47.2441 L184.191 47.2441  Z\n",
       "  \" fill=\"#ffffff\" fill-rule=\"evenodd\" fill-opacity=\"1\"/>\n",
       "<defs>\n",
       "  <clipPath id=\"clip612\">\n",
       "    <rect x=\"184\" y=\"47\" width=\"2170\" height=\"1440\"/>\n",
       "  </clipPath>\n",
       "</defs>\n",
       "<polyline clip-path=\"url(#clip612)\" style=\"stroke:#000000; stroke-linecap:butt; stroke-linejoin:round; stroke-width:2; stroke-opacity:0.1; fill:none\" points=\"\n",
       "  524.54,1486.45 524.54,47.2441 \n",
       "  \"/>\n",
       "<polyline clip-path=\"url(#clip612)\" style=\"stroke:#000000; stroke-linecap:butt; stroke-linejoin:round; stroke-width:2; stroke-opacity:0.1; fill:none\" points=\"\n",
       "  989.498,1486.45 989.498,47.2441 \n",
       "  \"/>\n",
       "<polyline clip-path=\"url(#clip612)\" style=\"stroke:#000000; stroke-linecap:butt; stroke-linejoin:round; stroke-width:2; stroke-opacity:0.1; fill:none\" points=\"\n",
       "  1454.46,1486.45 1454.46,47.2441 \n",
       "  \"/>\n",
       "<polyline clip-path=\"url(#clip612)\" style=\"stroke:#000000; stroke-linecap:butt; stroke-linejoin:round; stroke-width:2; stroke-opacity:0.1; fill:none\" points=\"\n",
       "  1919.41,1486.45 1919.41,47.2441 \n",
       "  \"/>\n",
       "<polyline clip-path=\"url(#clip610)\" style=\"stroke:#000000; stroke-linecap:butt; stroke-linejoin:round; stroke-width:4; stroke-opacity:1; fill:none\" points=\"\n",
       "  184.191,1486.45 2352.76,1486.45 \n",
       "  \"/>\n",
       "<polyline clip-path=\"url(#clip610)\" style=\"stroke:#000000; stroke-linecap:butt; stroke-linejoin:round; stroke-width:4; stroke-opacity:1; fill:none\" points=\"\n",
       "  524.54,1486.45 524.54,1467.55 \n",
       "  \"/>\n",
       "<polyline clip-path=\"url(#clip610)\" style=\"stroke:#000000; stroke-linecap:butt; stroke-linejoin:round; stroke-width:4; stroke-opacity:1; fill:none\" points=\"\n",
       "  989.498,1486.45 989.498,1467.55 \n",
       "  \"/>\n",
       "<polyline clip-path=\"url(#clip610)\" style=\"stroke:#000000; stroke-linecap:butt; stroke-linejoin:round; stroke-width:4; stroke-opacity:1; fill:none\" points=\"\n",
       "  1454.46,1486.45 1454.46,1467.55 \n",
       "  \"/>\n",
       "<polyline clip-path=\"url(#clip610)\" style=\"stroke:#000000; stroke-linecap:butt; stroke-linejoin:round; stroke-width:4; stroke-opacity:1; fill:none\" points=\"\n",
       "  1919.41,1486.45 1919.41,1467.55 \n",
       "  \"/>\n",
       "<path clip-path=\"url(#clip610)\" d=\"M496.276 1543.18 L512.596 1543.18 L512.596 1547.12 L490.651 1547.12 L490.651 1543.18 Q493.313 1540.43 497.897 1535.8 Q502.503 1531.15 503.684 1529.81 Q505.929 1527.28 506.809 1525.55 Q507.711 1523.79 507.711 1522.1 Q507.711 1519.34 505.767 1517.61 Q503.846 1515.87 500.744 1515.87 Q498.545 1515.87 496.091 1516.63 Q493.661 1517.4 490.883 1518.95 L490.883 1514.23 Q493.707 1513.09 496.161 1512.51 Q498.614 1511.93 500.651 1511.93 Q506.022 1511.93 509.216 1514.62 Q512.411 1517.31 512.411 1521.8 Q512.411 1523.93 511.6 1525.85 Q510.813 1527.74 508.707 1530.34 Q508.128 1531.01 505.026 1534.23 Q501.924 1537.42 496.276 1543.18 Z\" fill=\"#000000\" fill-rule=\"evenodd\" fill-opacity=\"1\" /><path clip-path=\"url(#clip610)\" d=\"M522.41 1541.24 L527.295 1541.24 L527.295 1547.12 L522.41 1547.12 L522.41 1541.24 Z\" fill=\"#000000\" fill-rule=\"evenodd\" fill-opacity=\"1\" /><path clip-path=\"url(#clip610)\" d=\"M537.526 1512.56 L555.883 1512.56 L555.883 1516.5 L541.809 1516.5 L541.809 1524.97 Q542.827 1524.62 543.846 1524.46 Q544.864 1524.27 545.883 1524.27 Q551.67 1524.27 555.049 1527.44 Q558.429 1530.62 558.429 1536.03 Q558.429 1541.61 554.957 1544.71 Q551.484 1547.79 545.165 1547.79 Q542.989 1547.79 540.721 1547.42 Q538.475 1547.05 536.068 1546.31 L536.068 1541.61 Q538.151 1542.74 540.373 1543.3 Q542.596 1543.86 545.072 1543.86 Q549.077 1543.86 551.415 1541.75 Q553.753 1539.64 553.753 1536.03 Q553.753 1532.42 551.415 1530.31 Q549.077 1528.21 545.072 1528.21 Q543.197 1528.21 541.322 1528.62 Q539.471 1529.04 537.526 1529.92 L537.526 1512.56 Z\" fill=\"#000000\" fill-rule=\"evenodd\" fill-opacity=\"1\" /><path clip-path=\"url(#clip610)\" d=\"M956.663 1512.56 L975.019 1512.56 L975.019 1516.5 L960.945 1516.5 L960.945 1524.97 Q961.964 1524.62 962.982 1524.46 Q964.001 1524.27 965.019 1524.27 Q970.806 1524.27 974.186 1527.44 Q977.566 1530.62 977.566 1536.03 Q977.566 1541.61 974.093 1544.71 Q970.621 1547.79 964.302 1547.79 Q962.126 1547.79 959.857 1547.42 Q957.612 1547.05 955.205 1546.31 L955.205 1541.61 Q957.288 1542.74 959.51 1543.3 Q961.732 1543.86 964.209 1543.86 Q968.214 1543.86 970.552 1541.75 Q972.89 1539.64 972.89 1536.03 Q972.89 1532.42 970.552 1530.31 Q968.214 1528.21 964.209 1528.21 Q962.334 1528.21 960.459 1528.62 Q958.607 1529.04 956.663 1529.92 L956.663 1512.56 Z\" fill=\"#000000\" fill-rule=\"evenodd\" fill-opacity=\"1\" /><path clip-path=\"url(#clip610)\" d=\"M986.778 1541.24 L991.663 1541.24 L991.663 1547.12 L986.778 1547.12 L986.778 1541.24 Z\" fill=\"#000000\" fill-rule=\"evenodd\" fill-opacity=\"1\" /><path clip-path=\"url(#clip610)\" d=\"M1011.85 1515.64 Q1008.24 1515.64 1006.41 1519.2 Q1004.6 1522.75 1004.6 1529.87 Q1004.6 1536.98 1006.41 1540.55 Q1008.24 1544.09 1011.85 1544.09 Q1015.48 1544.09 1017.29 1540.55 Q1019.12 1536.98 1019.12 1529.87 Q1019.12 1522.75 1017.29 1519.2 Q1015.48 1515.64 1011.85 1515.64 M1011.85 1511.93 Q1017.66 1511.93 1020.71 1516.54 Q1023.79 1521.12 1023.79 1529.87 Q1023.79 1538.6 1020.71 1543.21 Q1017.66 1547.79 1011.85 1547.79 Q1006.04 1547.79 1002.96 1543.21 Q999.903 1538.6 999.903 1529.87 Q999.903 1521.12 1002.96 1516.54 Q1006.04 1511.93 1011.85 1511.93 Z\" fill=\"#000000\" fill-rule=\"evenodd\" fill-opacity=\"1\" /><path clip-path=\"url(#clip610)\" d=\"M1420.78 1512.56 L1443 1512.56 L1443 1514.55 L1430.45 1547.12 L1425.57 1547.12 L1437.37 1516.5 L1420.78 1516.5 L1420.78 1512.56 Z\" fill=\"#000000\" fill-rule=\"evenodd\" fill-opacity=\"1\" /><path clip-path=\"url(#clip610)\" d=\"M1452.12 1541.24 L1457 1541.24 L1457 1547.12 L1452.12 1547.12 L1452.12 1541.24 Z\" fill=\"#000000\" fill-rule=\"evenodd\" fill-opacity=\"1\" /><path clip-path=\"url(#clip610)\" d=\"M1467.23 1512.56 L1485.59 1512.56 L1485.59 1516.5 L1471.52 1516.5 L1471.52 1524.97 Q1472.54 1524.62 1473.55 1524.46 Q1474.57 1524.27 1475.59 1524.27 Q1481.38 1524.27 1484.76 1527.44 Q1488.14 1530.62 1488.14 1536.03 Q1488.14 1541.61 1484.66 1544.71 Q1481.19 1547.79 1474.87 1547.79 Q1472.7 1547.79 1470.43 1547.42 Q1468.18 1547.05 1465.78 1546.31 L1465.78 1541.61 Q1467.86 1542.74 1470.08 1543.3 Q1472.3 1543.86 1474.78 1543.86 Q1478.79 1543.86 1481.12 1541.75 Q1483.46 1539.64 1483.46 1536.03 Q1483.46 1532.42 1481.12 1530.31 Q1478.79 1528.21 1474.78 1528.21 Q1472.91 1528.21 1471.03 1528.62 Q1469.18 1529.04 1467.23 1529.92 L1467.23 1512.56 Z\" fill=\"#000000\" fill-rule=\"evenodd\" fill-opacity=\"1\" /><path clip-path=\"url(#clip610)\" d=\"M1871.49 1543.18 L1879.13 1543.18 L1879.13 1516.82 L1870.82 1518.49 L1870.82 1514.23 L1879.08 1512.56 L1883.76 1512.56 L1883.76 1543.18 L1891.39 1543.18 L1891.39 1547.12 L1871.49 1547.12 L1871.49 1543.18 Z\" fill=\"#000000\" fill-rule=\"evenodd\" fill-opacity=\"1\" /><path clip-path=\"url(#clip610)\" d=\"M1910.84 1515.64 Q1907.23 1515.64 1905.4 1519.2 Q1903.59 1522.75 1903.59 1529.87 Q1903.59 1536.98 1905.4 1540.55 Q1907.23 1544.09 1910.84 1544.09 Q1914.47 1544.09 1916.28 1540.55 Q1918.11 1536.98 1918.11 1529.87 Q1918.11 1522.75 1916.28 1519.2 Q1914.47 1515.64 1910.84 1515.64 M1910.84 1511.93 Q1916.65 1511.93 1919.7 1516.54 Q1922.78 1521.12 1922.78 1529.87 Q1922.78 1538.6 1919.7 1543.21 Q1916.65 1547.79 1910.84 1547.79 Q1905.03 1547.79 1901.95 1543.21 Q1898.89 1538.6 1898.89 1529.87 Q1898.89 1521.12 1901.95 1516.54 Q1905.03 1511.93 1910.84 1511.93 Z\" fill=\"#000000\" fill-rule=\"evenodd\" fill-opacity=\"1\" /><path clip-path=\"url(#clip610)\" d=\"M1931 1541.24 L1935.88 1541.24 L1935.88 1547.12 L1931 1547.12 L1931 1541.24 Z\" fill=\"#000000\" fill-rule=\"evenodd\" fill-opacity=\"1\" /><path clip-path=\"url(#clip610)\" d=\"M1956.07 1515.64 Q1952.46 1515.64 1950.63 1519.2 Q1948.82 1522.75 1948.82 1529.87 Q1948.82 1536.98 1950.63 1540.55 Q1952.46 1544.09 1956.07 1544.09 Q1959.7 1544.09 1961.51 1540.55 Q1963.34 1536.98 1963.34 1529.87 Q1963.34 1522.75 1961.51 1519.2 Q1959.7 1515.64 1956.07 1515.64 M1956.07 1511.93 Q1961.88 1511.93 1964.94 1516.54 Q1968.01 1521.12 1968.01 1529.87 Q1968.01 1538.6 1964.94 1543.21 Q1961.88 1547.79 1956.07 1547.79 Q1950.26 1547.79 1947.18 1543.21 Q1944.13 1538.6 1944.13 1529.87 Q1944.13 1521.12 1947.18 1516.54 Q1950.26 1511.93 1956.07 1511.93 Z\" fill=\"#000000\" fill-rule=\"evenodd\" fill-opacity=\"1\" /><polyline clip-path=\"url(#clip612)\" style=\"stroke:#000000; stroke-linecap:butt; stroke-linejoin:round; stroke-width:2; stroke-opacity:0.1; fill:none\" points=\"\n",
       "  184.191,1419.98 2352.76,1419.98 \n",
       "  \"/>\n",
       "<polyline clip-path=\"url(#clip612)\" style=\"stroke:#000000; stroke-linecap:butt; stroke-linejoin:round; stroke-width:2; stroke-opacity:0.1; fill:none\" points=\"\n",
       "  184.191,1128.02 2352.76,1128.02 \n",
       "  \"/>\n",
       "<polyline clip-path=\"url(#clip612)\" style=\"stroke:#000000; stroke-linecap:butt; stroke-linejoin:round; stroke-width:2; stroke-opacity:0.1; fill:none\" points=\"\n",
       "  184.191,836.064 2352.76,836.064 \n",
       "  \"/>\n",
       "<polyline clip-path=\"url(#clip612)\" style=\"stroke:#000000; stroke-linecap:butt; stroke-linejoin:round; stroke-width:2; stroke-opacity:0.1; fill:none\" points=\"\n",
       "  184.191,544.104 2352.76,544.104 \n",
       "  \"/>\n",
       "<polyline clip-path=\"url(#clip612)\" style=\"stroke:#000000; stroke-linecap:butt; stroke-linejoin:round; stroke-width:2; stroke-opacity:0.1; fill:none\" points=\"\n",
       "  184.191,252.144 2352.76,252.144 \n",
       "  \"/>\n",
       "<polyline clip-path=\"url(#clip610)\" style=\"stroke:#000000; stroke-linecap:butt; stroke-linejoin:round; stroke-width:4; stroke-opacity:1; fill:none\" points=\"\n",
       "  184.191,1486.45 184.191,47.2441 \n",
       "  \"/>\n",
       "<polyline clip-path=\"url(#clip610)\" style=\"stroke:#000000; stroke-linecap:butt; stroke-linejoin:round; stroke-width:4; stroke-opacity:1; fill:none\" points=\"\n",
       "  184.191,1419.98 203.088,1419.98 \n",
       "  \"/>\n",
       "<polyline clip-path=\"url(#clip610)\" style=\"stroke:#000000; stroke-linecap:butt; stroke-linejoin:round; stroke-width:4; stroke-opacity:1; fill:none\" points=\"\n",
       "  184.191,1128.02 203.088,1128.02 \n",
       "  \"/>\n",
       "<polyline clip-path=\"url(#clip610)\" style=\"stroke:#000000; stroke-linecap:butt; stroke-linejoin:round; stroke-width:4; stroke-opacity:1; fill:none\" points=\"\n",
       "  184.191,836.064 203.088,836.064 \n",
       "  \"/>\n",
       "<polyline clip-path=\"url(#clip610)\" style=\"stroke:#000000; stroke-linecap:butt; stroke-linejoin:round; stroke-width:4; stroke-opacity:1; fill:none\" points=\"\n",
       "  184.191,544.104 203.088,544.104 \n",
       "  \"/>\n",
       "<polyline clip-path=\"url(#clip610)\" style=\"stroke:#000000; stroke-linecap:butt; stroke-linejoin:round; stroke-width:4; stroke-opacity:1; fill:none\" points=\"\n",
       "  184.191,252.144 203.088,252.144 \n",
       "  \"/>\n",
       "<path clip-path=\"url(#clip610)\" d=\"M91.0151 1405.78 Q87.404 1405.78 85.5753 1409.35 Q83.7697 1412.89 83.7697 1420.02 Q83.7697 1427.13 85.5753 1430.69 Q87.404 1434.23 91.0151 1434.23 Q94.6493 1434.23 96.4548 1430.69 Q98.2835 1427.13 98.2835 1420.02 Q98.2835 1412.89 96.4548 1409.35 Q94.6493 1405.78 91.0151 1405.78 M91.0151 1402.08 Q96.8252 1402.08 99.8808 1406.69 Q102.959 1411.27 102.959 1420.02 Q102.959 1428.75 99.8808 1433.35 Q96.8252 1437.94 91.0151 1437.94 Q85.2049 1437.94 82.1262 1433.35 Q79.0707 1428.75 79.0707 1420.02 Q79.0707 1411.27 82.1262 1406.69 Q85.2049 1402.08 91.0151 1402.08 Z\" fill=\"#000000\" fill-rule=\"evenodd\" fill-opacity=\"1\" /><path clip-path=\"url(#clip610)\" d=\"M111.177 1431.38 L116.061 1431.38 L116.061 1437.26 L111.177 1437.26 L111.177 1431.38 Z\" fill=\"#000000\" fill-rule=\"evenodd\" fill-opacity=\"1\" /><path clip-path=\"url(#clip610)\" d=\"M136.246 1405.78 Q132.635 1405.78 130.807 1409.35 Q129.001 1412.89 129.001 1420.02 Q129.001 1427.13 130.807 1430.69 Q132.635 1434.23 136.246 1434.23 Q139.881 1434.23 141.686 1430.69 Q143.515 1427.13 143.515 1420.02 Q143.515 1412.89 141.686 1409.35 Q139.881 1405.78 136.246 1405.78 M136.246 1402.08 Q142.056 1402.08 145.112 1406.69 Q148.191 1411.27 148.191 1420.02 Q148.191 1428.75 145.112 1433.35 Q142.056 1437.94 136.246 1437.94 Q130.436 1437.94 127.357 1433.35 Q124.302 1428.75 124.302 1420.02 Q124.302 1411.27 127.357 1406.69 Q130.436 1402.08 136.246 1402.08 Z\" fill=\"#000000\" fill-rule=\"evenodd\" fill-opacity=\"1\" /><path clip-path=\"url(#clip610)\" d=\"M86.0382 1141.37 L102.358 1141.37 L102.358 1145.3 L80.4133 1145.3 L80.4133 1141.37 Q83.0753 1138.61 87.6586 1133.98 Q92.2651 1129.33 93.4456 1127.99 Q95.691 1125.47 96.5706 1123.73 Q97.4734 1121.97 97.4734 1120.28 Q97.4734 1117.53 95.5289 1115.79 Q93.6076 1114.05 90.5058 1114.05 Q88.3067 1114.05 85.8531 1114.82 Q83.4225 1115.58 80.6447 1117.13 L80.6447 1112.41 Q83.4688 1111.28 85.9225 1110.7 Q88.3762 1110.12 90.4132 1110.12 Q95.7836 1110.12 98.978 1112.8 Q102.172 1115.49 102.172 1119.98 Q102.172 1122.11 101.362 1124.03 Q100.575 1125.93 98.4687 1128.52 Q97.89 1129.19 94.7882 1132.41 Q91.6864 1135.61 86.0382 1141.37 Z\" fill=\"#000000\" fill-rule=\"evenodd\" fill-opacity=\"1\" /><path clip-path=\"url(#clip610)\" d=\"M112.172 1139.42 L117.057 1139.42 L117.057 1145.3 L112.172 1145.3 L112.172 1139.42 Z\" fill=\"#000000\" fill-rule=\"evenodd\" fill-opacity=\"1\" /><path clip-path=\"url(#clip610)\" d=\"M127.288 1110.74 L145.644 1110.74 L145.644 1114.68 L131.57 1114.68 L131.57 1123.15 Q132.589 1122.8 133.607 1122.64 Q134.626 1122.46 135.644 1122.46 Q141.431 1122.46 144.811 1125.63 Q148.191 1128.8 148.191 1134.22 Q148.191 1139.8 144.718 1142.9 Q141.246 1145.98 134.927 1145.98 Q132.751 1145.98 130.482 1145.61 Q128.237 1145.23 125.83 1144.49 L125.83 1139.8 Q127.913 1140.93 130.135 1141.48 Q132.357 1142.04 134.834 1142.04 Q138.839 1142.04 141.177 1139.93 Q143.515 1137.83 143.515 1134.22 Q143.515 1130.61 141.177 1128.5 Q138.839 1126.39 134.834 1126.39 Q132.959 1126.39 131.084 1126.81 Q129.232 1127.23 127.288 1128.11 L127.288 1110.74 Z\" fill=\"#000000\" fill-rule=\"evenodd\" fill-opacity=\"1\" /><path clip-path=\"url(#clip610)\" d=\"M81.0614 818.784 L99.4178 818.784 L99.4178 822.719 L85.3438 822.719 L85.3438 831.191 Q86.3623 830.844 87.3808 830.682 Q88.3993 830.497 89.4178 830.497 Q95.2049 830.497 98.5845 833.668 Q101.964 836.84 101.964 842.256 Q101.964 847.835 98.4919 850.937 Q95.0197 854.015 88.7003 854.015 Q86.5243 854.015 84.2558 853.645 Q82.0105 853.275 79.6031 852.534 L79.6031 847.835 Q81.6864 848.969 83.9086 849.525 Q86.1308 850.08 88.6077 850.08 Q92.6123 850.08 94.9502 847.974 Q97.2882 845.867 97.2882 842.256 Q97.2882 838.645 94.9502 836.539 Q92.6123 834.432 88.6077 834.432 Q86.7327 834.432 84.8577 834.849 Q83.0058 835.266 81.0614 836.145 L81.0614 818.784 Z\" fill=\"#000000\" fill-rule=\"evenodd\" fill-opacity=\"1\" /><path clip-path=\"url(#clip610)\" d=\"M111.177 847.465 L116.061 847.465 L116.061 853.344 L111.177 853.344 L111.177 847.465 Z\" fill=\"#000000\" fill-rule=\"evenodd\" fill-opacity=\"1\" /><path clip-path=\"url(#clip610)\" d=\"M136.246 821.863 Q132.635 821.863 130.807 825.428 Q129.001 828.969 129.001 836.099 Q129.001 843.205 130.807 846.77 Q132.635 850.312 136.246 850.312 Q139.881 850.312 141.686 846.77 Q143.515 843.205 143.515 836.099 Q143.515 828.969 141.686 825.428 Q139.881 821.863 136.246 821.863 M136.246 818.159 Q142.056 818.159 145.112 822.766 Q148.191 827.349 148.191 836.099 Q148.191 844.826 145.112 849.432 Q142.056 854.015 136.246 854.015 Q130.436 854.015 127.357 849.432 Q124.302 844.826 124.302 836.099 Q124.302 827.349 127.357 822.766 Q130.436 818.159 136.246 818.159 Z\" fill=\"#000000\" fill-rule=\"evenodd\" fill-opacity=\"1\" /><path clip-path=\"url(#clip610)\" d=\"M80.8299 526.824 L103.052 526.824 L103.052 528.815 L90.5058 561.384 L85.6216 561.384 L97.4271 530.759 L80.8299 530.759 L80.8299 526.824 Z\" fill=\"#000000\" fill-rule=\"evenodd\" fill-opacity=\"1\" /><path clip-path=\"url(#clip610)\" d=\"M112.172 555.504 L117.057 555.504 L117.057 561.384 L112.172 561.384 L112.172 555.504 Z\" fill=\"#000000\" fill-rule=\"evenodd\" fill-opacity=\"1\" /><path clip-path=\"url(#clip610)\" d=\"M127.288 526.824 L145.644 526.824 L145.644 530.759 L131.57 530.759 L131.57 539.231 Q132.589 538.884 133.607 538.722 Q134.626 538.537 135.644 538.537 Q141.431 538.537 144.811 541.708 Q148.191 544.879 148.191 550.296 Q148.191 555.875 144.718 558.976 Q141.246 562.055 134.927 562.055 Q132.751 562.055 130.482 561.685 Q128.237 561.314 125.83 560.574 L125.83 555.875 Q127.913 557.009 130.135 557.564 Q132.357 558.12 134.834 558.12 Q138.839 558.12 141.177 556.014 Q143.515 553.907 143.515 550.296 Q143.515 546.685 141.177 544.578 Q138.839 542.472 134.834 542.472 Q132.959 542.472 131.084 542.889 Q129.232 543.305 127.288 544.185 L127.288 526.824 Z\" fill=\"#000000\" fill-rule=\"evenodd\" fill-opacity=\"1\" /><path clip-path=\"url(#clip610)\" d=\"M51.6634 265.488 L59.3023 265.488 L59.3023 239.123 L50.9921 240.79 L50.9921 236.53 L59.256 234.864 L63.9319 234.864 L63.9319 265.488 L71.5707 265.488 L71.5707 269.424 L51.6634 269.424 L51.6634 265.488 Z\" fill=\"#000000\" fill-rule=\"evenodd\" fill-opacity=\"1\" /><path clip-path=\"url(#clip610)\" d=\"M91.0151 237.942 Q87.404 237.942 85.5753 241.507 Q83.7697 245.049 83.7697 252.178 Q83.7697 259.285 85.5753 262.85 Q87.404 266.391 91.0151 266.391 Q94.6493 266.391 96.4548 262.85 Q98.2835 259.285 98.2835 252.178 Q98.2835 245.049 96.4548 241.507 Q94.6493 237.942 91.0151 237.942 M91.0151 234.239 Q96.8252 234.239 99.8808 238.845 Q102.959 243.428 102.959 252.178 Q102.959 260.905 99.8808 265.512 Q96.8252 270.095 91.0151 270.095 Q85.2049 270.095 82.1262 265.512 Q79.0707 260.905 79.0707 252.178 Q79.0707 243.428 82.1262 238.845 Q85.2049 234.239 91.0151 234.239 Z\" fill=\"#000000\" fill-rule=\"evenodd\" fill-opacity=\"1\" /><path clip-path=\"url(#clip610)\" d=\"M111.177 263.544 L116.061 263.544 L116.061 269.424 L111.177 269.424 L111.177 263.544 Z\" fill=\"#000000\" fill-rule=\"evenodd\" fill-opacity=\"1\" /><path clip-path=\"url(#clip610)\" d=\"M136.246 237.942 Q132.635 237.942 130.807 241.507 Q129.001 245.049 129.001 252.178 Q129.001 259.285 130.807 262.85 Q132.635 266.391 136.246 266.391 Q139.881 266.391 141.686 262.85 Q143.515 259.285 143.515 252.178 Q143.515 245.049 141.686 241.507 Q139.881 237.942 136.246 237.942 M136.246 234.239 Q142.056 234.239 145.112 238.845 Q148.191 243.428 148.191 252.178 Q148.191 260.905 145.112 265.512 Q142.056 270.095 136.246 270.095 Q130.436 270.095 127.357 265.512 Q124.302 260.905 124.302 252.178 Q124.302 243.428 127.357 238.845 Q130.436 234.239 136.246 234.239 Z\" fill=\"#000000\" fill-rule=\"evenodd\" fill-opacity=\"1\" /><polyline clip-path=\"url(#clip612)\" style=\"stroke:#009af9; stroke-linecap:butt; stroke-linejoin:round; stroke-width:4; stroke-opacity:1; fill:none\" points=\"\n",
       "  245.565,1419.98 431.548,1358.12 617.532,1278.34 803.515,1257.14 989.498,1135.65 1175.48,847.141 1361.46,747.994 1547.45,578.364 1733.43,418.2 1919.41,220.82 \n",
       "  2105.4,142.034 \n",
       "  \"/>\n",
       "<polyline clip-path=\"url(#clip612)\" style=\"stroke:#e26f46; stroke-linecap:butt; stroke-linejoin:round; stroke-width:4; stroke-opacity:1; fill:none\" points=\"\n",
       "  245.565,1419.98 431.548,1445.72 617.532,1350.3 803.515,1199.95 989.498,1048.33 1175.48,871.747 1361.46,754.872 1547.45,668.639 1733.43,422.252 1919.41,409.848 \n",
       "  2105.4,224.238 2291.38,101.502 \n",
       "  \"/>\n",
       "<polyline clip-path=\"url(#clip612)\" style=\"stroke:#3da44d; stroke-linecap:butt; stroke-linejoin:round; stroke-width:4; stroke-opacity:1; fill:none\" points=\"\n",
       "  245.565,1419.98 431.548,1274.52 617.532,1188.15 803.515,1056.48 989.498,840.623 1175.48,735.095 1361.46,599.301 1547.45,501.363 1733.43,518.981 1919.41,462.552 \n",
       "  2105.4,194.935 2291.38,97.6759 \n",
       "  \"/>\n",
       "<polyline clip-path=\"url(#clip612)\" style=\"stroke:#c271d2; stroke-linecap:butt; stroke-linejoin:round; stroke-width:4; stroke-opacity:1; fill:none\" points=\"\n",
       "  245.565,1419.98 431.548,1198.38 617.532,1064.21 803.515,1049.77 989.498,895.472 1175.48,797.158 1361.46,731.981 1547.45,530.312 1733.43,352.477 1919.41,177.304 \n",
       "  2105.4,87.9763 \n",
       "  \"/>\n",
       "<polyline clip-path=\"url(#clip612)\" style=\"stroke:#ac8d18; stroke-linecap:butt; stroke-linejoin:round; stroke-width:4; stroke-opacity:1; fill:none\" points=\"\n",
       "  245.565,1419.98 431.548,1279.82 617.532,1192.49 803.515,1022.1 989.498,807.757 1175.48,571.437 1361.46,389.304 1547.45,350.815 1733.43,221.516 1919.41,146.883 \n",
       "  \n",
       "  \"/>\n",
       "<polyline clip-path=\"url(#clip612)\" style=\"stroke:#00a9ad; stroke-linecap:butt; stroke-linejoin:round; stroke-width:4; stroke-opacity:1; fill:none\" points=\"\n",
       "  245.565,1419.98 431.548,1297.5 617.532,1068.79 803.515,1048 989.498,869.108 1175.48,623.321 1361.46,534.831 1547.45,379.706 1733.43,262.458 1919.41,195.002 \n",
       "  2105.4,246.15 \n",
       "  \"/>\n",
       "<polyline clip-path=\"url(#clip612)\" style=\"stroke:#ed5d92; stroke-linecap:butt; stroke-linejoin:round; stroke-width:4; stroke-opacity:1; fill:none\" points=\"\n",
       "  245.565,1419.98 431.548,1309.76 617.532,1111.13 803.515,1066.22 989.498,1066.59 1175.48,935.996 1361.46,662.843 1547.45,545.195 1733.43,380.412 1919.41,234.779 \n",
       "  2105.4,267.135 \n",
       "  \"/>\n",
       "<polyline clip-path=\"url(#clip612)\" style=\"stroke:#c68125; stroke-linecap:butt; stroke-linejoin:round; stroke-width:4; stroke-opacity:1; fill:none\" points=\"\n",
       "  245.565,1419.98 431.548,1217.65 617.532,1081.44 803.515,982.598 989.498,868.608 1175.48,836.344 1361.46,749.309 1547.45,612.65 1733.43,463.954 1919.41,229.457 \n",
       "  2105.4,323.173 \n",
       "  \"/>\n",
       "<polyline clip-path=\"url(#clip612)\" style=\"stroke:#00a98d; stroke-linecap:butt; stroke-linejoin:round; stroke-width:4; stroke-opacity:1; fill:none\" points=\"\n",
       "  245.565,1419.98 431.548,1311.56 617.532,1214.56 803.515,1024.01 989.498,839.434 1175.48,860.59 1361.46,742.484 1547.45,600.456 1733.43,444.956 1919.41,247.531 \n",
       "  2105.4,112.475 \n",
       "  \"/>\n",
       "<polyline clip-path=\"url(#clip612)\" style=\"stroke:#8e971d; stroke-linecap:butt; stroke-linejoin:round; stroke-width:4; stroke-opacity:1; fill:none\" points=\"\n",
       "  245.565,1419.98 431.548,1264.62 617.532,1240.09 803.515,1076.64 989.498,893.471 1175.48,873.676 1361.46,680.992 1547.45,658.75 1733.43,552.397 1919.41,433.299 \n",
       "  2105.4,242.897 2291.38,209.77 \n",
       "  \"/>\n",
       "</svg>\n"
      ]
     },
     "execution_count": 9,
     "metadata": {},
     "output_type": "execute_result"
    }
   ],
   "source": [
    "p = plot(legend=false)\n",
    "for (path, r) in sol\n",
    "    Interface.reset!(mdp)\n",
    "    x = [mdp.sim.x]\n",
    "    for a in path\n",
    "        Interface.act!(mdp, a)\n",
    "        push!(x, mdp.sim.x)\n",
    "    end\n",
    "    plot!(p, x)\n",
    "end\n",
    "p"
   ]
  },
  {
   "cell_type": "markdown",
   "id": "ethical-assessment",
   "metadata": {},
   "source": [
    "## MCTS"
   ]
  },
  {
   "cell_type": "code",
   "execution_count": 10,
   "id": "blond-tradition",
   "metadata": {},
   "outputs": [
    {
     "data": {
      "text/plain": [
       "AdaStress.Solvers.MonteCarloTreeSearch.MCTS(100000, 10, 1.0, 0.7, 1.0, nothing)"
      ]
     },
     "execution_count": 10,
     "metadata": {},
     "output_type": "execute_result"
    }
   ],
   "source": [
    "mcts = AdaStress.Solvers.MCTS(num_iterations=100_000)"
   ]
  },
  {
   "cell_type": "code",
   "execution_count": 11,
   "id": "respected-divorce",
   "metadata": {},
   "outputs": [
    {
     "name": "stderr",
     "output_type": "stream",
     "text": [
      "\u001b[32mProgress: 100%|█████████████████████████████████████████| Time: 0:00:09\u001b[39m\n"
     ]
    },
    {
     "name": "stdout",
     "output_type": "stream",
     "text": [
      " 10.331220 seconds (25.65 M allocations: 919.690 MiB, 2.55% gc time, 4.51% compilation time)\n"
     ]
    },
    {
     "data": {
      "text/plain": [
       "DataStructures.PriorityQueue{Any, Any, Base.Order.ForwardOrdering} with 10 entries:\n",
       "  UInt32[0x9458f8c0, 0xadf24b77, 0x3a1400de, 0x0575c4a6, 0x546b4bdf,… => 102.909\n",
       "  UInt32[0x9458f8c0, 0xadf24b77, 0x3a1400de, 0x0575c4a6, 0xa4795f81,… => 102.926\n",
       "  UInt32[0x9458f8c0, 0xadf24b77, 0x4b5a79fa, 0xae8b1eea, 0x1747db5b,… => 103.03\n",
       "  UInt32[0x9458f8c0, 0xadf24b77, 0x3a1400de, 0x5b629182, 0x4027b204,… => 103.037\n",
       "  UInt32[0x9458f8c0, 0xadf24b77, 0x3a1400de, 0x0575c4a6, 0x2e7f05b9,… => 103.104\n",
       "  UInt32[0x9458f8c0, 0xadf24b77, 0x3a1400de, 0x0575c4a6, 0x6624ad18,… => 103.365\n",
       "  UInt32[0x9458f8c0, 0xadf24b77, 0x3a1400de, 0x0575c4a6, 0x2e7f05b9,… => 103.459\n",
       "  UInt32[0x9458f8c0, 0xadf24b77, 0x3a1400de, 0x0575c4a6, 0x2e7f05b9,… => 103.498\n",
       "  UInt32[0x9458f8c0, 0xadf24b77, 0x3a1400de, 0x0575c4a6, 0x24e09ae8,… => 103.519\n",
       "  UInt32[0x9458f8c0, 0xadf24b77, 0x3a1400de, 0x0575c4a6, 0x6821daf0,… => 103.677"
      ]
     },
     "execution_count": 11,
     "metadata": {},
     "output_type": "execute_result"
    }
   ],
   "source": [
    "Random.seed!(0)\n",
    "@time sol = mcts(() -> mdp)"
   ]
  },
  {
   "cell_type": "code",
   "execution_count": 12,
   "id": "sixth-greene",
   "metadata": {},
   "outputs": [
    {
     "data": {
      "image/svg+xml": [
       "<?xml version=\"1.0\" encoding=\"utf-8\"?>\n",
       "<svg xmlns=\"http://www.w3.org/2000/svg\" xmlns:xlink=\"http://www.w3.org/1999/xlink\" width=\"600\" height=\"400\" viewBox=\"0 0 2400 1600\">\n",
       "<defs>\n",
       "  <clipPath id=\"clip650\">\n",
       "    <rect x=\"0\" y=\"0\" width=\"2400\" height=\"1600\"/>\n",
       "  </clipPath>\n",
       "</defs>\n",
       "<path clip-path=\"url(#clip650)\" d=\"\n",
       "M0 1600 L2400 1600 L2400 0 L0 0  Z\n",
       "  \" fill=\"#ffffff\" fill-rule=\"evenodd\" fill-opacity=\"1\"/>\n",
       "<defs>\n",
       "  <clipPath id=\"clip651\">\n",
       "    <rect x=\"480\" y=\"0\" width=\"1681\" height=\"1600\"/>\n",
       "  </clipPath>\n",
       "</defs>\n",
       "<path clip-path=\"url(#clip650)\" d=\"\n",
       "M184.191 1486.45 L2352.76 1486.45 L2352.76 47.2441 L184.191 47.2441  Z\n",
       "  \" fill=\"#ffffff\" fill-rule=\"evenodd\" fill-opacity=\"1\"/>\n",
       "<defs>\n",
       "  <clipPath id=\"clip652\">\n",
       "    <rect x=\"184\" y=\"47\" width=\"2170\" height=\"1440\"/>\n",
       "  </clipPath>\n",
       "</defs>\n",
       "<polyline clip-path=\"url(#clip652)\" style=\"stroke:#000000; stroke-linecap:butt; stroke-linejoin:round; stroke-width:2; stroke-opacity:0.1; fill:none\" points=\"\n",
       "  450.147,1486.45 450.147,47.2441 \n",
       "  \"/>\n",
       "<polyline clip-path=\"url(#clip652)\" style=\"stroke:#000000; stroke-linecap:butt; stroke-linejoin:round; stroke-width:2; stroke-opacity:0.1; fill:none\" points=\"\n",
       "  859.31,1486.45 859.31,47.2441 \n",
       "  \"/>\n",
       "<polyline clip-path=\"url(#clip652)\" style=\"stroke:#000000; stroke-linecap:butt; stroke-linejoin:round; stroke-width:2; stroke-opacity:0.1; fill:none\" points=\"\n",
       "  1268.47,1486.45 1268.47,47.2441 \n",
       "  \"/>\n",
       "<polyline clip-path=\"url(#clip652)\" style=\"stroke:#000000; stroke-linecap:butt; stroke-linejoin:round; stroke-width:2; stroke-opacity:0.1; fill:none\" points=\"\n",
       "  1677.64,1486.45 1677.64,47.2441 \n",
       "  \"/>\n",
       "<polyline clip-path=\"url(#clip652)\" style=\"stroke:#000000; stroke-linecap:butt; stroke-linejoin:round; stroke-width:2; stroke-opacity:0.1; fill:none\" points=\"\n",
       "  2086.8,1486.45 2086.8,47.2441 \n",
       "  \"/>\n",
       "<polyline clip-path=\"url(#clip650)\" style=\"stroke:#000000; stroke-linecap:butt; stroke-linejoin:round; stroke-width:4; stroke-opacity:1; fill:none\" points=\"\n",
       "  184.191,1486.45 2352.76,1486.45 \n",
       "  \"/>\n",
       "<polyline clip-path=\"url(#clip650)\" style=\"stroke:#000000; stroke-linecap:butt; stroke-linejoin:round; stroke-width:4; stroke-opacity:1; fill:none\" points=\"\n",
       "  450.147,1486.45 450.147,1467.55 \n",
       "  \"/>\n",
       "<polyline clip-path=\"url(#clip650)\" style=\"stroke:#000000; stroke-linecap:butt; stroke-linejoin:round; stroke-width:4; stroke-opacity:1; fill:none\" points=\"\n",
       "  859.31,1486.45 859.31,1467.55 \n",
       "  \"/>\n",
       "<polyline clip-path=\"url(#clip650)\" style=\"stroke:#000000; stroke-linecap:butt; stroke-linejoin:round; stroke-width:4; stroke-opacity:1; fill:none\" points=\"\n",
       "  1268.47,1486.45 1268.47,1467.55 \n",
       "  \"/>\n",
       "<polyline clip-path=\"url(#clip650)\" style=\"stroke:#000000; stroke-linecap:butt; stroke-linejoin:round; stroke-width:4; stroke-opacity:1; fill:none\" points=\"\n",
       "  1677.64,1486.45 1677.64,1467.55 \n",
       "  \"/>\n",
       "<polyline clip-path=\"url(#clip650)\" style=\"stroke:#000000; stroke-linecap:butt; stroke-linejoin:round; stroke-width:4; stroke-opacity:1; fill:none\" points=\"\n",
       "  2086.8,1486.45 2086.8,1467.55 \n",
       "  \"/>\n",
       "<path clip-path=\"url(#clip650)\" d=\"M444.8 1543.18 L461.119 1543.18 L461.119 1547.12 L439.175 1547.12 L439.175 1543.18 Q441.837 1540.43 446.42 1535.8 Q451.026 1531.15 452.207 1529.81 Q454.452 1527.28 455.332 1525.55 Q456.235 1523.79 456.235 1522.1 Q456.235 1519.34 454.29 1517.61 Q452.369 1515.87 449.267 1515.87 Q447.068 1515.87 444.614 1516.63 Q442.184 1517.4 439.406 1518.95 L439.406 1514.23 Q442.23 1513.09 444.684 1512.51 Q447.138 1511.93 449.175 1511.93 Q454.545 1511.93 457.739 1514.62 Q460.934 1517.31 460.934 1521.8 Q460.934 1523.93 460.124 1525.85 Q459.337 1527.74 457.23 1530.34 Q456.651 1531.01 453.55 1534.23 Q450.448 1537.42 444.8 1543.18 Z\" fill=\"#000000\" fill-rule=\"evenodd\" fill-opacity=\"1\" /><path clip-path=\"url(#clip650)\" d=\"M862.319 1516.63 L850.514 1535.08 L862.319 1535.08 L862.319 1516.63 M861.092 1512.56 L866.972 1512.56 L866.972 1535.08 L871.903 1535.08 L871.903 1538.97 L866.972 1538.97 L866.972 1547.12 L862.319 1547.12 L862.319 1538.97 L846.718 1538.97 L846.718 1534.46 L861.092 1512.56 Z\" fill=\"#000000\" fill-rule=\"evenodd\" fill-opacity=\"1\" /><path clip-path=\"url(#clip650)\" d=\"M1268.88 1527.98 Q1265.73 1527.98 1263.88 1530.13 Q1262.05 1532.28 1262.05 1536.03 Q1262.05 1539.76 1263.88 1541.93 Q1265.73 1544.09 1268.88 1544.09 Q1272.03 1544.09 1273.86 1541.93 Q1275.71 1539.76 1275.71 1536.03 Q1275.71 1532.28 1273.86 1530.13 Q1272.03 1527.98 1268.88 1527.98 M1278.16 1513.32 L1278.16 1517.58 Q1276.4 1516.75 1274.6 1516.31 Q1272.81 1515.87 1271.05 1515.87 Q1266.42 1515.87 1263.97 1519 Q1261.54 1522.12 1261.19 1528.44 Q1262.56 1526.43 1264.62 1525.36 Q1266.68 1524.27 1269.16 1524.27 Q1274.36 1524.27 1277.37 1527.44 Q1280.41 1530.59 1280.41 1536.03 Q1280.41 1541.36 1277.26 1544.57 Q1274.11 1547.79 1268.88 1547.79 Q1262.88 1547.79 1259.71 1543.21 Q1256.54 1538.6 1256.54 1529.87 Q1256.54 1521.68 1260.43 1516.82 Q1264.32 1511.93 1270.87 1511.93 Q1272.63 1511.93 1274.41 1512.28 Q1276.22 1512.63 1278.16 1513.32 Z\" fill=\"#000000\" fill-rule=\"evenodd\" fill-opacity=\"1\" /><path clip-path=\"url(#clip650)\" d=\"M1677.64 1530.71 Q1674.3 1530.71 1672.38 1532.49 Q1670.48 1534.27 1670.48 1537.4 Q1670.48 1540.52 1672.38 1542.31 Q1674.3 1544.09 1677.64 1544.09 Q1680.97 1544.09 1682.89 1542.31 Q1684.81 1540.5 1684.81 1537.4 Q1684.81 1534.27 1682.89 1532.49 Q1680.99 1530.71 1677.64 1530.71 M1672.96 1528.72 Q1669.95 1527.98 1668.26 1525.92 Q1666.59 1523.86 1666.59 1520.89 Q1666.59 1516.75 1669.53 1514.34 Q1672.5 1511.93 1677.64 1511.93 Q1682.8 1511.93 1685.74 1514.34 Q1688.68 1516.75 1688.68 1520.89 Q1688.68 1523.86 1686.99 1525.92 Q1685.32 1527.98 1682.34 1528.72 Q1685.72 1529.5 1687.59 1531.8 Q1689.49 1534.09 1689.49 1537.4 Q1689.49 1542.42 1686.41 1545.11 Q1683.35 1547.79 1677.64 1547.79 Q1671.92 1547.79 1668.84 1545.11 Q1665.78 1542.42 1665.78 1537.4 Q1665.78 1534.09 1667.68 1531.8 Q1669.58 1529.5 1672.96 1528.72 M1671.25 1521.33 Q1671.25 1524.02 1672.91 1525.52 Q1674.6 1527.03 1677.64 1527.03 Q1680.65 1527.03 1682.34 1525.52 Q1684.05 1524.02 1684.05 1521.33 Q1684.05 1518.65 1682.34 1517.14 Q1680.65 1515.64 1677.64 1515.64 Q1674.6 1515.64 1672.91 1517.14 Q1671.25 1518.65 1671.25 1521.33 Z\" fill=\"#000000\" fill-rule=\"evenodd\" fill-opacity=\"1\" /><path clip-path=\"url(#clip650)\" d=\"M2061.49 1543.18 L2069.13 1543.18 L2069.13 1516.82 L2060.82 1518.49 L2060.82 1514.23 L2069.08 1512.56 L2073.76 1512.56 L2073.76 1543.18 L2081.39 1543.18 L2081.39 1547.12 L2061.49 1547.12 L2061.49 1543.18 Z\" fill=\"#000000\" fill-rule=\"evenodd\" fill-opacity=\"1\" /><path clip-path=\"url(#clip650)\" d=\"M2100.84 1515.64 Q2097.23 1515.64 2095.4 1519.2 Q2093.59 1522.75 2093.59 1529.87 Q2093.59 1536.98 2095.4 1540.55 Q2097.23 1544.09 2100.84 1544.09 Q2104.47 1544.09 2106.28 1540.55 Q2108.11 1536.98 2108.11 1529.87 Q2108.11 1522.75 2106.28 1519.2 Q2104.47 1515.64 2100.84 1515.64 M2100.84 1511.93 Q2106.65 1511.93 2109.7 1516.54 Q2112.78 1521.12 2112.78 1529.87 Q2112.78 1538.6 2109.7 1543.21 Q2106.65 1547.79 2100.84 1547.79 Q2095.03 1547.79 2091.95 1543.21 Q2088.89 1538.6 2088.89 1529.87 Q2088.89 1521.12 2091.95 1516.54 Q2095.03 1511.93 2100.84 1511.93 Z\" fill=\"#000000\" fill-rule=\"evenodd\" fill-opacity=\"1\" /><polyline clip-path=\"url(#clip652)\" style=\"stroke:#000000; stroke-linecap:butt; stroke-linejoin:round; stroke-width:2; stroke-opacity:0.1; fill:none\" points=\"\n",
       "  184.191,1445.72 2352.76,1445.72 \n",
       "  \"/>\n",
       "<polyline clip-path=\"url(#clip652)\" style=\"stroke:#000000; stroke-linecap:butt; stroke-linejoin:round; stroke-width:2; stroke-opacity:0.1; fill:none\" points=\"\n",
       "  184.191,1132.44 2352.76,1132.44 \n",
       "  \"/>\n",
       "<polyline clip-path=\"url(#clip652)\" style=\"stroke:#000000; stroke-linecap:butt; stroke-linejoin:round; stroke-width:2; stroke-opacity:0.1; fill:none\" points=\"\n",
       "  184.191,819.157 2352.76,819.157 \n",
       "  \"/>\n",
       "<polyline clip-path=\"url(#clip652)\" style=\"stroke:#000000; stroke-linecap:butt; stroke-linejoin:round; stroke-width:2; stroke-opacity:0.1; fill:none\" points=\"\n",
       "  184.191,505.877 2352.76,505.877 \n",
       "  \"/>\n",
       "<polyline clip-path=\"url(#clip652)\" style=\"stroke:#000000; stroke-linecap:butt; stroke-linejoin:round; stroke-width:2; stroke-opacity:0.1; fill:none\" points=\"\n",
       "  184.191,192.597 2352.76,192.597 \n",
       "  \"/>\n",
       "<polyline clip-path=\"url(#clip650)\" style=\"stroke:#000000; stroke-linecap:butt; stroke-linejoin:round; stroke-width:4; stroke-opacity:1; fill:none\" points=\"\n",
       "  184.191,1486.45 184.191,47.2441 \n",
       "  \"/>\n",
       "<polyline clip-path=\"url(#clip650)\" style=\"stroke:#000000; stroke-linecap:butt; stroke-linejoin:round; stroke-width:4; stroke-opacity:1; fill:none\" points=\"\n",
       "  184.191,1445.72 203.088,1445.72 \n",
       "  \"/>\n",
       "<polyline clip-path=\"url(#clip650)\" style=\"stroke:#000000; stroke-linecap:butt; stroke-linejoin:round; stroke-width:4; stroke-opacity:1; fill:none\" points=\"\n",
       "  184.191,1132.44 203.088,1132.44 \n",
       "  \"/>\n",
       "<polyline clip-path=\"url(#clip650)\" style=\"stroke:#000000; stroke-linecap:butt; stroke-linejoin:round; stroke-width:4; stroke-opacity:1; fill:none\" points=\"\n",
       "  184.191,819.157 203.088,819.157 \n",
       "  \"/>\n",
       "<polyline clip-path=\"url(#clip650)\" style=\"stroke:#000000; stroke-linecap:butt; stroke-linejoin:round; stroke-width:4; stroke-opacity:1; fill:none\" points=\"\n",
       "  184.191,505.877 203.088,505.877 \n",
       "  \"/>\n",
       "<polyline clip-path=\"url(#clip650)\" style=\"stroke:#000000; stroke-linecap:butt; stroke-linejoin:round; stroke-width:4; stroke-opacity:1; fill:none\" points=\"\n",
       "  184.191,192.597 203.088,192.597 \n",
       "  \"/>\n",
       "<path clip-path=\"url(#clip650)\" d=\"M91.0151 1431.51 Q87.404 1431.51 85.5753 1435.08 Q83.7697 1438.62 83.7697 1445.75 Q83.7697 1452.86 85.5753 1456.42 Q87.404 1459.96 91.0151 1459.96 Q94.6493 1459.96 96.4548 1456.42 Q98.2835 1452.86 98.2835 1445.75 Q98.2835 1438.62 96.4548 1435.08 Q94.6493 1431.51 91.0151 1431.51 M91.0151 1427.81 Q96.8252 1427.81 99.8808 1432.42 Q102.959 1437 102.959 1445.75 Q102.959 1454.48 99.8808 1459.08 Q96.8252 1463.67 91.0151 1463.67 Q85.2049 1463.67 82.1262 1459.08 Q79.0707 1454.48 79.0707 1445.75 Q79.0707 1437 82.1262 1432.42 Q85.2049 1427.81 91.0151 1427.81 Z\" fill=\"#000000\" fill-rule=\"evenodd\" fill-opacity=\"1\" /><path clip-path=\"url(#clip650)\" d=\"M111.177 1457.12 L116.061 1457.12 L116.061 1463 L111.177 1463 L111.177 1457.12 Z\" fill=\"#000000\" fill-rule=\"evenodd\" fill-opacity=\"1\" /><path clip-path=\"url(#clip650)\" d=\"M136.246 1431.51 Q132.635 1431.51 130.807 1435.08 Q129.001 1438.62 129.001 1445.75 Q129.001 1452.86 130.807 1456.42 Q132.635 1459.96 136.246 1459.96 Q139.881 1459.96 141.686 1456.42 Q143.515 1452.86 143.515 1445.75 Q143.515 1438.62 141.686 1435.08 Q139.881 1431.51 136.246 1431.51 M136.246 1427.81 Q142.056 1427.81 145.112 1432.42 Q148.191 1437 148.191 1445.75 Q148.191 1454.48 145.112 1459.08 Q142.056 1463.67 136.246 1463.67 Q130.436 1463.67 127.357 1459.08 Q124.302 1454.48 124.302 1445.75 Q124.302 1437 127.357 1432.42 Q130.436 1427.81 136.246 1427.81 Z\" fill=\"#000000\" fill-rule=\"evenodd\" fill-opacity=\"1\" /><path clip-path=\"url(#clip650)\" d=\"M86.0382 1145.78 L102.358 1145.78 L102.358 1149.72 L80.4133 1149.72 L80.4133 1145.78 Q83.0753 1143.03 87.6586 1138.4 Q92.2651 1133.74 93.4456 1132.4 Q95.691 1129.88 96.5706 1128.14 Q97.4734 1126.38 97.4734 1124.69 Q97.4734 1121.94 95.5289 1120.2 Q93.6076 1118.47 90.5058 1118.47 Q88.3067 1118.47 85.8531 1119.23 Q83.4225 1119.99 80.6447 1121.54 L80.6447 1116.82 Q83.4688 1115.69 85.9225 1115.11 Q88.3762 1114.53 90.4132 1114.53 Q95.7836 1114.53 98.978 1117.22 Q102.172 1119.9 102.172 1124.39 Q102.172 1126.52 101.362 1128.44 Q100.575 1130.34 98.4687 1132.93 Q97.89 1133.61 94.7882 1136.82 Q91.6864 1140.02 86.0382 1145.78 Z\" fill=\"#000000\" fill-rule=\"evenodd\" fill-opacity=\"1\" /><path clip-path=\"url(#clip650)\" d=\"M112.172 1143.84 L117.057 1143.84 L117.057 1149.72 L112.172 1149.72 L112.172 1143.84 Z\" fill=\"#000000\" fill-rule=\"evenodd\" fill-opacity=\"1\" /><path clip-path=\"url(#clip650)\" d=\"M127.288 1115.16 L145.644 1115.16 L145.644 1119.09 L131.57 1119.09 L131.57 1127.56 Q132.589 1127.22 133.607 1127.05 Q134.626 1126.87 135.644 1126.87 Q141.431 1126.87 144.811 1130.04 Q148.191 1133.21 148.191 1138.63 Q148.191 1144.21 144.718 1147.31 Q141.246 1150.39 134.927 1150.39 Q132.751 1150.39 130.482 1150.02 Q128.237 1149.65 125.83 1148.91 L125.83 1144.21 Q127.913 1145.34 130.135 1145.9 Q132.357 1146.45 134.834 1146.45 Q138.839 1146.45 141.177 1144.35 Q143.515 1142.24 143.515 1138.63 Q143.515 1135.02 141.177 1132.91 Q138.839 1130.8 134.834 1130.8 Q132.959 1130.8 131.084 1131.22 Q129.232 1131.64 127.288 1132.52 L127.288 1115.16 Z\" fill=\"#000000\" fill-rule=\"evenodd\" fill-opacity=\"1\" /><path clip-path=\"url(#clip650)\" d=\"M81.0614 801.877 L99.4178 801.877 L99.4178 805.812 L85.3438 805.812 L85.3438 814.284 Q86.3623 813.937 87.3808 813.775 Q88.3993 813.589 89.4178 813.589 Q95.2049 813.589 98.5845 816.761 Q101.964 819.932 101.964 825.349 Q101.964 830.927 98.4919 834.029 Q95.0197 837.108 88.7003 837.108 Q86.5243 837.108 84.2558 836.737 Q82.0105 836.367 79.6031 835.626 L79.6031 830.927 Q81.6864 832.062 83.9086 832.617 Q86.1308 833.173 88.6077 833.173 Q92.6123 833.173 94.9502 831.066 Q97.2882 828.96 97.2882 825.349 Q97.2882 821.738 94.9502 819.631 Q92.6123 817.525 88.6077 817.525 Q86.7327 817.525 84.8577 817.941 Q83.0058 818.358 81.0614 819.238 L81.0614 801.877 Z\" fill=\"#000000\" fill-rule=\"evenodd\" fill-opacity=\"1\" /><path clip-path=\"url(#clip650)\" d=\"M111.177 830.557 L116.061 830.557 L116.061 836.437 L111.177 836.437 L111.177 830.557 Z\" fill=\"#000000\" fill-rule=\"evenodd\" fill-opacity=\"1\" /><path clip-path=\"url(#clip650)\" d=\"M136.246 804.955 Q132.635 804.955 130.807 808.52 Q129.001 812.062 129.001 819.191 Q129.001 826.298 130.807 829.863 Q132.635 833.404 136.246 833.404 Q139.881 833.404 141.686 829.863 Q143.515 826.298 143.515 819.191 Q143.515 812.062 141.686 808.52 Q139.881 804.955 136.246 804.955 M136.246 801.252 Q142.056 801.252 145.112 805.858 Q148.191 810.441 148.191 819.191 Q148.191 827.918 145.112 832.525 Q142.056 837.108 136.246 837.108 Q130.436 837.108 127.357 832.525 Q124.302 827.918 124.302 819.191 Q124.302 810.441 127.357 805.858 Q130.436 801.252 136.246 801.252 Z\" fill=\"#000000\" fill-rule=\"evenodd\" fill-opacity=\"1\" /><path clip-path=\"url(#clip650)\" d=\"M80.8299 488.597 L103.052 488.597 L103.052 490.588 L90.5058 523.157 L85.6216 523.157 L97.4271 492.532 L80.8299 492.532 L80.8299 488.597 Z\" fill=\"#000000\" fill-rule=\"evenodd\" fill-opacity=\"1\" /><path clip-path=\"url(#clip650)\" d=\"M112.172 517.277 L117.057 517.277 L117.057 523.157 L112.172 523.157 L112.172 517.277 Z\" fill=\"#000000\" fill-rule=\"evenodd\" fill-opacity=\"1\" /><path clip-path=\"url(#clip650)\" d=\"M127.288 488.597 L145.644 488.597 L145.644 492.532 L131.57 492.532 L131.57 501.004 Q132.589 500.657 133.607 500.495 Q134.626 500.31 135.644 500.31 Q141.431 500.31 144.811 503.481 Q148.191 506.652 148.191 512.069 Q148.191 517.648 144.718 520.75 Q141.246 523.828 134.927 523.828 Q132.751 523.828 130.482 523.458 Q128.237 523.088 125.83 522.347 L125.83 517.648 Q127.913 518.782 130.135 519.338 Q132.357 519.893 134.834 519.893 Q138.839 519.893 141.177 517.787 Q143.515 515.68 143.515 512.069 Q143.515 508.458 141.177 506.352 Q138.839 504.245 134.834 504.245 Q132.959 504.245 131.084 504.662 Q129.232 505.078 127.288 505.958 L127.288 488.597 Z\" fill=\"#000000\" fill-rule=\"evenodd\" fill-opacity=\"1\" /><path clip-path=\"url(#clip650)\" d=\"M51.6634 205.942 L59.3023 205.942 L59.3023 179.577 L50.9921 181.243 L50.9921 176.984 L59.256 175.317 L63.9319 175.317 L63.9319 205.942 L71.5707 205.942 L71.5707 209.877 L51.6634 209.877 L51.6634 205.942 Z\" fill=\"#000000\" fill-rule=\"evenodd\" fill-opacity=\"1\" /><path clip-path=\"url(#clip650)\" d=\"M91.0151 178.396 Q87.404 178.396 85.5753 181.961 Q83.7697 185.503 83.7697 192.632 Q83.7697 199.739 85.5753 203.303 Q87.404 206.845 91.0151 206.845 Q94.6493 206.845 96.4548 203.303 Q98.2835 199.739 98.2835 192.632 Q98.2835 185.503 96.4548 181.961 Q94.6493 178.396 91.0151 178.396 M91.0151 174.692 Q96.8252 174.692 99.8808 179.299 Q102.959 183.882 102.959 192.632 Q102.959 201.359 99.8808 205.965 Q96.8252 210.549 91.0151 210.549 Q85.2049 210.549 82.1262 205.965 Q79.0707 201.359 79.0707 192.632 Q79.0707 183.882 82.1262 179.299 Q85.2049 174.692 91.0151 174.692 Z\" fill=\"#000000\" fill-rule=\"evenodd\" fill-opacity=\"1\" /><path clip-path=\"url(#clip650)\" d=\"M111.177 203.998 L116.061 203.998 L116.061 209.877 L111.177 209.877 L111.177 203.998 Z\" fill=\"#000000\" fill-rule=\"evenodd\" fill-opacity=\"1\" /><path clip-path=\"url(#clip650)\" d=\"M136.246 178.396 Q132.635 178.396 130.807 181.961 Q129.001 185.503 129.001 192.632 Q129.001 199.739 130.807 203.303 Q132.635 206.845 136.246 206.845 Q139.881 206.845 141.686 203.303 Q143.515 199.739 143.515 192.632 Q143.515 185.503 141.686 181.961 Q139.881 178.396 136.246 178.396 M136.246 174.692 Q142.056 174.692 145.112 179.299 Q148.191 183.882 148.191 192.632 Q148.191 201.359 145.112 205.965 Q142.056 210.549 136.246 210.549 Q130.436 210.549 127.357 205.965 Q124.302 201.359 124.302 192.632 Q124.302 183.882 127.357 179.299 Q130.436 174.692 136.246 174.692 Z\" fill=\"#000000\" fill-rule=\"evenodd\" fill-opacity=\"1\" /><polyline clip-path=\"url(#clip652)\" style=\"stroke:#009af9; stroke-linecap:butt; stroke-linejoin:round; stroke-width:4; stroke-opacity:1; fill:none\" points=\"\n",
       "  245.565,1445.72 450.147,1328.68 654.728,1212.63 859.31,1095.54 1063.89,859.321 1268.47,775.623 1473.05,589.403 1677.64,398.399 1882.22,280.285 2086.8,108.579 \n",
       "  \n",
       "  \"/>\n",
       "<polyline clip-path=\"url(#clip652)\" style=\"stroke:#e26f46; stroke-linecap:butt; stroke-linejoin:round; stroke-width:4; stroke-opacity:1; fill:none\" points=\"\n",
       "  245.565,1445.72 450.147,1328.68 654.728,1212.63 859.31,1095.54 1063.89,859.321 1268.47,641.424 1473.05,635.445 1677.64,504.292 1882.22,433.344 2086.8,390.221 \n",
       "  2291.38,179.972 \n",
       "  \"/>\n",
       "<polyline clip-path=\"url(#clip652)\" style=\"stroke:#3da44d; stroke-linecap:butt; stroke-linejoin:round; stroke-width:4; stroke-opacity:1; fill:none\" points=\"\n",
       "  245.565,1445.72 450.147,1328.68 654.728,1212.63 859.31,1124.67 1063.89,1010.51 1268.47,738.48 1473.05,650.734 1677.64,555.146 1882.22,446.99 2086.8,357.85 \n",
       "  2291.38,116.644 \n",
       "  \"/>\n",
       "<polyline clip-path=\"url(#clip652)\" style=\"stroke:#c271d2; stroke-linecap:butt; stroke-linejoin:round; stroke-width:4; stroke-opacity:1; fill:none\" points=\"\n",
       "  245.565,1445.72 450.147,1328.68 654.728,1212.63 859.31,1095.54 1063.89,1004.72 1268.47,853.712 1473.05,796.025 1677.64,570.28 1882.22,400.447 2086.8,271.926 \n",
       "  2291.38,87.9763 \n",
       "  \"/>\n",
       "<polyline clip-path=\"url(#clip652)\" style=\"stroke:#ac8d18; stroke-linecap:butt; stroke-linejoin:round; stroke-width:4; stroke-opacity:1; fill:none\" points=\"\n",
       "  245.565,1445.72 450.147,1328.68 654.728,1212.63 859.31,1095.54 1063.89,859.321 1268.47,868.108 1473.05,756.976 1677.64,697.474 1882.22,552.923 2086.8,417.239 \n",
       "  2291.38,170.613 \n",
       "  \"/>\n",
       "<polyline clip-path=\"url(#clip652)\" style=\"stroke:#00a9ad; stroke-linecap:butt; stroke-linejoin:round; stroke-width:4; stroke-opacity:1; fill:none\" points=\"\n",
       "  245.565,1445.72 450.147,1328.68 654.728,1212.63 859.31,1095.54 1063.89,859.321 1268.47,760.777 1473.05,668.411 1677.64,424.309 1882.22,355.297 2086.8,251.175 \n",
       "  2291.38,133.108 \n",
       "  \"/>\n",
       "<polyline clip-path=\"url(#clip652)\" style=\"stroke:#ed5d92; stroke-linecap:butt; stroke-linejoin:round; stroke-width:4; stroke-opacity:1; fill:none\" points=\"\n",
       "  245.565,1445.72 450.147,1328.68 654.728,1212.63 859.31,1095.54 1063.89,859.321 1268.47,868.108 1473.05,674.617 1677.64,618.533 1882.22,464.162 2086.8,304.3 \n",
       "  2291.38,167.772 \n",
       "  \"/>\n",
       "<polyline clip-path=\"url(#clip652)\" style=\"stroke:#c68125; stroke-linecap:butt; stroke-linejoin:round; stroke-width:4; stroke-opacity:1; fill:none\" points=\"\n",
       "  245.565,1445.72 450.147,1328.68 654.728,1212.63 859.31,1095.54 1063.89,859.321 1268.47,868.108 1473.05,749.475 1677.64,509.719 1882.22,384.487 2086.8,280.319 \n",
       "  2291.38,183.647 \n",
       "  \"/>\n",
       "<polyline clip-path=\"url(#clip652)\" style=\"stroke:#00a98d; stroke-linecap:butt; stroke-linejoin:round; stroke-width:4; stroke-opacity:1; fill:none\" points=\"\n",
       "  245.565,1445.72 450.147,1328.68 654.728,1212.63 859.31,1095.54 1063.89,859.321 1268.47,780.736 1473.05,582.998 1677.64,357.655 1882.22,327.307 2086.8,252.837 \n",
       "  2291.38,191.008 \n",
       "  \"/>\n",
       "<polyline clip-path=\"url(#clip652)\" style=\"stroke:#8e971d; stroke-linecap:butt; stroke-linejoin:round; stroke-width:4; stroke-opacity:1; fill:none\" points=\"\n",
       "  245.565,1445.72 450.147,1328.68 654.728,1212.63 859.31,1095.54 1063.89,859.321 1268.47,680.55 1473.05,515.982 1677.64,386.524 1882.22,289.32 2086.8,195.895 \n",
       "  2291.38,109.324 \n",
       "  \"/>\n",
       "</svg>\n"
      ]
     },
     "execution_count": 12,
     "metadata": {},
     "output_type": "execute_result"
    }
   ],
   "source": [
    "p = plot(legend=false)\n",
    "for (path, r) in sol\n",
    "    Interface.reset!(mdp)\n",
    "    x = [mdp.sim.x]\n",
    "    for a in path\n",
    "        Interface.act!(mdp, a)\n",
    "        push!(x, mdp.sim.x)\n",
    "    end\n",
    "    plot!(p, x)\n",
    "end\n",
    "p"
   ]
  },
  {
   "cell_type": "code",
   "execution_count": null,
   "id": "international-negotiation",
   "metadata": {},
   "outputs": [],
   "source": []
  }
 ],
 "metadata": {
  "kernelspec": {
   "display_name": "Julia 1.6.0",
   "language": "julia",
   "name": "julia-1.6"
  },
  "language_info": {
   "file_extension": ".jl",
   "mimetype": "application/julia",
   "name": "julia",
   "version": "1.6.0"
  }
 },
 "nbformat": 4,
 "nbformat_minor": 5
}
