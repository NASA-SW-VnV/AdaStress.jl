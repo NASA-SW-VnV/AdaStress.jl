{
 "cells": [
  {
   "cell_type": "markdown",
   "id": "material-accent",
   "metadata": {},
   "source": [
    "# Walk1D\n",
    "\n",
    "This example demonstrates local stress testing in a 1D random walk environment.\n",
    "- **System under test:** inactive; does nothing to control pawn movement or avoid failure.\n",
    "- **Failure criterion:** pawn position exceeds critical value.\n",
    "- **Stochastic disturbance:** 1-dimensional pawn movement, normally distributed.\n",
    "\n",
    "In this case, the AST problem reduces to a simple goal-seeking reinforcement learning problem. This allows us to easily evaluate the efficacy of the solvers."
   ]
  },
  {
   "cell_type": "code",
   "execution_count": 1,
   "id": "numerous-merchant",
   "metadata": {},
   "outputs": [
    {
     "name": "stderr",
     "output_type": "stream",
     "text": [
      "\u001b[32m\u001b[1m  Activating\u001b[22m\u001b[39m project at `C:\\Users\\rlipkis\\.julia\\dev\\adastress\\examples\\walk1d`\n",
      "\u001b[32m\u001b[1m   Resolving\u001b[22m\u001b[39m package versions...\n",
      "\u001b[32m\u001b[1m  No Changes\u001b[22m\u001b[39m to `C:\\Users\\rlipkis\\.julia\\dev\\adastress\\examples\\walk1d\\Project.toml`\n",
      "\u001b[32m\u001b[1m  No Changes\u001b[22m\u001b[39m to `C:\\Users\\rlipkis\\.julia\\dev\\adastress\\examples\\walk1d\\Manifest.toml`\n"
     ]
    }
   ],
   "source": [
    "using Pkg\n",
    "Pkg.activate(\".\")\n",
    "Pkg.develop(path=\"../..\")\n",
    "Pkg.instantiate()"
   ]
  },
  {
   "cell_type": "code",
   "execution_count": 2,
   "id": "accessible-rotation",
   "metadata": {},
   "outputs": [],
   "source": [
    "using Revise"
   ]
  },
  {
   "cell_type": "code",
   "execution_count": 3,
   "id": "instrumental-tomorrow",
   "metadata": {},
   "outputs": [
    {
     "name": "stderr",
     "output_type": "stream",
     "text": [
      "┌ Info: Precompiling AdaStress [f8632b6a-8763-4da0-bfaf-5f7707adef25]\n",
      "└ @ Base loading.jl:1423\n"
     ]
    }
   ],
   "source": [
    "using AdaStress\n",
    "import AdaStress.BlackBox\n",
    "using Plots"
   ]
  },
  {
   "cell_type": "markdown",
   "id": "fifty-queen",
   "metadata": {},
   "source": [
    "## Simulation"
   ]
  },
  {
   "cell_type": "code",
   "execution_count": 4,
   "id": "found-generic",
   "metadata": {},
   "outputs": [],
   "source": [
    "using Distributions\n",
    "using Random"
   ]
  },
  {
   "cell_type": "code",
   "execution_count": 5,
   "id": "architectural-distance",
   "metadata": {},
   "outputs": [
    {
     "data": {
      "text/plain": [
       "update! (generic function with 1 method)"
      ]
     },
     "execution_count": 5,
     "metadata": {},
     "output_type": "execute_result"
    }
   ],
   "source": [
    "Base.@kwdef mutable struct Walk1D <: AdaStress.BlackBox\n",
    "    t::Float64=0.0\n",
    "    t_max::Float64=10.0\n",
    "    x::Float64=0.0\n",
    "    x_fail::Float64=10.0\n",
    "    dist::Normal=Normal(0.0, 1.0)\n",
    "    log::Vector{Float64} = []\n",
    "end\n",
    "\n",
    "function initialize!(sim::Walk1D)\n",
    "    sim.t = 0.0\n",
    "    sim.x = 0.0\n",
    "    sim.log = [sim.x]\n",
    "end\n",
    "\n",
    "function update!(sim::Walk1D)\n",
    "    sim.t += 1.0\n",
    "    a = rand(sim.dist)\n",
    "    sim.x += a\n",
    "    push!(sim.log, sim.x)\n",
    "    return logpdf(sim.dist, a) - logpdf(sim.dist, 0.0)\n",
    "end"
   ]
  },
  {
   "cell_type": "code",
   "execution_count": 6,
   "id": "demonstrated-commerce",
   "metadata": {},
   "outputs": [],
   "source": [
    "AdaStress.reset!(sim::Walk1D) = initialize!(sim)\n",
    "AdaStress.step!(sim::Walk1D) = update!(sim)\n",
    "AdaStress.isterminal(sim::Walk1D) = sim.t >= sim.t_max\n",
    "AdaStress.isevent(sim::Walk1D) = sim.x >= sim.x_fail\n",
    "AdaStress.distance(sim::Walk1D) = max(sim.x_fail - sim.x, 0.0)"
   ]
  },
  {
   "cell_type": "markdown",
   "id": "dominican-halifax",
   "metadata": {},
   "source": [
    "## MCS"
   ]
  },
  {
   "cell_type": "code",
   "execution_count": 7,
   "id": "amended-pencil",
   "metadata": {},
   "outputs": [
    {
     "data": {
      "text/plain": [
       "AdaStress.Solvers.MonteCarloSearch.MCS(100000, 10)"
      ]
     },
     "execution_count": 7,
     "metadata": {},
     "output_type": "execute_result"
    }
   ],
   "source": [
    "mcs = AdaStress.Solvers.MCS(num_iterations=100_000)"
   ]
  },
  {
   "cell_type": "code",
   "execution_count": 8,
   "id": "unlikely-thinking",
   "metadata": {
    "scrolled": true
   },
   "outputs": [
    {
     "data": {
      "text/plain": [
       "100.0"
      ]
     },
     "execution_count": 8,
     "metadata": {},
     "output_type": "execute_result"
    }
   ],
   "source": [
    "mdp = AdaStress.ASTMDP(Walk1D())\n",
    "mdp.reward.event_bonus = 100.0"
   ]
  },
  {
   "cell_type": "code",
   "execution_count": 9,
   "id": "insured-gossip",
   "metadata": {},
   "outputs": [
    {
     "name": "stderr",
     "output_type": "stream",
     "text": [
      "\u001b[32mProgress: 100%|█████████████████████████████████████████| Time: 0:00:02\u001b[39m\n"
     ]
    },
    {
     "name": "stdout",
     "output_type": "stream",
     "text": [
      "  3.354207 seconds (32.08 M allocations: 1.296 GiB, 5.96% gc time, 42.19% compilation time)\n"
     ]
    },
    {
     "data": {
      "text/plain": [
       "DataStructures.PriorityQueue{Any, Any, Base.Order.ForwardOrdering} with 10 entries:\n",
       "  MCSResult(UInt32[0xf5802e2c, 0xd83ebd70, 0xd15b1487, 0xc03e87cd, 0… => 101.884\n",
       "  MCSResult(UInt32[0xf3da3b43, 0x1f21312a, 0xffe5a08d, 0xea132bbd, 0… => 101.888\n",
       "  MCSResult(UInt32[0x8e5d795d, 0x60ff4448, 0x90f77fb9, 0x8c87dd2f, 0… => 101.989\n",
       "  MCSResult(UInt32[0xae78d9ff, 0x8d2ae018, 0x24e648a6, 0x5e26f681, 0… => 102.045\n",
       "  MCSResult(UInt32[0x05402236, 0xcc2396d7, 0xb2bfe4be, 0xc8ab9860, 0… => 102.355\n",
       "  MCSResult(UInt32[0x2a8928e0, 0x12229ce7, 0x1b559438, 0xb4d5edfd, 0… => 102.52\n",
       "  MCSResult(UInt32[0x0ee77df4, 0x20199fda, 0x091b74c1, 0x8a95e4a0, 0… => 102.537\n",
       "  MCSResult(UInt32[0x7a0d1bdc, 0x3103f2f4, 0x76874476, 0xeee46c95, 0… => 102.696\n",
       "  MCSResult(UInt32[0xf26e2a5e, 0x8c7abeb7, 0xd19875c7, 0xfb4919a2, 0… => 102.755\n",
       "  MCSResult(UInt32[0xc61cf7f3, 0x47cb5356, 0x8949c52d, 0x2aacd1b6, 0… => 103.202"
      ]
     },
     "execution_count": 9,
     "metadata": {},
     "output_type": "execute_result"
    }
   ],
   "source": [
    "Random.seed!(0)\n",
    "@time sol = mcs(() -> mdp)"
   ]
  },
  {
   "cell_type": "code",
   "execution_count": 10,
   "id": "superb-intent",
   "metadata": {},
   "outputs": [
    {
     "data": {
      "image/svg+xml": [
       "<?xml version=\"1.0\" encoding=\"utf-8\"?>\n",
       "<svg xmlns=\"http://www.w3.org/2000/svg\" xmlns:xlink=\"http://www.w3.org/1999/xlink\" width=\"600\" height=\"400\" viewBox=\"0 0 2400 1600\">\n",
       "<defs>\n",
       "  <clipPath id=\"clip890\">\n",
       "    <rect x=\"0\" y=\"0\" width=\"2400\" height=\"1600\"/>\n",
       "  </clipPath>\n",
       "</defs>\n",
       "<path clip-path=\"url(#clip890)\" d=\"\n",
       "M0 1600 L2400 1600 L2400 0 L0 0  Z\n",
       "  \" fill=\"#ffffff\" fill-rule=\"evenodd\" fill-opacity=\"1\"/>\n",
       "<defs>\n",
       "  <clipPath id=\"clip891\">\n",
       "    <rect x=\"480\" y=\"0\" width=\"1681\" height=\"1600\"/>\n",
       "  </clipPath>\n",
       "</defs>\n",
       "<path clip-path=\"url(#clip890)\" d=\"\n",
       "M184.191 1486.45 L2352.76 1486.45 L2352.76 47.2441 L184.191 47.2441  Z\n",
       "  \" fill=\"#ffffff\" fill-rule=\"evenodd\" fill-opacity=\"1\"/>\n",
       "<defs>\n",
       "  <clipPath id=\"clip892\">\n",
       "    <rect x=\"184\" y=\"47\" width=\"2170\" height=\"1440\"/>\n",
       "  </clipPath>\n",
       "</defs>\n",
       "<polyline clip-path=\"url(#clip892)\" style=\"stroke:#000000; stroke-linecap:butt; stroke-linejoin:round; stroke-width:2; stroke-opacity:0.1; fill:none\" points=\"\n",
       "  524.54,1486.45 524.54,47.2441 \n",
       "  \"/>\n",
       "<polyline clip-path=\"url(#clip892)\" style=\"stroke:#000000; stroke-linecap:butt; stroke-linejoin:round; stroke-width:2; stroke-opacity:0.1; fill:none\" points=\"\n",
       "  989.498,1486.45 989.498,47.2441 \n",
       "  \"/>\n",
       "<polyline clip-path=\"url(#clip892)\" style=\"stroke:#000000; stroke-linecap:butt; stroke-linejoin:round; stroke-width:2; stroke-opacity:0.1; fill:none\" points=\"\n",
       "  1454.46,1486.45 1454.46,47.2441 \n",
       "  \"/>\n",
       "<polyline clip-path=\"url(#clip892)\" style=\"stroke:#000000; stroke-linecap:butt; stroke-linejoin:round; stroke-width:2; stroke-opacity:0.1; fill:none\" points=\"\n",
       "  1919.41,1486.45 1919.41,47.2441 \n",
       "  \"/>\n",
       "<polyline clip-path=\"url(#clip890)\" style=\"stroke:#000000; stroke-linecap:butt; stroke-linejoin:round; stroke-width:4; stroke-opacity:1; fill:none\" points=\"\n",
       "  184.191,1486.45 2352.76,1486.45 \n",
       "  \"/>\n",
       "<polyline clip-path=\"url(#clip890)\" style=\"stroke:#000000; stroke-linecap:butt; stroke-linejoin:round; stroke-width:4; stroke-opacity:1; fill:none\" points=\"\n",
       "  524.54,1486.45 524.54,1467.55 \n",
       "  \"/>\n",
       "<polyline clip-path=\"url(#clip890)\" style=\"stroke:#000000; stroke-linecap:butt; stroke-linejoin:round; stroke-width:4; stroke-opacity:1; fill:none\" points=\"\n",
       "  989.498,1486.45 989.498,1467.55 \n",
       "  \"/>\n",
       "<polyline clip-path=\"url(#clip890)\" style=\"stroke:#000000; stroke-linecap:butt; stroke-linejoin:round; stroke-width:4; stroke-opacity:1; fill:none\" points=\"\n",
       "  1454.46,1486.45 1454.46,1467.55 \n",
       "  \"/>\n",
       "<polyline clip-path=\"url(#clip890)\" style=\"stroke:#000000; stroke-linecap:butt; stroke-linejoin:round; stroke-width:4; stroke-opacity:1; fill:none\" points=\"\n",
       "  1919.41,1486.45 1919.41,1467.55 \n",
       "  \"/>\n",
       "<path clip-path=\"url(#clip890)\" d=\"M496.276 1543.18 L512.596 1543.18 L512.596 1547.12 L490.651 1547.12 L490.651 1543.18 Q493.313 1540.43 497.897 1535.8 Q502.503 1531.15 503.684 1529.81 Q505.929 1527.28 506.809 1525.55 Q507.711 1523.79 507.711 1522.1 Q507.711 1519.34 505.767 1517.61 Q503.846 1515.87 500.744 1515.87 Q498.545 1515.87 496.091 1516.63 Q493.661 1517.4 490.883 1518.95 L490.883 1514.23 Q493.707 1513.09 496.161 1512.51 Q498.614 1511.93 500.651 1511.93 Q506.022 1511.93 509.216 1514.62 Q512.411 1517.31 512.411 1521.8 Q512.411 1523.93 511.6 1525.85 Q510.813 1527.74 508.707 1530.34 Q508.128 1531.01 505.026 1534.23 Q501.924 1537.42 496.276 1543.18 Z\" fill=\"#000000\" fill-rule=\"evenodd\" fill-opacity=\"1\" /><path clip-path=\"url(#clip890)\" d=\"M522.41 1541.24 L527.295 1541.24 L527.295 1547.12 L522.41 1547.12 L522.41 1541.24 Z\" fill=\"#000000\" fill-rule=\"evenodd\" fill-opacity=\"1\" /><path clip-path=\"url(#clip890)\" d=\"M537.526 1512.56 L555.883 1512.56 L555.883 1516.5 L541.809 1516.5 L541.809 1524.97 Q542.827 1524.62 543.846 1524.46 Q544.864 1524.27 545.883 1524.27 Q551.67 1524.27 555.049 1527.44 Q558.429 1530.62 558.429 1536.03 Q558.429 1541.61 554.957 1544.71 Q551.484 1547.79 545.165 1547.79 Q542.989 1547.79 540.721 1547.42 Q538.475 1547.05 536.068 1546.31 L536.068 1541.61 Q538.151 1542.74 540.373 1543.3 Q542.596 1543.86 545.072 1543.86 Q549.077 1543.86 551.415 1541.75 Q553.753 1539.64 553.753 1536.03 Q553.753 1532.42 551.415 1530.31 Q549.077 1528.21 545.072 1528.21 Q543.197 1528.21 541.322 1528.62 Q539.471 1529.04 537.526 1529.92 L537.526 1512.56 Z\" fill=\"#000000\" fill-rule=\"evenodd\" fill-opacity=\"1\" /><path clip-path=\"url(#clip890)\" d=\"M956.663 1512.56 L975.019 1512.56 L975.019 1516.5 L960.945 1516.5 L960.945 1524.97 Q961.964 1524.62 962.982 1524.46 Q964.001 1524.27 965.019 1524.27 Q970.806 1524.27 974.186 1527.44 Q977.566 1530.62 977.566 1536.03 Q977.566 1541.61 974.093 1544.71 Q970.621 1547.79 964.302 1547.79 Q962.126 1547.79 959.857 1547.42 Q957.612 1547.05 955.205 1546.31 L955.205 1541.61 Q957.288 1542.74 959.51 1543.3 Q961.732 1543.86 964.209 1543.86 Q968.214 1543.86 970.552 1541.75 Q972.89 1539.64 972.89 1536.03 Q972.89 1532.42 970.552 1530.31 Q968.214 1528.21 964.209 1528.21 Q962.334 1528.21 960.459 1528.62 Q958.607 1529.04 956.663 1529.92 L956.663 1512.56 Z\" fill=\"#000000\" fill-rule=\"evenodd\" fill-opacity=\"1\" /><path clip-path=\"url(#clip890)\" d=\"M986.778 1541.24 L991.663 1541.24 L991.663 1547.12 L986.778 1547.12 L986.778 1541.24 Z\" fill=\"#000000\" fill-rule=\"evenodd\" fill-opacity=\"1\" /><path clip-path=\"url(#clip890)\" d=\"M1011.85 1515.64 Q1008.24 1515.64 1006.41 1519.2 Q1004.6 1522.75 1004.6 1529.87 Q1004.6 1536.98 1006.41 1540.55 Q1008.24 1544.09 1011.85 1544.09 Q1015.48 1544.09 1017.29 1540.55 Q1019.12 1536.98 1019.12 1529.87 Q1019.12 1522.75 1017.29 1519.2 Q1015.48 1515.64 1011.85 1515.64 M1011.85 1511.93 Q1017.66 1511.93 1020.71 1516.54 Q1023.79 1521.12 1023.79 1529.87 Q1023.79 1538.6 1020.71 1543.21 Q1017.66 1547.79 1011.85 1547.79 Q1006.04 1547.79 1002.96 1543.21 Q999.903 1538.6 999.903 1529.87 Q999.903 1521.12 1002.96 1516.54 Q1006.04 1511.93 1011.85 1511.93 Z\" fill=\"#000000\" fill-rule=\"evenodd\" fill-opacity=\"1\" /><path clip-path=\"url(#clip890)\" d=\"M1420.78 1512.56 L1443 1512.56 L1443 1514.55 L1430.45 1547.12 L1425.57 1547.12 L1437.37 1516.5 L1420.78 1516.5 L1420.78 1512.56 Z\" fill=\"#000000\" fill-rule=\"evenodd\" fill-opacity=\"1\" /><path clip-path=\"url(#clip890)\" d=\"M1452.12 1541.24 L1457 1541.24 L1457 1547.12 L1452.12 1547.12 L1452.12 1541.24 Z\" fill=\"#000000\" fill-rule=\"evenodd\" fill-opacity=\"1\" /><path clip-path=\"url(#clip890)\" d=\"M1467.23 1512.56 L1485.59 1512.56 L1485.59 1516.5 L1471.52 1516.5 L1471.52 1524.97 Q1472.54 1524.62 1473.55 1524.46 Q1474.57 1524.27 1475.59 1524.27 Q1481.38 1524.27 1484.76 1527.44 Q1488.14 1530.62 1488.14 1536.03 Q1488.14 1541.61 1484.66 1544.71 Q1481.19 1547.79 1474.87 1547.79 Q1472.7 1547.79 1470.43 1547.42 Q1468.18 1547.05 1465.78 1546.31 L1465.78 1541.61 Q1467.86 1542.74 1470.08 1543.3 Q1472.3 1543.86 1474.78 1543.86 Q1478.79 1543.86 1481.12 1541.75 Q1483.46 1539.64 1483.46 1536.03 Q1483.46 1532.42 1481.12 1530.31 Q1478.79 1528.21 1474.78 1528.21 Q1472.91 1528.21 1471.03 1528.62 Q1469.18 1529.04 1467.23 1529.92 L1467.23 1512.56 Z\" fill=\"#000000\" fill-rule=\"evenodd\" fill-opacity=\"1\" /><path clip-path=\"url(#clip890)\" d=\"M1871.49 1543.18 L1879.13 1543.18 L1879.13 1516.82 L1870.82 1518.49 L1870.82 1514.23 L1879.08 1512.56 L1883.76 1512.56 L1883.76 1543.18 L1891.39 1543.18 L1891.39 1547.12 L1871.49 1547.12 L1871.49 1543.18 Z\" fill=\"#000000\" fill-rule=\"evenodd\" fill-opacity=\"1\" /><path clip-path=\"url(#clip890)\" d=\"M1910.84 1515.64 Q1907.23 1515.64 1905.4 1519.2 Q1903.59 1522.75 1903.59 1529.87 Q1903.59 1536.98 1905.4 1540.55 Q1907.23 1544.09 1910.84 1544.09 Q1914.47 1544.09 1916.28 1540.55 Q1918.11 1536.98 1918.11 1529.87 Q1918.11 1522.75 1916.28 1519.2 Q1914.47 1515.64 1910.84 1515.64 M1910.84 1511.93 Q1916.65 1511.93 1919.7 1516.54 Q1922.78 1521.12 1922.78 1529.87 Q1922.78 1538.6 1919.7 1543.21 Q1916.65 1547.79 1910.84 1547.79 Q1905.03 1547.79 1901.95 1543.21 Q1898.89 1538.6 1898.89 1529.87 Q1898.89 1521.12 1901.95 1516.54 Q1905.03 1511.93 1910.84 1511.93 Z\" fill=\"#000000\" fill-rule=\"evenodd\" fill-opacity=\"1\" /><path clip-path=\"url(#clip890)\" d=\"M1931 1541.24 L1935.88 1541.24 L1935.88 1547.12 L1931 1547.12 L1931 1541.24 Z\" fill=\"#000000\" fill-rule=\"evenodd\" fill-opacity=\"1\" /><path clip-path=\"url(#clip890)\" d=\"M1956.07 1515.64 Q1952.46 1515.64 1950.63 1519.2 Q1948.82 1522.75 1948.82 1529.87 Q1948.82 1536.98 1950.63 1540.55 Q1952.46 1544.09 1956.07 1544.09 Q1959.7 1544.09 1961.51 1540.55 Q1963.34 1536.98 1963.34 1529.87 Q1963.34 1522.75 1961.51 1519.2 Q1959.7 1515.64 1956.07 1515.64 M1956.07 1511.93 Q1961.88 1511.93 1964.94 1516.54 Q1968.01 1521.12 1968.01 1529.87 Q1968.01 1538.6 1964.94 1543.21 Q1961.88 1547.79 1956.07 1547.79 Q1950.26 1547.79 1947.18 1543.21 Q1944.13 1538.6 1944.13 1529.87 Q1944.13 1521.12 1947.18 1516.54 Q1950.26 1511.93 1956.07 1511.93 Z\" fill=\"#000000\" fill-rule=\"evenodd\" fill-opacity=\"1\" /><polyline clip-path=\"url(#clip892)\" style=\"stroke:#000000; stroke-linecap:butt; stroke-linejoin:round; stroke-width:2; stroke-opacity:0.1; fill:none\" points=\"\n",
       "  184.191,1405.1 2352.76,1405.1 \n",
       "  \"/>\n",
       "<polyline clip-path=\"url(#clip892)\" style=\"stroke:#000000; stroke-linecap:butt; stroke-linejoin:round; stroke-width:2; stroke-opacity:0.1; fill:none\" points=\"\n",
       "  184.191,1109.15 2352.76,1109.15 \n",
       "  \"/>\n",
       "<polyline clip-path=\"url(#clip892)\" style=\"stroke:#000000; stroke-linecap:butt; stroke-linejoin:round; stroke-width:2; stroke-opacity:0.1; fill:none\" points=\"\n",
       "  184.191,813.187 2352.76,813.187 \n",
       "  \"/>\n",
       "<polyline clip-path=\"url(#clip892)\" style=\"stroke:#000000; stroke-linecap:butt; stroke-linejoin:round; stroke-width:2; stroke-opacity:0.1; fill:none\" points=\"\n",
       "  184.191,517.229 2352.76,517.229 \n",
       "  \"/>\n",
       "<polyline clip-path=\"url(#clip892)\" style=\"stroke:#000000; stroke-linecap:butt; stroke-linejoin:round; stroke-width:2; stroke-opacity:0.1; fill:none\" points=\"\n",
       "  184.191,221.27 2352.76,221.27 \n",
       "  \"/>\n",
       "<polyline clip-path=\"url(#clip890)\" style=\"stroke:#000000; stroke-linecap:butt; stroke-linejoin:round; stroke-width:4; stroke-opacity:1; fill:none\" points=\"\n",
       "  184.191,1486.45 184.191,47.2441 \n",
       "  \"/>\n",
       "<polyline clip-path=\"url(#clip890)\" style=\"stroke:#000000; stroke-linecap:butt; stroke-linejoin:round; stroke-width:4; stroke-opacity:1; fill:none\" points=\"\n",
       "  184.191,1405.1 203.088,1405.1 \n",
       "  \"/>\n",
       "<polyline clip-path=\"url(#clip890)\" style=\"stroke:#000000; stroke-linecap:butt; stroke-linejoin:round; stroke-width:4; stroke-opacity:1; fill:none\" points=\"\n",
       "  184.191,1109.15 203.088,1109.15 \n",
       "  \"/>\n",
       "<polyline clip-path=\"url(#clip890)\" style=\"stroke:#000000; stroke-linecap:butt; stroke-linejoin:round; stroke-width:4; stroke-opacity:1; fill:none\" points=\"\n",
       "  184.191,813.187 203.088,813.187 \n",
       "  \"/>\n",
       "<polyline clip-path=\"url(#clip890)\" style=\"stroke:#000000; stroke-linecap:butt; stroke-linejoin:round; stroke-width:4; stroke-opacity:1; fill:none\" points=\"\n",
       "  184.191,517.229 203.088,517.229 \n",
       "  \"/>\n",
       "<polyline clip-path=\"url(#clip890)\" style=\"stroke:#000000; stroke-linecap:butt; stroke-linejoin:round; stroke-width:4; stroke-opacity:1; fill:none\" points=\"\n",
       "  184.191,221.27 203.088,221.27 \n",
       "  \"/>\n",
       "<path clip-path=\"url(#clip890)\" d=\"M91.0151 1390.9 Q87.404 1390.9 85.5753 1394.47 Q83.7697 1398.01 83.7697 1405.14 Q83.7697 1412.25 85.5753 1415.81 Q87.404 1419.35 91.0151 1419.35 Q94.6493 1419.35 96.4548 1415.81 Q98.2835 1412.25 98.2835 1405.14 Q98.2835 1398.01 96.4548 1394.47 Q94.6493 1390.9 91.0151 1390.9 M91.0151 1387.2 Q96.8252 1387.2 99.8808 1391.81 Q102.959 1396.39 102.959 1405.14 Q102.959 1413.87 99.8808 1418.47 Q96.8252 1423.06 91.0151 1423.06 Q85.2049 1423.06 82.1262 1418.47 Q79.0707 1413.87 79.0707 1405.14 Q79.0707 1396.39 82.1262 1391.81 Q85.2049 1387.2 91.0151 1387.2 Z\" fill=\"#000000\" fill-rule=\"evenodd\" fill-opacity=\"1\" /><path clip-path=\"url(#clip890)\" d=\"M111.177 1416.5 L116.061 1416.5 L116.061 1422.38 L111.177 1422.38 L111.177 1416.5 Z\" fill=\"#000000\" fill-rule=\"evenodd\" fill-opacity=\"1\" /><path clip-path=\"url(#clip890)\" d=\"M136.246 1390.9 Q132.635 1390.9 130.807 1394.47 Q129.001 1398.01 129.001 1405.14 Q129.001 1412.25 130.807 1415.81 Q132.635 1419.35 136.246 1419.35 Q139.881 1419.35 141.686 1415.81 Q143.515 1412.25 143.515 1405.14 Q143.515 1398.01 141.686 1394.47 Q139.881 1390.9 136.246 1390.9 M136.246 1387.2 Q142.056 1387.2 145.112 1391.81 Q148.191 1396.39 148.191 1405.14 Q148.191 1413.87 145.112 1418.47 Q142.056 1423.06 136.246 1423.06 Q130.436 1423.06 127.357 1418.47 Q124.302 1413.87 124.302 1405.14 Q124.302 1396.39 127.357 1391.81 Q130.436 1387.2 136.246 1387.2 Z\" fill=\"#000000\" fill-rule=\"evenodd\" fill-opacity=\"1\" /><path clip-path=\"url(#clip890)\" d=\"M86.0382 1122.49 L102.358 1122.49 L102.358 1126.43 L80.4133 1126.43 L80.4133 1122.49 Q83.0753 1119.74 87.6586 1115.11 Q92.2651 1110.45 93.4456 1109.11 Q95.691 1106.59 96.5706 1104.85 Q97.4734 1103.09 97.4734 1101.4 Q97.4734 1098.65 95.5289 1096.91 Q93.6076 1095.18 90.5058 1095.18 Q88.3067 1095.18 85.8531 1095.94 Q83.4225 1096.7 80.6447 1098.25 L80.6447 1093.53 Q83.4688 1092.4 85.9225 1091.82 Q88.3762 1091.24 90.4132 1091.24 Q95.7836 1091.24 98.978 1093.93 Q102.172 1096.61 102.172 1101.1 Q102.172 1103.23 101.362 1105.15 Q100.575 1107.05 98.4687 1109.64 Q97.89 1110.31 94.7882 1113.53 Q91.6864 1116.73 86.0382 1122.49 Z\" fill=\"#000000\" fill-rule=\"evenodd\" fill-opacity=\"1\" /><path clip-path=\"url(#clip890)\" d=\"M112.172 1120.55 L117.057 1120.55 L117.057 1126.43 L112.172 1126.43 L112.172 1120.55 Z\" fill=\"#000000\" fill-rule=\"evenodd\" fill-opacity=\"1\" /><path clip-path=\"url(#clip890)\" d=\"M127.288 1091.87 L145.644 1091.87 L145.644 1095.8 L131.57 1095.8 L131.57 1104.27 Q132.589 1103.93 133.607 1103.76 Q134.626 1103.58 135.644 1103.58 Q141.431 1103.58 144.811 1106.75 Q148.191 1109.92 148.191 1115.34 Q148.191 1120.92 144.718 1124.02 Q141.246 1127.1 134.927 1127.1 Q132.751 1127.1 130.482 1126.73 Q128.237 1126.36 125.83 1125.62 L125.83 1120.92 Q127.913 1122.05 130.135 1122.61 Q132.357 1123.16 134.834 1123.16 Q138.839 1123.16 141.177 1121.06 Q143.515 1118.95 143.515 1115.34 Q143.515 1111.73 141.177 1109.62 Q138.839 1107.51 134.834 1107.51 Q132.959 1107.51 131.084 1107.93 Q129.232 1108.35 127.288 1109.23 L127.288 1091.87 Z\" fill=\"#000000\" fill-rule=\"evenodd\" fill-opacity=\"1\" /><path clip-path=\"url(#clip890)\" d=\"M81.0614 795.907 L99.4178 795.907 L99.4178 799.842 L85.3438 799.842 L85.3438 808.315 Q86.3623 807.967 87.3808 807.805 Q88.3993 807.62 89.4178 807.62 Q95.2049 807.62 98.5845 810.791 Q101.964 813.963 101.964 819.379 Q101.964 824.958 98.4919 828.06 Q95.0197 831.138 88.7003 831.138 Q86.5243 831.138 84.2558 830.768 Q82.0105 830.398 79.6031 829.657 L79.6031 824.958 Q81.6864 826.092 83.9086 826.648 Q86.1308 827.203 88.6077 827.203 Q92.6123 827.203 94.9502 825.097 Q97.2882 822.99 97.2882 819.379 Q97.2882 815.768 94.9502 813.662 Q92.6123 811.555 88.6077 811.555 Q86.7327 811.555 84.8577 811.972 Q83.0058 812.389 81.0614 813.268 L81.0614 795.907 Z\" fill=\"#000000\" fill-rule=\"evenodd\" fill-opacity=\"1\" /><path clip-path=\"url(#clip890)\" d=\"M111.177 824.588 L116.061 824.588 L116.061 830.467 L111.177 830.467 L111.177 824.588 Z\" fill=\"#000000\" fill-rule=\"evenodd\" fill-opacity=\"1\" /><path clip-path=\"url(#clip890)\" d=\"M136.246 798.986 Q132.635 798.986 130.807 802.551 Q129.001 806.092 129.001 813.222 Q129.001 820.328 130.807 823.893 Q132.635 827.435 136.246 827.435 Q139.881 827.435 141.686 823.893 Q143.515 820.328 143.515 813.222 Q143.515 806.092 141.686 802.551 Q139.881 798.986 136.246 798.986 M136.246 795.282 Q142.056 795.282 145.112 799.889 Q148.191 804.472 148.191 813.222 Q148.191 821.949 145.112 826.555 Q142.056 831.138 136.246 831.138 Q130.436 831.138 127.357 826.555 Q124.302 821.949 124.302 813.222 Q124.302 804.472 127.357 799.889 Q130.436 795.282 136.246 795.282 Z\" fill=\"#000000\" fill-rule=\"evenodd\" fill-opacity=\"1\" /><path clip-path=\"url(#clip890)\" d=\"M80.8299 499.949 L103.052 499.949 L103.052 501.939 L90.5058 534.509 L85.6216 534.509 L97.4271 503.884 L80.8299 503.884 L80.8299 499.949 Z\" fill=\"#000000\" fill-rule=\"evenodd\" fill-opacity=\"1\" /><path clip-path=\"url(#clip890)\" d=\"M112.172 528.629 L117.057 528.629 L117.057 534.509 L112.172 534.509 L112.172 528.629 Z\" fill=\"#000000\" fill-rule=\"evenodd\" fill-opacity=\"1\" /><path clip-path=\"url(#clip890)\" d=\"M127.288 499.949 L145.644 499.949 L145.644 503.884 L131.57 503.884 L131.57 512.356 Q132.589 512.009 133.607 511.847 Q134.626 511.662 135.644 511.662 Q141.431 511.662 144.811 514.833 Q148.191 518.004 148.191 523.421 Q148.191 528.999 144.718 532.101 Q141.246 535.18 134.927 535.18 Q132.751 535.18 130.482 534.81 Q128.237 534.439 125.83 533.698 L125.83 528.999 Q127.913 530.134 130.135 530.689 Q132.357 531.245 134.834 531.245 Q138.839 531.245 141.177 529.138 Q143.515 527.032 143.515 523.421 Q143.515 519.81 141.177 517.703 Q138.839 515.597 134.834 515.597 Q132.959 515.597 131.084 516.013 Q129.232 516.43 127.288 517.31 L127.288 499.949 Z\" fill=\"#000000\" fill-rule=\"evenodd\" fill-opacity=\"1\" /><path clip-path=\"url(#clip890)\" d=\"M51.6634 234.615 L59.3023 234.615 L59.3023 208.249 L50.9921 209.916 L50.9921 205.657 L59.256 203.99 L63.9319 203.99 L63.9319 234.615 L71.5707 234.615 L71.5707 238.55 L51.6634 238.55 L51.6634 234.615 Z\" fill=\"#000000\" fill-rule=\"evenodd\" fill-opacity=\"1\" /><path clip-path=\"url(#clip890)\" d=\"M91.0151 207.069 Q87.404 207.069 85.5753 210.634 Q83.7697 214.175 83.7697 221.305 Q83.7697 228.411 85.5753 231.976 Q87.404 235.518 91.0151 235.518 Q94.6493 235.518 96.4548 231.976 Q98.2835 228.411 98.2835 221.305 Q98.2835 214.175 96.4548 210.634 Q94.6493 207.069 91.0151 207.069 M91.0151 203.365 Q96.8252 203.365 99.8808 207.972 Q102.959 212.555 102.959 221.305 Q102.959 230.032 99.8808 234.638 Q96.8252 239.221 91.0151 239.221 Q85.2049 239.221 82.1262 234.638 Q79.0707 230.032 79.0707 221.305 Q79.0707 212.555 82.1262 207.972 Q85.2049 203.365 91.0151 203.365 Z\" fill=\"#000000\" fill-rule=\"evenodd\" fill-opacity=\"1\" /><path clip-path=\"url(#clip890)\" d=\"M111.177 232.671 L116.061 232.671 L116.061 238.55 L111.177 238.55 L111.177 232.671 Z\" fill=\"#000000\" fill-rule=\"evenodd\" fill-opacity=\"1\" /><path clip-path=\"url(#clip890)\" d=\"M136.246 207.069 Q132.635 207.069 130.807 210.634 Q129.001 214.175 129.001 221.305 Q129.001 228.411 130.807 231.976 Q132.635 235.518 136.246 235.518 Q139.881 235.518 141.686 231.976 Q143.515 228.411 143.515 221.305 Q143.515 214.175 141.686 210.634 Q139.881 207.069 136.246 207.069 M136.246 203.365 Q142.056 203.365 145.112 207.972 Q148.191 212.555 148.191 221.305 Q148.191 230.032 145.112 234.638 Q142.056 239.221 136.246 239.221 Q130.436 239.221 127.357 234.638 Q124.302 230.032 124.302 221.305 Q124.302 212.555 127.357 207.972 Q130.436 203.365 136.246 203.365 Z\" fill=\"#000000\" fill-rule=\"evenodd\" fill-opacity=\"1\" /><polyline clip-path=\"url(#clip892)\" style=\"stroke:#009af9; stroke-linecap:butt; stroke-linejoin:round; stroke-width:4; stroke-opacity:1; fill:none\" points=\"\n",
       "  245.565,1405.1 431.548,1217.2 617.532,1124.41 803.515,1026.75 989.498,810.346 1175.48,715.218 1361.46,648.223 1547.45,599.8 1733.43,587.772 1919.41,488.612 \n",
       "  2105.4,185.638 2291.38,87.9763 \n",
       "  \"/>\n",
       "<polyline clip-path=\"url(#clip892)\" style=\"stroke:#e26f46; stroke-linecap:butt; stroke-linejoin:round; stroke-width:4; stroke-opacity:1; fill:none\" points=\"\n",
       "  245.565,1405.1 431.548,1273.31 617.532,1168.3 803.515,1038.75 989.498,932.496 1175.48,685.241 1361.46,665.539 1547.45,609.857 1733.43,566.531 1919.41,301.465 \n",
       "  2105.4,128.423 2291.38,193.211 \n",
       "  \"/>\n",
       "<polyline clip-path=\"url(#clip892)\" style=\"stroke:#3da44d; stroke-linecap:butt; stroke-linejoin:round; stroke-width:4; stroke-opacity:1; fill:none\" points=\"\n",
       "  245.565,1405.1 431.548,1445.72 617.532,1297.31 803.515,1111.98 989.498,968.005 1175.48,688.088 1361.46,644.988 1547.45,603.872 1733.43,473.706 1919.41,272.012 \n",
       "  2105.4,192.977 2291.38,188.402 \n",
       "  \"/>\n",
       "<polyline clip-path=\"url(#clip892)\" style=\"stroke:#c271d2; stroke-linecap:butt; stroke-linejoin:round; stroke-width:4; stroke-opacity:1; fill:none\" points=\"\n",
       "  245.565,1405.1 431.548,1376.26 617.532,1230.48 803.515,994.485 989.498,908.272 1175.48,714.285 1361.46,577.91 1547.45,406.648 1733.43,207.633 1919.41,261.95 \n",
       "  \n",
       "  \"/>\n",
       "<polyline clip-path=\"url(#clip892)\" style=\"stroke:#ac8d18; stroke-linecap:butt; stroke-linejoin:round; stroke-width:4; stroke-opacity:1; fill:none\" points=\"\n",
       "  245.565,1405.1 431.548,1218.69 617.532,1138.1 803.515,1019.87 989.498,816.218 1175.48,768.641 1361.46,562.629 1547.45,453.923 1733.43,439.61 1919.41,250.957 \n",
       "  2105.4,149.907 2291.38,245.937 \n",
       "  \"/>\n",
       "<polyline clip-path=\"url(#clip892)\" style=\"stroke:#00a9ad; stroke-linecap:butt; stroke-linejoin:round; stroke-width:4; stroke-opacity:1; fill:none\" points=\"\n",
       "  245.565,1405.1 431.548,1176.68 617.532,1128.09 803.515,1042.36 989.498,871.775 1175.48,715.769 1361.46,684.568 1547.45,445.715 1733.43,282.625 1919.41,208.397 \n",
       "  2105.4,143.577 \n",
       "  \"/>\n",
       "<polyline clip-path=\"url(#clip892)\" style=\"stroke:#ed5d92; stroke-linecap:butt; stroke-linejoin:round; stroke-width:4; stroke-opacity:1; fill:none\" points=\"\n",
       "  245.565,1405.1 431.548,1227.73 617.532,1260.85 803.515,1052.15 989.498,832.745 1175.48,664.65 1361.46,491.276 1547.45,449.326 1733.43,440.835 1919.41,326.364 \n",
       "  2105.4,219.055 2291.38,206.368 \n",
       "  \"/>\n",
       "<polyline clip-path=\"url(#clip892)\" style=\"stroke:#c68125; stroke-linecap:butt; stroke-linejoin:round; stroke-width:4; stroke-opacity:1; fill:none\" points=\"\n",
       "  245.565,1405.1 431.548,1403.88 617.532,1315.79 803.515,1090.47 989.498,1020.9 1175.48,842.364 1361.46,690.55 1547.45,535.102 1733.43,428.557 1919.41,403.729 \n",
       "  2105.4,179.992 2291.38,164.453 \n",
       "  \"/>\n",
       "<polyline clip-path=\"url(#clip892)\" style=\"stroke:#00a98d; stroke-linecap:butt; stroke-linejoin:round; stroke-width:4; stroke-opacity:1; fill:none\" points=\"\n",
       "  245.565,1405.1 431.548,1206.93 617.532,1090.78 803.515,998.956 989.498,802.375 1175.48,680.491 1361.46,524.404 1547.45,553.56 1733.43,352.41 1919.41,220.418 \n",
       "  2105.4,147.723 \n",
       "  \"/>\n",
       "<polyline clip-path=\"url(#clip892)\" style=\"stroke:#8e971d; stroke-linecap:butt; stroke-linejoin:round; stroke-width:4; stroke-opacity:1; fill:none\" points=\"\n",
       "  245.565,1405.1 431.548,1382.53 617.532,1128.69 803.515,1029.97 989.498,950.356 1175.48,768.985 1361.46,582.864 1547.45,461.151 1733.43,432.648 1919.41,365.533 \n",
       "  2105.4,217.826 2291.38,213.679 \n",
       "  \"/>\n",
       "</svg>\n"
      ]
     },
     "execution_count": 10,
     "metadata": {},
     "output_type": "execute_result"
    }
   ],
   "source": [
    "p = plot(legend=false)\n",
    "for (result, r) in sol\n",
    "    AdaStress.replay!(mdp, result)\n",
    "    plot!(p, mdp.sim.log)\n",
    "end\n",
    "p"
   ]
  },
  {
   "cell_type": "markdown",
   "id": "ethical-assessment",
   "metadata": {},
   "source": [
    "## MCTS"
   ]
  },
  {
   "cell_type": "code",
   "execution_count": 11,
   "id": "blond-tradition",
   "metadata": {},
   "outputs": [
    {
     "data": {
      "text/plain": [
       "AdaStress.Solvers.MonteCarloTreeSearch.MCTS(100000, 10, 1.0, 0.7, 1.0, nothing)"
      ]
     },
     "execution_count": 11,
     "metadata": {},
     "output_type": "execute_result"
    }
   ],
   "source": [
    "mcts = AdaStress.Solvers.MCTS(num_iterations=100_000)"
   ]
  },
  {
   "cell_type": "code",
   "execution_count": 12,
   "id": "respected-divorce",
   "metadata": {},
   "outputs": [
    {
     "name": "stderr",
     "output_type": "stream",
     "text": [
      "\u001b[32mProgress: 100%|█████████████████████████████████████████| Time: 0:00:02\u001b[39m\n"
     ]
    },
    {
     "name": "stdout",
     "output_type": "stream",
     "text": [
      "  2.318909 seconds (26.81 M allocations: 1.089 GiB, 7.89% gc time, 23.08% compilation time)\n"
     ]
    },
    {
     "data": {
      "text/plain": [
       "DataStructures.PriorityQueue{Any, Any, Base.Order.ForwardOrdering} with 10 entries:\n",
       "  MCTSResult(UInt32[0x0f7c3082, 0xdd4d807c, 0x4036e445, 0xe86f4901, … => 102.011\n",
       "  MCTSResult(UInt32[0x0f7c3082, 0xdd4d807c, 0x4036e445, 0xe86f4901, … => 102.036\n",
       "  MCTSResult(UInt32[0x0f7c3082, 0xd59d38a8, 0xd792acb7, 0x653705ce, … => 102.042\n",
       "  MCTSResult(UInt32[0x0f7c3082, 0xdd4d807c, 0x4036e445, 0xc0bdfdf4, … => 102.087\n",
       "  MCTSResult(UInt32[0x0f7c3082, 0xdd4d807c, 0x4036e445, 0xe86f4901, … => 102.116\n",
       "  MCTSResult(UInt32[0x0f7c3082, 0x091b74c1, 0x8a95e4a0, 0x55645832, … => 102.174\n",
       "  MCTSResult(UInt32[0x0f7c3082, 0xdd4d807c, 0xd6685efb, 0x7cbf78c8, … => 102.332\n",
       "  MCTSResult(UInt32[0x0f7c3082, 0x8f19bd96, 0xcb9ac7bd, 0x028888f4, … => 102.443\n",
       "  MCTSResult(UInt32[0x0f7c3082, 0xdd4d807c, 0xab6e1d59, 0x096d9142, … => 102.957\n",
       "  MCTSResult(UInt32[0x0f7c3082, 0xdd4d807c, 0x8c27a025, 0xafb8f5b1, … => 103.483"
      ]
     },
     "execution_count": 12,
     "metadata": {},
     "output_type": "execute_result"
    }
   ],
   "source": [
    "Random.seed!(0)\n",
    "@time sol = mcts(() -> mdp)"
   ]
  },
  {
   "cell_type": "code",
   "execution_count": 13,
   "id": "sixth-greene",
   "metadata": {},
   "outputs": [
    {
     "data": {
      "image/svg+xml": [
       "<?xml version=\"1.0\" encoding=\"utf-8\"?>\n",
       "<svg xmlns=\"http://www.w3.org/2000/svg\" xmlns:xlink=\"http://www.w3.org/1999/xlink\" width=\"600\" height=\"400\" viewBox=\"0 0 2400 1600\">\n",
       "<defs>\n",
       "  <clipPath id=\"clip930\">\n",
       "    <rect x=\"0\" y=\"0\" width=\"2400\" height=\"1600\"/>\n",
       "  </clipPath>\n",
       "</defs>\n",
       "<path clip-path=\"url(#clip930)\" d=\"\n",
       "M0 1600 L2400 1600 L2400 0 L0 0  Z\n",
       "  \" fill=\"#ffffff\" fill-rule=\"evenodd\" fill-opacity=\"1\"/>\n",
       "<defs>\n",
       "  <clipPath id=\"clip931\">\n",
       "    <rect x=\"480\" y=\"0\" width=\"1681\" height=\"1600\"/>\n",
       "  </clipPath>\n",
       "</defs>\n",
       "<path clip-path=\"url(#clip930)\" d=\"\n",
       "M184.191 1486.45 L2352.76 1486.45 L2352.76 47.2441 L184.191 47.2441  Z\n",
       "  \" fill=\"#ffffff\" fill-rule=\"evenodd\" fill-opacity=\"1\"/>\n",
       "<defs>\n",
       "  <clipPath id=\"clip932\">\n",
       "    <rect x=\"184\" y=\"47\" width=\"2170\" height=\"1440\"/>\n",
       "  </clipPath>\n",
       "</defs>\n",
       "<polyline clip-path=\"url(#clip932)\" style=\"stroke:#000000; stroke-linecap:butt; stroke-linejoin:round; stroke-width:2; stroke-opacity:0.1; fill:none\" points=\"\n",
       "  450.147,1486.45 450.147,47.2441 \n",
       "  \"/>\n",
       "<polyline clip-path=\"url(#clip932)\" style=\"stroke:#000000; stroke-linecap:butt; stroke-linejoin:round; stroke-width:2; stroke-opacity:0.1; fill:none\" points=\"\n",
       "  859.31,1486.45 859.31,47.2441 \n",
       "  \"/>\n",
       "<polyline clip-path=\"url(#clip932)\" style=\"stroke:#000000; stroke-linecap:butt; stroke-linejoin:round; stroke-width:2; stroke-opacity:0.1; fill:none\" points=\"\n",
       "  1268.47,1486.45 1268.47,47.2441 \n",
       "  \"/>\n",
       "<polyline clip-path=\"url(#clip932)\" style=\"stroke:#000000; stroke-linecap:butt; stroke-linejoin:round; stroke-width:2; stroke-opacity:0.1; fill:none\" points=\"\n",
       "  1677.64,1486.45 1677.64,47.2441 \n",
       "  \"/>\n",
       "<polyline clip-path=\"url(#clip932)\" style=\"stroke:#000000; stroke-linecap:butt; stroke-linejoin:round; stroke-width:2; stroke-opacity:0.1; fill:none\" points=\"\n",
       "  2086.8,1486.45 2086.8,47.2441 \n",
       "  \"/>\n",
       "<polyline clip-path=\"url(#clip930)\" style=\"stroke:#000000; stroke-linecap:butt; stroke-linejoin:round; stroke-width:4; stroke-opacity:1; fill:none\" points=\"\n",
       "  184.191,1486.45 2352.76,1486.45 \n",
       "  \"/>\n",
       "<polyline clip-path=\"url(#clip930)\" style=\"stroke:#000000; stroke-linecap:butt; stroke-linejoin:round; stroke-width:4; stroke-opacity:1; fill:none\" points=\"\n",
       "  450.147,1486.45 450.147,1467.55 \n",
       "  \"/>\n",
       "<polyline clip-path=\"url(#clip930)\" style=\"stroke:#000000; stroke-linecap:butt; stroke-linejoin:round; stroke-width:4; stroke-opacity:1; fill:none\" points=\"\n",
       "  859.31,1486.45 859.31,1467.55 \n",
       "  \"/>\n",
       "<polyline clip-path=\"url(#clip930)\" style=\"stroke:#000000; stroke-linecap:butt; stroke-linejoin:round; stroke-width:4; stroke-opacity:1; fill:none\" points=\"\n",
       "  1268.47,1486.45 1268.47,1467.55 \n",
       "  \"/>\n",
       "<polyline clip-path=\"url(#clip930)\" style=\"stroke:#000000; stroke-linecap:butt; stroke-linejoin:round; stroke-width:4; stroke-opacity:1; fill:none\" points=\"\n",
       "  1677.64,1486.45 1677.64,1467.55 \n",
       "  \"/>\n",
       "<polyline clip-path=\"url(#clip930)\" style=\"stroke:#000000; stroke-linecap:butt; stroke-linejoin:round; stroke-width:4; stroke-opacity:1; fill:none\" points=\"\n",
       "  2086.8,1486.45 2086.8,1467.55 \n",
       "  \"/>\n",
       "<path clip-path=\"url(#clip930)\" d=\"M444.8 1543.18 L461.119 1543.18 L461.119 1547.12 L439.175 1547.12 L439.175 1543.18 Q441.837 1540.43 446.42 1535.8 Q451.026 1531.15 452.207 1529.81 Q454.452 1527.28 455.332 1525.55 Q456.235 1523.79 456.235 1522.1 Q456.235 1519.34 454.29 1517.61 Q452.369 1515.87 449.267 1515.87 Q447.068 1515.87 444.614 1516.63 Q442.184 1517.4 439.406 1518.95 L439.406 1514.23 Q442.23 1513.09 444.684 1512.51 Q447.138 1511.93 449.175 1511.93 Q454.545 1511.93 457.739 1514.62 Q460.934 1517.31 460.934 1521.8 Q460.934 1523.93 460.124 1525.85 Q459.337 1527.74 457.23 1530.34 Q456.651 1531.01 453.55 1534.23 Q450.448 1537.42 444.8 1543.18 Z\" fill=\"#000000\" fill-rule=\"evenodd\" fill-opacity=\"1\" /><path clip-path=\"url(#clip930)\" d=\"M862.319 1516.63 L850.514 1535.08 L862.319 1535.08 L862.319 1516.63 M861.092 1512.56 L866.972 1512.56 L866.972 1535.08 L871.903 1535.08 L871.903 1538.97 L866.972 1538.97 L866.972 1547.12 L862.319 1547.12 L862.319 1538.97 L846.718 1538.97 L846.718 1534.46 L861.092 1512.56 Z\" fill=\"#000000\" fill-rule=\"evenodd\" fill-opacity=\"1\" /><path clip-path=\"url(#clip930)\" d=\"M1268.88 1527.98 Q1265.73 1527.98 1263.88 1530.13 Q1262.05 1532.28 1262.05 1536.03 Q1262.05 1539.76 1263.88 1541.93 Q1265.73 1544.09 1268.88 1544.09 Q1272.03 1544.09 1273.86 1541.93 Q1275.71 1539.76 1275.71 1536.03 Q1275.71 1532.28 1273.86 1530.13 Q1272.03 1527.98 1268.88 1527.98 M1278.16 1513.32 L1278.16 1517.58 Q1276.4 1516.75 1274.6 1516.31 Q1272.81 1515.87 1271.05 1515.87 Q1266.42 1515.87 1263.97 1519 Q1261.54 1522.12 1261.19 1528.44 Q1262.56 1526.43 1264.62 1525.36 Q1266.68 1524.27 1269.16 1524.27 Q1274.36 1524.27 1277.37 1527.44 Q1280.41 1530.59 1280.41 1536.03 Q1280.41 1541.36 1277.26 1544.57 Q1274.11 1547.79 1268.88 1547.79 Q1262.88 1547.79 1259.71 1543.21 Q1256.54 1538.6 1256.54 1529.87 Q1256.54 1521.68 1260.43 1516.82 Q1264.32 1511.93 1270.87 1511.93 Q1272.63 1511.93 1274.41 1512.28 Q1276.22 1512.63 1278.16 1513.32 Z\" fill=\"#000000\" fill-rule=\"evenodd\" fill-opacity=\"1\" /><path clip-path=\"url(#clip930)\" d=\"M1677.64 1530.71 Q1674.3 1530.71 1672.38 1532.49 Q1670.48 1534.27 1670.48 1537.4 Q1670.48 1540.52 1672.38 1542.31 Q1674.3 1544.09 1677.64 1544.09 Q1680.97 1544.09 1682.89 1542.31 Q1684.81 1540.5 1684.81 1537.4 Q1684.81 1534.27 1682.89 1532.49 Q1680.99 1530.71 1677.64 1530.71 M1672.96 1528.72 Q1669.95 1527.98 1668.26 1525.92 Q1666.59 1523.86 1666.59 1520.89 Q1666.59 1516.75 1669.53 1514.34 Q1672.5 1511.93 1677.64 1511.93 Q1682.8 1511.93 1685.74 1514.34 Q1688.68 1516.75 1688.68 1520.89 Q1688.68 1523.86 1686.99 1525.92 Q1685.32 1527.98 1682.34 1528.72 Q1685.72 1529.5 1687.59 1531.8 Q1689.49 1534.09 1689.49 1537.4 Q1689.49 1542.42 1686.41 1545.11 Q1683.35 1547.79 1677.64 1547.79 Q1671.92 1547.79 1668.84 1545.11 Q1665.78 1542.42 1665.78 1537.4 Q1665.78 1534.09 1667.68 1531.8 Q1669.58 1529.5 1672.96 1528.72 M1671.25 1521.33 Q1671.25 1524.02 1672.91 1525.52 Q1674.6 1527.03 1677.64 1527.03 Q1680.65 1527.03 1682.34 1525.52 Q1684.05 1524.02 1684.05 1521.33 Q1684.05 1518.65 1682.34 1517.14 Q1680.65 1515.64 1677.64 1515.64 Q1674.6 1515.64 1672.91 1517.14 Q1671.25 1518.65 1671.25 1521.33 Z\" fill=\"#000000\" fill-rule=\"evenodd\" fill-opacity=\"1\" /><path clip-path=\"url(#clip930)\" d=\"M2061.49 1543.18 L2069.13 1543.18 L2069.13 1516.82 L2060.82 1518.49 L2060.82 1514.23 L2069.08 1512.56 L2073.76 1512.56 L2073.76 1543.18 L2081.39 1543.18 L2081.39 1547.12 L2061.49 1547.12 L2061.49 1543.18 Z\" fill=\"#000000\" fill-rule=\"evenodd\" fill-opacity=\"1\" /><path clip-path=\"url(#clip930)\" d=\"M2100.84 1515.64 Q2097.23 1515.64 2095.4 1519.2 Q2093.59 1522.75 2093.59 1529.87 Q2093.59 1536.98 2095.4 1540.55 Q2097.23 1544.09 2100.84 1544.09 Q2104.47 1544.09 2106.28 1540.55 Q2108.11 1536.98 2108.11 1529.87 Q2108.11 1522.75 2106.28 1519.2 Q2104.47 1515.64 2100.84 1515.64 M2100.84 1511.93 Q2106.65 1511.93 2109.7 1516.54 Q2112.78 1521.12 2112.78 1529.87 Q2112.78 1538.6 2109.7 1543.21 Q2106.65 1547.79 2100.84 1547.79 Q2095.03 1547.79 2091.95 1543.21 Q2088.89 1538.6 2088.89 1529.87 Q2088.89 1521.12 2091.95 1516.54 Q2095.03 1511.93 2100.84 1511.93 Z\" fill=\"#000000\" fill-rule=\"evenodd\" fill-opacity=\"1\" /><polyline clip-path=\"url(#clip932)\" style=\"stroke:#000000; stroke-linecap:butt; stroke-linejoin:round; stroke-width:2; stroke-opacity:0.1; fill:none\" points=\"\n",
       "  184.191,1445.72 2352.76,1445.72 \n",
       "  \"/>\n",
       "<polyline clip-path=\"url(#clip932)\" style=\"stroke:#000000; stroke-linecap:butt; stroke-linejoin:round; stroke-width:2; stroke-opacity:0.1; fill:none\" points=\"\n",
       "  184.191,1136.59 2352.76,1136.59 \n",
       "  \"/>\n",
       "<polyline clip-path=\"url(#clip932)\" style=\"stroke:#000000; stroke-linecap:butt; stroke-linejoin:round; stroke-width:2; stroke-opacity:0.1; fill:none\" points=\"\n",
       "  184.191,827.459 2352.76,827.459 \n",
       "  \"/>\n",
       "<polyline clip-path=\"url(#clip932)\" style=\"stroke:#000000; stroke-linecap:butt; stroke-linejoin:round; stroke-width:2; stroke-opacity:0.1; fill:none\" points=\"\n",
       "  184.191,518.331 2352.76,518.331 \n",
       "  \"/>\n",
       "<polyline clip-path=\"url(#clip932)\" style=\"stroke:#000000; stroke-linecap:butt; stroke-linejoin:round; stroke-width:2; stroke-opacity:0.1; fill:none\" points=\"\n",
       "  184.191,209.203 2352.76,209.203 \n",
       "  \"/>\n",
       "<polyline clip-path=\"url(#clip930)\" style=\"stroke:#000000; stroke-linecap:butt; stroke-linejoin:round; stroke-width:4; stroke-opacity:1; fill:none\" points=\"\n",
       "  184.191,1486.45 184.191,47.2441 \n",
       "  \"/>\n",
       "<polyline clip-path=\"url(#clip930)\" style=\"stroke:#000000; stroke-linecap:butt; stroke-linejoin:round; stroke-width:4; stroke-opacity:1; fill:none\" points=\"\n",
       "  184.191,1445.72 203.088,1445.72 \n",
       "  \"/>\n",
       "<polyline clip-path=\"url(#clip930)\" style=\"stroke:#000000; stroke-linecap:butt; stroke-linejoin:round; stroke-width:4; stroke-opacity:1; fill:none\" points=\"\n",
       "  184.191,1136.59 203.088,1136.59 \n",
       "  \"/>\n",
       "<polyline clip-path=\"url(#clip930)\" style=\"stroke:#000000; stroke-linecap:butt; stroke-linejoin:round; stroke-width:4; stroke-opacity:1; fill:none\" points=\"\n",
       "  184.191,827.459 203.088,827.459 \n",
       "  \"/>\n",
       "<polyline clip-path=\"url(#clip930)\" style=\"stroke:#000000; stroke-linecap:butt; stroke-linejoin:round; stroke-width:4; stroke-opacity:1; fill:none\" points=\"\n",
       "  184.191,518.331 203.088,518.331 \n",
       "  \"/>\n",
       "<polyline clip-path=\"url(#clip930)\" style=\"stroke:#000000; stroke-linecap:butt; stroke-linejoin:round; stroke-width:4; stroke-opacity:1; fill:none\" points=\"\n",
       "  184.191,209.203 203.088,209.203 \n",
       "  \"/>\n",
       "<path clip-path=\"url(#clip930)\" d=\"M91.0151 1431.51 Q87.404 1431.51 85.5753 1435.08 Q83.7697 1438.62 83.7697 1445.75 Q83.7697 1452.86 85.5753 1456.42 Q87.404 1459.96 91.0151 1459.96 Q94.6493 1459.96 96.4548 1456.42 Q98.2835 1452.86 98.2835 1445.75 Q98.2835 1438.62 96.4548 1435.08 Q94.6493 1431.51 91.0151 1431.51 M91.0151 1427.81 Q96.8252 1427.81 99.8808 1432.42 Q102.959 1437 102.959 1445.75 Q102.959 1454.48 99.8808 1459.08 Q96.8252 1463.67 91.0151 1463.67 Q85.2049 1463.67 82.1262 1459.08 Q79.0707 1454.48 79.0707 1445.75 Q79.0707 1437 82.1262 1432.42 Q85.2049 1427.81 91.0151 1427.81 Z\" fill=\"#000000\" fill-rule=\"evenodd\" fill-opacity=\"1\" /><path clip-path=\"url(#clip930)\" d=\"M111.177 1457.12 L116.061 1457.12 L116.061 1463 L111.177 1463 L111.177 1457.12 Z\" fill=\"#000000\" fill-rule=\"evenodd\" fill-opacity=\"1\" /><path clip-path=\"url(#clip930)\" d=\"M136.246 1431.51 Q132.635 1431.51 130.807 1435.08 Q129.001 1438.62 129.001 1445.75 Q129.001 1452.86 130.807 1456.42 Q132.635 1459.96 136.246 1459.96 Q139.881 1459.96 141.686 1456.42 Q143.515 1452.86 143.515 1445.75 Q143.515 1438.62 141.686 1435.08 Q139.881 1431.51 136.246 1431.51 M136.246 1427.81 Q142.056 1427.81 145.112 1432.42 Q148.191 1437 148.191 1445.75 Q148.191 1454.48 145.112 1459.08 Q142.056 1463.67 136.246 1463.67 Q130.436 1463.67 127.357 1459.08 Q124.302 1454.48 124.302 1445.75 Q124.302 1437 127.357 1432.42 Q130.436 1427.81 136.246 1427.81 Z\" fill=\"#000000\" fill-rule=\"evenodd\" fill-opacity=\"1\" /><path clip-path=\"url(#clip930)\" d=\"M86.0382 1149.93 L102.358 1149.93 L102.358 1153.87 L80.4133 1153.87 L80.4133 1149.93 Q83.0753 1147.18 87.6586 1142.55 Q92.2651 1137.9 93.4456 1136.55 Q95.691 1134.03 96.5706 1132.29 Q97.4734 1130.53 97.4734 1128.84 Q97.4734 1126.09 95.5289 1124.35 Q93.6076 1122.62 90.5058 1122.62 Q88.3067 1122.62 85.8531 1123.38 Q83.4225 1124.15 80.6447 1125.7 L80.6447 1120.97 Q83.4688 1119.84 85.9225 1119.26 Q88.3762 1118.68 90.4132 1118.68 Q95.7836 1118.68 98.978 1121.37 Q102.172 1124.05 102.172 1128.54 Q102.172 1130.67 101.362 1132.59 Q100.575 1134.49 98.4687 1137.09 Q97.89 1137.76 94.7882 1140.97 Q91.6864 1144.17 86.0382 1149.93 Z\" fill=\"#000000\" fill-rule=\"evenodd\" fill-opacity=\"1\" /><path clip-path=\"url(#clip930)\" d=\"M112.172 1147.99 L117.057 1147.99 L117.057 1153.87 L112.172 1153.87 L112.172 1147.99 Z\" fill=\"#000000\" fill-rule=\"evenodd\" fill-opacity=\"1\" /><path clip-path=\"url(#clip930)\" d=\"M127.288 1119.31 L145.644 1119.31 L145.644 1123.24 L131.57 1123.24 L131.57 1131.71 Q132.589 1131.37 133.607 1131.21 Q134.626 1131.02 135.644 1131.02 Q141.431 1131.02 144.811 1134.19 Q148.191 1137.36 148.191 1142.78 Q148.191 1148.36 144.718 1151.46 Q141.246 1154.54 134.927 1154.54 Q132.751 1154.54 130.482 1154.17 Q128.237 1153.8 125.83 1153.06 L125.83 1148.36 Q127.913 1149.49 130.135 1150.05 Q132.357 1150.6 134.834 1150.6 Q138.839 1150.6 141.177 1148.5 Q143.515 1146.39 143.515 1142.78 Q143.515 1139.17 141.177 1137.06 Q138.839 1134.96 134.834 1134.96 Q132.959 1134.96 131.084 1135.37 Q129.232 1135.79 127.288 1136.67 L127.288 1119.31 Z\" fill=\"#000000\" fill-rule=\"evenodd\" fill-opacity=\"1\" /><path clip-path=\"url(#clip930)\" d=\"M81.0614 810.179 L99.4178 810.179 L99.4178 814.115 L85.3438 814.115 L85.3438 822.587 Q86.3623 822.24 87.3808 822.078 Q88.3993 821.892 89.4178 821.892 Q95.2049 821.892 98.5845 825.064 Q101.964 828.235 101.964 833.652 Q101.964 839.23 98.4919 842.332 Q95.0197 845.411 88.7003 845.411 Q86.5243 845.411 84.2558 845.04 Q82.0105 844.67 79.6031 843.929 L79.6031 839.23 Q81.6864 840.364 83.9086 840.92 Q86.1308 841.476 88.6077 841.476 Q92.6123 841.476 94.9502 839.369 Q97.2882 837.263 97.2882 833.652 Q97.2882 830.04 94.9502 827.934 Q92.6123 825.828 88.6077 825.828 Q86.7327 825.828 84.8577 826.244 Q83.0058 826.661 81.0614 827.54 L81.0614 810.179 Z\" fill=\"#000000\" fill-rule=\"evenodd\" fill-opacity=\"1\" /><path clip-path=\"url(#clip930)\" d=\"M111.177 838.86 L116.061 838.86 L116.061 844.739 L111.177 844.739 L111.177 838.86 Z\" fill=\"#000000\" fill-rule=\"evenodd\" fill-opacity=\"1\" /><path clip-path=\"url(#clip930)\" d=\"M136.246 813.258 Q132.635 813.258 130.807 816.823 Q129.001 820.365 129.001 827.494 Q129.001 834.601 130.807 838.165 Q132.635 841.707 136.246 841.707 Q139.881 841.707 141.686 838.165 Q143.515 834.601 143.515 827.494 Q143.515 820.365 141.686 816.823 Q139.881 813.258 136.246 813.258 M136.246 809.554 Q142.056 809.554 145.112 814.161 Q148.191 818.744 148.191 827.494 Q148.191 836.221 145.112 840.827 Q142.056 845.411 136.246 845.411 Q130.436 845.411 127.357 840.827 Q124.302 836.221 124.302 827.494 Q124.302 818.744 127.357 814.161 Q130.436 809.554 136.246 809.554 Z\" fill=\"#000000\" fill-rule=\"evenodd\" fill-opacity=\"1\" /><path clip-path=\"url(#clip930)\" d=\"M80.8299 501.051 L103.052 501.051 L103.052 503.042 L90.5058 535.611 L85.6216 535.611 L97.4271 504.986 L80.8299 504.986 L80.8299 501.051 Z\" fill=\"#000000\" fill-rule=\"evenodd\" fill-opacity=\"1\" /><path clip-path=\"url(#clip930)\" d=\"M112.172 529.732 L117.057 529.732 L117.057 535.611 L112.172 535.611 L112.172 529.732 Z\" fill=\"#000000\" fill-rule=\"evenodd\" fill-opacity=\"1\" /><path clip-path=\"url(#clip930)\" d=\"M127.288 501.051 L145.644 501.051 L145.644 504.986 L131.57 504.986 L131.57 513.459 Q132.589 513.111 133.607 512.949 Q134.626 512.764 135.644 512.764 Q141.431 512.764 144.811 515.936 Q148.191 519.107 148.191 524.523 Q148.191 530.102 144.718 533.204 Q141.246 536.283 134.927 536.283 Q132.751 536.283 130.482 535.912 Q128.237 535.542 125.83 534.801 L125.83 530.102 Q127.913 531.236 130.135 531.792 Q132.357 532.347 134.834 532.347 Q138.839 532.347 141.177 530.241 Q143.515 528.135 143.515 524.523 Q143.515 520.912 141.177 518.806 Q138.839 516.699 134.834 516.699 Q132.959 516.699 131.084 517.116 Q129.232 517.533 127.288 518.412 L127.288 501.051 Z\" fill=\"#000000\" fill-rule=\"evenodd\" fill-opacity=\"1\" /><path clip-path=\"url(#clip930)\" d=\"M51.6634 222.548 L59.3023 222.548 L59.3023 196.182 L50.9921 197.849 L50.9921 193.59 L59.256 191.923 L63.9319 191.923 L63.9319 222.548 L71.5707 222.548 L71.5707 226.483 L51.6634 226.483 L51.6634 222.548 Z\" fill=\"#000000\" fill-rule=\"evenodd\" fill-opacity=\"1\" /><path clip-path=\"url(#clip930)\" d=\"M91.0151 195.002 Q87.404 195.002 85.5753 198.567 Q83.7697 202.108 83.7697 209.238 Q83.7697 216.344 85.5753 219.909 Q87.404 223.451 91.0151 223.451 Q94.6493 223.451 96.4548 219.909 Q98.2835 216.344 98.2835 209.238 Q98.2835 202.108 96.4548 198.567 Q94.6493 195.002 91.0151 195.002 M91.0151 191.298 Q96.8252 191.298 99.8808 195.905 Q102.959 200.488 102.959 209.238 Q102.959 217.965 99.8808 222.571 Q96.8252 227.154 91.0151 227.154 Q85.2049 227.154 82.1262 222.571 Q79.0707 217.965 79.0707 209.238 Q79.0707 200.488 82.1262 195.905 Q85.2049 191.298 91.0151 191.298 Z\" fill=\"#000000\" fill-rule=\"evenodd\" fill-opacity=\"1\" /><path clip-path=\"url(#clip930)\" d=\"M111.177 220.604 L116.061 220.604 L116.061 226.483 L111.177 226.483 L111.177 220.604 Z\" fill=\"#000000\" fill-rule=\"evenodd\" fill-opacity=\"1\" /><path clip-path=\"url(#clip930)\" d=\"M136.246 195.002 Q132.635 195.002 130.807 198.567 Q129.001 202.108 129.001 209.238 Q129.001 216.344 130.807 219.909 Q132.635 223.451 136.246 223.451 Q139.881 223.451 141.686 219.909 Q143.515 216.344 143.515 209.238 Q143.515 202.108 141.686 198.567 Q139.881 195.002 136.246 195.002 M136.246 191.298 Q142.056 191.298 145.112 195.905 Q148.191 200.488 148.191 209.238 Q148.191 217.965 145.112 222.571 Q142.056 227.154 136.246 227.154 Q130.436 227.154 127.357 222.571 Q124.302 217.965 124.302 209.238 Q124.302 200.488 127.357 195.905 Q130.436 191.298 136.246 191.298 Z\" fill=\"#000000\" fill-rule=\"evenodd\" fill-opacity=\"1\" /><polyline clip-path=\"url(#clip932)\" style=\"stroke:#009af9; stroke-linecap:butt; stroke-linejoin:round; stroke-width:4; stroke-opacity:1; fill:none\" points=\"\n",
       "  245.565,1445.72 450.147,1229.78 654.728,1084.43 859.31,763.623 1063.89,624.934 1268.47,577.713 1473.05,451.639 1677.64,292.794 1882.22,295.36 2086.8,271.045 \n",
       "  2291.38,179.171 \n",
       "  \"/>\n",
       "<polyline clip-path=\"url(#clip932)\" style=\"stroke:#e26f46; stroke-linecap:butt; stroke-linejoin:round; stroke-width:4; stroke-opacity:1; fill:none\" points=\"\n",
       "  245.565,1445.72 450.147,1229.78 654.728,1084.43 859.31,763.623 1063.89,624.934 1268.47,487.357 1473.05,458.701 1677.64,290.375 1882.22,244.911 2086.8,199.754 \n",
       "  \n",
       "  \"/>\n",
       "<polyline clip-path=\"url(#clip932)\" style=\"stroke:#3da44d; stroke-linecap:butt; stroke-linejoin:round; stroke-width:4; stroke-opacity:1; fill:none\" points=\"\n",
       "  245.565,1445.72 450.147,1229.78 654.728,1191.91 859.31,1067.19 1063.89,1033.49 1268.47,795.651 1473.05,657.174 1677.64,513.365 1882.22,292.816 2086.8,269.177 \n",
       "  2291.38,87.9763 \n",
       "  \"/>\n",
       "<polyline clip-path=\"url(#clip932)\" style=\"stroke:#c271d2; stroke-linecap:butt; stroke-linejoin:round; stroke-width:4; stroke-opacity:1; fill:none\" points=\"\n",
       "  245.565,1445.72 450.147,1229.78 654.728,1084.43 859.31,763.623 1063.89,741.128 1268.47,611.644 1473.05,450.616 1677.64,359.243 1882.22,352.993 2086.8,323.975 \n",
       "  2291.38,207.112 \n",
       "  \"/>\n",
       "<polyline clip-path=\"url(#clip932)\" style=\"stroke:#ac8d18; stroke-linecap:butt; stroke-linejoin:round; stroke-width:4; stroke-opacity:1; fill:none\" points=\"\n",
       "  245.565,1445.72 450.147,1229.78 654.728,1084.43 859.31,763.623 1063.89,624.934 1268.47,573.986 1473.05,513.843 1677.64,382.225 1882.22,223.975 2086.8,195.435 \n",
       "  \n",
       "  \"/>\n",
       "<polyline clip-path=\"url(#clip932)\" style=\"stroke:#00a9ad; stroke-linecap:butt; stroke-linejoin:round; stroke-width:4; stroke-opacity:1; fill:none\" points=\"\n",
       "  245.565,1445.72 450.147,1229.78 654.728,1011.8 859.31,782.626 1063.89,607.051 1268.47,425.962 1473.05,382.146 1677.64,373.277 1882.22,253.712 2086.8,141.628 \n",
       "  \n",
       "  \"/>\n",
       "<polyline clip-path=\"url(#clip932)\" style=\"stroke:#ed5d92; stroke-linecap:butt; stroke-linejoin:round; stroke-width:4; stroke-opacity:1; fill:none\" points=\"\n",
       "  245.565,1445.72 450.147,1229.78 654.728,1084.43 859.31,917.989 1063.89,697.131 1268.47,490.106 1473.05,519.789 1677.64,463.023 1882.22,380.191 2086.8,198.09 \n",
       "  \n",
       "  \"/>\n",
       "<polyline clip-path=\"url(#clip932)\" style=\"stroke:#c68125; stroke-linecap:butt; stroke-linejoin:round; stroke-width:4; stroke-opacity:1; fill:none\" points=\"\n",
       "  245.565,1445.72 450.147,1229.78 654.728,1075.15 859.31,870.415 1063.89,788.314 1268.47,617.761 1473.05,693.204 1677.64,514.258 1882.22,457.994 2086.8,326.421 \n",
       "  2291.38,171.2 \n",
       "  \"/>\n",
       "<polyline clip-path=\"url(#clip932)\" style=\"stroke:#00a98d; stroke-linecap:butt; stroke-linejoin:round; stroke-width:4; stroke-opacity:1; fill:none\" points=\"\n",
       "  245.565,1445.72 450.147,1229.78 654.728,1084.43 859.31,873.276 1063.89,759.834 1268.47,612.431 1473.05,539.261 1677.64,373.914 1882.22,233.383 2086.8,119.666 \n",
       "  \n",
       "  \"/>\n",
       "<polyline clip-path=\"url(#clip932)\" style=\"stroke:#8e971d; stroke-linecap:butt; stroke-linejoin:round; stroke-width:4; stroke-opacity:1; fill:none\" points=\"\n",
       "  245.565,1445.72 450.147,1229.78 654.728,1084.43 859.31,899.767 1063.89,841.535 1268.47,726.092 1473.05,652.393 1677.64,593.19 1882.22,422.076 2086.8,239.985 \n",
       "  2291.38,164.252 \n",
       "  \"/>\n",
       "</svg>\n"
      ]
     },
     "execution_count": 13,
     "metadata": {},
     "output_type": "execute_result"
    }
   ],
   "source": [
    "p = plot(legend=false)\n",
    "for (result, r) in sol\n",
    "    AdaStress.replay!(mdp, result)\n",
    "    plot!(p, mdp.sim.log)\n",
    "end\n",
    "p"
   ]
  },
  {
   "cell_type": "code",
   "execution_count": null,
   "id": "private-toyota",
   "metadata": {},
   "outputs": [],
   "source": []
  }
 ],
 "metadata": {
  "kernelspec": {
   "display_name": "Julia 1.7.0",
   "language": "julia",
   "name": "julia-1.7"
  },
  "language_info": {
   "file_extension": ".jl",
   "mimetype": "application/julia",
   "name": "julia",
   "version": "1.7.0"
  }
 },
 "nbformat": 4,
 "nbformat_minor": 5
}
