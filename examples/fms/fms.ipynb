{
 "cells": [
  {
   "cell_type": "markdown",
   "id": "affiliated-asbestos",
   "metadata": {},
   "source": [
    "# Flight Management System for airborne wildfire response\n",
    "\n",
    "This example demonstrates episodic stress testing of a flight mangement system (FMS). The FMS maintains flight plans for a set of aircraft, indicating position and time of various waypoints. The FMS collision detection module (CDM) solves the system of plans to analytically determine the closest approach among the set of aircraft, assuming they travel linearly between waypoints. In this example, the FMS is tasked with managing a wildfire response. A complex mission might require a large number of airborne resources whose flight plans may change dynamically based on a rapidly evolving situation on the ground. The FMS must be able to evaluate the safety and suitability of the flight plans with each update.\n",
    "\n",
    "- **System under test:** inactive; FMS does nothing to actively modify flight plans or avoid failures.\n",
    "- **Failure criterion:** CDM warns that the current flight plans cause two aircraft to come within critical distance of each other.\n",
    "- **Stochastic disturbance:** waypoint selection, converted into a sequential problem. Sequential waypoints are separated in distance by a 2-dimensional zero-mean normal distribution and in time by a 1-dimensional non-zero-mean normal distribution, truncated to remain positive.\n",
    "\n",
    "Note that no actual \"stepping\" is occurring in the FMS. Rather, the simulation is sequentially constructing a set of flight plans to be submitted to the CDM for analysis at the final step. We can treat this problem as an MDP and leverage AdaStress solvers to efficiently find a solution."
   ]
  },
  {
   "cell_type": "code",
   "execution_count": 1,
   "id": "dressed-reaction",
   "metadata": {},
   "outputs": [
    {
     "name": "stderr",
     "output_type": "stream",
     "text": [
      "\u001b[32m\u001b[1m  Activating\u001b[22m\u001b[39m project at `C:\\Users\\rlipkis\\.julia\\dev\\adastress\\examples\\fms`\n",
      "\u001b[32m\u001b[1m   Resolving\u001b[22m\u001b[39m package versions...\n",
      "\u001b[32m\u001b[1m  No Changes\u001b[22m\u001b[39m to `C:\\Users\\rlipkis\\.julia\\dev\\adastress\\examples\\fms\\Project.toml`\n",
      "\u001b[32m\u001b[1m  No Changes\u001b[22m\u001b[39m to `C:\\Users\\rlipkis\\.julia\\dev\\adastress\\examples\\fms\\Manifest.toml`\n"
     ]
    }
   ],
   "source": [
    "using Pkg\n",
    "Pkg.activate(\".\")\n",
    "Pkg.develop(path=\"../..\")\n",
    "Pkg.instantiate()"
   ]
  },
  {
   "cell_type": "code",
   "execution_count": 2,
   "id": "raising-middle",
   "metadata": {},
   "outputs": [
    {
     "name": "stderr",
     "output_type": "stream",
     "text": [
      "┌ Info: Precompiling Plots [91a5bcdd-55d7-5caf-9e0b-520d859cae80]\n",
      "└ @ Base loading.jl:1423\n"
     ]
    }
   ],
   "source": [
    "using AdaStress\n",
    "using Distributions\n",
    "using IterTools\n",
    "using LinearAlgebra\n",
    "using Plots\n",
    "using Random\n",
    "using StaticArrays"
   ]
  },
  {
   "cell_type": "markdown",
   "id": "established-sentence",
   "metadata": {},
   "source": [
    "## FMS"
   ]
  },
  {
   "cell_type": "code",
   "execution_count": 3,
   "id": "continued-thriller",
   "metadata": {},
   "outputs": [
    {
     "data": {
      "text/plain": [
       "Plan"
      ]
     },
     "execution_count": 3,
     "metadata": {},
     "output_type": "execute_result"
    }
   ],
   "source": [
    "\"\"\"\n",
    "A waypoint consists of cartesian coordinates and time of arrival.\n",
    "\"\"\"\n",
    "mutable struct Waypoint\n",
    "    s::SVector{2, Float64} # coordinates [miles]\n",
    "    t::Float64             # time [minutes]\n",
    "end\n",
    "\n",
    "\"\"\"\n",
    "A flight plan is a set of sequential waypoints.\n",
    "\"\"\"\n",
    "Base.@kwdef mutable struct Plan\n",
    "    waypoints::Vector{Waypoint} = Vector{Waypoint}()\n",
    "end"
   ]
  },
  {
   "cell_type": "markdown",
   "id": "intelligent-count",
   "metadata": {},
   "source": [
    "## Collision detection module"
   ]
  },
  {
   "cell_type": "code",
   "execution_count": 4,
   "id": "editorial-peeing",
   "metadata": {},
   "outputs": [
    {
     "data": {
      "text/plain": [
       "evaluate"
      ]
     },
     "execution_count": 4,
     "metadata": {},
     "output_type": "execute_result"
    }
   ],
   "source": [
    "struct CollisionModule\n",
    "    d_crit::Float64 # critical separation threshold [miles]\n",
    "end\n",
    "\n",
    "\"\"\"\n",
    "Computes minimum separation between linear segment a1 -> b1 and a2 -> b2, where transition takes place\n",
    "over normalized time range τ ∈ [0, 1].\n",
    "\"\"\"\n",
    "function tau_min_sep(a1::T, b1::T, a2::T, b2::T) where T <: AbstractVector\n",
    "    Δ = (b1 - a1) - (b2 - a2)\n",
    "    tau = (a2 - a1) ⋅ Δ / (Δ ⋅ Δ)\n",
    "    return clamp(tau, 0, 1)\n",
    "end\n",
    "\n",
    "\"\"\"\n",
    "Computes overlap of two ranges.\n",
    "\"\"\"\n",
    "function overlap(r1::Tuple, r2::Tuple)\n",
    "    l = max(r1[1], r2[1])\n",
    "    u = min(r1[2], r2[2])\n",
    "    return l < u ? (l, u) : nothing\n",
    "end\n",
    "\n",
    "\"\"\"\n",
    "Iterates over all adjacent elements of vector.\n",
    "\"\"\"\n",
    "transitions(v::AbstractVector) = zip(v[1:end-1], v[2:end])\n",
    "\n",
    "\"\"\"\n",
    "Performs linear interpolation.\n",
    "\"\"\"\n",
    "interpolate(t::Float64, ts::Tuple, vs::Tuple) = vs[1] + (vs[2] - vs[1]) * (t - ts[1]) / (ts[2] - ts[1])\n",
    "\n",
    "distance(v1::AbstractVector, v2::AbstractVector) = norm(v1 - v2)\n",
    "\n",
    "\"\"\"\n",
    "Computes closest approach between two pairs of waypoints. If time ranges are disjoint, returns Inf.\n",
    "\"\"\"\n",
    "function closest(pair1::NTuple{2, Waypoint}, pair2::NTuple{2, Waypoint})\n",
    "    pos = w -> w.s\n",
    "    tim = w -> w.t\n",
    "    s1, t1 = pos.(pair1), tim.(pair1)\n",
    "    s2, t2 = pos.(pair2), tim.(pair2)\n",
    "    to = overlap(t1, t2)\n",
    "    to === nothing && return Inf\n",
    "\n",
    "    x1 = (interpolate(b, t1, s1) for b in to)\n",
    "    x2 = (interpolate(b, t2, s2) for b in to)\n",
    "    τ = tau_min_sep(x1..., x2...)\n",
    "    tc = to[1] + τ * (to[2] - to[1])\n",
    "    c1 = interpolate(tc, t1, s1)\n",
    "    c2 = interpolate(tc, t2, s2)\n",
    "    return distance(c1, c2)\n",
    "end\n",
    "\n",
    "\"\"\"\n",
    "Computes analytical closest approach between two plans. Returns minimum distance and respective waypoint pairs.\n",
    "\"\"\"\n",
    "function closest(plan1::Plan, plan2::Plan)\n",
    "    dmin = Inf\n",
    "    best_pairs = nothing\n",
    "    \n",
    "    for pair1 in transitions(plan1.waypoints)\n",
    "        for pair2 in transitions(plan2.waypoints)\n",
    "            pair1[2].t <= pair2[1].t && break # look no further, since Δt is guaranteed > 0\n",
    "            d = closest(pair1, pair2)\n",
    "            if d < dmin\n",
    "                dmin = d\n",
    "                best_pairs = (pair1, pair2)\n",
    "            end\n",
    "        end\n",
    "    end\n",
    "        \n",
    "    return dmin, best_pairs\n",
    "end\n",
    "\n",
    "\"\"\"\n",
    "Computes analytical closest approach across set of plans. Returns minimum distance and respective waypoint pairs.\n",
    "\"\"\"\n",
    "function closest(plans::Vector{Plan})\n",
    "    dmin = Inf\n",
    "    best_pairs = nothing\n",
    "    \n",
    "    for (plan1, plan2) in subsets(plans, 2)\n",
    "        d, pairs = closest(plan1, plan2)\n",
    "        if d < dmin\n",
    "            dmin = d\n",
    "            best_pairs = pairs\n",
    "        end\n",
    "    end\n",
    "    \n",
    "    return dmin, best_pairs\n",
    "end\n",
    "\n",
    "\"\"\"\n",
    "Evaluates collision module with set of plans. Returns whether a collision is expected and the miss distance.\n",
    "\"\"\"\n",
    "function evaluate(col::CollisionModule, plans::Vector{Plan}; verbose::Bool=false)\n",
    "    dt = @elapsed d_min, _ = closest(plans)\n",
    "    failure = d_min <= col.d_crit\n",
    "    if verbose\n",
    "        in_feet = d -> round(5280 * d; digits=1)\n",
    "        println(\"Plan solved in $dt seconds.\")\n",
    "        println(failure ? \"Collision detected.\" : \"No collision detected.\")  \n",
    "        println(\"CDS separation threshold: $(in_feet(col.d_crit)) ft\")\n",
    "        println(\"Sep. at closest approach: $(in_feet(d_min)) ft\")\n",
    "    end    \n",
    "    return failure, d_min\n",
    "end"
   ]
  },
  {
   "cell_type": "markdown",
   "id": "desirable-height",
   "metadata": {},
   "source": [
    "## Simulation"
   ]
  },
  {
   "cell_type": "code",
   "execution_count": 5,
   "id": "novel-livestock",
   "metadata": {},
   "outputs": [
    {
     "data": {
      "text/plain": [
       "FMSim"
      ]
     },
     "execution_count": 5,
     "metadata": {},
     "output_type": "execute_result"
    }
   ],
   "source": [
    "\"\"\"\n",
    "Initial position of aircrafts, determined by Gaussian spread.\n",
    "\"\"\"\n",
    "function initial_plans(num_aircraft::Int64, σ::Float64)\n",
    "    #TODO: fix issue of not being able to set global RNG in `reset!`\n",
    "    Random.seed!(0)\n",
    "    plans = [Plan() for _ in 1:num_aircraft]\n",
    "    for plan in plans\n",
    "        start = σ * randn(2)\n",
    "        push!(plan.waypoints, Waypoint(start, 0.0))\n",
    "    end\n",
    "    return plans\n",
    "end\n",
    "\n",
    "Base.@kwdef mutable struct FMSim <: Interface.BlackBox\n",
    "    num_steps::Int64     = 25                                # number of waypoints\n",
    "    num_aircraft::Int64  = 2                                 # number of aircraft (must be >=2)\n",
    "    step::Int64          = 0\n",
    "    σ::Float64           = 10.0                              # initial spread [miles]\n",
    "    inits::Vector{Plan}  = initial_plans(num_aircraft, σ)\n",
    "    plans::Vector{Plan}  = deepcopy(inits)\n",
    "    Δs::Distribution     = MvNormal([0.5, 0.5])              # spatial difference distribution [miles]\n",
    "    Δt::Distribution     = Truncated(Normal(1, 0.25), 0, 1)  # time difference distribution [minutes]\n",
    "    d_min::Float64       = NaN\n",
    "    col::CollisionModule = CollisionModule(0.1)              # collision detection module\n",
    "    analyzed::Bool       = false                              \n",
    "    failure::Bool        = false\n",
    "end"
   ]
  },
  {
   "cell_type": "code",
   "execution_count": 6,
   "id": "flying-projector",
   "metadata": {},
   "outputs": [],
   "source": [
    "function Interface.reset!(sim::FMSim)\n",
    "    sim.step = 0\n",
    "    sim.analyzed = false\n",
    "    sim.d_min = NaN\n",
    "    sim.plans = deepcopy(sim.inits)\n",
    "end\n",
    "\n",
    "marginal_logprob(d::Distribution, val::Any) = logpdf(d, val) - logpdf(d, mode(d))\n",
    "\n",
    "function Interface.step!(sim::FMSim)\n",
    "    sim.step += 1\n",
    "    logprob = 0.0\n",
    "    for plan in sim.plans\n",
    "        prev = plan.waypoints[end]\n",
    "        ds = rand(sim.Δs)\n",
    "        dt = rand(sim.Δt)\n",
    "        push!(plan.waypoints, Waypoint(prev.s + ds, prev.t + dt))\n",
    "        logprob += marginal_logprob(sim.Δs, ds) + marginal_logprob(sim.Δt, dt)\n",
    "    end\n",
    "    return logprob\n",
    "end\n",
    "\n",
    "function Interface.isterminal(sim::FMSim)\n",
    "    #TODO: fix issue of `isterminal` being called multiple times\n",
    "    done = sim.step >= sim.num_steps\n",
    "    if done && !sim.analyzed\n",
    "        sim.failure, sim.d_min = evaluate(sim.col, sim.plans)\n",
    "        sim.analyzed = true\n",
    "    end\n",
    "    return done\n",
    "end\n",
    "\n",
    "Interface.isevent(sim::FMSim) = sim.failure\n",
    "\n",
    "Interface.distance(sim::FMSim) = sim.d_min"
   ]
  },
  {
   "cell_type": "markdown",
   "id": "working-birthday",
   "metadata": {},
   "source": [
    "## Solver"
   ]
  },
  {
   "cell_type": "code",
   "execution_count": 7,
   "id": "cultural-tourism",
   "metadata": {},
   "outputs": [
    {
     "data": {
      "text/plain": [
       "100.0"
      ]
     },
     "execution_count": 7,
     "metadata": {},
     "output_type": "execute_result"
    }
   ],
   "source": [
    "mdp = Interface.ASTMDP(FMSim(; num_aircraft=2); episodic=true)\n",
    "mdp.reward.event_bonus = 100.0"
   ]
  },
  {
   "cell_type": "code",
   "execution_count": 8,
   "id": "returning-wrist",
   "metadata": {},
   "outputs": [
    {
     "data": {
      "text/plain": [
       "AdaStress.Solvers.MonteCarloTreeSearch.MCTS(100000, 10, 1.0, 0.7, 1.0, nothing)"
      ]
     },
     "execution_count": 8,
     "metadata": {},
     "output_type": "execute_result"
    }
   ],
   "source": [
    "mcts = AdaStress.Solvers.MCTS(num_iterations=100_000)"
   ]
  },
  {
   "cell_type": "code",
   "execution_count": 9,
   "id": "light-karaoke",
   "metadata": {},
   "outputs": [
    {
     "name": "stderr",
     "output_type": "stream",
     "text": [
      "\u001b[32mProgress: 100%|█████████████████████████████████████████| Time: 0:00:09\u001b[39m39mm39m\n"
     ]
    },
    {
     "name": "stdout",
     "output_type": "stream",
     "text": [
      " 10.501736 seconds (139.77 M allocations: 6.454 GiB, 10.73% gc time, 21.19% compilation time)\n"
     ]
    },
    {
     "data": {
      "text/plain": [
       "DataStructures.PriorityQueue{Any, Any, Base.Order.ForwardOrdering} with 10 entries:\n",
       "  MCTSResult(UInt32[0xaa01c11f, 0x75ac8a97, 0x90db374b, 0x77809412, … => 73.892\n",
       "  MCTSResult(UInt32[0xaa01c11f, 0x75ac8a97, 0x90db374b, 0x77809412, … => 73.8928\n",
       "  MCTSResult(UInt32[0xaa01c11f, 0x75ac8a97, 0x90db374b, 0x77809412, … => 73.9045\n",
       "  MCTSResult(UInt32[0xaa01c11f, 0x75ac8a97, 0x90db374b, 0x77809412, … => 73.9092\n",
       "  MCTSResult(UInt32[0xaa01c11f, 0x75ac8a97, 0x90db374b, 0x77809412, … => 73.9327\n",
       "  MCTSResult(UInt32[0xaa01c11f, 0x75ac8a97, 0x90db374b, 0x77809412, … => 73.9383\n",
       "  MCTSResult(UInt32[0xaa01c11f, 0x75ac8a97, 0x90db374b, 0x77809412, … => 73.9467\n",
       "  MCTSResult(UInt32[0xaa01c11f, 0x75ac8a97, 0x90db374b, 0x77809412, … => 73.962\n",
       "  MCTSResult(UInt32[0xaa01c11f, 0x75ac8a97, 0x90db374b, 0x77809412, … => 73.9684\n",
       "  MCTSResult(UInt32[0xaa01c11f, 0x75ac8a97, 0x90db374b, 0x77809412, … => 74.0108"
      ]
     },
     "execution_count": 9,
     "metadata": {},
     "output_type": "execute_result"
    }
   ],
   "source": [
    "Random.seed!(0)\n",
    "@time sol = mcts(() -> mdp)"
   ]
  },
  {
   "cell_type": "markdown",
   "id": "center-silicon",
   "metadata": {},
   "source": [
    "## Visualization"
   ]
  },
  {
   "cell_type": "code",
   "execution_count": 10,
   "id": "popular-garage",
   "metadata": {},
   "outputs": [
    {
     "data": {
      "text/plain": [
       "visualize (generic function with 1 method)"
      ]
     },
     "execution_count": 10,
     "metadata": {},
     "output_type": "execute_result"
    }
   ],
   "source": [
    "function visualize(sim::FMSim)\n",
    "    # all plans\n",
    "    p = plot(; aspect_ratio=:equal, legend=:bottomright)\n",
    "    for (i, plan) in enumerate(sim.plans)\n",
    "        xs = [w.s[1] for w in plan.waypoints]\n",
    "        ys = [w.s[2] for w in plan.waypoints]\n",
    "        plot!(p, xs, ys; label=\"aircraft $i\")\n",
    "    end\n",
    "    \n",
    "    # segment of closest approach\n",
    "    _, pairs = closest(sim.plans)\n",
    "    for pair in pairs\n",
    "        xs = [pair[1].s[1], pair[2].s[1]]\n",
    "        ys = [pair[1].s[2], pair[2].s[2]]\n",
    "        plot!(p, xs, ys; lc=:red, lw=3, label=:none)\n",
    "    end\n",
    "    evaluate(sim.col, sim.plans; verbose=true) # unnecessary but for show\n",
    "    \n",
    "    return p\n",
    "end"
   ]
  },
  {
   "cell_type": "code",
   "execution_count": 11,
   "id": "genuine-fifth",
   "metadata": {},
   "outputs": [
    {
     "name": "stdout",
     "output_type": "stream",
     "text": [
      "Plan solved in 9.7e-6 seconds.\n",
      "Collision detected.\n",
      "CDS separation threshold: 528.0 ft\n",
      "Sep. at closest approach: 226.3 ft\n"
     ]
    },
    {
     "data": {
      "image/svg+xml": [
       "<?xml version=\"1.0\" encoding=\"utf-8\"?>\n",
       "<svg xmlns=\"http://www.w3.org/2000/svg\" xmlns:xlink=\"http://www.w3.org/1999/xlink\" width=\"600\" height=\"400\" viewBox=\"0 0 2400 1600\">\n",
       "<defs>\n",
       "  <clipPath id=\"clip870\">\n",
       "    <rect x=\"0\" y=\"0\" width=\"2400\" height=\"1600\"/>\n",
       "  </clipPath>\n",
       "</defs>\n",
       "<path clip-path=\"url(#clip870)\" d=\"\n",
       "M0 1600 L2400 1600 L2400 0 L0 0  Z\n",
       "  \" fill=\"#ffffff\" fill-rule=\"evenodd\" fill-opacity=\"1\"/>\n",
       "<defs>\n",
       "  <clipPath id=\"clip871\">\n",
       "    <rect x=\"480\" y=\"0\" width=\"1681\" height=\"1600\"/>\n",
       "  </clipPath>\n",
       "</defs>\n",
       "<path clip-path=\"url(#clip870)\" d=\"\n",
       "M192.941 1486.45 L2352.76 1486.45 L2352.76 47.2441 L192.941 47.2441  Z\n",
       "  \" fill=\"#ffffff\" fill-rule=\"evenodd\" fill-opacity=\"1\"/>\n",
       "<defs>\n",
       "  <clipPath id=\"clip872\">\n",
       "    <rect x=\"192\" y=\"47\" width=\"2161\" height=\"1440\"/>\n",
       "  </clipPath>\n",
       "</defs>\n",
       "<polyline clip-path=\"url(#clip872)\" style=\"stroke:#000000; stroke-linecap:butt; stroke-linejoin:round; stroke-width:2; stroke-opacity:0.1; fill:none\" points=\"\n",
       "  487.383,1486.45 487.383,47.2441 \n",
       "  \"/>\n",
       "<polyline clip-path=\"url(#clip872)\" style=\"stroke:#000000; stroke-linecap:butt; stroke-linejoin:round; stroke-width:2; stroke-opacity:0.1; fill:none\" points=\"\n",
       "  831.004,1486.45 831.004,47.2441 \n",
       "  \"/>\n",
       "<polyline clip-path=\"url(#clip872)\" style=\"stroke:#000000; stroke-linecap:butt; stroke-linejoin:round; stroke-width:2; stroke-opacity:0.1; fill:none\" points=\"\n",
       "  1174.62,1486.45 1174.62,47.2441 \n",
       "  \"/>\n",
       "<polyline clip-path=\"url(#clip872)\" style=\"stroke:#000000; stroke-linecap:butt; stroke-linejoin:round; stroke-width:2; stroke-opacity:0.1; fill:none\" points=\"\n",
       "  1518.25,1486.45 1518.25,47.2441 \n",
       "  \"/>\n",
       "<polyline clip-path=\"url(#clip872)\" style=\"stroke:#000000; stroke-linecap:butt; stroke-linejoin:round; stroke-width:2; stroke-opacity:0.1; fill:none\" points=\"\n",
       "  1861.87,1486.45 1861.87,47.2441 \n",
       "  \"/>\n",
       "<polyline clip-path=\"url(#clip872)\" style=\"stroke:#000000; stroke-linecap:butt; stroke-linejoin:round; stroke-width:2; stroke-opacity:0.1; fill:none\" points=\"\n",
       "  2205.49,1486.45 2205.49,47.2441 \n",
       "  \"/>\n",
       "<polyline clip-path=\"url(#clip870)\" style=\"stroke:#000000; stroke-linecap:butt; stroke-linejoin:round; stroke-width:4; stroke-opacity:1; fill:none\" points=\"\n",
       "  192.941,1486.45 2352.76,1486.45 \n",
       "  \"/>\n",
       "<polyline clip-path=\"url(#clip870)\" style=\"stroke:#000000; stroke-linecap:butt; stroke-linejoin:round; stroke-width:4; stroke-opacity:1; fill:none\" points=\"\n",
       "  487.383,1486.45 487.383,1467.55 \n",
       "  \"/>\n",
       "<polyline clip-path=\"url(#clip870)\" style=\"stroke:#000000; stroke-linecap:butt; stroke-linejoin:round; stroke-width:4; stroke-opacity:1; fill:none\" points=\"\n",
       "  831.004,1486.45 831.004,1467.55 \n",
       "  \"/>\n",
       "<polyline clip-path=\"url(#clip870)\" style=\"stroke:#000000; stroke-linecap:butt; stroke-linejoin:round; stroke-width:4; stroke-opacity:1; fill:none\" points=\"\n",
       "  1174.62,1486.45 1174.62,1467.55 \n",
       "  \"/>\n",
       "<polyline clip-path=\"url(#clip870)\" style=\"stroke:#000000; stroke-linecap:butt; stroke-linejoin:round; stroke-width:4; stroke-opacity:1; fill:none\" points=\"\n",
       "  1518.25,1486.45 1518.25,1467.55 \n",
       "  \"/>\n",
       "<polyline clip-path=\"url(#clip870)\" style=\"stroke:#000000; stroke-linecap:butt; stroke-linejoin:round; stroke-width:4; stroke-opacity:1; fill:none\" points=\"\n",
       "  1861.87,1486.45 1861.87,1467.55 \n",
       "  \"/>\n",
       "<polyline clip-path=\"url(#clip870)\" style=\"stroke:#000000; stroke-linecap:butt; stroke-linejoin:round; stroke-width:4; stroke-opacity:1; fill:none\" points=\"\n",
       "  2205.49,1486.45 2205.49,1467.55 \n",
       "  \"/>\n",
       "<path clip-path=\"url(#clip870)\" d=\"M462.071 1543.18 L469.71 1543.18 L469.71 1516.82 L461.399 1518.49 L461.399 1514.23 L469.663 1512.56 L474.339 1512.56 L474.339 1543.18 L481.978 1543.18 L481.978 1547.12 L462.071 1547.12 L462.071 1543.18 Z\" fill=\"#000000\" fill-rule=\"evenodd\" fill-opacity=\"1\" /><path clip-path=\"url(#clip870)\" d=\"M501.422 1515.64 Q497.811 1515.64 495.983 1519.2 Q494.177 1522.75 494.177 1529.87 Q494.177 1536.98 495.983 1540.55 Q497.811 1544.09 501.422 1544.09 Q505.057 1544.09 506.862 1540.55 Q508.691 1536.98 508.691 1529.87 Q508.691 1522.75 506.862 1519.2 Q505.057 1515.64 501.422 1515.64 M501.422 1511.93 Q507.233 1511.93 510.288 1516.54 Q513.367 1521.12 513.367 1529.87 Q513.367 1538.6 510.288 1543.21 Q507.233 1547.79 501.422 1547.79 Q495.612 1547.79 492.534 1543.21 Q489.478 1538.6 489.478 1529.87 Q489.478 1521.12 492.534 1516.54 Q495.612 1511.93 501.422 1511.93 Z\" fill=\"#000000\" fill-rule=\"evenodd\" fill-opacity=\"1\" /><path clip-path=\"url(#clip870)\" d=\"M806.305 1543.18 L813.944 1543.18 L813.944 1516.82 L805.634 1518.49 L805.634 1514.23 L813.898 1512.56 L818.573 1512.56 L818.573 1543.18 L826.212 1543.18 L826.212 1547.12 L806.305 1547.12 L806.305 1543.18 Z\" fill=\"#000000\" fill-rule=\"evenodd\" fill-opacity=\"1\" /><path clip-path=\"url(#clip870)\" d=\"M836.467 1543.18 L844.106 1543.18 L844.106 1516.82 L835.796 1518.49 L835.796 1514.23 L844.059 1512.56 L848.735 1512.56 L848.735 1543.18 L856.374 1543.18 L856.374 1547.12 L836.467 1547.12 L836.467 1543.18 Z\" fill=\"#000000\" fill-rule=\"evenodd\" fill-opacity=\"1\" /><path clip-path=\"url(#clip870)\" d=\"M1150.11 1543.18 L1157.75 1543.18 L1157.75 1516.82 L1149.44 1518.49 L1149.44 1514.23 L1157.7 1512.56 L1162.38 1512.56 L1162.38 1543.18 L1170.02 1543.18 L1170.02 1547.12 L1150.11 1547.12 L1150.11 1543.18 Z\" fill=\"#000000\" fill-rule=\"evenodd\" fill-opacity=\"1\" /><path clip-path=\"url(#clip870)\" d=\"M1183.49 1543.18 L1199.81 1543.18 L1199.81 1547.12 L1177.87 1547.12 L1177.87 1543.18 Q1180.53 1540.43 1185.11 1535.8 Q1189.72 1531.15 1190.9 1529.81 Q1193.14 1527.28 1194.02 1525.55 Q1194.93 1523.79 1194.93 1522.1 Q1194.93 1519.34 1192.98 1517.61 Q1191.06 1515.87 1187.96 1515.87 Q1185.76 1515.87 1183.31 1516.63 Q1180.87 1517.4 1178.1 1518.95 L1178.1 1514.23 Q1180.92 1513.09 1183.37 1512.51 Q1185.83 1511.93 1187.87 1511.93 Q1193.24 1511.93 1196.43 1514.62 Q1199.62 1517.31 1199.62 1521.8 Q1199.62 1523.93 1198.81 1525.85 Q1198.03 1527.74 1195.92 1530.34 Q1195.34 1531.01 1192.24 1534.23 Q1189.14 1537.42 1183.49 1543.18 Z\" fill=\"#000000\" fill-rule=\"evenodd\" fill-opacity=\"1\" /><path clip-path=\"url(#clip870)\" d=\"M1493.26 1543.18 L1500.9 1543.18 L1500.9 1516.82 L1492.59 1518.49 L1492.59 1514.23 L1500.85 1512.56 L1505.53 1512.56 L1505.53 1543.18 L1513.16 1543.18 L1513.16 1547.12 L1493.26 1547.12 L1493.26 1543.18 Z\" fill=\"#000000\" fill-rule=\"evenodd\" fill-opacity=\"1\" /><path clip-path=\"url(#clip870)\" d=\"M1536.78 1528.49 Q1540.13 1529.2 1542.01 1531.47 Q1543.91 1533.74 1543.91 1537.07 Q1543.91 1542.19 1540.39 1544.99 Q1536.87 1547.79 1530.39 1547.79 Q1528.21 1547.79 1525.9 1547.35 Q1523.6 1546.93 1521.15 1546.08 L1521.15 1541.56 Q1523.1 1542.7 1525.41 1543.28 Q1527.72 1543.86 1530.25 1543.86 Q1534.65 1543.86 1536.94 1542.12 Q1539.25 1540.38 1539.25 1537.07 Q1539.25 1534.02 1537.1 1532.31 Q1534.97 1530.57 1531.15 1530.57 L1527.12 1530.57 L1527.12 1526.73 L1531.34 1526.73 Q1534.78 1526.73 1536.61 1525.36 Q1538.44 1523.97 1538.44 1521.38 Q1538.44 1518.72 1536.54 1517.31 Q1534.67 1515.87 1531.15 1515.87 Q1529.23 1515.87 1527.03 1516.29 Q1524.83 1516.7 1522.19 1517.58 L1522.19 1513.42 Q1524.85 1512.68 1527.17 1512.31 Q1529.51 1511.93 1531.57 1511.93 Q1536.89 1511.93 1539.99 1514.37 Q1543.09 1516.77 1543.09 1520.89 Q1543.09 1523.76 1541.45 1525.75 Q1539.81 1527.72 1536.78 1528.49 Z\" fill=\"#000000\" fill-rule=\"evenodd\" fill-opacity=\"1\" /><path clip-path=\"url(#clip870)\" d=\"M1836.31 1543.18 L1843.95 1543.18 L1843.95 1516.82 L1835.64 1518.49 L1835.64 1514.23 L1843.9 1512.56 L1848.58 1512.56 L1848.58 1543.18 L1856.22 1543.18 L1856.22 1547.12 L1836.31 1547.12 L1836.31 1543.18 Z\" fill=\"#000000\" fill-rule=\"evenodd\" fill-opacity=\"1\" /><path clip-path=\"url(#clip870)\" d=\"M1878.51 1516.63 L1866.7 1535.08 L1878.51 1535.08 L1878.51 1516.63 M1877.28 1512.56 L1883.16 1512.56 L1883.16 1535.08 L1888.09 1535.08 L1888.09 1538.97 L1883.16 1538.97 L1883.16 1547.12 L1878.51 1547.12 L1878.51 1538.97 L1862.91 1538.97 L1862.91 1534.46 L1877.28 1512.56 Z\" fill=\"#000000\" fill-rule=\"evenodd\" fill-opacity=\"1\" /><path clip-path=\"url(#clip870)\" d=\"M2180.67 1543.18 L2188.31 1543.18 L2188.31 1516.82 L2180 1518.49 L2180 1514.23 L2188.26 1512.56 L2192.94 1512.56 L2192.94 1543.18 L2200.58 1543.18 L2200.58 1547.12 L2180.67 1547.12 L2180.67 1543.18 Z\" fill=\"#000000\" fill-rule=\"evenodd\" fill-opacity=\"1\" /><path clip-path=\"url(#clip870)\" d=\"M2210.07 1512.56 L2228.43 1512.56 L2228.43 1516.5 L2214.35 1516.5 L2214.35 1524.97 Q2215.37 1524.62 2216.39 1524.46 Q2217.41 1524.27 2218.43 1524.27 Q2224.21 1524.27 2227.59 1527.44 Q2230.97 1530.62 2230.97 1536.03 Q2230.97 1541.61 2227.5 1544.71 Q2224.03 1547.79 2217.71 1547.79 Q2215.53 1547.79 2213.26 1547.42 Q2211.02 1547.05 2208.61 1546.31 L2208.61 1541.61 Q2210.7 1542.74 2212.92 1543.3 Q2215.14 1543.86 2217.62 1543.86 Q2221.62 1543.86 2223.96 1541.75 Q2226.3 1539.64 2226.3 1536.03 Q2226.3 1532.42 2223.96 1530.31 Q2221.62 1528.21 2217.62 1528.21 Q2215.74 1528.21 2213.87 1528.62 Q2212.01 1529.04 2210.07 1529.92 L2210.07 1512.56 Z\" fill=\"#000000\" fill-rule=\"evenodd\" fill-opacity=\"1\" /><polyline clip-path=\"url(#clip872)\" style=\"stroke:#000000; stroke-linecap:butt; stroke-linejoin:round; stroke-width:2; stroke-opacity:0.1; fill:none\" points=\"\n",
       "  192.941,1267.69 2352.76,1267.69 \n",
       "  \"/>\n",
       "<polyline clip-path=\"url(#clip872)\" style=\"stroke:#000000; stroke-linecap:butt; stroke-linejoin:round; stroke-width:2; stroke-opacity:0.1; fill:none\" points=\"\n",
       "  192.941,924.072 2352.76,924.072 \n",
       "  \"/>\n",
       "<polyline clip-path=\"url(#clip872)\" style=\"stroke:#000000; stroke-linecap:butt; stroke-linejoin:round; stroke-width:2; stroke-opacity:0.1; fill:none\" points=\"\n",
       "  192.941,580.451 2352.76,580.451 \n",
       "  \"/>\n",
       "<polyline clip-path=\"url(#clip872)\" style=\"stroke:#000000; stroke-linecap:butt; stroke-linejoin:round; stroke-width:2; stroke-opacity:0.1; fill:none\" points=\"\n",
       "  192.941,236.83 2352.76,236.83 \n",
       "  \"/>\n",
       "<polyline clip-path=\"url(#clip870)\" style=\"stroke:#000000; stroke-linecap:butt; stroke-linejoin:round; stroke-width:4; stroke-opacity:1; fill:none\" points=\"\n",
       "  192.941,1486.45 192.941,47.2441 \n",
       "  \"/>\n",
       "<polyline clip-path=\"url(#clip870)\" style=\"stroke:#000000; stroke-linecap:butt; stroke-linejoin:round; stroke-width:4; stroke-opacity:1; fill:none\" points=\"\n",
       "  192.941,1267.69 211.838,1267.69 \n",
       "  \"/>\n",
       "<polyline clip-path=\"url(#clip870)\" style=\"stroke:#000000; stroke-linecap:butt; stroke-linejoin:round; stroke-width:4; stroke-opacity:1; fill:none\" points=\"\n",
       "  192.941,924.072 211.838,924.072 \n",
       "  \"/>\n",
       "<polyline clip-path=\"url(#clip870)\" style=\"stroke:#000000; stroke-linecap:butt; stroke-linejoin:round; stroke-width:4; stroke-opacity:1; fill:none\" points=\"\n",
       "  192.941,580.451 211.838,580.451 \n",
       "  \"/>\n",
       "<polyline clip-path=\"url(#clip870)\" style=\"stroke:#000000; stroke-linecap:butt; stroke-linejoin:round; stroke-width:4; stroke-opacity:1; fill:none\" points=\"\n",
       "  192.941,236.83 211.838,236.83 \n",
       "  \"/>\n",
       "<path clip-path=\"url(#clip870)\" d=\"M96.4548 1268.14 L126.131 1268.14 L126.131 1272.08 L96.4548 1272.08 L96.4548 1268.14 Z\" fill=\"#000000\" fill-rule=\"evenodd\" fill-opacity=\"1\" /><path clip-path=\"url(#clip870)\" d=\"M137.033 1281.04 L144.672 1281.04 L144.672 1254.67 L136.362 1256.34 L136.362 1252.08 L144.626 1250.41 L149.302 1250.41 L149.302 1281.04 L156.941 1281.04 L156.941 1284.97 L137.033 1284.97 L137.033 1281.04 Z\" fill=\"#000000\" fill-rule=\"evenodd\" fill-opacity=\"1\" /><path clip-path=\"url(#clip870)\" d=\"M144.996 909.87 Q141.385 909.87 139.556 913.435 Q137.751 916.977 137.751 924.106 Q137.751 931.213 139.556 934.777 Q141.385 938.319 144.996 938.319 Q148.63 938.319 150.436 934.777 Q152.265 931.213 152.265 924.106 Q152.265 916.977 150.436 913.435 Q148.63 909.87 144.996 909.87 M144.996 906.167 Q150.806 906.167 153.862 910.773 Q156.941 915.356 156.941 924.106 Q156.941 932.833 153.862 937.439 Q150.806 942.023 144.996 942.023 Q139.186 942.023 136.107 937.439 Q133.052 932.833 133.052 924.106 Q133.052 915.356 136.107 910.773 Q139.186 906.167 144.996 906.167 Z\" fill=\"#000000\" fill-rule=\"evenodd\" fill-opacity=\"1\" /><path clip-path=\"url(#clip870)\" d=\"M137.033 593.796 L144.672 593.796 L144.672 567.43 L136.362 569.097 L136.362 564.837 L144.626 563.171 L149.302 563.171 L149.302 593.796 L156.941 593.796 L156.941 597.731 L137.033 597.731 L137.033 593.796 Z\" fill=\"#000000\" fill-rule=\"evenodd\" fill-opacity=\"1\" /><path clip-path=\"url(#clip870)\" d=\"M140.621 250.175 L156.941 250.175 L156.941 254.11 L134.996 254.11 L134.996 250.175 Q137.658 247.42 142.242 242.791 Q146.848 238.138 148.029 236.795 Q150.274 234.272 151.154 232.536 Q152.056 230.777 152.056 229.087 Q152.056 226.332 150.112 224.596 Q148.191 222.86 145.089 222.86 Q142.89 222.86 140.436 223.624 Q138.006 224.388 135.228 225.939 L135.228 221.217 Q138.052 220.082 140.506 219.504 Q142.959 218.925 144.996 218.925 Q150.367 218.925 153.561 221.61 Q156.755 224.295 156.755 228.786 Q156.755 230.916 155.945 232.837 Q155.158 234.735 153.052 237.328 Q152.473 237.999 149.371 241.216 Q146.269 244.411 140.621 250.175 Z\" fill=\"#000000\" fill-rule=\"evenodd\" fill-opacity=\"1\" /><polyline clip-path=\"url(#clip872)\" style=\"stroke:#009af9; stroke-linecap:butt; stroke-linejoin:round; stroke-width:4; stroke-opacity:1; fill:none\" points=\"\n",
       "  291.418,463.885 254.067,491.819 347.111,440.001 392.264,485.979 279.039,579.593 275.817,608.053 545.746,685.146 939.426,714.169 1073.39,696.517 1257.9,782.131 \n",
       "  1230.4,912.734 1291.31,812.637 1251.53,861.533 1216.51,878.824 1258.81,908.444 1269.25,927.595 1371.79,842.897 1301.97,707.649 1189.79,726.894 1236.74,627.226 \n",
       "  1190,761.069 1109.67,734.489 932.479,717.756 856.951,893.546 858.32,882.305 870.77,854.69 826.741,849.763 \n",
       "  \"/>\n",
       "<polyline clip-path=\"url(#clip872)\" style=\"stroke:#e26f46; stroke-linecap:butt; stroke-linejoin:round; stroke-width:4; stroke-opacity:1; fill:none\" points=\"\n",
       "  2291.63,498.321 2048.26,590.207 2001.88,657.44 2088.54,748.722 1914.61,947.806 1932.01,1041.33 1844.52,1025.13 1565.79,1093.69 1627.94,995.527 1299.63,1013.93 \n",
       "  1235.62,870.247 1164.84,837.34 1340.71,797.45 1487.39,892.132 1392.78,891.755 1341.27,1025.68 1321.88,1011.56 1297.77,938.672 1205.54,1030.02 1296.65,1067.4 \n",
       "  1394.91,940.271 1474.13,953.944 1598.69,883.259 1740.17,792.125 1772.44,759.302 1746.55,858.317 1722.12,870.18 \n",
       "  \"/>\n",
       "<polyline clip-path=\"url(#clip872)\" style=\"stroke:#ff0000; stroke-linecap:butt; stroke-linejoin:round; stroke-width:12; stroke-opacity:1; fill:none\" points=\"\n",
       "  1257.9,782.131 1230.4,912.734 \n",
       "  \"/>\n",
       "<polyline clip-path=\"url(#clip872)\" style=\"stroke:#ff0000; stroke-linecap:butt; stroke-linejoin:round; stroke-width:12; stroke-opacity:1; fill:none\" points=\"\n",
       "  1299.63,1013.93 1235.62,870.247 \n",
       "  \"/>\n",
       "<path clip-path=\"url(#clip870)\" d=\"\n",
       "M1833.05 1438.47 L2280.76 1438.47 L2280.76 1282.95 L1833.05 1282.95  Z\n",
       "  \" fill=\"#ffffff\" fill-rule=\"evenodd\" fill-opacity=\"1\"/>\n",
       "<polyline clip-path=\"url(#clip870)\" style=\"stroke:#000000; stroke-linecap:butt; stroke-linejoin:round; stroke-width:4; stroke-opacity:1; fill:none\" points=\"\n",
       "  1833.05,1438.47 2280.76,1438.47 2280.76,1282.95 1833.05,1282.95 1833.05,1438.47 \n",
       "  \"/>\n",
       "<polyline clip-path=\"url(#clip870)\" style=\"stroke:#009af9; stroke-linecap:butt; stroke-linejoin:round; stroke-width:4; stroke-opacity:1; fill:none\" points=\"\n",
       "  1857.05,1334.79 2001.04,1334.79 \n",
       "  \"/>\n",
       "<path clip-path=\"url(#clip870)\" d=\"M2038.44 1339.04 Q2033.28 1339.04 2031.29 1340.22 Q2029.3 1341.4 2029.3 1344.25 Q2029.3 1346.52 2030.78 1347.86 Q2032.28 1349.18 2034.85 1349.18 Q2038.39 1349.18 2040.52 1346.68 Q2042.67 1344.16 2042.67 1339.99 L2042.67 1339.04 L2038.44 1339.04 M2046.93 1337.28 L2046.93 1352.07 L2042.67 1352.07 L2042.67 1348.14 Q2041.22 1350.5 2039.04 1351.63 Q2036.86 1352.75 2033.72 1352.75 Q2029.73 1352.75 2027.37 1350.52 Q2025.04 1348.28 2025.04 1344.53 Q2025.04 1340.15 2027.95 1337.93 Q2030.89 1335.71 2036.7 1335.71 L2042.67 1335.71 L2042.67 1335.29 Q2042.67 1332.35 2040.73 1330.76 Q2038.81 1329.13 2035.31 1329.13 Q2033.09 1329.13 2030.98 1329.67 Q2028.88 1330.2 2026.93 1331.26 L2026.93 1327.33 Q2029.27 1326.43 2031.47 1325.99 Q2033.67 1325.52 2035.75 1325.52 Q2041.38 1325.52 2044.16 1328.44 Q2046.93 1331.36 2046.93 1337.28 Z\" fill=\"#000000\" fill-rule=\"evenodd\" fill-opacity=\"1\" /><path clip-path=\"url(#clip870)\" d=\"M2055.71 1326.15 L2059.97 1326.15 L2059.97 1352.07 L2055.71 1352.07 L2055.71 1326.15 M2055.71 1316.06 L2059.97 1316.06 L2059.97 1321.45 L2055.71 1321.45 L2055.71 1316.06 Z\" fill=\"#000000\" fill-rule=\"evenodd\" fill-opacity=\"1\" /><path clip-path=\"url(#clip870)\" d=\"M2083.9 1330.13 Q2083.18 1329.71 2082.33 1329.53 Q2081.49 1329.32 2080.48 1329.32 Q2076.86 1329.32 2074.92 1331.68 Q2073 1334.02 2073 1338.42 L2073 1352.07 L2068.72 1352.07 L2068.72 1326.15 L2073 1326.15 L2073 1330.18 Q2074.34 1327.82 2076.49 1326.68 Q2078.65 1325.52 2081.73 1325.52 Q2082.17 1325.52 2082.7 1325.59 Q2083.23 1325.64 2083.88 1325.76 L2083.9 1330.13 Z\" fill=\"#000000\" fill-rule=\"evenodd\" fill-opacity=\"1\" /><path clip-path=\"url(#clip870)\" d=\"M2105.98 1327.14 L2105.98 1331.13 Q2104.18 1330.13 2102.35 1329.64 Q2100.54 1329.13 2098.69 1329.13 Q2094.55 1329.13 2092.26 1331.77 Q2089.97 1334.39 2089.97 1339.13 Q2089.97 1343.88 2092.26 1346.52 Q2094.55 1349.13 2098.69 1349.13 Q2100.54 1349.13 2102.35 1348.65 Q2104.18 1348.14 2105.98 1347.14 L2105.98 1351.08 Q2104.2 1351.91 2102.28 1352.33 Q2100.38 1352.75 2098.23 1352.75 Q2092.37 1352.75 2088.92 1349.07 Q2085.48 1345.38 2085.48 1339.13 Q2085.48 1332.79 2088.95 1329.16 Q2092.44 1325.52 2098.51 1325.52 Q2100.48 1325.52 2102.35 1325.94 Q2104.23 1326.33 2105.98 1327.14 Z\" fill=\"#000000\" fill-rule=\"evenodd\" fill-opacity=\"1\" /><path clip-path=\"url(#clip870)\" d=\"M2128.41 1330.13 Q2127.7 1329.71 2126.84 1329.53 Q2126.01 1329.32 2124.99 1329.32 Q2121.38 1329.32 2119.43 1331.68 Q2117.51 1334.02 2117.51 1338.42 L2117.51 1352.07 L2113.23 1352.07 L2113.23 1326.15 L2117.51 1326.15 L2117.51 1330.18 Q2118.85 1327.82 2121.01 1326.68 Q2123.16 1325.52 2126.24 1325.52 Q2126.68 1325.52 2127.21 1325.59 Q2127.74 1325.64 2128.39 1325.76 L2128.41 1330.13 Z\" fill=\"#000000\" fill-rule=\"evenodd\" fill-opacity=\"1\" /><path clip-path=\"url(#clip870)\" d=\"M2144.66 1339.04 Q2139.5 1339.04 2137.51 1340.22 Q2135.52 1341.4 2135.52 1344.25 Q2135.52 1346.52 2137 1347.86 Q2138.51 1349.18 2141.08 1349.18 Q2144.62 1349.18 2146.75 1346.68 Q2148.9 1344.16 2148.9 1339.99 L2148.9 1339.04 L2144.66 1339.04 M2153.16 1337.28 L2153.16 1352.07 L2148.9 1352.07 L2148.9 1348.14 Q2147.44 1350.5 2145.27 1351.63 Q2143.09 1352.75 2139.94 1352.75 Q2135.96 1352.75 2133.6 1350.52 Q2131.26 1348.28 2131.26 1344.53 Q2131.26 1340.15 2134.18 1337.93 Q2137.12 1335.71 2142.93 1335.71 L2148.9 1335.71 L2148.9 1335.29 Q2148.9 1332.35 2146.96 1330.76 Q2145.04 1329.13 2141.54 1329.13 Q2139.32 1329.13 2137.21 1329.67 Q2135.1 1330.2 2133.16 1331.26 L2133.16 1327.33 Q2135.5 1326.43 2137.7 1325.99 Q2139.9 1325.52 2141.98 1325.52 Q2147.6 1325.52 2150.38 1328.44 Q2153.16 1331.36 2153.16 1337.28 Z\" fill=\"#000000\" fill-rule=\"evenodd\" fill-opacity=\"1\" /><path clip-path=\"url(#clip870)\" d=\"M2175.06 1316.06 L2175.06 1319.6 L2170.98 1319.6 Q2168.69 1319.6 2167.79 1320.52 Q2166.91 1321.45 2166.91 1323.86 L2166.91 1326.15 L2173.92 1326.15 L2173.92 1329.46 L2166.91 1329.46 L2166.91 1352.07 L2162.63 1352.07 L2162.63 1329.46 L2158.55 1329.46 L2158.55 1326.15 L2162.63 1326.15 L2162.63 1324.34 Q2162.63 1320.01 2164.64 1318.05 Q2166.66 1316.06 2171.03 1316.06 L2175.06 1316.06 Z\" fill=\"#000000\" fill-rule=\"evenodd\" fill-opacity=\"1\" /><path clip-path=\"url(#clip870)\" d=\"M2182 1318.79 L2182 1326.15 L2190.78 1326.15 L2190.78 1329.46 L2182 1329.46 L2182 1343.53 Q2182 1346.7 2182.86 1347.61 Q2183.74 1348.51 2186.4 1348.51 L2190.78 1348.51 L2190.78 1352.07 L2186.4 1352.07 Q2181.47 1352.07 2179.6 1350.25 Q2177.72 1348.39 2177.72 1343.53 L2177.72 1329.46 L2174.6 1329.46 L2174.6 1326.15 L2177.72 1326.15 L2177.72 1318.79 L2182 1318.79 Z\" fill=\"#000000\" fill-rule=\"evenodd\" fill-opacity=\"1\" /><path clip-path=\"url(#clip870)\" d=\"M2212.86 1348.14 L2220.5 1348.14 L2220.5 1321.77 L2212.19 1323.44 L2212.19 1319.18 L2220.45 1317.51 L2225.13 1317.51 L2225.13 1348.14 L2232.77 1348.14 L2232.77 1352.07 L2212.86 1352.07 L2212.86 1348.14 Z\" fill=\"#000000\" fill-rule=\"evenodd\" fill-opacity=\"1\" /><polyline clip-path=\"url(#clip870)\" style=\"stroke:#e26f46; stroke-linecap:butt; stroke-linejoin:round; stroke-width:4; stroke-opacity:1; fill:none\" points=\"\n",
       "  1857.05,1386.63 2001.04,1386.63 \n",
       "  \"/>\n",
       "<path clip-path=\"url(#clip870)\" d=\"M2038.44 1390.88 Q2033.28 1390.88 2031.29 1392.06 Q2029.3 1393.24 2029.3 1396.09 Q2029.3 1398.36 2030.78 1399.7 Q2032.28 1401.02 2034.85 1401.02 Q2038.39 1401.02 2040.52 1398.52 Q2042.67 1396 2042.67 1391.83 L2042.67 1390.88 L2038.44 1390.88 M2046.93 1389.12 L2046.93 1403.91 L2042.67 1403.91 L2042.67 1399.98 Q2041.22 1402.34 2039.04 1403.47 Q2036.86 1404.59 2033.72 1404.59 Q2029.73 1404.59 2027.37 1402.36 Q2025.04 1400.12 2025.04 1396.37 Q2025.04 1391.99 2027.95 1389.77 Q2030.89 1387.55 2036.7 1387.55 L2042.67 1387.55 L2042.67 1387.13 Q2042.67 1384.19 2040.73 1382.6 Q2038.81 1380.97 2035.31 1380.97 Q2033.09 1380.97 2030.98 1381.51 Q2028.88 1382.04 2026.93 1383.1 L2026.93 1379.17 Q2029.27 1378.27 2031.47 1377.83 Q2033.67 1377.36 2035.75 1377.36 Q2041.38 1377.36 2044.16 1380.28 Q2046.93 1383.2 2046.93 1389.12 Z\" fill=\"#000000\" fill-rule=\"evenodd\" fill-opacity=\"1\" /><path clip-path=\"url(#clip870)\" d=\"M2055.71 1377.99 L2059.97 1377.99 L2059.97 1403.91 L2055.71 1403.91 L2055.71 1377.99 M2055.71 1367.9 L2059.97 1367.9 L2059.97 1373.29 L2055.71 1373.29 L2055.71 1367.9 Z\" fill=\"#000000\" fill-rule=\"evenodd\" fill-opacity=\"1\" /><path clip-path=\"url(#clip870)\" d=\"M2083.9 1381.97 Q2083.18 1381.55 2082.33 1381.37 Q2081.49 1381.16 2080.48 1381.16 Q2076.86 1381.16 2074.92 1383.52 Q2073 1385.86 2073 1390.26 L2073 1403.91 L2068.72 1403.91 L2068.72 1377.99 L2073 1377.99 L2073 1382.02 Q2074.34 1379.66 2076.49 1378.52 Q2078.65 1377.36 2081.73 1377.36 Q2082.17 1377.36 2082.7 1377.43 Q2083.23 1377.48 2083.88 1377.6 L2083.9 1381.97 Z\" fill=\"#000000\" fill-rule=\"evenodd\" fill-opacity=\"1\" /><path clip-path=\"url(#clip870)\" d=\"M2105.98 1378.98 L2105.98 1382.97 Q2104.18 1381.97 2102.35 1381.48 Q2100.54 1380.97 2098.69 1380.97 Q2094.55 1380.97 2092.26 1383.61 Q2089.97 1386.23 2089.97 1390.97 Q2089.97 1395.72 2092.26 1398.36 Q2094.55 1400.97 2098.69 1400.97 Q2100.54 1400.97 2102.35 1400.49 Q2104.18 1399.98 2105.98 1398.98 L2105.98 1402.92 Q2104.2 1403.75 2102.28 1404.17 Q2100.38 1404.59 2098.23 1404.59 Q2092.37 1404.59 2088.92 1400.91 Q2085.48 1397.22 2085.48 1390.97 Q2085.48 1384.63 2088.95 1381 Q2092.44 1377.36 2098.51 1377.36 Q2100.48 1377.36 2102.35 1377.78 Q2104.23 1378.17 2105.98 1378.98 Z\" fill=\"#000000\" fill-rule=\"evenodd\" fill-opacity=\"1\" /><path clip-path=\"url(#clip870)\" d=\"M2128.41 1381.97 Q2127.7 1381.55 2126.84 1381.37 Q2126.01 1381.16 2124.99 1381.16 Q2121.38 1381.16 2119.43 1383.52 Q2117.51 1385.86 2117.51 1390.26 L2117.51 1403.91 L2113.23 1403.91 L2113.23 1377.99 L2117.51 1377.99 L2117.51 1382.02 Q2118.85 1379.66 2121.01 1378.52 Q2123.16 1377.36 2126.24 1377.36 Q2126.68 1377.36 2127.21 1377.43 Q2127.74 1377.48 2128.39 1377.6 L2128.41 1381.97 Z\" fill=\"#000000\" fill-rule=\"evenodd\" fill-opacity=\"1\" /><path clip-path=\"url(#clip870)\" d=\"M2144.66 1390.88 Q2139.5 1390.88 2137.51 1392.06 Q2135.52 1393.24 2135.52 1396.09 Q2135.52 1398.36 2137 1399.7 Q2138.51 1401.02 2141.08 1401.02 Q2144.62 1401.02 2146.75 1398.52 Q2148.9 1396 2148.9 1391.83 L2148.9 1390.88 L2144.66 1390.88 M2153.16 1389.12 L2153.16 1403.91 L2148.9 1403.91 L2148.9 1399.98 Q2147.44 1402.34 2145.27 1403.47 Q2143.09 1404.59 2139.94 1404.59 Q2135.96 1404.59 2133.6 1402.36 Q2131.26 1400.12 2131.26 1396.37 Q2131.26 1391.99 2134.18 1389.77 Q2137.12 1387.55 2142.93 1387.55 L2148.9 1387.55 L2148.9 1387.13 Q2148.9 1384.19 2146.96 1382.6 Q2145.04 1380.97 2141.54 1380.97 Q2139.32 1380.97 2137.21 1381.51 Q2135.1 1382.04 2133.16 1383.1 L2133.16 1379.17 Q2135.5 1378.27 2137.7 1377.83 Q2139.9 1377.36 2141.98 1377.36 Q2147.6 1377.36 2150.38 1380.28 Q2153.16 1383.2 2153.16 1389.12 Z\" fill=\"#000000\" fill-rule=\"evenodd\" fill-opacity=\"1\" /><path clip-path=\"url(#clip870)\" d=\"M2175.06 1367.9 L2175.06 1371.44 L2170.98 1371.44 Q2168.69 1371.44 2167.79 1372.36 Q2166.91 1373.29 2166.91 1375.7 L2166.91 1377.99 L2173.92 1377.99 L2173.92 1381.3 L2166.91 1381.3 L2166.91 1403.91 L2162.63 1403.91 L2162.63 1381.3 L2158.55 1381.3 L2158.55 1377.99 L2162.63 1377.99 L2162.63 1376.18 Q2162.63 1371.85 2164.64 1369.89 Q2166.66 1367.9 2171.03 1367.9 L2175.06 1367.9 Z\" fill=\"#000000\" fill-rule=\"evenodd\" fill-opacity=\"1\" /><path clip-path=\"url(#clip870)\" d=\"M2182 1370.63 L2182 1377.99 L2190.78 1377.99 L2190.78 1381.3 L2182 1381.3 L2182 1395.37 Q2182 1398.54 2182.86 1399.45 Q2183.74 1400.35 2186.4 1400.35 L2190.78 1400.35 L2190.78 1403.91 L2186.4 1403.91 Q2181.47 1403.91 2179.6 1402.09 Q2177.72 1400.23 2177.72 1395.37 L2177.72 1381.3 L2174.6 1381.3 L2174.6 1377.99 L2177.72 1377.99 L2177.72 1370.63 L2182 1370.63 Z\" fill=\"#000000\" fill-rule=\"evenodd\" fill-opacity=\"1\" /><path clip-path=\"url(#clip870)\" d=\"M2216.08 1399.98 L2232.4 1399.98 L2232.4 1403.91 L2210.45 1403.91 L2210.45 1399.98 Q2213.11 1397.22 2217.7 1392.6 Q2222.3 1387.94 2223.48 1386.6 Q2225.73 1384.08 2226.61 1382.34 Q2227.51 1380.58 2227.51 1378.89 Q2227.51 1376.14 2225.57 1374.4 Q2223.65 1372.66 2220.54 1372.66 Q2218.34 1372.66 2215.89 1373.43 Q2213.46 1374.19 2210.68 1375.74 L2210.68 1371.02 Q2213.51 1369.89 2215.96 1369.31 Q2218.41 1368.73 2220.45 1368.73 Q2225.82 1368.73 2229.02 1371.41 Q2232.21 1374.1 2232.21 1378.59 Q2232.21 1380.72 2231.4 1382.64 Q2230.61 1384.54 2228.51 1387.13 Q2227.93 1387.8 2224.83 1391.02 Q2221.72 1394.22 2216.08 1399.98 Z\" fill=\"#000000\" fill-rule=\"evenodd\" fill-opacity=\"1\" /></svg>\n"
      ]
     },
     "execution_count": 11,
     "metadata": {},
     "output_type": "execute_result"
    }
   ],
   "source": [
    "best_path = last(collect(keys(sol)))\n",
    "AdaStress.Solvers.replay!(mdp, best_path)\n",
    "visualize(mdp.sim)"
   ]
  },
  {
   "cell_type": "code",
   "execution_count": null,
   "id": "knowing-paper",
   "metadata": {},
   "outputs": [],
   "source": []
  }
 ],
 "metadata": {
  "kernelspec": {
   "display_name": "Julia 1.7.0",
   "language": "julia",
   "name": "julia-1.7"
  },
  "language_info": {
   "file_extension": ".jl",
   "mimetype": "application/julia",
   "name": "julia",
   "version": "1.7.0"
  }
 },
 "nbformat": 4,
 "nbformat_minor": 5
}
