{
 "cells": [
  {
   "cell_type": "markdown",
   "id": "affiliated-asbestos",
   "metadata": {},
   "source": [
    "# Flight Management System for airborne wildfire response\n",
    "\n",
    "This example demonstrates episodic stress testing of a flight mangement system (FMS). The FMS maintains flight plans for a set of aircraft, indicating position and time of various waypoints. The FMS collision detection module (CDM) solves the system of plans to analytically determine the closest approach among the set of aircraft, assuming they travel linearly between waypoints. In this example, the FMS is tasked with managing a wildfire response. A complex mission might require a large number of airborne resources whose flight plans may change dynamically based on a rapidly evolving situation on the ground. The FMS must be able to evaluate the safety and suitability of the flight plans with each update.\n",
    "\n",
    "- **System under test:** inactive; FMS does nothing to actively modify flight plans or avoid failures.\n",
    "- **Failure criterion:** CDM warns that the current flight plans cause two aircraft to come within critical distance of each other.\n",
    "- **Stochastic disturbance:** waypoint selection, converted into a sequential problem. Sequential waypoints are separated in distance by a 2-dimensional zero-mean normal distribution and in time by a 1-dimensional non-zero-mean normal distribution, truncated to remain positive.\n",
    "\n",
    "Note that no actual \"stepping\" is occurring in the FMS. Rather, the simulation is sequentially constructing a set of flight plans to be submitted to the CDM for analysis at the final step. We can treat this problem as a special case of MDP and leverage AdaStress solvers to efficiently find a solution."
   ]
  },
  {
   "cell_type": "code",
   "execution_count": 1,
   "id": "dressed-reaction",
   "metadata": {},
   "outputs": [
    {
     "name": "stderr",
     "output_type": "stream",
     "text": [
      "\u001b[32m\u001b[1m  Activating\u001b[22m\u001b[39m environment at `C:\\Users\\rlipkis\\.julia\\dev\\adastress\\examples\\fms\\Project.toml`\n"
     ]
    }
   ],
   "source": [
    "using Pkg\n",
    "Pkg.activate(\".\")\n",
    "Pkg.develop(\"../..\")\n",
    "Pkg.instantiate()"
   ]
  },
  {
   "cell_type": "code",
   "execution_count": 2,
   "id": "raising-middle",
   "metadata": {},
   "outputs": [],
   "source": [
    "using AdaStress\n",
    "using Distributions\n",
    "using IterTools\n",
    "using LinearAlgebra\n",
    "using Plots\n",
    "using Random\n",
    "using StaticArrays"
   ]
  },
  {
   "cell_type": "markdown",
   "id": "established-sentence",
   "metadata": {},
   "source": [
    "## FMS"
   ]
  },
  {
   "cell_type": "code",
   "execution_count": 3,
   "id": "continued-thriller",
   "metadata": {},
   "outputs": [
    {
     "data": {
      "text/plain": [
       "Plan"
      ]
     },
     "execution_count": 3,
     "metadata": {},
     "output_type": "execute_result"
    }
   ],
   "source": [
    "\"\"\"\n",
    "A waypoint consists of cartesian coordinates and time of arrival.\n",
    "\"\"\"\n",
    "mutable struct Waypoint\n",
    "    s::SVector{2, Float64} # coordinates [miles]\n",
    "    t::Float64             # time [minutes]\n",
    "end\n",
    "\n",
    "\"\"\"\n",
    "A flight plan is a set of sequential waypoints.\n",
    "\"\"\"\n",
    "Base.@kwdef mutable struct Plan\n",
    "    waypoints::Vector{Waypoint} = Vector{Waypoint}()\n",
    "end"
   ]
  },
  {
   "cell_type": "markdown",
   "id": "intelligent-count",
   "metadata": {},
   "source": [
    "## Collision detection module"
   ]
  },
  {
   "cell_type": "code",
   "execution_count": 4,
   "id": "editorial-peeing",
   "metadata": {},
   "outputs": [
    {
     "data": {
      "text/plain": [
       "evaluate"
      ]
     },
     "execution_count": 4,
     "metadata": {},
     "output_type": "execute_result"
    }
   ],
   "source": [
    "struct CollisionModule\n",
    "    d_crit::Float64 # critical separation threshold [miles]\n",
    "end\n",
    "\n",
    "\"\"\"\n",
    "Computes minimum separation between linear segment a1 -> b1 and a2 -> b2, where transition takes place\n",
    "over normalized time range τ ∈ [0, 1].\n",
    "\"\"\"\n",
    "function tau_min_sep(a1::T, b1::T, a2::T, b2::T) where T <: AbstractVector\n",
    "    Δ = (b1 - a1) - (b2 - a2)\n",
    "    tau = (a2 - a1) ⋅ Δ / (Δ ⋅ Δ)\n",
    "    return clamp(tau, 0, 1)\n",
    "end\n",
    "\n",
    "\"\"\"\n",
    "Computes overlap of two ranges.\n",
    "\"\"\"\n",
    "function overlap(r1::Tuple, r2::Tuple)\n",
    "    l = max(r1[1], r2[1])\n",
    "    u = min(r1[2], r2[2])\n",
    "    return l < u ? (l, u) : nothing\n",
    "end\n",
    "\n",
    "\"\"\"\n",
    "Iterates over all adjacent elements of vector.\n",
    "\"\"\"\n",
    "transitions(v::AbstractVector) = zip(v[1:end-1], v[2:end])\n",
    "\n",
    "\"\"\"\n",
    "Performs linear interpolation.\n",
    "\"\"\"\n",
    "interpolate(t::Float64, ts::Tuple, vs::Tuple) = vs[1] + (vs[2] - vs[1]) * (t - ts[1]) / (ts[2] - ts[1])\n",
    "\n",
    "distance(v1::AbstractVector, v2::AbstractVector) = norm(v1 - v2)\n",
    "\n",
    "\"\"\"\n",
    "Computes closest approach between two pairs of waypoints. If time ranges are disjoint, returns Inf.\n",
    "\"\"\"\n",
    "function closest(pair1::NTuple{2, Waypoint}, pair2::NTuple{2, Waypoint})\n",
    "    pos = w -> w.s\n",
    "    tim = w -> w.t\n",
    "    s1, t1 = pos.(pair1), tim.(pair1)\n",
    "    s2, t2 = pos.(pair2), tim.(pair2)\n",
    "    to = overlap(t1, t2)\n",
    "    to === nothing && return Inf\n",
    "\n",
    "    x1 = (interpolate(b, t1, s1) for b in to)\n",
    "    x2 = (interpolate(b, t2, s2) for b in to)\n",
    "    τ = tau_min_sep(x1..., x2...)\n",
    "    tc = to[1] + τ * (to[2] - to[1])\n",
    "    c1 = interpolate(tc, t1, s1)\n",
    "    c2 = interpolate(tc, t2, s2)\n",
    "    return distance(c1, c2)\n",
    "end\n",
    "\n",
    "\"\"\"\n",
    "Computes analytical closest approach between two plans. Returns minimum distance and respective waypoint pairs.\n",
    "\"\"\"\n",
    "function closest(plan1::Plan, plan2::Plan)\n",
    "    dmin = Inf\n",
    "    best_pairs = nothing\n",
    "    \n",
    "    for pair1 in transitions(plan1.waypoints)\n",
    "        for pair2 in transitions(plan2.waypoints)\n",
    "            pair1[2].t <= pair2[1].t && break # look no further, since Δt is guaranteed > 0\n",
    "            d = closest(pair1, pair2)\n",
    "            if d < dmin\n",
    "                dmin = d\n",
    "                best_pairs = (pair1, pair2)\n",
    "            end\n",
    "        end\n",
    "    end\n",
    "        \n",
    "    return dmin, best_pairs\n",
    "end\n",
    "\n",
    "\"\"\"\n",
    "Computes analytical closest approach across set of plans. Returns minimum distance and respective waypoint pairs.\n",
    "\"\"\"\n",
    "function closest(plans::Vector{Plan})\n",
    "    dmin = Inf\n",
    "    best_pairs = nothing\n",
    "    \n",
    "    for (plan1, plan2) in subsets(plans, 2)\n",
    "        d, pairs = closest(plan1, plan2)\n",
    "        if d < dmin\n",
    "            dmin = d\n",
    "            best_pairs = pairs\n",
    "        end\n",
    "    end\n",
    "    \n",
    "    return dmin, best_pairs\n",
    "end\n",
    "\n",
    "\"\"\"\n",
    "Evaluates collision module with set of plans. Returns whether a collision is expected and the miss distance.\n",
    "\"\"\"\n",
    "function evaluate(col::CollisionModule, plans::Vector{Plan}; verbose::Bool=false)\n",
    "    dt = @elapsed d_min, _ = closest(plans)\n",
    "    failure = d_min <= col.d_crit\n",
    "    if verbose\n",
    "        in_feet = d -> round(5280 * d; digits=1)\n",
    "        println(\"Plan solved in $dt seconds.\")\n",
    "        println(failure ? \"Collision detected.\" : \"No collision detected.\")  \n",
    "        println(\"CDS separation threshold: $(in_feet(col.d_crit)) ft\")\n",
    "        println(\"Sep. at closest approach: $(in_feet(d_min)) ft\")\n",
    "    end    \n",
    "    return failure, d_min\n",
    "end"
   ]
  },
  {
   "cell_type": "markdown",
   "id": "desirable-height",
   "metadata": {},
   "source": [
    "## Simulation"
   ]
  },
  {
   "cell_type": "code",
   "execution_count": 5,
   "id": "novel-livestock",
   "metadata": {},
   "outputs": [
    {
     "data": {
      "text/plain": [
       "FMSim"
      ]
     },
     "execution_count": 5,
     "metadata": {},
     "output_type": "execute_result"
    }
   ],
   "source": [
    "\"\"\"\n",
    "Initial position of aircrafts, determined by Gaussian spread.\n",
    "\"\"\"\n",
    "function initial_plans(num_aircraft::Int64, σ::Float64)\n",
    "    #TODO: fix issue of not being able to set global RNG in `reset!`\n",
    "    Random.seed!(0)\n",
    "    plans = [Plan() for _ in 1:num_aircraft]\n",
    "    for plan in plans\n",
    "        start = σ * randn(2)\n",
    "        push!(plan.waypoints, Waypoint(start, 0.0))\n",
    "    end\n",
    "    return plans\n",
    "end\n",
    "\n",
    "Base.@kwdef mutable struct FMSim <: Interface.BlackBox\n",
    "    num_steps::Int64     = 25                                # number of waypoints\n",
    "    num_aircraft::Int64  = 2                                 # number of aircraft (must be >=2)\n",
    "    step::Int64          = 0\n",
    "    σ::Float64           = 10.0                              # initial spread [miles]\n",
    "    inits::Vector{Plan}  = initial_plans(num_aircraft, σ)\n",
    "    plans::Vector{Plan}  = deepcopy(inits)\n",
    "    Δs::Distribution     = MvNormal([0.5, 0.5])              # spatial difference distribution [miles]\n",
    "    Δt::Distribution     = Truncated(Normal(1, 0.25), 0, 1)  # time difference distribution [minutes]\n",
    "    d_min::Float64       = NaN\n",
    "    col::CollisionModule = CollisionModule(0.1)              # collision detection module\n",
    "    analyzed::Bool       = false                              \n",
    "    failure::Bool        = false\n",
    "end"
   ]
  },
  {
   "cell_type": "code",
   "execution_count": 6,
   "id": "flying-projector",
   "metadata": {},
   "outputs": [],
   "source": [
    "function Interface.reset!(sim::FMSim)\n",
    "    sim.step = 0\n",
    "    sim.analyzed = false\n",
    "    sim.d_min = NaN\n",
    "    sim.plans = deepcopy(sim.inits)\n",
    "end\n",
    "\n",
    "marginal_logprob(d::Distribution, val::Any) = logpdf(d, val) - logpdf(d, mode(d))\n",
    "\n",
    "function Interface.step!(sim::FMSim)\n",
    "    sim.step += 1\n",
    "    logprob = 0.0\n",
    "    for plan in sim.plans\n",
    "        prev = plan.waypoints[end]\n",
    "        ds = rand(sim.Δs)\n",
    "        dt = rand(sim.Δt)\n",
    "        push!(plan.waypoints, Waypoint(prev.s + ds, prev.t + dt))\n",
    "        logprob += marginal_logprob(sim.Δs, ds) + marginal_logprob(sim.Δt, dt)\n",
    "    end\n",
    "    return logprob\n",
    "end\n",
    "\n",
    "function Interface.isterminal(sim::FMSim)\n",
    "    #TODO: fix issue of `isterminal` being called multiple times\n",
    "    done = sim.step >= sim.num_steps\n",
    "    if done && !sim.analyzed\n",
    "        sim.failure, sim.d_min = evaluate(sim.col, sim.plans)\n",
    "        sim.analyzed = true\n",
    "    end\n",
    "    return done\n",
    "end\n",
    "\n",
    "Interface.isevent(sim::FMSim) = sim.failure\n",
    "\n",
    "Interface.distance(sim::FMSim) = sim.d_min"
   ]
  },
  {
   "cell_type": "markdown",
   "id": "working-birthday",
   "metadata": {},
   "source": [
    "## Solver"
   ]
  },
  {
   "cell_type": "code",
   "execution_count": 7,
   "id": "cultural-tourism",
   "metadata": {},
   "outputs": [
    {
     "data": {
      "text/plain": [
       "100.0"
      ]
     },
     "execution_count": 7,
     "metadata": {},
     "output_type": "execute_result"
    }
   ],
   "source": [
    "mdp = Interface.ASTMDP(FMSim(; num_aircraft=2); episodic=true)\n",
    "mdp.reward.event_bonus = 100.0"
   ]
  },
  {
   "cell_type": "code",
   "execution_count": 8,
   "id": "returning-wrist",
   "metadata": {},
   "outputs": [
    {
     "data": {
      "text/plain": [
       "AdaStress.Solvers.MonteCarloTreeSearch.MCTS(100000, 10, 1.0, 0.7, 1.0, nothing)"
      ]
     },
     "execution_count": 8,
     "metadata": {},
     "output_type": "execute_result"
    }
   ],
   "source": [
    "mcts = AdaStress.Solvers.MCTS(num_iterations=100_000)"
   ]
  },
  {
   "cell_type": "code",
   "execution_count": 9,
   "id": "light-karaoke",
   "metadata": {},
   "outputs": [
    {
     "name": "stderr",
     "output_type": "stream",
     "text": [
      "\u001b[32mProgress: 100%|█████████████████████████████████████████| Time: 0:00:33\u001b[39m9mm9m\n"
     ]
    },
    {
     "name": "stdout",
     "output_type": "stream",
     "text": [
      " 35.256765 seconds (135.09 M allocations: 6.252 GiB, 3.66% gc time, 8.62% compilation time)\n"
     ]
    },
    {
     "data": {
      "text/plain": [
       "DataStructures.PriorityQueue{Any, Any, Base.Order.ForwardOrdering} with 10 entries:\n",
       "  UInt32[0xe8b2656e, 0x10ea4f91, 0x12b5f3da, 0xbf92d241, 0xd5f2b4a7… => -34.7578\n",
       "  UInt32[0xe8b2656e, 0x10ea4f91, 0x12b5f3da, 0xbf92d241, 0xd5f2b4a7… => -34.7279\n",
       "  UInt32[0xe8b2656e, 0x10ea4f91, 0x12b5f3da, 0xbf92d241, 0xd5f2b4a7… => -34.7223\n",
       "  UInt32[0xe8b2656e, 0x10ea4f91, 0x12b5f3da, 0xbf92d241, 0xd5f2b4a7… => -34.7148\n",
       "  UInt32[0xe8b2656e, 0x10ea4f91, 0x12b5f3da, 0xbf92d241, 0xd5f2b4a7… => -34.7135\n",
       "  UInt32[0xe8b2656e, 0x10ea4f91, 0x12b5f3da, 0xbf92d241, 0xd5f2b4a7… => -34.7038\n",
       "  UInt32[0xe8b2656e, 0x10ea4f91, 0x12b5f3da, 0xbf92d241, 0xd5f2b4a7… => -34.702\n",
       "  UInt32[0xe8b2656e, 0x10ea4f91, 0x12b5f3da, 0xbf92d241, 0xd5f2b4a7… => -34.6672\n",
       "  UInt32[0xe8b2656e, 0x10ea4f91, 0x12b5f3da, 0xbf92d241, 0xd5f2b4a7… => 33.4339\n",
       "  UInt32[0xe8b2656e, 0x10ea4f91, 0x12b5f3da, 0xbf92d241, 0xd5f2b4a7… => 36.2271"
      ]
     },
     "execution_count": 9,
     "metadata": {},
     "output_type": "execute_result"
    }
   ],
   "source": [
    "Random.seed!(0)\n",
    "@time sol = mcts(() -> mdp)"
   ]
  },
  {
   "cell_type": "markdown",
   "id": "center-silicon",
   "metadata": {},
   "source": [
    "## Visualization"
   ]
  },
  {
   "cell_type": "code",
   "execution_count": 10,
   "id": "popular-garage",
   "metadata": {},
   "outputs": [
    {
     "data": {
      "text/plain": [
       "visualize (generic function with 1 method)"
      ]
     },
     "execution_count": 10,
     "metadata": {},
     "output_type": "execute_result"
    }
   ],
   "source": [
    "function visualize(sim::FMSim)\n",
    "    # all plans\n",
    "    p = plot(; aspect_ratio=:equal, legend=:bottomright)\n",
    "    for (i, plan) in enumerate(sim.plans)\n",
    "        xs = [w.s[1] for w in plan.waypoints]\n",
    "        ys = [w.s[2] for w in plan.waypoints]\n",
    "        plot!(p, xs, ys; label=\"aircraft $i\")\n",
    "    end\n",
    "    \n",
    "    # segment of closest approach\n",
    "    _, pairs = closest(sim.plans)\n",
    "    for pair in pairs\n",
    "        xs = [pair[1].s[1], pair[2].s[1]]\n",
    "        ys = [pair[1].s[2], pair[2].s[2]]\n",
    "        plot!(p, xs, ys; lc=:red, lw=3, label=:none)\n",
    "    end\n",
    "    evaluate(sim.col, sim.plans; verbose=true) # unnecessary but for show\n",
    "    \n",
    "    return p\n",
    "end"
   ]
  },
  {
   "cell_type": "code",
   "execution_count": 11,
   "id": "genuine-fifth",
   "metadata": {},
   "outputs": [
    {
     "name": "stdout",
     "output_type": "stream",
     "text": [
      "Plan solved in 1.09e-5 seconds.\n",
      "Collision detected.\n",
      "CDS separation threshold: 528.0 ft\n",
      "Sep. at closest approach: 498.6 ft\n"
     ]
    },
    {
     "data": {
      "image/svg+xml": [
       "<?xml version=\"1.0\" encoding=\"utf-8\"?>\n",
       "<svg xmlns=\"http://www.w3.org/2000/svg\" xmlns:xlink=\"http://www.w3.org/1999/xlink\" width=\"600\" height=\"400\" viewBox=\"0 0 2400 1600\">\n",
       "<defs>\n",
       "  <clipPath id=\"clip850\">\n",
       "    <rect x=\"0\" y=\"0\" width=\"2400\" height=\"1600\"/>\n",
       "  </clipPath>\n",
       "</defs>\n",
       "<path clip-path=\"url(#clip850)\" d=\"\n",
       "M0 1600 L2400 1600 L2400 0 L0 0  Z\n",
       "  \" fill=\"#ffffff\" fill-rule=\"evenodd\" fill-opacity=\"1\"/>\n",
       "<defs>\n",
       "  <clipPath id=\"clip851\">\n",
       "    <rect x=\"480\" y=\"0\" width=\"1681\" height=\"1600\"/>\n",
       "  </clipPath>\n",
       "</defs>\n",
       "<path clip-path=\"url(#clip850)\" d=\"\n",
       "M112.177 1486.45 L2352.76 1486.45 L2352.76 47.2441 L112.177 47.2441  Z\n",
       "  \" fill=\"#ffffff\" fill-rule=\"evenodd\" fill-opacity=\"1\"/>\n",
       "<defs>\n",
       "  <clipPath id=\"clip852\">\n",
       "    <rect x=\"112\" y=\"47\" width=\"2242\" height=\"1440\"/>\n",
       "  </clipPath>\n",
       "</defs>\n",
       "<polyline clip-path=\"url(#clip852)\" style=\"stroke:#000000; stroke-linecap:butt; stroke-linejoin:round; stroke-width:2; stroke-opacity:0.1; fill:none\" points=\"\n",
       "  322.547,1486.45 322.547,47.2441 \n",
       "  \"/>\n",
       "<polyline clip-path=\"url(#clip852)\" style=\"stroke:#000000; stroke-linecap:butt; stroke-linejoin:round; stroke-width:2; stroke-opacity:0.1; fill:none\" points=\"\n",
       "  674.925,1486.45 674.925,47.2441 \n",
       "  \"/>\n",
       "<polyline clip-path=\"url(#clip852)\" style=\"stroke:#000000; stroke-linecap:butt; stroke-linejoin:round; stroke-width:2; stroke-opacity:0.1; fill:none\" points=\"\n",
       "  1027.3,1486.45 1027.3,47.2441 \n",
       "  \"/>\n",
       "<polyline clip-path=\"url(#clip852)\" style=\"stroke:#000000; stroke-linecap:butt; stroke-linejoin:round; stroke-width:2; stroke-opacity:0.1; fill:none\" points=\"\n",
       "  1379.68,1486.45 1379.68,47.2441 \n",
       "  \"/>\n",
       "<polyline clip-path=\"url(#clip852)\" style=\"stroke:#000000; stroke-linecap:butt; stroke-linejoin:round; stroke-width:2; stroke-opacity:0.1; fill:none\" points=\"\n",
       "  1732.06,1486.45 1732.06,47.2441 \n",
       "  \"/>\n",
       "<polyline clip-path=\"url(#clip852)\" style=\"stroke:#000000; stroke-linecap:butt; stroke-linejoin:round; stroke-width:2; stroke-opacity:0.1; fill:none\" points=\"\n",
       "  2084.44,1486.45 2084.44,47.2441 \n",
       "  \"/>\n",
       "<polyline clip-path=\"url(#clip850)\" style=\"stroke:#000000; stroke-linecap:butt; stroke-linejoin:round; stroke-width:4; stroke-opacity:1; fill:none\" points=\"\n",
       "  112.177,1486.45 2352.76,1486.45 \n",
       "  \"/>\n",
       "<polyline clip-path=\"url(#clip850)\" style=\"stroke:#000000; stroke-linecap:butt; stroke-linejoin:round; stroke-width:4; stroke-opacity:1; fill:none\" points=\"\n",
       "  322.547,1486.45 322.547,1467.55 \n",
       "  \"/>\n",
       "<polyline clip-path=\"url(#clip850)\" style=\"stroke:#000000; stroke-linecap:butt; stroke-linejoin:round; stroke-width:4; stroke-opacity:1; fill:none\" points=\"\n",
       "  674.925,1486.45 674.925,1467.55 \n",
       "  \"/>\n",
       "<polyline clip-path=\"url(#clip850)\" style=\"stroke:#000000; stroke-linecap:butt; stroke-linejoin:round; stroke-width:4; stroke-opacity:1; fill:none\" points=\"\n",
       "  1027.3,1486.45 1027.3,1467.55 \n",
       "  \"/>\n",
       "<polyline clip-path=\"url(#clip850)\" style=\"stroke:#000000; stroke-linecap:butt; stroke-linejoin:round; stroke-width:4; stroke-opacity:1; fill:none\" points=\"\n",
       "  1379.68,1486.45 1379.68,1467.55 \n",
       "  \"/>\n",
       "<polyline clip-path=\"url(#clip850)\" style=\"stroke:#000000; stroke-linecap:butt; stroke-linejoin:round; stroke-width:4; stroke-opacity:1; fill:none\" points=\"\n",
       "  1732.06,1486.45 1732.06,1467.55 \n",
       "  \"/>\n",
       "<polyline clip-path=\"url(#clip850)\" style=\"stroke:#000000; stroke-linecap:butt; stroke-linejoin:round; stroke-width:4; stroke-opacity:1; fill:none\" points=\"\n",
       "  2084.44,1486.45 2084.44,1467.55 \n",
       "  \"/>\n",
       "<path clip-path=\"url(#clip850)\" d=\"M269.075 1530.29 L298.751 1530.29 L298.751 1534.23 L269.075 1534.23 L269.075 1530.29 Z\" fill=\"#000000\" fill-rule=\"evenodd\" fill-opacity=\"1\" /><path clip-path=\"url(#clip850)\" d=\"M308.889 1512.56 L327.246 1512.56 L327.246 1516.5 L313.172 1516.5 L313.172 1524.97 Q314.19 1524.62 315.209 1524.46 Q316.227 1524.27 317.246 1524.27 Q323.033 1524.27 326.412 1527.44 Q329.792 1530.62 329.792 1536.03 Q329.792 1541.61 326.32 1544.71 Q322.848 1547.79 316.528 1547.79 Q314.352 1547.79 312.084 1547.42 Q309.838 1547.05 307.431 1546.31 L307.431 1541.61 Q309.514 1542.74 311.737 1543.3 Q313.959 1543.86 316.436 1543.86 Q320.44 1543.86 322.778 1541.75 Q325.116 1539.64 325.116 1536.03 Q325.116 1532.42 322.778 1530.31 Q320.44 1528.21 316.436 1528.21 Q314.561 1528.21 312.686 1528.62 Q310.834 1529.04 308.889 1529.92 L308.889 1512.56 Z\" fill=\"#000000\" fill-rule=\"evenodd\" fill-opacity=\"1\" /><path clip-path=\"url(#clip850)\" d=\"M339.005 1541.24 L343.889 1541.24 L343.889 1547.12 L339.005 1547.12 L339.005 1541.24 Z\" fill=\"#000000\" fill-rule=\"evenodd\" fill-opacity=\"1\" /><path clip-path=\"url(#clip850)\" d=\"M364.074 1515.64 Q360.463 1515.64 358.634 1519.2 Q356.829 1522.75 356.829 1529.87 Q356.829 1536.98 358.634 1540.55 Q360.463 1544.09 364.074 1544.09 Q367.709 1544.09 369.514 1540.55 Q371.343 1536.98 371.343 1529.87 Q371.343 1522.75 369.514 1519.2 Q367.709 1515.64 364.074 1515.64 M364.074 1511.93 Q369.884 1511.93 372.94 1516.54 Q376.019 1521.12 376.019 1529.87 Q376.019 1538.6 372.94 1543.21 Q369.884 1547.79 364.074 1547.79 Q358.264 1547.79 355.185 1543.21 Q352.13 1538.6 352.13 1529.87 Q352.13 1521.12 355.185 1516.54 Q358.264 1511.93 364.074 1511.93 Z\" fill=\"#000000\" fill-rule=\"evenodd\" fill-opacity=\"1\" /><path clip-path=\"url(#clip850)\" d=\"M621.951 1530.29 L651.627 1530.29 L651.627 1534.23 L621.951 1534.23 L621.951 1530.29 Z\" fill=\"#000000\" fill-rule=\"evenodd\" fill-opacity=\"1\" /><path clip-path=\"url(#clip850)\" d=\"M665.747 1543.18 L682.067 1543.18 L682.067 1547.12 L660.122 1547.12 L660.122 1543.18 Q662.784 1540.43 667.368 1535.8 Q671.974 1531.15 673.155 1529.81 Q675.4 1527.28 676.28 1525.55 Q677.182 1523.79 677.182 1522.1 Q677.182 1519.34 675.238 1517.61 Q673.317 1515.87 670.215 1515.87 Q668.016 1515.87 665.562 1516.63 Q663.131 1517.4 660.354 1518.95 L660.354 1514.23 Q663.178 1513.09 665.631 1512.51 Q668.085 1511.93 670.122 1511.93 Q675.492 1511.93 678.687 1514.62 Q681.881 1517.31 681.881 1521.8 Q681.881 1523.93 681.071 1525.85 Q680.284 1527.74 678.178 1530.34 Q677.599 1531.01 674.497 1534.23 Q671.395 1537.42 665.747 1543.18 Z\" fill=\"#000000\" fill-rule=\"evenodd\" fill-opacity=\"1\" /><path clip-path=\"url(#clip850)\" d=\"M691.881 1541.24 L696.766 1541.24 L696.766 1547.12 L691.881 1547.12 L691.881 1541.24 Z\" fill=\"#000000\" fill-rule=\"evenodd\" fill-opacity=\"1\" /><path clip-path=\"url(#clip850)\" d=\"M706.997 1512.56 L725.353 1512.56 L725.353 1516.5 L711.279 1516.5 L711.279 1524.97 Q712.298 1524.62 713.316 1524.46 Q714.335 1524.27 715.353 1524.27 Q721.14 1524.27 724.52 1527.44 Q727.9 1530.62 727.9 1536.03 Q727.9 1541.61 724.427 1544.71 Q720.955 1547.79 714.636 1547.79 Q712.46 1547.79 710.191 1547.42 Q707.946 1547.05 705.539 1546.31 L705.539 1541.61 Q707.622 1542.74 709.844 1543.3 Q712.066 1543.86 714.543 1543.86 Q718.548 1543.86 720.886 1541.75 Q723.224 1539.64 723.224 1536.03 Q723.224 1532.42 720.886 1530.31 Q718.548 1528.21 714.543 1528.21 Q712.668 1528.21 710.793 1528.62 Q708.941 1529.04 706.997 1529.92 L706.997 1512.56 Z\" fill=\"#000000\" fill-rule=\"evenodd\" fill-opacity=\"1\" /><path clip-path=\"url(#clip850)\" d=\"M1004.69 1515.64 Q1001.08 1515.64 999.249 1519.2 Q997.443 1522.75 997.443 1529.87 Q997.443 1536.98 999.249 1540.55 Q1001.08 1544.09 1004.69 1544.09 Q1008.32 1544.09 1010.13 1540.55 Q1011.96 1536.98 1011.96 1529.87 Q1011.96 1522.75 1010.13 1519.2 Q1008.32 1515.64 1004.69 1515.64 M1004.69 1511.93 Q1010.5 1511.93 1013.55 1516.54 Q1016.63 1521.12 1016.63 1529.87 Q1016.63 1538.6 1013.55 1543.21 Q1010.5 1547.79 1004.69 1547.79 Q998.878 1547.79 995.8 1543.21 Q992.744 1538.6 992.744 1529.87 Q992.744 1521.12 995.8 1516.54 Q998.878 1511.93 1004.69 1511.93 Z\" fill=\"#000000\" fill-rule=\"evenodd\" fill-opacity=\"1\" /><path clip-path=\"url(#clip850)\" d=\"M1024.85 1541.24 L1029.73 1541.24 L1029.73 1547.12 L1024.85 1547.12 L1024.85 1541.24 Z\" fill=\"#000000\" fill-rule=\"evenodd\" fill-opacity=\"1\" /><path clip-path=\"url(#clip850)\" d=\"M1049.92 1515.64 Q1046.31 1515.64 1044.48 1519.2 Q1042.67 1522.75 1042.67 1529.87 Q1042.67 1536.98 1044.48 1540.55 Q1046.31 1544.09 1049.92 1544.09 Q1053.55 1544.09 1055.36 1540.55 Q1057.19 1536.98 1057.19 1529.87 Q1057.19 1522.75 1055.36 1519.2 Q1053.55 1515.64 1049.92 1515.64 M1049.92 1511.93 Q1055.73 1511.93 1058.79 1516.54 Q1061.86 1521.12 1061.86 1529.87 Q1061.86 1538.6 1058.79 1543.21 Q1055.73 1547.79 1049.92 1547.79 Q1044.11 1547.79 1041.03 1543.21 Q1037.98 1538.6 1037.98 1529.87 Q1037.98 1521.12 1041.03 1516.54 Q1044.11 1511.93 1049.92 1511.93 Z\" fill=\"#000000\" fill-rule=\"evenodd\" fill-opacity=\"1\" /><path clip-path=\"url(#clip850)\" d=\"M1351.42 1543.18 L1367.74 1543.18 L1367.74 1547.12 L1345.79 1547.12 L1345.79 1543.18 Q1348.46 1540.43 1353.04 1535.8 Q1357.65 1531.15 1358.83 1529.81 Q1361.07 1527.28 1361.95 1525.55 Q1362.85 1523.79 1362.85 1522.1 Q1362.85 1519.34 1360.91 1517.61 Q1358.99 1515.87 1355.89 1515.87 Q1353.69 1515.87 1351.23 1516.63 Q1348.8 1517.4 1346.03 1518.95 L1346.03 1514.23 Q1348.85 1513.09 1351.3 1512.51 Q1353.76 1511.93 1355.79 1511.93 Q1361.16 1511.93 1364.36 1514.62 Q1367.55 1517.31 1367.55 1521.8 Q1367.55 1523.93 1366.74 1525.85 Q1365.96 1527.74 1363.85 1530.34 Q1363.27 1531.01 1360.17 1534.23 Q1357.07 1537.42 1351.42 1543.18 Z\" fill=\"#000000\" fill-rule=\"evenodd\" fill-opacity=\"1\" /><path clip-path=\"url(#clip850)\" d=\"M1377.55 1541.24 L1382.44 1541.24 L1382.44 1547.12 L1377.55 1547.12 L1377.55 1541.24 Z\" fill=\"#000000\" fill-rule=\"evenodd\" fill-opacity=\"1\" /><path clip-path=\"url(#clip850)\" d=\"M1392.67 1512.56 L1411.03 1512.56 L1411.03 1516.5 L1396.95 1516.5 L1396.95 1524.97 Q1397.97 1524.62 1398.99 1524.46 Q1400.01 1524.27 1401.03 1524.27 Q1406.81 1524.27 1410.19 1527.44 Q1413.57 1530.62 1413.57 1536.03 Q1413.57 1541.61 1410.1 1544.71 Q1406.63 1547.79 1400.31 1547.79 Q1398.13 1547.79 1395.86 1547.42 Q1393.62 1547.05 1391.21 1546.31 L1391.21 1541.61 Q1393.29 1542.74 1395.52 1543.3 Q1397.74 1543.86 1400.21 1543.86 Q1404.22 1543.86 1406.56 1541.75 Q1408.9 1539.64 1408.9 1536.03 Q1408.9 1532.42 1406.56 1530.31 Q1404.22 1528.21 1400.21 1528.21 Q1398.34 1528.21 1396.46 1528.62 Q1394.61 1529.04 1392.67 1529.92 L1392.67 1512.56 Z\" fill=\"#000000\" fill-rule=\"evenodd\" fill-opacity=\"1\" /><path clip-path=\"url(#clip850)\" d=\"M1699.23 1512.56 L1717.58 1512.56 L1717.58 1516.5 L1703.51 1516.5 L1703.51 1524.97 Q1704.53 1524.62 1705.55 1524.46 Q1706.56 1524.27 1707.58 1524.27 Q1713.37 1524.27 1716.75 1527.44 Q1720.13 1530.62 1720.13 1536.03 Q1720.13 1541.61 1716.66 1544.71 Q1713.18 1547.79 1706.86 1547.79 Q1704.69 1547.79 1702.42 1547.42 Q1700.17 1547.05 1697.77 1546.31 L1697.77 1541.61 Q1699.85 1542.74 1702.07 1543.3 Q1704.3 1543.86 1706.77 1543.86 Q1710.78 1543.86 1713.11 1541.75 Q1715.45 1539.64 1715.45 1536.03 Q1715.45 1532.42 1713.11 1530.31 Q1710.78 1528.21 1706.77 1528.21 Q1704.9 1528.21 1703.02 1528.62 Q1701.17 1529.04 1699.23 1529.92 L1699.23 1512.56 Z\" fill=\"#000000\" fill-rule=\"evenodd\" fill-opacity=\"1\" /><path clip-path=\"url(#clip850)\" d=\"M1729.34 1541.24 L1734.23 1541.24 L1734.23 1547.12 L1729.34 1547.12 L1729.34 1541.24 Z\" fill=\"#000000\" fill-rule=\"evenodd\" fill-opacity=\"1\" /><path clip-path=\"url(#clip850)\" d=\"M1754.41 1515.64 Q1750.8 1515.64 1748.97 1519.2 Q1747.17 1522.75 1747.17 1529.87 Q1747.17 1536.98 1748.97 1540.55 Q1750.8 1544.09 1754.41 1544.09 Q1758.04 1544.09 1759.85 1540.55 Q1761.68 1536.98 1761.68 1529.87 Q1761.68 1522.75 1759.85 1519.2 Q1758.04 1515.64 1754.41 1515.64 M1754.41 1511.93 Q1760.22 1511.93 1763.28 1516.54 Q1766.36 1521.12 1766.36 1529.87 Q1766.36 1538.6 1763.28 1543.21 Q1760.22 1547.79 1754.41 1547.79 Q1748.6 1547.79 1745.52 1543.21 Q1742.47 1538.6 1742.47 1529.87 Q1742.47 1521.12 1745.52 1516.54 Q1748.6 1511.93 1754.41 1511.93 Z\" fill=\"#000000\" fill-rule=\"evenodd\" fill-opacity=\"1\" /><path clip-path=\"url(#clip850)\" d=\"M2050.76 1512.56 L2072.98 1512.56 L2072.98 1514.55 L2060.44 1547.12 L2055.55 1547.12 L2067.36 1516.5 L2050.76 1516.5 L2050.76 1512.56 Z\" fill=\"#000000\" fill-rule=\"evenodd\" fill-opacity=\"1\" /><path clip-path=\"url(#clip850)\" d=\"M2082.1 1541.24 L2086.99 1541.24 L2086.99 1547.12 L2082.1 1547.12 L2082.1 1541.24 Z\" fill=\"#000000\" fill-rule=\"evenodd\" fill-opacity=\"1\" /><path clip-path=\"url(#clip850)\" d=\"M2097.22 1512.56 L2115.57 1512.56 L2115.57 1516.5 L2101.5 1516.5 L2101.5 1524.97 Q2102.52 1524.62 2103.54 1524.46 Q2104.56 1524.27 2105.57 1524.27 Q2111.36 1524.27 2114.74 1527.44 Q2118.12 1530.62 2118.12 1536.03 Q2118.12 1541.61 2114.65 1544.71 Q2111.18 1547.79 2104.86 1547.79 Q2102.68 1547.79 2100.41 1547.42 Q2098.17 1547.05 2095.76 1546.31 L2095.76 1541.61 Q2097.84 1542.74 2100.06 1543.3 Q2102.29 1543.86 2104.76 1543.86 Q2108.77 1543.86 2111.11 1541.75 Q2113.44 1539.64 2113.44 1536.03 Q2113.44 1532.42 2111.11 1530.31 Q2108.77 1528.21 2104.76 1528.21 Q2102.89 1528.21 2101.01 1528.62 Q2099.16 1529.04 2097.22 1529.92 L2097.22 1512.56 Z\" fill=\"#000000\" fill-rule=\"evenodd\" fill-opacity=\"1\" /><polyline clip-path=\"url(#clip852)\" style=\"stroke:#000000; stroke-linecap:butt; stroke-linejoin:round; stroke-width:2; stroke-opacity:0.1; fill:none\" points=\"\n",
       "  112.177,1255.64 2352.76,1255.64 \n",
       "  \"/>\n",
       "<polyline clip-path=\"url(#clip852)\" style=\"stroke:#000000; stroke-linecap:butt; stroke-linejoin:round; stroke-width:2; stroke-opacity:0.1; fill:none\" points=\"\n",
       "  112.177,973.734 2352.76,973.734 \n",
       "  \"/>\n",
       "<polyline clip-path=\"url(#clip852)\" style=\"stroke:#000000; stroke-linecap:butt; stroke-linejoin:round; stroke-width:2; stroke-opacity:0.1; fill:none\" points=\"\n",
       "  112.177,691.831 2352.76,691.831 \n",
       "  \"/>\n",
       "<polyline clip-path=\"url(#clip852)\" style=\"stroke:#000000; stroke-linecap:butt; stroke-linejoin:round; stroke-width:2; stroke-opacity:0.1; fill:none\" points=\"\n",
       "  112.177,409.928 2352.76,409.928 \n",
       "  \"/>\n",
       "<polyline clip-path=\"url(#clip852)\" style=\"stroke:#000000; stroke-linecap:butt; stroke-linejoin:round; stroke-width:2; stroke-opacity:0.1; fill:none\" points=\"\n",
       "  112.177,128.025 2352.76,128.025 \n",
       "  \"/>\n",
       "<polyline clip-path=\"url(#clip850)\" style=\"stroke:#000000; stroke-linecap:butt; stroke-linejoin:round; stroke-width:4; stroke-opacity:1; fill:none\" points=\"\n",
       "  112.177,1486.45 112.177,47.2441 \n",
       "  \"/>\n",
       "<polyline clip-path=\"url(#clip850)\" style=\"stroke:#000000; stroke-linecap:butt; stroke-linejoin:round; stroke-width:4; stroke-opacity:1; fill:none\" points=\"\n",
       "  112.177,1255.64 131.075,1255.64 \n",
       "  \"/>\n",
       "<polyline clip-path=\"url(#clip850)\" style=\"stroke:#000000; stroke-linecap:butt; stroke-linejoin:round; stroke-width:4; stroke-opacity:1; fill:none\" points=\"\n",
       "  112.177,973.734 131.075,973.734 \n",
       "  \"/>\n",
       "<polyline clip-path=\"url(#clip850)\" style=\"stroke:#000000; stroke-linecap:butt; stroke-linejoin:round; stroke-width:4; stroke-opacity:1; fill:none\" points=\"\n",
       "  112.177,691.831 131.075,691.831 \n",
       "  \"/>\n",
       "<polyline clip-path=\"url(#clip850)\" style=\"stroke:#000000; stroke-linecap:butt; stroke-linejoin:round; stroke-width:4; stroke-opacity:1; fill:none\" points=\"\n",
       "  112.177,409.928 131.075,409.928 \n",
       "  \"/>\n",
       "<polyline clip-path=\"url(#clip850)\" style=\"stroke:#000000; stroke-linecap:butt; stroke-linejoin:round; stroke-width:4; stroke-opacity:1; fill:none\" points=\"\n",
       "  112.177,128.025 131.075,128.025 \n",
       "  \"/>\n",
       "<path clip-path=\"url(#clip850)\" d=\"M64.2328 1241.44 Q60.6217 1241.44 58.793 1245 Q56.9875 1248.54 56.9875 1255.67 Q56.9875 1262.78 58.793 1266.34 Q60.6217 1269.88 64.2328 1269.88 Q67.867 1269.88 69.6726 1266.34 Q71.5013 1262.78 71.5013 1255.67 Q71.5013 1248.54 69.6726 1245 Q67.867 1241.44 64.2328 1241.44 M64.2328 1237.73 Q70.0429 1237.73 73.0985 1242.34 Q76.1772 1246.92 76.1772 1255.67 Q76.1772 1264.4 73.0985 1269.01 Q70.0429 1273.59 64.2328 1273.59 Q58.4226 1273.59 55.344 1269.01 Q52.2884 1264.4 52.2884 1255.67 Q52.2884 1246.92 55.344 1242.34 Q58.4226 1237.73 64.2328 1237.73 Z\" fill=\"#000000\" fill-rule=\"evenodd\" fill-opacity=\"1\" /><path clip-path=\"url(#clip850)\" d=\"M59.8578 987.079 L76.1772 987.079 L76.1772 991.014 L54.2328 991.014 L54.2328 987.079 Q56.8949 984.324 61.4782 979.695 Q66.0846 975.042 67.2652 973.7 Q69.5105 971.176 70.3902 969.44 Q71.2929 967.681 71.2929 965.991 Q71.2929 963.237 69.3485 961.501 Q67.4272 959.764 64.3254 959.764 Q62.1263 959.764 59.6726 960.528 Q57.2421 961.292 54.4643 962.843 L54.4643 958.121 Q57.2884 956.987 59.7421 956.408 Q62.1958 955.829 64.2328 955.829 Q69.6031 955.829 72.7976 958.514 Q75.992 961.2 75.992 965.69 Q75.992 967.82 75.1818 969.741 Q74.3948 971.639 72.2883 974.232 Q71.7096 974.903 68.6078 978.121 Q65.5059 981.315 59.8578 987.079 Z\" fill=\"#000000\" fill-rule=\"evenodd\" fill-opacity=\"1\" /><path clip-path=\"url(#clip850)\" d=\"M66.5939 678.625 L54.7884 697.074 L66.5939 697.074 L66.5939 678.625 M65.367 674.551 L71.2466 674.551 L71.2466 697.074 L76.1772 697.074 L76.1772 700.963 L71.2466 700.963 L71.2466 709.111 L66.5939 709.111 L66.5939 700.963 L50.9921 700.963 L50.9921 696.449 L65.367 674.551 Z\" fill=\"#000000\" fill-rule=\"evenodd\" fill-opacity=\"1\" /><path clip-path=\"url(#clip850)\" d=\"M64.6495 408.065 Q61.5013 408.065 59.6495 410.218 Q57.8208 412.371 57.8208 416.121 Q57.8208 419.847 59.6495 422.023 Q61.5013 424.176 64.6495 424.176 Q67.7976 424.176 69.6263 422.023 Q71.4781 419.847 71.4781 416.121 Q71.4781 412.371 69.6263 410.218 Q67.7976 408.065 64.6495 408.065 M73.9318 393.412 L73.9318 397.672 Q72.1726 396.838 70.367 396.398 Q68.5846 395.959 66.8254 395.959 Q62.1958 395.959 59.7421 399.084 Q57.3115 402.209 56.9643 408.528 Q58.33 406.514 60.3902 405.449 Q62.4504 404.361 64.9272 404.361 Q70.1355 404.361 73.1448 407.533 Q76.1772 410.681 76.1772 416.121 Q76.1772 421.445 73.029 424.662 Q69.8809 427.88 64.6495 427.88 Q58.6541 427.88 55.4828 423.296 Q52.3116 418.69 52.3116 409.963 Q52.3116 401.769 56.2004 396.908 Q60.0893 392.023 66.6402 392.023 Q68.3994 392.023 70.1818 392.371 Q71.9874 392.718 73.9318 393.412 Z\" fill=\"#000000\" fill-rule=\"evenodd\" fill-opacity=\"1\" /><path clip-path=\"url(#clip850)\" d=\"M64.3254 128.894 Q60.9921 128.894 59.0708 130.676 Q57.1726 132.458 57.1726 135.583 Q57.1726 138.708 59.0708 140.491 Q60.9921 142.273 64.3254 142.273 Q67.6587 142.273 69.58 140.491 Q71.5013 138.685 71.5013 135.583 Q71.5013 132.458 69.58 130.676 Q67.6819 128.894 64.3254 128.894 M59.6495 126.903 Q56.6402 126.162 54.9504 124.102 Q53.2838 122.042 53.2838 119.079 Q53.2838 114.935 56.2236 112.528 Q59.1865 110.12 64.3254 110.12 Q69.4874 110.12 72.4272 112.528 Q75.367 114.935 75.367 119.079 Q75.367 122.042 73.6772 124.102 Q72.0105 126.162 69.0244 126.903 Q72.404 127.69 74.279 129.982 Q76.1772 132.273 76.1772 135.583 Q76.1772 140.606 73.0985 143.292 Q70.0429 145.977 64.3254 145.977 Q58.6078 145.977 55.5291 143.292 Q52.4736 140.606 52.4736 135.583 Q52.4736 132.273 54.3717 129.982 Q56.2699 127.69 59.6495 126.903 M57.9365 119.519 Q57.9365 122.204 59.6032 123.708 Q61.293 125.213 64.3254 125.213 Q67.3346 125.213 69.0244 123.708 Q70.7374 122.204 70.7374 119.519 Q70.7374 116.833 69.0244 115.329 Q67.3346 113.824 64.3254 113.824 Q61.293 113.824 59.6032 115.329 Q57.9365 116.833 57.9365 119.519 Z\" fill=\"#000000\" fill-rule=\"evenodd\" fill-opacity=\"1\" /><polyline clip-path=\"url(#clip852)\" style=\"stroke:#009af9; stroke-linecap:butt; stroke-linejoin:round; stroke-width:4; stroke-opacity:1; fill:none\" points=\"\n",
       "  1984.52,87.9763 2003.3,168.931 2034.19,221.77 2004.67,203.175 1935.46,165.995 1932.08,148.763 1835.42,146.764 1806.87,191.313 1768.2,199.835 1692,244.01 \n",
       "  1644.49,364.14 1622.19,365.951 1470.83,500.694 1362.12,536.786 1329.39,585.153 1323.37,523.629 1233.23,556.038 1216.51,557.695 1193.05,591.619 1075.29,536.079 \n",
       "  1022.2,557.395 1029.21,552.812 1103.5,584.923 1060.13,610.259 919.167,605.15 833.455,552.352 \n",
       "  \"/>\n",
       "<polyline clip-path=\"url(#clip852)\" style=\"stroke:#e26f46; stroke-linecap:butt; stroke-linejoin:round; stroke-width:4; stroke-opacity:1; fill:none\" points=\"\n",
       "  529.735,1445.72 581.019,1391.03 582.758,1397.24 546.945,1376.95 591.912,1344.85 604.046,1430.31 576.565,1403.68 539.714,1353.07 493.74,1352.33 475.162,1294.13 \n",
       "  459.416,1258.67 430.742,1291.01 459.508,1278.61 593.536,1148.07 585.824,1033.59 669.703,1071.27 671.324,954.29 667.559,876.912 675.265,774.996 730.952,743.004 \n",
       "  757.497,813.577 787.776,695.175 936.808,631.542 951.13,580.26 1102.11,594.796 1159.8,588.874 \n",
       "  \"/>\n",
       "<polyline clip-path=\"url(#clip852)\" style=\"stroke:#ff0000; stroke-linecap:butt; stroke-linejoin:round; stroke-width:12; stroke-opacity:1; fill:none\" points=\"\n",
       "  1029.21,552.812 1103.5,584.923 \n",
       "  \"/>\n",
       "<polyline clip-path=\"url(#clip852)\" style=\"stroke:#ff0000; stroke-linecap:butt; stroke-linejoin:round; stroke-width:12; stroke-opacity:1; fill:none\" points=\"\n",
       "  1102.11,594.796 1159.8,588.874 \n",
       "  \"/>\n",
       "<path clip-path=\"url(#clip850)\" d=\"\n",
       "M1821.39 1438.47 L2278.07 1438.47 L2278.07 1282.95 L1821.39 1282.95  Z\n",
       "  \" fill=\"#ffffff\" fill-rule=\"evenodd\" fill-opacity=\"1\"/>\n",
       "<polyline clip-path=\"url(#clip850)\" style=\"stroke:#000000; stroke-linecap:butt; stroke-linejoin:round; stroke-width:4; stroke-opacity:1; fill:none\" points=\"\n",
       "  1821.39,1438.47 2278.07,1438.47 2278.07,1282.95 1821.39,1282.95 1821.39,1438.47 \n",
       "  \"/>\n",
       "<polyline clip-path=\"url(#clip850)\" style=\"stroke:#009af9; stroke-linecap:butt; stroke-linejoin:round; stroke-width:4; stroke-opacity:1; fill:none\" points=\"\n",
       "  1846.28,1334.79 1995.65,1334.79 \n",
       "  \"/>\n",
       "<path clip-path=\"url(#clip850)\" d=\"M2033.95 1339.04 Q2028.79 1339.04 2026.8 1340.22 Q2024.81 1341.4 2024.81 1344.25 Q2024.81 1346.52 2026.29 1347.86 Q2027.79 1349.18 2030.36 1349.18 Q2033.91 1349.18 2036.03 1346.68 Q2038.19 1344.16 2038.19 1339.99 L2038.19 1339.04 L2033.95 1339.04 M2042.45 1337.28 L2042.45 1352.07 L2038.19 1352.07 L2038.19 1348.14 Q2036.73 1350.5 2034.55 1351.63 Q2032.38 1352.75 2029.23 1352.75 Q2025.25 1352.75 2022.89 1350.52 Q2020.55 1348.28 2020.55 1344.53 Q2020.55 1340.15 2023.47 1337.93 Q2026.41 1335.71 2032.22 1335.71 L2038.19 1335.71 L2038.19 1335.29 Q2038.19 1332.35 2036.24 1330.76 Q2034.32 1329.13 2030.83 1329.13 Q2028.6 1329.13 2026.5 1329.67 Q2024.39 1330.2 2022.45 1331.26 L2022.45 1327.33 Q2024.79 1326.43 2026.98 1325.99 Q2029.18 1325.52 2031.27 1325.52 Q2036.89 1325.52 2039.67 1328.44 Q2042.45 1331.36 2042.45 1337.28 Z\" fill=\"#000000\" fill-rule=\"evenodd\" fill-opacity=\"1\" /><path clip-path=\"url(#clip850)\" d=\"M2051.22 1326.15 L2055.48 1326.15 L2055.48 1352.07 L2051.22 1352.07 L2051.22 1326.15 M2051.22 1316.06 L2055.48 1316.06 L2055.48 1321.45 L2051.22 1321.45 L2051.22 1316.06 Z\" fill=\"#000000\" fill-rule=\"evenodd\" fill-opacity=\"1\" /><path clip-path=\"url(#clip850)\" d=\"M2079.41 1330.13 Q2078.7 1329.71 2077.84 1329.53 Q2077.01 1329.32 2075.99 1329.32 Q2072.38 1329.32 2070.43 1331.68 Q2068.51 1334.02 2068.51 1338.42 L2068.51 1352.07 L2064.23 1352.07 L2064.23 1326.15 L2068.51 1326.15 L2068.51 1330.18 Q2069.85 1327.82 2072.01 1326.68 Q2074.16 1325.52 2077.24 1325.52 Q2077.68 1325.52 2078.21 1325.59 Q2078.74 1325.64 2079.39 1325.76 L2079.41 1330.13 Z\" fill=\"#000000\" fill-rule=\"evenodd\" fill-opacity=\"1\" /><path clip-path=\"url(#clip850)\" d=\"M2101.5 1327.14 L2101.5 1331.13 Q2099.69 1330.13 2097.86 1329.64 Q2096.06 1329.13 2094.21 1329.13 Q2090.06 1329.13 2087.77 1331.77 Q2085.48 1334.39 2085.48 1339.13 Q2085.48 1343.88 2087.77 1346.52 Q2090.06 1349.13 2094.21 1349.13 Q2096.06 1349.13 2097.86 1348.65 Q2099.69 1348.14 2101.5 1347.14 L2101.5 1351.08 Q2099.72 1351.91 2097.79 1352.33 Q2095.9 1352.75 2093.74 1352.75 Q2087.89 1352.75 2084.44 1349.07 Q2080.99 1345.38 2080.99 1339.13 Q2080.99 1332.79 2084.46 1329.16 Q2087.96 1325.52 2094.02 1325.52 Q2095.99 1325.52 2097.86 1325.94 Q2099.74 1326.33 2101.5 1327.14 Z\" fill=\"#000000\" fill-rule=\"evenodd\" fill-opacity=\"1\" /><path clip-path=\"url(#clip850)\" d=\"M2123.93 1330.13 Q2123.21 1329.71 2122.35 1329.53 Q2121.52 1329.32 2120.5 1329.32 Q2116.89 1329.32 2114.95 1331.68 Q2113.03 1334.02 2113.03 1338.42 L2113.03 1352.07 L2108.74 1352.07 L2108.74 1326.15 L2113.03 1326.15 L2113.03 1330.18 Q2114.37 1327.82 2116.52 1326.68 Q2118.67 1325.52 2121.75 1325.52 Q2122.19 1325.52 2122.72 1325.59 Q2123.26 1325.64 2123.9 1325.76 L2123.93 1330.13 Z\" fill=\"#000000\" fill-rule=\"evenodd\" fill-opacity=\"1\" /><path clip-path=\"url(#clip850)\" d=\"M2140.18 1339.04 Q2135.02 1339.04 2133.03 1340.22 Q2131.03 1341.4 2131.03 1344.25 Q2131.03 1346.52 2132.52 1347.86 Q2134.02 1349.18 2136.59 1349.18 Q2140.13 1349.18 2142.26 1346.68 Q2144.41 1344.16 2144.41 1339.99 L2144.41 1339.04 L2140.18 1339.04 M2148.67 1337.28 L2148.67 1352.07 L2144.41 1352.07 L2144.41 1348.14 Q2142.96 1350.5 2140.78 1351.63 Q2138.6 1352.75 2135.46 1352.75 Q2131.47 1352.75 2129.11 1350.52 Q2126.78 1348.28 2126.78 1344.53 Q2126.78 1340.15 2129.69 1337.93 Q2132.63 1335.71 2138.44 1335.71 L2144.41 1335.71 L2144.41 1335.29 Q2144.41 1332.35 2142.47 1330.76 Q2140.55 1329.13 2137.05 1329.13 Q2134.83 1329.13 2132.72 1329.67 Q2130.62 1330.2 2128.67 1331.26 L2128.67 1327.33 Q2131.01 1326.43 2133.21 1325.99 Q2135.41 1325.52 2137.49 1325.52 Q2143.12 1325.52 2145.9 1328.44 Q2148.67 1331.36 2148.67 1337.28 Z\" fill=\"#000000\" fill-rule=\"evenodd\" fill-opacity=\"1\" /><path clip-path=\"url(#clip850)\" d=\"M2170.57 1316.06 L2170.57 1319.6 L2166.5 1319.6 Q2164.21 1319.6 2163.3 1320.52 Q2162.42 1321.45 2162.42 1323.86 L2162.42 1326.15 L2169.44 1326.15 L2169.44 1329.46 L2162.42 1329.46 L2162.42 1352.07 L2158.14 1352.07 L2158.14 1329.46 L2154.07 1329.46 L2154.07 1326.15 L2158.14 1326.15 L2158.14 1324.34 Q2158.14 1320.01 2160.15 1318.05 Q2162.17 1316.06 2166.54 1316.06 L2170.57 1316.06 Z\" fill=\"#000000\" fill-rule=\"evenodd\" fill-opacity=\"1\" /><path clip-path=\"url(#clip850)\" d=\"M2177.52 1318.79 L2177.52 1326.15 L2186.29 1326.15 L2186.29 1329.46 L2177.52 1329.46 L2177.52 1343.53 Q2177.52 1346.7 2178.37 1347.61 Q2179.25 1348.51 2181.91 1348.51 L2186.29 1348.51 L2186.29 1352.07 L2181.91 1352.07 Q2176.98 1352.07 2175.11 1350.25 Q2173.23 1348.39 2173.23 1343.53 L2173.23 1329.46 L2170.11 1329.46 L2170.11 1326.15 L2173.23 1326.15 L2173.23 1318.79 L2177.52 1318.79 Z\" fill=\"#000000\" fill-rule=\"evenodd\" fill-opacity=\"1\" /><path clip-path=\"url(#clip850)\" d=\"M2208.37 1348.14 L2216.01 1348.14 L2216.01 1321.77 L2207.7 1323.44 L2207.7 1319.18 L2215.96 1317.51 L2220.64 1317.51 L2220.64 1348.14 L2228.28 1348.14 L2228.28 1352.07 L2208.37 1352.07 L2208.37 1348.14 Z\" fill=\"#000000\" fill-rule=\"evenodd\" fill-opacity=\"1\" /><polyline clip-path=\"url(#clip850)\" style=\"stroke:#e26f46; stroke-linecap:butt; stroke-linejoin:round; stroke-width:4; stroke-opacity:1; fill:none\" points=\"\n",
       "  1846.28,1386.63 1995.65,1386.63 \n",
       "  \"/>\n",
       "<path clip-path=\"url(#clip850)\" d=\"M2033.95 1390.88 Q2028.79 1390.88 2026.8 1392.06 Q2024.81 1393.24 2024.81 1396.09 Q2024.81 1398.36 2026.29 1399.7 Q2027.79 1401.02 2030.36 1401.02 Q2033.91 1401.02 2036.03 1398.52 Q2038.19 1396 2038.19 1391.83 L2038.19 1390.88 L2033.95 1390.88 M2042.45 1389.12 L2042.45 1403.91 L2038.19 1403.91 L2038.19 1399.98 Q2036.73 1402.34 2034.55 1403.47 Q2032.38 1404.59 2029.23 1404.59 Q2025.25 1404.59 2022.89 1402.36 Q2020.55 1400.12 2020.55 1396.37 Q2020.55 1391.99 2023.47 1389.77 Q2026.41 1387.55 2032.22 1387.55 L2038.19 1387.55 L2038.19 1387.13 Q2038.19 1384.19 2036.24 1382.6 Q2034.32 1380.97 2030.83 1380.97 Q2028.6 1380.97 2026.5 1381.51 Q2024.39 1382.04 2022.45 1383.1 L2022.45 1379.17 Q2024.79 1378.27 2026.98 1377.83 Q2029.18 1377.36 2031.27 1377.36 Q2036.89 1377.36 2039.67 1380.28 Q2042.45 1383.2 2042.45 1389.12 Z\" fill=\"#000000\" fill-rule=\"evenodd\" fill-opacity=\"1\" /><path clip-path=\"url(#clip850)\" d=\"M2051.22 1377.99 L2055.48 1377.99 L2055.48 1403.91 L2051.22 1403.91 L2051.22 1377.99 M2051.22 1367.9 L2055.48 1367.9 L2055.48 1373.29 L2051.22 1373.29 L2051.22 1367.9 Z\" fill=\"#000000\" fill-rule=\"evenodd\" fill-opacity=\"1\" /><path clip-path=\"url(#clip850)\" d=\"M2079.41 1381.97 Q2078.7 1381.55 2077.84 1381.37 Q2077.01 1381.16 2075.99 1381.16 Q2072.38 1381.16 2070.43 1383.52 Q2068.51 1385.86 2068.51 1390.26 L2068.51 1403.91 L2064.23 1403.91 L2064.23 1377.99 L2068.51 1377.99 L2068.51 1382.02 Q2069.85 1379.66 2072.01 1378.52 Q2074.16 1377.36 2077.24 1377.36 Q2077.68 1377.36 2078.21 1377.43 Q2078.74 1377.48 2079.39 1377.6 L2079.41 1381.97 Z\" fill=\"#000000\" fill-rule=\"evenodd\" fill-opacity=\"1\" /><path clip-path=\"url(#clip850)\" d=\"M2101.5 1378.98 L2101.5 1382.97 Q2099.69 1381.97 2097.86 1381.48 Q2096.06 1380.97 2094.21 1380.97 Q2090.06 1380.97 2087.77 1383.61 Q2085.48 1386.23 2085.48 1390.97 Q2085.48 1395.72 2087.77 1398.36 Q2090.06 1400.97 2094.21 1400.97 Q2096.06 1400.97 2097.86 1400.49 Q2099.69 1399.98 2101.5 1398.98 L2101.5 1402.92 Q2099.72 1403.75 2097.79 1404.17 Q2095.9 1404.59 2093.74 1404.59 Q2087.89 1404.59 2084.44 1400.91 Q2080.99 1397.22 2080.99 1390.97 Q2080.99 1384.63 2084.46 1381 Q2087.96 1377.36 2094.02 1377.36 Q2095.99 1377.36 2097.86 1377.78 Q2099.74 1378.17 2101.5 1378.98 Z\" fill=\"#000000\" fill-rule=\"evenodd\" fill-opacity=\"1\" /><path clip-path=\"url(#clip850)\" d=\"M2123.93 1381.97 Q2123.21 1381.55 2122.35 1381.37 Q2121.52 1381.16 2120.5 1381.16 Q2116.89 1381.16 2114.95 1383.52 Q2113.03 1385.86 2113.03 1390.26 L2113.03 1403.91 L2108.74 1403.91 L2108.74 1377.99 L2113.03 1377.99 L2113.03 1382.02 Q2114.37 1379.66 2116.52 1378.52 Q2118.67 1377.36 2121.75 1377.36 Q2122.19 1377.36 2122.72 1377.43 Q2123.26 1377.48 2123.9 1377.6 L2123.93 1381.97 Z\" fill=\"#000000\" fill-rule=\"evenodd\" fill-opacity=\"1\" /><path clip-path=\"url(#clip850)\" d=\"M2140.18 1390.88 Q2135.02 1390.88 2133.03 1392.06 Q2131.03 1393.24 2131.03 1396.09 Q2131.03 1398.36 2132.52 1399.7 Q2134.02 1401.02 2136.59 1401.02 Q2140.13 1401.02 2142.26 1398.52 Q2144.41 1396 2144.41 1391.83 L2144.41 1390.88 L2140.18 1390.88 M2148.67 1389.12 L2148.67 1403.91 L2144.41 1403.91 L2144.41 1399.98 Q2142.96 1402.34 2140.78 1403.47 Q2138.6 1404.59 2135.46 1404.59 Q2131.47 1404.59 2129.11 1402.36 Q2126.78 1400.12 2126.78 1396.37 Q2126.78 1391.99 2129.69 1389.77 Q2132.63 1387.55 2138.44 1387.55 L2144.41 1387.55 L2144.41 1387.13 Q2144.41 1384.19 2142.47 1382.6 Q2140.55 1380.97 2137.05 1380.97 Q2134.83 1380.97 2132.72 1381.51 Q2130.62 1382.04 2128.67 1383.1 L2128.67 1379.17 Q2131.01 1378.27 2133.21 1377.83 Q2135.41 1377.36 2137.49 1377.36 Q2143.12 1377.36 2145.9 1380.28 Q2148.67 1383.2 2148.67 1389.12 Z\" fill=\"#000000\" fill-rule=\"evenodd\" fill-opacity=\"1\" /><path clip-path=\"url(#clip850)\" d=\"M2170.57 1367.9 L2170.57 1371.44 L2166.5 1371.44 Q2164.21 1371.44 2163.3 1372.36 Q2162.42 1373.29 2162.42 1375.7 L2162.42 1377.99 L2169.44 1377.99 L2169.44 1381.3 L2162.42 1381.3 L2162.42 1403.91 L2158.14 1403.91 L2158.14 1381.3 L2154.07 1381.3 L2154.07 1377.99 L2158.14 1377.99 L2158.14 1376.18 Q2158.14 1371.85 2160.15 1369.89 Q2162.17 1367.9 2166.54 1367.9 L2170.57 1367.9 Z\" fill=\"#000000\" fill-rule=\"evenodd\" fill-opacity=\"1\" /><path clip-path=\"url(#clip850)\" d=\"M2177.52 1370.63 L2177.52 1377.99 L2186.29 1377.99 L2186.29 1381.3 L2177.52 1381.3 L2177.52 1395.37 Q2177.52 1398.54 2178.37 1399.45 Q2179.25 1400.35 2181.91 1400.35 L2186.29 1400.35 L2186.29 1403.91 L2181.91 1403.91 Q2176.98 1403.91 2175.11 1402.09 Q2173.23 1400.23 2173.23 1395.37 L2173.23 1381.3 L2170.11 1381.3 L2170.11 1377.99 L2173.23 1377.99 L2173.23 1370.63 L2177.52 1370.63 Z\" fill=\"#000000\" fill-rule=\"evenodd\" fill-opacity=\"1\" /><path clip-path=\"url(#clip850)\" d=\"M2211.59 1399.98 L2227.91 1399.98 L2227.91 1403.91 L2205.96 1403.91 L2205.96 1399.98 Q2208.63 1397.22 2213.21 1392.6 Q2217.82 1387.94 2219 1386.6 Q2221.24 1384.08 2222.12 1382.34 Q2223.02 1380.58 2223.02 1378.89 Q2223.02 1376.14 2221.08 1374.4 Q2219.16 1372.66 2216.06 1372.66 Q2213.86 1372.66 2211.4 1373.43 Q2208.97 1374.19 2206.2 1375.74 L2206.2 1371.02 Q2209.02 1369.89 2211.47 1369.31 Q2213.93 1368.73 2215.96 1368.73 Q2221.33 1368.73 2224.53 1371.41 Q2227.72 1374.1 2227.72 1378.59 Q2227.72 1380.72 2226.91 1382.64 Q2226.13 1384.54 2224.02 1387.13 Q2223.44 1387.8 2220.34 1391.02 Q2217.24 1394.22 2211.59 1399.98 Z\" fill=\"#000000\" fill-rule=\"evenodd\" fill-opacity=\"1\" /></svg>\n"
      ]
     },
     "execution_count": 11,
     "metadata": {},
     "output_type": "execute_result"
    }
   ],
   "source": [
    "Interface.reset!(mdp)\n",
    "best_path = last(collect(keys(sol)))\n",
    "for a in best_path\n",
    "    Interface.act!(mdp, a)\n",
    "end\n",
    "visualize(mdp.sim)"
   ]
  },
  {
   "cell_type": "code",
   "execution_count": null,
   "id": "knowing-paper",
   "metadata": {},
   "outputs": [],
   "source": []
  }
 ],
 "metadata": {
  "kernelspec": {
   "display_name": "Julia 1.6.0",
   "language": "julia",
   "name": "julia-1.6"
  },
  "language_info": {
   "file_extension": ".jl",
   "mimetype": "application/julia",
   "name": "julia",
   "version": "1.6.0"
  }
 },
 "nbformat": 4,
 "nbformat_minor": 5
}
