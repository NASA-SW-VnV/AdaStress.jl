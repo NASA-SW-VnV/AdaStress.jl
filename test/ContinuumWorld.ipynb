{
 "cells": [
  {
   "cell_type": "markdown",
   "id": "instructional-assist",
   "metadata": {},
   "source": [
    "# ContinuumWorld\n",
    "This notebook demonstrates some of the global policy features of AdaStress."
   ]
  },
  {
   "cell_type": "code",
   "execution_count": null,
   "id": "cardiovascular-december",
   "metadata": {},
   "outputs": [],
   "source": [
    "using AdaStress\n",
    "import AdaStress.GrayBox\n",
    "using BSON\n",
    "using Distributions\n",
    "using Parameters\n",
    "using Random"
   ]
  },
  {
   "cell_type": "markdown",
   "id": "wound-album",
   "metadata": {},
   "source": [
    "## Pawn"
   ]
  },
  {
   "cell_type": "code",
   "execution_count": null,
   "id": "south-august",
   "metadata": {},
   "outputs": [],
   "source": [
    "@with_kw mutable struct Initialization\n",
    "    x::Distribution = Uniform(0, 10)\n",
    "    y::Distribution = Uniform(0, 10)\n",
    "end\n",
    "\n",
    "@with_kw mutable struct Pawn\n",
    "    x::Float64 = 0.0\n",
    "    y::Float64 = 0.0\n",
    "end\n",
    "\n",
    "vec(pawn::Pawn) = [pawn.x, pawn.y]\n",
    "\n",
    "observation(pawn::Pawn) = vec(pawn) / 10.0 # normalized state\n",
    "\n",
    "function initialize(pawn::Pawn, init::Initialization)\n",
    "    pawn.x = rand(init.x)\n",
    "    pawn.y = rand(init.y)\n",
    "end\n",
    "\n",
    "function update(pawn::Pawn, Δx::Float64, Δy::Float64)\n",
    "    pawn.x += Δx\n",
    "    pawn.y += Δy\n",
    "end"
   ]
  },
  {
   "cell_type": "markdown",
   "id": "damaged-security",
   "metadata": {},
   "source": [
    "## Disturbance and failure models"
   ]
  },
  {
   "cell_type": "code",
   "execution_count": null,
   "id": "bottom-secretary",
   "metadata": {},
   "outputs": [],
   "source": [
    "@with_kw mutable struct Disturbance\n",
    "\tx::Distribution = Normal(0.0, 0.25)\n",
    "\ty::Distribution = Normal(0.0, 0.25)\n",
    "end\n",
    "\n",
    "@with_kw mutable struct FailureZone\n",
    "\tx::Float64 = 0.0\n",
    "\ty::Float64 = 0.0\n",
    "\tr::Float64 = 0.0\n",
    "end\n",
    "\n",
    "Base.in(pawn::Pawn, zone::FailureZone) = (pawn.x - zone.x)^2 + (pawn.y - zone.y)^2 <= zone.r^2\n",
    "\n",
    "distance(pawn::Pawn, zone::FailureZone) = max(sqrt((pawn.x - zone.x)^2 + (pawn.y - zone.y)^2) - zone.r, 0.0)"
   ]
  },
  {
   "cell_type": "markdown",
   "id": "precise-choice",
   "metadata": {},
   "source": [
    "## Metrics"
   ]
  },
  {
   "cell_type": "code",
   "execution_count": null,
   "id": "therapeutic-finish",
   "metadata": {},
   "outputs": [],
   "source": [
    "@with_kw mutable struct Metrics\n",
    "    d::Float64 = 0.0\n",
    "\tin_zone::Bool = false\n",
    "end\n",
    "\n",
    "const Log = Dict{String, Any}\n",
    "\n",
    "function initialize(m::Metrics, pawn::Pawn, zone::FailureZone)\n",
    "\tupdate(m, pawn, zone)\n",
    "end\n",
    "\n",
    "function update(m::Metrics, pawn::Pawn, zone::FailureZone)\n",
    "    m.d = distance(pawn, zone) \n",
    "\tm.in_zone = pawn in zone\n",
    "end"
   ]
  },
  {
   "cell_type": "markdown",
   "id": "smoking-yahoo",
   "metadata": {},
   "source": [
    "## Simulator"
   ]
  },
  {
   "cell_type": "code",
   "execution_count": null,
   "id": "stainless-treasure",
   "metadata": {},
   "outputs": [],
   "source": [
    "@with_kw mutable struct Simulator <: AdaStress.GrayBox\n",
    "\tt::Float64 = 0.0\n",
    "\tt_max::Float64 = 50.0\n",
    "\tpawn::Pawn = Pawn()\n",
    "\tinit::Initialization = Initialization()\n",
    "\tdisturbance::Disturbance = Disturbance()\n",
    "\tzone::FailureZone = FailureZone(7, 3, 1)\n",
    "\tmetrics::Metrics = Metrics()\n",
    "    env::AdaStress.Environment = AdaStress.Environment()\n",
    "    log::Log = Log()\n",
    "    logging::Bool = false\n",
    "    rand_time::Bool = true\n",
    "end\n",
    "\n",
    "function initialize(sim::Simulator)\n",
    "\tsim.t = sim.rand_time ? rand() * sim.t_max : 0.0\n",
    "\tinitialize(sim.pawn, sim.init)\n",
    "\tinitialize(sim.metrics, sim.pawn, sim.zone)\n",
    "    sim.env[:Δx] = sim.disturbance.x\n",
    "    sim.env[:Δy] = sim.disturbance.y\n",
    "    initialize(sim.log, sim)\n",
    "    return\n",
    "end\n",
    "\n",
    "function update(sim::Simulator, value::AdaStress.EnvironmentValue)\n",
    "\tsim.t += 1.0\n",
    "\tupdate(sim.pawn, value[:Δx], value[:Δy])\n",
    "\tupdate(sim.metrics, sim.pawn, sim.zone)\n",
    "\tupdate(sim.log, sim)\n",
    "\treturn\n",
    "end"
   ]
  },
  {
   "cell_type": "markdown",
   "id": "indie-pacific",
   "metadata": {},
   "source": [
    "## Logging"
   ]
  },
  {
   "cell_type": "code",
   "execution_count": null,
   "id": "compact-pursuit",
   "metadata": {},
   "outputs": [],
   "source": [
    "function initialize(log::Log, sim::Simulator)\n",
    "    sim.logging || return\n",
    "    log[\"t\"] = [sim.t]\n",
    "    log[\"pawn\"] = [vec(sim.pawn)]\n",
    "    log[\"d\"] = [sim.metrics.d]\n",
    "    log[\"in_zone\"] = [sim.metrics.in_zone]\n",
    "end\n",
    "\n",
    "function update(log::Log, sim::Simulator)\n",
    "    sim.logging || return\n",
    "    push!(log[\"t\"], sim.t)\n",
    "    push!(log[\"pawn\"], vec(sim.pawn))\n",
    "    push!(log[\"d\"], sim.metrics.d)\n",
    "    push!(log[\"in_zone\"], sim.metrics.in_zone)\n",
    "end\n",
    "\n",
    "save(log::Log, filename::String) = BSON.@save filename * \".bson\" log"
   ]
  },
  {
   "cell_type": "markdown",
   "id": "circular-channel",
   "metadata": {},
   "source": [
    "## Interface setup"
   ]
  },
  {
   "cell_type": "code",
   "execution_count": null,
   "id": "classical-price",
   "metadata": {},
   "outputs": [],
   "source": [
    "Interface.reset!(sim::Simulator) = initialize(sim)\n",
    "\n",
    "Interface.environment(sim::Simulator) = sim.env\n",
    "\n",
    "Interface.observe(sim::Simulator) = vcat(observation(sim.pawn), sim.t / sim.t_max)\n",
    "\n",
    "Interface.step!(sim::Simulator, x::AdaStress.EnvironmentValue) = update(sim, x)\n",
    "\n",
    "Interface.isterminal(sim::Simulator) = sim.t >= sim.t_max\n",
    "\n",
    "Interface.isevent(sim::Simulator) = sim.metrics.in_zone\n",
    "\n",
    "Interface.distance(sim::Simulator) = sim.metrics.d"
   ]
  },
  {
   "cell_type": "markdown",
   "id": "danish-infrared",
   "metadata": {},
   "source": [
    "## Solver"
   ]
  },
  {
   "cell_type": "code",
   "execution_count": null,
   "id": "going-paint",
   "metadata": {},
   "outputs": [],
   "source": [
    "using AdaStress.SoftActorCritic"
   ]
  },
  {
   "cell_type": "code",
   "execution_count": null,
   "id": "three-fashion",
   "metadata": {},
   "outputs": [],
   "source": [
    "mdp_env(; kwargs...) = Interface.ASTMDP(Simulator(; kwargs...); reward_bonus=100.0)"
   ]
  },
  {
   "cell_type": "code",
   "execution_count": null,
   "id": "opened-chrome",
   "metadata": {},
   "outputs": [],
   "source": [
    "Random.seed!(0)\n",
    "sac = SAC(;\n",
    "    env_fn=() -> mdp_env(),\n",
    "    obs_dim=3, \n",
    "    act_dim=2,\n",
    "    gamma=1.0,\n",
    "    act_mins=-3.0*ones(2),\n",
    "    act_maxs=3.0*ones(2),\n",
    "    hidden_sizes=[30,30,30],\n",
    "    num_q=3,\n",
    "    max_buffer_size=1000000,\n",
    "    batch_size=1024,\n",
    "    epochs=11, # low value for testing only; set to >25 to see learning\n",
    "    steps_per_epoch=1000,\n",
    "    start_steps=10000,\n",
    "    max_ep_len=50,\n",
    "    update_after=10000,\n",
    "    update_every=1000,\n",
    "    num_test_episodes=100,\n",
    "    displays=[(:fails, mdp -> mdp.sim.metrics.in_zone)],\n",
    ")\n",
    "\n",
    "SoftActorCritic.ProgressMeter.ijulia_behavior(:clear)\n",
    "ac, info = SoftActorCritic.solve(sac);"
   ]
  },
  {
   "cell_type": "markdown",
   "id": "swiss-furniture",
   "metadata": {},
   "source": [
    "## Analysis"
   ]
  },
  {
   "cell_type": "code",
   "execution_count": null,
   "id": "judicial-balloon",
   "metadata": {},
   "outputs": [],
   "source": [
    "using AdaStress.PolicyValueVerification"
   ]
  },
  {
   "cell_type": "code",
   "execution_count": null,
   "id": "jewish-electricity",
   "metadata": {},
   "outputs": [],
   "source": [
    "network = mean_network(ac; act_mins=-3*ones(2), act_maxs=3*ones(2))"
   ]
  },
  {
   "cell_type": "code",
   "execution_count": null,
   "id": "wound-smart",
   "metadata": {},
   "outputs": [],
   "source": [
    "cs = CrossSection([:x1, :x2, 0.9])\n",
    "limits = ([0.0, 0.0], [1.0, 1.0])\n",
    "p = PolicyValueVerification.visualize(network, cs, limits)"
   ]
  },
  {
   "cell_type": "code",
   "execution_count": null,
   "id": "separate-directive",
   "metadata": {},
   "outputs": [],
   "source": [
    "nnet = cross_section(network, cs, limits)\n",
    "midpoint_value = AdaStress.Analysis.PolicyValueVerification.compute_output(nnet, mean(limits))[]"
   ]
  },
  {
   "cell_type": "code",
   "execution_count": null,
   "id": "difficult-trail",
   "metadata": {},
   "outputs": [],
   "source": [
    "r = BinaryRefinery(network=nnet, val=midpoint_value, tol=0.01)\n",
    "root = get_root(limits)\n",
    "@time refine!(root, r)"
   ]
  },
  {
   "cell_type": "code",
   "execution_count": null,
   "id": "grateful-psychiatry",
   "metadata": {},
   "outputs": [],
   "source": [
    "@show num_leaves(root)\n",
    "@show coverage(root)\n",
    "@show coverage(root, true)\n",
    "@show coverage(root, false)"
   ]
  },
  {
   "cell_type": "code",
   "execution_count": null,
   "id": "referenced-poland",
   "metadata": {},
   "outputs": [],
   "source": [
    "visualize!(deepcopy(p), root)"
   ]
  },
  {
   "cell_type": "code",
   "execution_count": null,
   "id": "initial-coating",
   "metadata": {},
   "outputs": [],
   "source": [
    "visualize!(deepcopy(p), root; fill=true)"
   ]
  },
  {
   "cell_type": "code",
   "execution_count": null,
   "id": "worth-announcement",
   "metadata": {},
   "outputs": [],
   "source": [
    "true"
   ]
  }
 ],
 "metadata": {
  "kernelspec": {
   "display_name": "Julia 1.6.0",
   "language": "julia",
   "name": "julia-1.6"
  },
  "language_info": {
   "file_extension": ".jl",
   "mimetype": "application/julia",
   "name": "julia",
   "version": "1.6.0"
  }
 },
 "nbformat": 4,
 "nbformat_minor": 5
}
