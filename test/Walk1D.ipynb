{
 "cells": [
  {
   "cell_type": "code",
   "execution_count": null,
   "id": "instrumental-tomorrow",
   "metadata": {},
   "outputs": [],
   "source": [
    "using AdaStress\n",
    "import AdaStress.BlackBox"
   ]
  },
  {
   "cell_type": "markdown",
   "id": "fifty-queen",
   "metadata": {},
   "source": [
    "## Simulation"
   ]
  },
  {
   "cell_type": "code",
   "execution_count": null,
   "id": "found-generic",
   "metadata": {},
   "outputs": [],
   "source": [
    "using Distributions"
   ]
  },
  {
   "cell_type": "code",
   "execution_count": null,
   "id": "architectural-distance",
   "metadata": {},
   "outputs": [],
   "source": [
    "Base.@kwdef mutable struct Walk1D <: AdaStress.BlackBox\n",
    "    t::Float64=0.0\n",
    "    t_max::Float64=10.0\n",
    "    x::Float64=0.0\n",
    "    x_fail::Float64=10.0\n",
    "    dist::Normal=Normal(0.0, 1.0)\n",
    "end\n",
    "\n",
    "function initialize!(sim::Walk1D)\n",
    "    sim.t = 0.0\n",
    "    sim.x = 0.0\n",
    "end\n",
    "\n",
    "function update!(sim::Walk1D)\n",
    "    sim.t += 1.0\n",
    "    a = rand(sim.dist)\n",
    "    sim.x += a\n",
    "    return logpdf(sim.dist, a) - logpdf(sim.dist, 0.0)\n",
    "end"
   ]
  },
  {
   "cell_type": "code",
   "execution_count": null,
   "id": "demonstrated-commerce",
   "metadata": {},
   "outputs": [],
   "source": [
    "AdaStress.reset!(sim::Walk1D) = initialize!(sim)\n",
    "AdaStress.step!(sim::Walk1D) = update!(sim)\n",
    "AdaStress.isterminal(sim::Walk1D) = sim.t >= sim.t_max\n",
    "AdaStress.isevent(sim::Walk1D) = sim.x >= sim.x_fail\n",
    "AdaStress.distance(sim::Walk1D) = max(sim.x_fail - sim.x, 0.0)"
   ]
  },
  {
   "cell_type": "markdown",
   "id": "dominican-halifax",
   "metadata": {},
   "source": [
    "## Solver"
   ]
  },
  {
   "cell_type": "code",
   "execution_count": null,
   "id": "amended-pencil",
   "metadata": {},
   "outputs": [],
   "source": [
    "mcs = AdaStress.Solvers.MCS(num_steps=100_000)"
   ]
  },
  {
   "cell_type": "code",
   "execution_count": null,
   "id": "unlikely-thinking",
   "metadata": {},
   "outputs": [],
   "source": [
    "mdp = AdaStress.ASTMDP(Walk1D(); reward_bonus=100.0)"
   ]
  },
  {
   "cell_type": "markdown",
   "id": "express-shoot",
   "metadata": {},
   "source": [
    "## Replay"
   ]
  },
  {
   "cell_type": "code",
   "execution_count": null,
   "id": "editorial-broadway",
   "metadata": {},
   "outputs": [],
   "source": [
    "using Random"
   ]
  },
  {
   "cell_type": "code",
   "execution_count": null,
   "id": "appreciated-ceiling",
   "metadata": {
    "scrolled": true
   },
   "outputs": [],
   "source": [
    "Random.seed!(0)\n",
    "sol = mcs(() -> mdp)"
   ]
  },
  {
   "cell_type": "code",
   "execution_count": null,
   "id": "retained-douglas",
   "metadata": {},
   "outputs": [],
   "source": [
    "AdaStress.reset!(mdp.sim)\n",
    "for seed in collect(keys(sol))[end]\n",
    "    AdaStress.@fix seed AdaStress.step!(mdp.sim)\n",
    "end"
   ]
  },
  {
   "cell_type": "code",
   "execution_count": null,
   "id": "ruled-hunter",
   "metadata": {},
   "outputs": [],
   "source": [
    "mdp.sim"
   ]
  },
  {
   "cell_type": "code",
   "execution_count": null,
   "id": "written-challenge",
   "metadata": {},
   "outputs": [],
   "source": [
    "true"
   ]
  }
 ],
 "metadata": {
  "kernelspec": {
   "display_name": "Julia 1.6.0",
   "language": "julia",
   "name": "julia-1.6"
  },
  "language_info": {
   "file_extension": ".jl",
   "mimetype": "application/julia",
   "name": "julia",
   "version": "1.6.0"
  }
 },
 "nbformat": 4,
 "nbformat_minor": 5
}
