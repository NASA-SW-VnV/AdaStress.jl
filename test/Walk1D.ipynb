{
 "cells": [
  {
   "cell_type": "code",
   "execution_count": 1,
   "id": "instrumental-tomorrow",
   "metadata": {},
   "outputs": [
    {
     "name": "stderr",
     "output_type": "stream",
     "text": [
      "┌ Info: Precompiling AdaStress [f8632b6a-8763-4da0-bfaf-5f7707adef25]\n",
      "└ @ Base loading.jl:1317\n"
     ]
    }
   ],
   "source": [
    "using AdaStress\n",
    "import AdaStress.BlackBox"
   ]
  },
  {
   "cell_type": "markdown",
   "id": "fifty-queen",
   "metadata": {},
   "source": [
    "## Simulation"
   ]
  },
  {
   "cell_type": "code",
   "execution_count": 2,
   "id": "found-generic",
   "metadata": {},
   "outputs": [],
   "source": [
    "using Distributions"
   ]
  },
  {
   "cell_type": "code",
   "execution_count": 3,
   "id": "architectural-distance",
   "metadata": {},
   "outputs": [
    {
     "data": {
      "text/plain": [
       "update! (generic function with 1 method)"
      ]
     },
     "execution_count": 3,
     "metadata": {},
     "output_type": "execute_result"
    }
   ],
   "source": [
    "Base.@kwdef mutable struct Walk1D <: AdaStress.BlackBox\n",
    "    t::Float64=0.0\n",
    "    t_max::Float64=10.0\n",
    "    x::Float64=0.0\n",
    "    x_fail::Float64=10.0\n",
    "    dist::Normal=Normal(0.0, 1.0)\n",
    "end\n",
    "\n",
    "function initialize!(sim::Walk1D)\n",
    "    sim.t = 0.0\n",
    "    sim.x = 0.0\n",
    "end\n",
    "\n",
    "function update!(sim::Walk1D)\n",
    "    sim.t += 1.0\n",
    "    a = rand(sim.dist)\n",
    "    sim.x += a\n",
    "    return logpdf(sim.dist, a) - logpdf(sim.dist, 0.0)\n",
    "end"
   ]
  },
  {
   "cell_type": "code",
   "execution_count": 4,
   "id": "demonstrated-commerce",
   "metadata": {},
   "outputs": [],
   "source": [
    "AdaStress.reset!(sim::Walk1D) = initialize!(sim)\n",
    "AdaStress.step!(sim::Walk1D) = update!(sim)\n",
    "AdaStress.isterminal(sim::Walk1D) = sim.t >= sim.t_max\n",
    "AdaStress.isevent(sim::Walk1D) = sim.x >= sim.x_fail\n",
    "AdaStress.distance(sim::Walk1D) = max(sim.x_fail - sim.x, 0.0)"
   ]
  },
  {
   "cell_type": "markdown",
   "id": "dominican-halifax",
   "metadata": {},
   "source": [
    "## Solver"
   ]
  },
  {
   "cell_type": "code",
   "execution_count": 5,
   "id": "amended-pencil",
   "metadata": {},
   "outputs": [
    {
     "data": {
      "text/plain": [
       "AdaStress.Solvers.MonteCarloSearch.MCS(100000, 10)"
      ]
     },
     "execution_count": 5,
     "metadata": {},
     "output_type": "execute_result"
    }
   ],
   "source": [
    "mcs = AdaStress.Solvers.MCS(num_steps=100_000)"
   ]
  },
  {
   "cell_type": "code",
   "execution_count": 6,
   "id": "unlikely-thinking",
   "metadata": {
    "scrolled": true
   },
   "outputs": [
    {
     "data": {
      "text/plain": [
       "100.0"
      ]
     },
     "execution_count": 6,
     "metadata": {},
     "output_type": "execute_result"
    }
   ],
   "source": [
    "mdp = AdaStress.ASTMDP(Walk1D())\n",
    "mdp.reward.event_bonus = 100.0"
   ]
  },
  {
   "cell_type": "markdown",
   "id": "express-shoot",
   "metadata": {},
   "source": [
    "## Replay"
   ]
  },
  {
   "cell_type": "code",
   "execution_count": 7,
   "id": "editorial-broadway",
   "metadata": {},
   "outputs": [],
   "source": [
    "using Random"
   ]
  },
  {
   "cell_type": "code",
   "execution_count": 8,
   "id": "appreciated-ceiling",
   "metadata": {
    "scrolled": true
   },
   "outputs": [
    {
     "name": "stderr",
     "output_type": "stream",
     "text": [
      "\u001b[32mProgress: 100%|█████████████████████████████████████████| Time: 0:00:01\u001b[39m\n"
     ]
    },
    {
     "data": {
      "text/plain": [
       "DataStructures.PriorityQueue{Any, Any, Base.Order.ForwardOrdering} with 10 entries:\n",
       "  UInt32[0xd8f490c5, 0xadadd09f, 0x915650eb, 0x89477a2d, 0xd7aa5f01,… => 3.82247\n",
       "  UInt32[0xc266b27f, 0xd90a54f4, 0x2147d790, 0xecf6ab21, 0x12836c2b,… => 4.00441\n",
       "  UInt32[0xf4f3e560, 0xf0c4e711, 0xaddae546, 0xd7c9cee2, 0xd11d3f31,… => 99.8553\n",
       "  UInt32[0x1537a859, 0xa698790b, 0xb4882912, 0xeaa1eb27, 0xcc73de6e,… => 100.94\n",
       "  UInt32[0x41774728, 0xcb252bc1, 0x5ae29330, 0x3b84c57e, 0xd563571d,… => 101.003\n",
       "  UInt32[0xeeea0e31, 0xcbbff7b8, 0x64079b5d, 0xe11a0405, 0xb149e5b4,… => 101.343\n",
       "  UInt32[0x7b83b232, 0x043d5ba0, 0xc9ec8f89, 0x2d5fe6a4, 0x874b8d46,… => 101.603\n",
       "  UInt32[0xad514d56, 0x45ee1802, 0xce6189c3, 0x44a59f45, 0x36e679e9,… => 101.787\n",
       "  UInt32[0x71952c2b, 0xefbb016c, 0x33766911, 0xa9f38c69, 0xb7548e27,… => 102.152\n",
       "  UInt32[0x97ce4d7d, 0x0c4bd4e9, 0x7f749b76, 0xc755abf3, 0xb43cd020,… => 102.525"
      ]
     },
     "execution_count": 8,
     "metadata": {},
     "output_type": "execute_result"
    }
   ],
   "source": [
    "Random.seed!(0)\n",
    "sol = mcs(() -> mdp)"
   ]
  },
  {
   "cell_type": "code",
   "execution_count": 9,
   "id": "retained-douglas",
   "metadata": {},
   "outputs": [],
   "source": [
    "best_path = collect(keys(sol))[end]\n",
    "AdaStress.reset!(mdp.sim)\n",
    "for seed in best_path\n",
    "    (mdp)(seed)\n",
    "end"
   ]
  },
  {
   "cell_type": "code",
   "execution_count": 10,
   "id": "ruled-hunter",
   "metadata": {},
   "outputs": [
    {
     "data": {
      "text/plain": [
       "Walk1D(10.0, 10.0, 10.259967025330106, 10.0, Normal{Float64}(μ=0.0, σ=1.0))"
      ]
     },
     "execution_count": 10,
     "metadata": {},
     "output_type": "execute_result"
    }
   ],
   "source": [
    "mdp.sim"
   ]
  },
  {
   "cell_type": "code",
   "execution_count": null,
   "id": "planned-amino",
   "metadata": {},
   "outputs": [],
   "source": []
  }
 ],
 "metadata": {
  "kernelspec": {
   "display_name": "Julia 1.6.0",
   "language": "julia",
   "name": "julia-1.6"
  },
  "language_info": {
   "file_extension": ".jl",
   "mimetype": "application/julia",
   "name": "julia",
   "version": "1.6.0"
  }
 },
 "nbformat": 4,
 "nbformat_minor": 5
}
