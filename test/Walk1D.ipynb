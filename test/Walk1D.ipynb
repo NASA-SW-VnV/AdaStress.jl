{
 "cells": [
  {
   "cell_type": "code",
   "execution_count": 1,
   "id": "documentary-divide",
   "metadata": {},
   "outputs": [
    {
     "name": "stderr",
     "output_type": "stream",
     "text": [
      "┌ Warning: no Manifest.toml file found, static paths used\n",
      "└ @ Revise C:\\Users\\rlipkis\\.julia\\packages\\Revise\\9lZUE\\src\\packagedef.jl:1369\n"
     ]
    }
   ],
   "source": [
    "using Revise"
   ]
  },
  {
   "cell_type": "code",
   "execution_count": 2,
   "id": "instrumental-tomorrow",
   "metadata": {},
   "outputs": [
    {
     "name": "stderr",
     "output_type": "stream",
     "text": [
      "┌ Info: Precompiling AdaStress [f8632b6a-8763-4da0-bfaf-5f7707adef25]\n",
      "└ @ Base loading.jl:1317\n"
     ]
    }
   ],
   "source": [
    "using AdaStress\n",
    "import AdaStress.BlackBox\n",
    "using CommonRLInterface\n",
    "using Plots"
   ]
  },
  {
   "cell_type": "markdown",
   "id": "fifty-queen",
   "metadata": {},
   "source": [
    "## Simulation"
   ]
  },
  {
   "cell_type": "code",
   "execution_count": 3,
   "id": "found-generic",
   "metadata": {},
   "outputs": [],
   "source": [
    "using Distributions\n",
    "using Random"
   ]
  },
  {
   "cell_type": "code",
   "execution_count": 4,
   "id": "architectural-distance",
   "metadata": {},
   "outputs": [
    {
     "data": {
      "text/plain": [
       "update! (generic function with 1 method)"
      ]
     },
     "execution_count": 4,
     "metadata": {},
     "output_type": "execute_result"
    }
   ],
   "source": [
    "Base.@kwdef mutable struct Walk1D <: AdaStress.BlackBox\n",
    "    t::Float64=0.0\n",
    "    t_max::Float64=10.0\n",
    "    x::Float64=0.0\n",
    "    x_fail::Float64=10.0\n",
    "    dist::Normal=Normal(0.0, 1.0)\n",
    "end\n",
    "\n",
    "function initialize!(sim::Walk1D)\n",
    "    sim.t = 0.0\n",
    "    sim.x = 0.0\n",
    "end\n",
    "\n",
    "function update!(sim::Walk1D)\n",
    "    sim.t += 1.0\n",
    "    a = rand(sim.dist)\n",
    "    sim.x += a\n",
    "    return logpdf(sim.dist, a) - logpdf(sim.dist, 0.0)\n",
    "end"
   ]
  },
  {
   "cell_type": "code",
   "execution_count": 5,
   "id": "demonstrated-commerce",
   "metadata": {},
   "outputs": [],
   "source": [
    "AdaStress.reset!(sim::Walk1D) = initialize!(sim)\n",
    "AdaStress.step!(sim::Walk1D) = update!(sim)\n",
    "AdaStress.isterminal(sim::Walk1D) = sim.t >= sim.t_max\n",
    "AdaStress.isevent(sim::Walk1D) = sim.x >= sim.x_fail\n",
    "AdaStress.distance(sim::Walk1D) = max(sim.x_fail - sim.x, 0.0)"
   ]
  },
  {
   "cell_type": "markdown",
   "id": "dominican-halifax",
   "metadata": {},
   "source": [
    "## MCS"
   ]
  },
  {
   "cell_type": "code",
   "execution_count": 6,
   "id": "amended-pencil",
   "metadata": {},
   "outputs": [
    {
     "data": {
      "text/plain": [
       "AdaStress.Solvers.MonteCarloSearch.MCS(10000, 10)"
      ]
     },
     "execution_count": 6,
     "metadata": {},
     "output_type": "execute_result"
    }
   ],
   "source": [
    "mcs = AdaStress.Solvers.MCS(num_steps=10_000)"
   ]
  },
  {
   "cell_type": "code",
   "execution_count": 7,
   "id": "unlikely-thinking",
   "metadata": {
    "scrolled": true
   },
   "outputs": [
    {
     "data": {
      "text/plain": [
       "100.0"
      ]
     },
     "execution_count": 7,
     "metadata": {},
     "output_type": "execute_result"
    }
   ],
   "source": [
    "mdp = AdaStress.ASTMDP(Walk1D())\n",
    "mdp.reward.event_bonus = 100.0"
   ]
  },
  {
   "cell_type": "code",
   "execution_count": 8,
   "id": "insured-gossip",
   "metadata": {},
   "outputs": [
    {
     "name": "stderr",
     "output_type": "stream",
     "text": [
      "\u001b[32mProgress: 100%|█████████████████████████████████████████| Time: 0:00:00\u001b[39m\n"
     ]
    },
    {
     "data": {
      "text/plain": [
       "DataStructures.PriorityQueue{Any, Any, Base.Order.ForwardOrdering} with 10 entries:\n",
       "  UInt32[0xc0ee978b, 0x36ee44f6, 0xcee6e01c, 0xe6ba370e, 0xb0aa5fe3,… => 2.57388\n",
       "  UInt32[0x83180c7a, 0x1a6c4ece, 0xae0eb1ad, 0xb51faf72, 0x66b86c76,… => 2.58675\n",
       "  UInt32[0xfa6244f0, 0x63124ef1, 0x1a3f3b57, 0xa9192e7f, 0x21d8ff43,… => 2.60834\n",
       "  UInt32[0x5c6391b1, 0x1c787839, 0x16eeba79, 0xb31d3074, 0xdbfd2a09,… => 2.64083\n",
       "  UInt32[0x0a5788b7, 0x2bb518e7, 0x390bc9f6, 0xfc2fd433, 0x4a3cf06e,… => 2.66613\n",
       "  UInt32[0xc9984325, 0x0a3ce1b8, 0xb490de9d, 0x6d3078a6, 0xa0c84525,… => 2.76545\n",
       "  UInt32[0x73cc7933, 0x9558ffa6, 0x0addd70e, 0x1bcf4502, 0x212d6e7e,… => 2.83554\n",
       "  UInt32[0x488430e8, 0x76474d30, 0x725f135d, 0x2c6a13a3, 0x91f4beb6,… => 3.6527\n",
       "  UInt32[0xd8f490c5, 0xadadd09f, 0x915650eb, 0x89477a2d, 0xd7aa5f01,… => 3.82247\n",
       "  UInt32[0xb4882912, 0xeaa1eb27, 0xcc73de6e, 0x0365fc77, 0xff48ed4c,… => 101.026"
      ]
     },
     "execution_count": 8,
     "metadata": {},
     "output_type": "execute_result"
    }
   ],
   "source": [
    "Random.seed!(0)\n",
    "sol = mcs(() -> mdp)"
   ]
  },
  {
   "cell_type": "code",
   "execution_count": 9,
   "id": "retained-douglas",
   "metadata": {
    "scrolled": false
   },
   "outputs": [
    {
     "data": {
      "image/svg+xml": [
       "<?xml version=\"1.0\" encoding=\"utf-8\"?>\n",
       "<svg xmlns=\"http://www.w3.org/2000/svg\" xmlns:xlink=\"http://www.w3.org/1999/xlink\" width=\"600\" height=\"400\" viewBox=\"0 0 2400 1600\">\n",
       "<defs>\n",
       "  <clipPath id=\"clip320\">\n",
       "    <rect x=\"0\" y=\"0\" width=\"2400\" height=\"1600\"/>\n",
       "  </clipPath>\n",
       "</defs>\n",
       "<path clip-path=\"url(#clip320)\" d=\"\n",
       "M0 1600 L2400 1600 L2400 0 L0 0  Z\n",
       "  \" fill=\"#ffffff\" fill-rule=\"evenodd\" fill-opacity=\"1\"/>\n",
       "<defs>\n",
       "  <clipPath id=\"clip321\">\n",
       "    <rect x=\"480\" y=\"0\" width=\"1681\" height=\"1600\"/>\n",
       "  </clipPath>\n",
       "</defs>\n",
       "<path clip-path=\"url(#clip320)\" d=\"\n",
       "M184.191 1486.45 L2352.76 1486.45 L2352.76 47.2441 L184.191 47.2441  Z\n",
       "  \" fill=\"#ffffff\" fill-rule=\"evenodd\" fill-opacity=\"1\"/>\n",
       "<defs>\n",
       "  <clipPath id=\"clip322\">\n",
       "    <rect x=\"184\" y=\"47\" width=\"2170\" height=\"1440\"/>\n",
       "  </clipPath>\n",
       "</defs>\n",
       "<polyline clip-path=\"url(#clip322)\" style=\"stroke:#000000; stroke-linecap:butt; stroke-linejoin:round; stroke-width:2; stroke-opacity:0.1; fill:none\" points=\"\n",
       "  450.147,1486.45 450.147,47.2441 \n",
       "  \"/>\n",
       "<polyline clip-path=\"url(#clip322)\" style=\"stroke:#000000; stroke-linecap:butt; stroke-linejoin:round; stroke-width:2; stroke-opacity:0.1; fill:none\" points=\"\n",
       "  859.31,1486.45 859.31,47.2441 \n",
       "  \"/>\n",
       "<polyline clip-path=\"url(#clip322)\" style=\"stroke:#000000; stroke-linecap:butt; stroke-linejoin:round; stroke-width:2; stroke-opacity:0.1; fill:none\" points=\"\n",
       "  1268.47,1486.45 1268.47,47.2441 \n",
       "  \"/>\n",
       "<polyline clip-path=\"url(#clip322)\" style=\"stroke:#000000; stroke-linecap:butt; stroke-linejoin:round; stroke-width:2; stroke-opacity:0.1; fill:none\" points=\"\n",
       "  1677.64,1486.45 1677.64,47.2441 \n",
       "  \"/>\n",
       "<polyline clip-path=\"url(#clip322)\" style=\"stroke:#000000; stroke-linecap:butt; stroke-linejoin:round; stroke-width:2; stroke-opacity:0.1; fill:none\" points=\"\n",
       "  2086.8,1486.45 2086.8,47.2441 \n",
       "  \"/>\n",
       "<polyline clip-path=\"url(#clip320)\" style=\"stroke:#000000; stroke-linecap:butt; stroke-linejoin:round; stroke-width:4; stroke-opacity:1; fill:none\" points=\"\n",
       "  184.191,1486.45 2352.76,1486.45 \n",
       "  \"/>\n",
       "<polyline clip-path=\"url(#clip320)\" style=\"stroke:#000000; stroke-linecap:butt; stroke-linejoin:round; stroke-width:4; stroke-opacity:1; fill:none\" points=\"\n",
       "  450.147,1486.45 450.147,1469.18 \n",
       "  \"/>\n",
       "<polyline clip-path=\"url(#clip320)\" style=\"stroke:#000000; stroke-linecap:butt; stroke-linejoin:round; stroke-width:4; stroke-opacity:1; fill:none\" points=\"\n",
       "  859.31,1486.45 859.31,1469.18 \n",
       "  \"/>\n",
       "<polyline clip-path=\"url(#clip320)\" style=\"stroke:#000000; stroke-linecap:butt; stroke-linejoin:round; stroke-width:4; stroke-opacity:1; fill:none\" points=\"\n",
       "  1268.47,1486.45 1268.47,1469.18 \n",
       "  \"/>\n",
       "<polyline clip-path=\"url(#clip320)\" style=\"stroke:#000000; stroke-linecap:butt; stroke-linejoin:round; stroke-width:4; stroke-opacity:1; fill:none\" points=\"\n",
       "  1677.64,1486.45 1677.64,1469.18 \n",
       "  \"/>\n",
       "<polyline clip-path=\"url(#clip320)\" style=\"stroke:#000000; stroke-linecap:butt; stroke-linejoin:round; stroke-width:4; stroke-opacity:1; fill:none\" points=\"\n",
       "  2086.8,1486.45 2086.8,1469.18 \n",
       "  \"/>\n",
       "<path clip-path=\"url(#clip320)\" d=\"M444.8 1543.18 L461.119 1543.18 L461.119 1547.12 L439.175 1547.12 L439.175 1543.18 Q441.837 1540.43 446.42 1535.8 Q451.026 1531.15 452.207 1529.81 Q454.452 1527.28 455.332 1525.55 Q456.235 1523.79 456.235 1522.1 Q456.235 1519.34 454.29 1517.61 Q452.369 1515.87 449.267 1515.87 Q447.068 1515.87 444.614 1516.63 Q442.184 1517.4 439.406 1518.95 L439.406 1514.23 Q442.23 1513.09 444.684 1512.51 Q447.138 1511.93 449.175 1511.93 Q454.545 1511.93 457.739 1514.62 Q460.934 1517.31 460.934 1521.8 Q460.934 1523.93 460.124 1525.85 Q459.337 1527.74 457.23 1530.34 Q456.651 1531.01 453.55 1534.23 Q450.448 1537.42 444.8 1543.18 Z\" fill=\"#000000\" fill-rule=\"evenodd\" fill-opacity=\"1\" /><path clip-path=\"url(#clip320)\" d=\"M862.319 1516.63 L850.514 1535.08 L862.319 1535.08 L862.319 1516.63 M861.092 1512.56 L866.972 1512.56 L866.972 1535.08 L871.903 1535.08 L871.903 1538.97 L866.972 1538.97 L866.972 1547.12 L862.319 1547.12 L862.319 1538.97 L846.718 1538.97 L846.718 1534.46 L861.092 1512.56 Z\" fill=\"#000000\" fill-rule=\"evenodd\" fill-opacity=\"1\" /><path clip-path=\"url(#clip320)\" d=\"M1268.88 1527.98 Q1265.73 1527.98 1263.88 1530.13 Q1262.05 1532.28 1262.05 1536.03 Q1262.05 1539.76 1263.88 1541.93 Q1265.73 1544.09 1268.88 1544.09 Q1272.03 1544.09 1273.86 1541.93 Q1275.71 1539.76 1275.71 1536.03 Q1275.71 1532.28 1273.86 1530.13 Q1272.03 1527.98 1268.88 1527.98 M1278.16 1513.32 L1278.16 1517.58 Q1276.4 1516.75 1274.6 1516.31 Q1272.81 1515.87 1271.05 1515.87 Q1266.42 1515.87 1263.97 1519 Q1261.54 1522.12 1261.19 1528.44 Q1262.56 1526.43 1264.62 1525.36 Q1266.68 1524.27 1269.16 1524.27 Q1274.36 1524.27 1277.37 1527.44 Q1280.41 1530.59 1280.41 1536.03 Q1280.41 1541.36 1277.26 1544.57 Q1274.11 1547.79 1268.88 1547.79 Q1262.88 1547.79 1259.71 1543.21 Q1256.54 1538.6 1256.54 1529.87 Q1256.54 1521.68 1260.43 1516.82 Q1264.32 1511.93 1270.87 1511.93 Q1272.63 1511.93 1274.41 1512.28 Q1276.22 1512.63 1278.16 1513.32 Z\" fill=\"#000000\" fill-rule=\"evenodd\" fill-opacity=\"1\" /><path clip-path=\"url(#clip320)\" d=\"M1677.64 1530.71 Q1674.3 1530.71 1672.38 1532.49 Q1670.48 1534.27 1670.48 1537.4 Q1670.48 1540.52 1672.38 1542.31 Q1674.3 1544.09 1677.64 1544.09 Q1680.97 1544.09 1682.89 1542.31 Q1684.81 1540.5 1684.81 1537.4 Q1684.81 1534.27 1682.89 1532.49 Q1680.99 1530.71 1677.64 1530.71 M1672.96 1528.72 Q1669.95 1527.98 1668.26 1525.92 Q1666.59 1523.86 1666.59 1520.89 Q1666.59 1516.75 1669.53 1514.34 Q1672.5 1511.93 1677.64 1511.93 Q1682.8 1511.93 1685.74 1514.34 Q1688.68 1516.75 1688.68 1520.89 Q1688.68 1523.86 1686.99 1525.92 Q1685.32 1527.98 1682.34 1528.72 Q1685.72 1529.5 1687.59 1531.8 Q1689.49 1534.09 1689.49 1537.4 Q1689.49 1542.42 1686.41 1545.11 Q1683.35 1547.79 1677.64 1547.79 Q1671.92 1547.79 1668.84 1545.11 Q1665.78 1542.42 1665.78 1537.4 Q1665.78 1534.09 1667.68 1531.8 Q1669.58 1529.5 1672.96 1528.72 M1671.25 1521.33 Q1671.25 1524.02 1672.91 1525.52 Q1674.6 1527.03 1677.64 1527.03 Q1680.65 1527.03 1682.34 1525.52 Q1684.05 1524.02 1684.05 1521.33 Q1684.05 1518.65 1682.34 1517.14 Q1680.65 1515.64 1677.64 1515.64 Q1674.6 1515.64 1672.91 1517.14 Q1671.25 1518.65 1671.25 1521.33 Z\" fill=\"#000000\" fill-rule=\"evenodd\" fill-opacity=\"1\" /><path clip-path=\"url(#clip320)\" d=\"M2061.49 1543.18 L2069.13 1543.18 L2069.13 1516.82 L2060.82 1518.49 L2060.82 1514.23 L2069.08 1512.56 L2073.76 1512.56 L2073.76 1543.18 L2081.39 1543.18 L2081.39 1547.12 L2061.49 1547.12 L2061.49 1543.18 Z\" fill=\"#000000\" fill-rule=\"evenodd\" fill-opacity=\"1\" /><path clip-path=\"url(#clip320)\" d=\"M2100.84 1515.64 Q2097.23 1515.64 2095.4 1519.2 Q2093.59 1522.75 2093.59 1529.87 Q2093.59 1536.98 2095.4 1540.55 Q2097.23 1544.09 2100.84 1544.09 Q2104.47 1544.09 2106.28 1540.55 Q2108.11 1536.98 2108.11 1529.87 Q2108.11 1522.75 2106.28 1519.2 Q2104.47 1515.64 2100.84 1515.64 M2100.84 1511.93 Q2106.65 1511.93 2109.7 1516.54 Q2112.78 1521.12 2112.78 1529.87 Q2112.78 1538.6 2109.7 1543.21 Q2106.65 1547.79 2100.84 1547.79 Q2095.03 1547.79 2091.95 1543.21 Q2088.89 1538.6 2088.89 1529.87 Q2088.89 1521.12 2091.95 1516.54 Q2095.03 1511.93 2100.84 1511.93 Z\" fill=\"#000000\" fill-rule=\"evenodd\" fill-opacity=\"1\" /><polyline clip-path=\"url(#clip322)\" style=\"stroke:#000000; stroke-linecap:butt; stroke-linejoin:round; stroke-width:2; stroke-opacity:0.1; fill:none\" points=\"\n",
       "  184.191,1430.09 2352.76,1430.09 \n",
       "  \"/>\n",
       "<polyline clip-path=\"url(#clip322)\" style=\"stroke:#000000; stroke-linecap:butt; stroke-linejoin:round; stroke-width:2; stroke-opacity:0.1; fill:none\" points=\"\n",
       "  184.191,1112.85 2352.76,1112.85 \n",
       "  \"/>\n",
       "<polyline clip-path=\"url(#clip322)\" style=\"stroke:#000000; stroke-linecap:butt; stroke-linejoin:round; stroke-width:2; stroke-opacity:0.1; fill:none\" points=\"\n",
       "  184.191,795.611 2352.76,795.611 \n",
       "  \"/>\n",
       "<polyline clip-path=\"url(#clip322)\" style=\"stroke:#000000; stroke-linecap:butt; stroke-linejoin:round; stroke-width:2; stroke-opacity:0.1; fill:none\" points=\"\n",
       "  184.191,478.369 2352.76,478.369 \n",
       "  \"/>\n",
       "<polyline clip-path=\"url(#clip322)\" style=\"stroke:#000000; stroke-linecap:butt; stroke-linejoin:round; stroke-width:2; stroke-opacity:0.1; fill:none\" points=\"\n",
       "  184.191,161.127 2352.76,161.127 \n",
       "  \"/>\n",
       "<polyline clip-path=\"url(#clip320)\" style=\"stroke:#000000; stroke-linecap:butt; stroke-linejoin:round; stroke-width:4; stroke-opacity:1; fill:none\" points=\"\n",
       "  184.191,1486.45 184.191,47.2441 \n",
       "  \"/>\n",
       "<polyline clip-path=\"url(#clip320)\" style=\"stroke:#000000; stroke-linecap:butt; stroke-linejoin:round; stroke-width:4; stroke-opacity:1; fill:none\" points=\"\n",
       "  184.191,1430.09 210.213,1430.09 \n",
       "  \"/>\n",
       "<polyline clip-path=\"url(#clip320)\" style=\"stroke:#000000; stroke-linecap:butt; stroke-linejoin:round; stroke-width:4; stroke-opacity:1; fill:none\" points=\"\n",
       "  184.191,1112.85 210.213,1112.85 \n",
       "  \"/>\n",
       "<polyline clip-path=\"url(#clip320)\" style=\"stroke:#000000; stroke-linecap:butt; stroke-linejoin:round; stroke-width:4; stroke-opacity:1; fill:none\" points=\"\n",
       "  184.191,795.611 210.213,795.611 \n",
       "  \"/>\n",
       "<polyline clip-path=\"url(#clip320)\" style=\"stroke:#000000; stroke-linecap:butt; stroke-linejoin:round; stroke-width:4; stroke-opacity:1; fill:none\" points=\"\n",
       "  184.191,478.369 210.213,478.369 \n",
       "  \"/>\n",
       "<polyline clip-path=\"url(#clip320)\" style=\"stroke:#000000; stroke-linecap:butt; stroke-linejoin:round; stroke-width:4; stroke-opacity:1; fill:none\" points=\"\n",
       "  184.191,161.127 210.213,161.127 \n",
       "  \"/>\n",
       "<path clip-path=\"url(#clip320)\" d=\"M91.0151 1415.89 Q87.404 1415.89 85.5753 1419.46 Q83.7697 1423 83.7697 1430.13 Q83.7697 1437.24 85.5753 1440.8 Q87.404 1444.34 91.0151 1444.34 Q94.6493 1444.34 96.4548 1440.8 Q98.2835 1437.24 98.2835 1430.13 Q98.2835 1423 96.4548 1419.46 Q94.6493 1415.89 91.0151 1415.89 M91.0151 1412.19 Q96.8252 1412.19 99.8808 1416.8 Q102.959 1421.38 102.959 1430.13 Q102.959 1438.86 99.8808 1443.46 Q96.8252 1448.05 91.0151 1448.05 Q85.2049 1448.05 82.1262 1443.46 Q79.0707 1438.86 79.0707 1430.13 Q79.0707 1421.38 82.1262 1416.8 Q85.2049 1412.19 91.0151 1412.19 Z\" fill=\"#000000\" fill-rule=\"evenodd\" fill-opacity=\"1\" /><path clip-path=\"url(#clip320)\" d=\"M111.177 1441.49 L116.061 1441.49 L116.061 1447.37 L111.177 1447.37 L111.177 1441.49 Z\" fill=\"#000000\" fill-rule=\"evenodd\" fill-opacity=\"1\" /><path clip-path=\"url(#clip320)\" d=\"M136.246 1415.89 Q132.635 1415.89 130.807 1419.46 Q129.001 1423 129.001 1430.13 Q129.001 1437.24 130.807 1440.8 Q132.635 1444.34 136.246 1444.34 Q139.881 1444.34 141.686 1440.8 Q143.515 1437.24 143.515 1430.13 Q143.515 1423 141.686 1419.46 Q139.881 1415.89 136.246 1415.89 M136.246 1412.19 Q142.056 1412.19 145.112 1416.8 Q148.191 1421.38 148.191 1430.13 Q148.191 1438.86 145.112 1443.46 Q142.056 1448.05 136.246 1448.05 Q130.436 1448.05 127.357 1443.46 Q124.302 1438.86 124.302 1430.13 Q124.302 1421.38 127.357 1416.8 Q130.436 1412.19 136.246 1412.19 Z\" fill=\"#000000\" fill-rule=\"evenodd\" fill-opacity=\"1\" /><path clip-path=\"url(#clip320)\" d=\"M86.0382 1126.2 L102.358 1126.2 L102.358 1130.13 L80.4133 1130.13 L80.4133 1126.2 Q83.0753 1123.44 87.6586 1118.81 Q92.2651 1114.16 93.4456 1112.82 Q95.691 1110.29 96.5706 1108.56 Q97.4734 1106.8 97.4734 1105.11 Q97.4734 1102.35 95.5289 1100.62 Q93.6076 1098.88 90.5058 1098.88 Q88.3067 1098.88 85.8531 1099.65 Q83.4225 1100.41 80.6447 1101.96 L80.6447 1097.24 Q83.4688 1096.1 85.9225 1095.53 Q88.3762 1094.95 90.4132 1094.95 Q95.7836 1094.95 98.978 1097.63 Q102.172 1100.32 102.172 1104.81 Q102.172 1106.94 101.362 1108.86 Q100.575 1110.76 98.4687 1113.35 Q97.89 1114.02 94.7882 1117.24 Q91.6864 1120.43 86.0382 1126.2 Z\" fill=\"#000000\" fill-rule=\"evenodd\" fill-opacity=\"1\" /><path clip-path=\"url(#clip320)\" d=\"M112.172 1124.25 L117.057 1124.25 L117.057 1130.13 L112.172 1130.13 L112.172 1124.25 Z\" fill=\"#000000\" fill-rule=\"evenodd\" fill-opacity=\"1\" /><path clip-path=\"url(#clip320)\" d=\"M127.288 1095.57 L145.644 1095.57 L145.644 1099.51 L131.57 1099.51 L131.57 1107.98 Q132.589 1107.63 133.607 1107.47 Q134.626 1107.29 135.644 1107.29 Q141.431 1107.29 144.811 1110.46 Q148.191 1113.63 148.191 1119.04 Q148.191 1124.62 144.718 1127.73 Q141.246 1130.8 134.927 1130.8 Q132.751 1130.8 130.482 1130.43 Q128.237 1130.06 125.83 1129.32 L125.83 1124.62 Q127.913 1125.76 130.135 1126.31 Q132.357 1126.87 134.834 1126.87 Q138.839 1126.87 141.177 1124.76 Q143.515 1122.66 143.515 1119.04 Q143.515 1115.43 141.177 1113.33 Q138.839 1111.22 134.834 1111.22 Q132.959 1111.22 131.084 1111.64 Q129.232 1112.05 127.288 1112.93 L127.288 1095.57 Z\" fill=\"#000000\" fill-rule=\"evenodd\" fill-opacity=\"1\" /><path clip-path=\"url(#clip320)\" d=\"M81.0614 778.331 L99.4178 778.331 L99.4178 782.266 L85.3438 782.266 L85.3438 790.738 Q86.3623 790.391 87.3808 790.229 Q88.3993 790.044 89.4178 790.044 Q95.2049 790.044 98.5845 793.215 Q101.964 796.386 101.964 801.803 Q101.964 807.382 98.4919 810.483 Q95.0197 813.562 88.7003 813.562 Q86.5243 813.562 84.2558 813.192 Q82.0105 812.821 79.6031 812.081 L79.6031 807.382 Q81.6864 808.516 83.9086 809.071 Q86.1308 809.627 88.6077 809.627 Q92.6123 809.627 94.9502 807.52 Q97.2882 805.414 97.2882 801.803 Q97.2882 798.192 94.9502 796.085 Q92.6123 793.979 88.6077 793.979 Q86.7327 793.979 84.8577 794.395 Q83.0058 794.812 81.0614 795.692 L81.0614 778.331 Z\" fill=\"#000000\" fill-rule=\"evenodd\" fill-opacity=\"1\" /><path clip-path=\"url(#clip320)\" d=\"M111.177 807.011 L116.061 807.011 L116.061 812.891 L111.177 812.891 L111.177 807.011 Z\" fill=\"#000000\" fill-rule=\"evenodd\" fill-opacity=\"1\" /><path clip-path=\"url(#clip320)\" d=\"M136.246 781.409 Q132.635 781.409 130.807 784.974 Q129.001 788.516 129.001 795.645 Q129.001 802.752 130.807 806.317 Q132.635 809.858 136.246 809.858 Q139.881 809.858 141.686 806.317 Q143.515 802.752 143.515 795.645 Q143.515 788.516 141.686 784.974 Q139.881 781.409 136.246 781.409 M136.246 777.706 Q142.056 777.706 145.112 782.312 Q148.191 786.896 148.191 795.645 Q148.191 804.372 145.112 808.979 Q142.056 813.562 136.246 813.562 Q130.436 813.562 127.357 808.979 Q124.302 804.372 124.302 795.645 Q124.302 786.896 127.357 782.312 Q130.436 777.706 136.246 777.706 Z\" fill=\"#000000\" fill-rule=\"evenodd\" fill-opacity=\"1\" /><path clip-path=\"url(#clip320)\" d=\"M80.8299 461.089 L103.052 461.089 L103.052 463.08 L90.5058 495.649 L85.6216 495.649 L97.4271 465.024 L80.8299 465.024 L80.8299 461.089 Z\" fill=\"#000000\" fill-rule=\"evenodd\" fill-opacity=\"1\" /><path clip-path=\"url(#clip320)\" d=\"M112.172 489.769 L117.057 489.769 L117.057 495.649 L112.172 495.649 L112.172 489.769 Z\" fill=\"#000000\" fill-rule=\"evenodd\" fill-opacity=\"1\" /><path clip-path=\"url(#clip320)\" d=\"M127.288 461.089 L145.644 461.089 L145.644 465.024 L131.57 465.024 L131.57 473.496 Q132.589 473.149 133.607 472.987 Q134.626 472.802 135.644 472.802 Q141.431 472.802 144.811 475.973 Q148.191 479.144 148.191 484.561 Q148.191 490.14 144.718 493.242 Q141.246 496.32 134.927 496.32 Q132.751 496.32 130.482 495.95 Q128.237 495.579 125.83 494.839 L125.83 490.14 Q127.913 491.274 130.135 491.83 Q132.357 492.385 134.834 492.385 Q138.839 492.385 141.177 490.279 Q143.515 488.172 143.515 484.561 Q143.515 480.95 141.177 478.843 Q138.839 476.737 134.834 476.737 Q132.959 476.737 131.084 477.154 Q129.232 477.57 127.288 478.45 L127.288 461.089 Z\" fill=\"#000000\" fill-rule=\"evenodd\" fill-opacity=\"1\" /><path clip-path=\"url(#clip320)\" d=\"M51.6634 174.472 L59.3023 174.472 L59.3023 148.106 L50.9921 149.773 L50.9921 145.514 L59.256 143.847 L63.9319 143.847 L63.9319 174.472 L71.5707 174.472 L71.5707 178.407 L51.6634 178.407 L51.6634 174.472 Z\" fill=\"#000000\" fill-rule=\"evenodd\" fill-opacity=\"1\" /><path clip-path=\"url(#clip320)\" d=\"M91.0151 146.926 Q87.404 146.926 85.5753 150.491 Q83.7697 154.032 83.7697 161.162 Q83.7697 168.268 85.5753 171.833 Q87.404 175.375 91.0151 175.375 Q94.6493 175.375 96.4548 171.833 Q98.2835 168.268 98.2835 161.162 Q98.2835 154.032 96.4548 150.491 Q94.6493 146.926 91.0151 146.926 M91.0151 143.222 Q96.8252 143.222 99.8808 147.829 Q102.959 152.412 102.959 161.162 Q102.959 169.889 99.8808 174.495 Q96.8252 179.078 91.0151 179.078 Q85.2049 179.078 82.1262 174.495 Q79.0707 169.889 79.0707 161.162 Q79.0707 152.412 82.1262 147.829 Q85.2049 143.222 91.0151 143.222 Z\" fill=\"#000000\" fill-rule=\"evenodd\" fill-opacity=\"1\" /><path clip-path=\"url(#clip320)\" d=\"M111.177 172.528 L116.061 172.528 L116.061 178.407 L111.177 178.407 L111.177 172.528 Z\" fill=\"#000000\" fill-rule=\"evenodd\" fill-opacity=\"1\" /><path clip-path=\"url(#clip320)\" d=\"M136.246 146.926 Q132.635 146.926 130.807 150.491 Q129.001 154.032 129.001 161.162 Q129.001 168.268 130.807 171.833 Q132.635 175.375 136.246 175.375 Q139.881 175.375 141.686 171.833 Q143.515 168.268 143.515 161.162 Q143.515 154.032 141.686 150.491 Q139.881 146.926 136.246 146.926 M136.246 143.222 Q142.056 143.222 145.112 147.829 Q148.191 152.412 148.191 161.162 Q148.191 169.889 145.112 174.495 Q142.056 179.078 136.246 179.078 Q130.436 179.078 127.357 174.495 Q124.302 169.889 124.302 161.162 Q124.302 152.412 127.357 147.829 Q130.436 143.222 136.246 143.222 Z\" fill=\"#000000\" fill-rule=\"evenodd\" fill-opacity=\"1\" /><polyline clip-path=\"url(#clip322)\" style=\"stroke:#009af9; stroke-linecap:butt; stroke-linejoin:round; stroke-width:4; stroke-opacity:1; fill:none\" points=\"\n",
       "  245.565,1430.09 450.147,1180.61 654.728,1052.65 859.31,1023.14 1063.89,969.517 1268.47,897.733 1473.05,821.984 1677.64,763.467 1882.22,597.272 2086.8,408.779 \n",
       "  2291.38,462.396 \n",
       "  \"/>\n",
       "<polyline clip-path=\"url(#clip322)\" style=\"stroke:#e26f46; stroke-linecap:butt; stroke-linejoin:round; stroke-width:4; stroke-opacity:1; fill:none\" points=\"\n",
       "  245.565,1430.09 450.147,1262.44 654.728,1155.61 859.31,1084.79 1063.89,865.657 1268.47,672.423 1473.05,482.082 1677.64,385.019 1882.22,415 2086.8,460.167 \n",
       "  2291.38,311.557 \n",
       "  \"/>\n",
       "<polyline clip-path=\"url(#clip322)\" style=\"stroke:#3da44d; stroke-linecap:butt; stroke-linejoin:round; stroke-width:4; stroke-opacity:1; fill:none\" points=\"\n",
       "  245.565,1430.09 450.147,1237.48 654.728,1239.89 859.31,1217.55 1063.89,1130.86 1268.47,1050.18 1473.05,1104.52 1677.64,952.179 1882.22,820.552 2086.8,778.708 \n",
       "  2291.38,675.254 \n",
       "  \"/>\n",
       "<polyline clip-path=\"url(#clip322)\" style=\"stroke:#c271d2; stroke-linecap:butt; stroke-linejoin:round; stroke-width:4; stroke-opacity:1; fill:none\" points=\"\n",
       "  245.565,1430.09 450.147,1385.14 654.728,1256.36 859.31,1187 1063.89,1053.8 1268.47,1089.23 1473.05,942.202 1677.64,891.392 1882.22,853.245 2086.8,743.432 \n",
       "  2291.38,775.272 \n",
       "  \"/>\n",
       "<polyline clip-path=\"url(#clip322)\" style=\"stroke:#ac8d18; stroke-linecap:butt; stroke-linejoin:round; stroke-width:4; stroke-opacity:1; fill:none\" points=\"\n",
       "  245.565,1430.09 450.147,1374.39 654.728,1305.2 859.31,1248.98 1063.89,1109.24 1268.47,1073.18 1473.05,932.193 1677.64,774.46 1882.22,732.336 2086.8,758.117 \n",
       "  2291.38,483.89 \n",
       "  \"/>\n",
       "<polyline clip-path=\"url(#clip322)\" style=\"stroke:#00a9ad; stroke-linecap:butt; stroke-linejoin:round; stroke-width:4; stroke-opacity:1; fill:none\" points=\"\n",
       "  245.565,1430.09 450.147,1445.72 654.728,1426.02 859.31,1324.18 1063.89,1207.93 1268.47,1107.23 1473.05,1038.74 1677.64,802.222 1882.22,790.219 2086.8,731.447 \n",
       "  2291.38,678.479 \n",
       "  \"/>\n",
       "<polyline clip-path=\"url(#clip322)\" style=\"stroke:#ed5d92; stroke-linecap:butt; stroke-linejoin:round; stroke-width:4; stroke-opacity:1; fill:none\" points=\"\n",
       "  245.565,1430.09 450.147,1406.61 654.728,1247.85 859.31,982.367 1063.89,934.097 1268.47,867.123 1473.05,832.638 1677.64,626.881 1882.22,573.606 2086.8,517.887 \n",
       "  2291.38,452.418 \n",
       "  \"/>\n",
       "<polyline clip-path=\"url(#clip322)\" style=\"stroke:#c68125; stroke-linecap:butt; stroke-linejoin:round; stroke-width:4; stroke-opacity:1; fill:none\" points=\"\n",
       "  245.565,1430.09 450.147,1331.9 654.728,1196.43 859.31,1011.69 1063.89,857.239 1268.47,718.966 1473.05,727.665 1677.64,555.424 1882.22,421.752 2086.8,341.782 \n",
       "  2291.38,339.658 \n",
       "  \"/>\n",
       "<polyline clip-path=\"url(#clip322)\" style=\"stroke:#00a98d; stroke-linecap:butt; stroke-linejoin:round; stroke-width:4; stroke-opacity:1; fill:none\" points=\"\n",
       "  245.565,1430.09 450.147,1274.63 654.728,1108.08 859.31,988.092 1063.89,745.873 1268.47,630.768 1473.05,576.474 1677.64,411.007 1882.22,321.62 2086.8,312.519 \n",
       "  2291.38,182.945 \n",
       "  \"/>\n",
       "<polyline clip-path=\"url(#clip322)\" style=\"stroke:#8e971d; stroke-linecap:butt; stroke-linejoin:round; stroke-width:4; stroke-opacity:1; fill:none\" points=\"\n",
       "  245.565,1430.09 450.147,1442.18 654.728,1298.85 859.31,1206.02 1063.89,929.807 1268.47,651.172 1473.05,459.083 1677.64,272.918 1882.22,87.9763 \n",
       "  \"/>\n",
       "</svg>\n"
      ]
     },
     "execution_count": 9,
     "metadata": {},
     "output_type": "execute_result"
    }
   ],
   "source": [
    "p = plot(legend=false)\n",
    "\n",
    "for (path, r) in sol\n",
    "    reset!(mdp)\n",
    "    x = [mdp.sim.x]\n",
    "    for a in path\n",
    "        act!(mdp, a)\n",
    "        push!(x, mdp.sim.x)\n",
    "    end\n",
    "    plot!(p, x)\n",
    "end\n",
    "p"
   ]
  },
  {
   "cell_type": "markdown",
   "id": "ethical-assessment",
   "metadata": {},
   "source": [
    "## MCTS"
   ]
  },
  {
   "cell_type": "code",
   "execution_count": 10,
   "id": "blond-tradition",
   "metadata": {},
   "outputs": [
    {
     "data": {
      "text/plain": [
       "AdaStress.Solvers.MonteCarloTreeSearch.MCTS(10000, 10, 1.0, 0.5, 1.0, nothing)"
      ]
     },
     "execution_count": 10,
     "metadata": {},
     "output_type": "execute_result"
    }
   ],
   "source": [
    "mcts = AdaStress.Solvers.MCTS(num_iterations=10_000)"
   ]
  },
  {
   "cell_type": "code",
   "execution_count": 11,
   "id": "respected-divorce",
   "metadata": {},
   "outputs": [
    {
     "name": "stderr",
     "output_type": "stream",
     "text": [
      "\u001b[32mProgress: 100%|█████████████████████████████████████████| Time: 0:00:01\u001b[39m\n"
     ]
    },
    {
     "data": {
      "text/plain": [
       "DataStructures.PriorityQueue{Any, Any, Base.Order.ForwardOrdering} with 10 entries:\n",
       "  UInt32[0x82ec1abd, 0x62719c93, 0x3a2b775d, 0xf83291b4, 0xc83c397d,… => 98.9009\n",
       "  UInt32[0x82ec1abd, 0x62719c93, 0x3a2b775d, 0xf83291b4, 0xc83c397d,… => 101.523\n",
       "  UInt32[0x82ec1abd, 0x62719c93, 0x3a2b775d, 0xf83291b4, 0xc83c397d,… => 101.527\n",
       "  UInt32[0x82ec1abd, 0x62719c93, 0x3a2b775d, 0xf83291b4, 0xc83c397d,… => 101.574\n",
       "  UInt32[0x82ec1abd, 0x62719c93, 0x3a2b775d, 0xf83291b4, 0xc83c397d,… => 102.882\n",
       "  UInt32[0x82ec1abd, 0x62719c93, 0x3a2b775d, 0xf83291b4, 0xc83c397d,… => 102.911\n",
       "  UInt32[0x82ec1abd, 0x62719c93, 0x3a2b775d, 0xf83291b4, 0xc83c397d,… => 199.364\n",
       "  UInt32[0x82ec1abd, 0x9762a172, 0x4405f27e, 0x63291be0, 0x739584a6,… => 199.588\n",
       "  UInt32[0x82ec1abd, 0x62719c93, 0x3a2b775d, 0x147fc209, 0x429d9ab2,… => 201.089\n",
       "  UInt32[0x82ec1abd, 0x62719c93, 0x3a2b775d, 0xf83291b4, 0xc83c397d,… => 201.871"
      ]
     },
     "execution_count": 11,
     "metadata": {},
     "output_type": "execute_result"
    }
   ],
   "source": [
    "Random.seed!(0)\n",
    "sol = mcts(() -> mdp)"
   ]
  },
  {
   "cell_type": "code",
   "execution_count": 12,
   "id": "sixth-greene",
   "metadata": {},
   "outputs": [
    {
     "data": {
      "image/svg+xml": [
       "<?xml version=\"1.0\" encoding=\"utf-8\"?>\n",
       "<svg xmlns=\"http://www.w3.org/2000/svg\" xmlns:xlink=\"http://www.w3.org/1999/xlink\" width=\"600\" height=\"400\" viewBox=\"0 0 2400 1600\">\n",
       "<defs>\n",
       "  <clipPath id=\"clip360\">\n",
       "    <rect x=\"0\" y=\"0\" width=\"2400\" height=\"1600\"/>\n",
       "  </clipPath>\n",
       "</defs>\n",
       "<path clip-path=\"url(#clip360)\" d=\"\n",
       "M0 1600 L2400 1600 L2400 0 L0 0  Z\n",
       "  \" fill=\"#ffffff\" fill-rule=\"evenodd\" fill-opacity=\"1\"/>\n",
       "<defs>\n",
       "  <clipPath id=\"clip361\">\n",
       "    <rect x=\"480\" y=\"0\" width=\"1681\" height=\"1600\"/>\n",
       "  </clipPath>\n",
       "</defs>\n",
       "<path clip-path=\"url(#clip360)\" d=\"\n",
       "M184.191 1486.45 L2352.76 1486.45 L2352.76 47.2441 L184.191 47.2441  Z\n",
       "  \" fill=\"#ffffff\" fill-rule=\"evenodd\" fill-opacity=\"1\"/>\n",
       "<defs>\n",
       "  <clipPath id=\"clip362\">\n",
       "    <rect x=\"184\" y=\"47\" width=\"2170\" height=\"1440\"/>\n",
       "  </clipPath>\n",
       "</defs>\n",
       "<polyline clip-path=\"url(#clip362)\" style=\"stroke:#000000; stroke-linecap:butt; stroke-linejoin:round; stroke-width:2; stroke-opacity:0.1; fill:none\" points=\"\n",
       "  450.147,1486.45 450.147,47.2441 \n",
       "  \"/>\n",
       "<polyline clip-path=\"url(#clip362)\" style=\"stroke:#000000; stroke-linecap:butt; stroke-linejoin:round; stroke-width:2; stroke-opacity:0.1; fill:none\" points=\"\n",
       "  859.31,1486.45 859.31,47.2441 \n",
       "  \"/>\n",
       "<polyline clip-path=\"url(#clip362)\" style=\"stroke:#000000; stroke-linecap:butt; stroke-linejoin:round; stroke-width:2; stroke-opacity:0.1; fill:none\" points=\"\n",
       "  1268.47,1486.45 1268.47,47.2441 \n",
       "  \"/>\n",
       "<polyline clip-path=\"url(#clip362)\" style=\"stroke:#000000; stroke-linecap:butt; stroke-linejoin:round; stroke-width:2; stroke-opacity:0.1; fill:none\" points=\"\n",
       "  1677.64,1486.45 1677.64,47.2441 \n",
       "  \"/>\n",
       "<polyline clip-path=\"url(#clip362)\" style=\"stroke:#000000; stroke-linecap:butt; stroke-linejoin:round; stroke-width:2; stroke-opacity:0.1; fill:none\" points=\"\n",
       "  2086.8,1486.45 2086.8,47.2441 \n",
       "  \"/>\n",
       "<polyline clip-path=\"url(#clip360)\" style=\"stroke:#000000; stroke-linecap:butt; stroke-linejoin:round; stroke-width:4; stroke-opacity:1; fill:none\" points=\"\n",
       "  184.191,1486.45 2352.76,1486.45 \n",
       "  \"/>\n",
       "<polyline clip-path=\"url(#clip360)\" style=\"stroke:#000000; stroke-linecap:butt; stroke-linejoin:round; stroke-width:4; stroke-opacity:1; fill:none\" points=\"\n",
       "  450.147,1486.45 450.147,1469.18 \n",
       "  \"/>\n",
       "<polyline clip-path=\"url(#clip360)\" style=\"stroke:#000000; stroke-linecap:butt; stroke-linejoin:round; stroke-width:4; stroke-opacity:1; fill:none\" points=\"\n",
       "  859.31,1486.45 859.31,1469.18 \n",
       "  \"/>\n",
       "<polyline clip-path=\"url(#clip360)\" style=\"stroke:#000000; stroke-linecap:butt; stroke-linejoin:round; stroke-width:4; stroke-opacity:1; fill:none\" points=\"\n",
       "  1268.47,1486.45 1268.47,1469.18 \n",
       "  \"/>\n",
       "<polyline clip-path=\"url(#clip360)\" style=\"stroke:#000000; stroke-linecap:butt; stroke-linejoin:round; stroke-width:4; stroke-opacity:1; fill:none\" points=\"\n",
       "  1677.64,1486.45 1677.64,1469.18 \n",
       "  \"/>\n",
       "<polyline clip-path=\"url(#clip360)\" style=\"stroke:#000000; stroke-linecap:butt; stroke-linejoin:round; stroke-width:4; stroke-opacity:1; fill:none\" points=\"\n",
       "  2086.8,1486.45 2086.8,1469.18 \n",
       "  \"/>\n",
       "<path clip-path=\"url(#clip360)\" d=\"M444.8 1543.18 L461.119 1543.18 L461.119 1547.12 L439.175 1547.12 L439.175 1543.18 Q441.837 1540.43 446.42 1535.8 Q451.026 1531.15 452.207 1529.81 Q454.452 1527.28 455.332 1525.55 Q456.235 1523.79 456.235 1522.1 Q456.235 1519.34 454.29 1517.61 Q452.369 1515.87 449.267 1515.87 Q447.068 1515.87 444.614 1516.63 Q442.184 1517.4 439.406 1518.95 L439.406 1514.23 Q442.23 1513.09 444.684 1512.51 Q447.138 1511.93 449.175 1511.93 Q454.545 1511.93 457.739 1514.62 Q460.934 1517.31 460.934 1521.8 Q460.934 1523.93 460.124 1525.85 Q459.337 1527.74 457.23 1530.34 Q456.651 1531.01 453.55 1534.23 Q450.448 1537.42 444.8 1543.18 Z\" fill=\"#000000\" fill-rule=\"evenodd\" fill-opacity=\"1\" /><path clip-path=\"url(#clip360)\" d=\"M862.319 1516.63 L850.514 1535.08 L862.319 1535.08 L862.319 1516.63 M861.092 1512.56 L866.972 1512.56 L866.972 1535.08 L871.903 1535.08 L871.903 1538.97 L866.972 1538.97 L866.972 1547.12 L862.319 1547.12 L862.319 1538.97 L846.718 1538.97 L846.718 1534.46 L861.092 1512.56 Z\" fill=\"#000000\" fill-rule=\"evenodd\" fill-opacity=\"1\" /><path clip-path=\"url(#clip360)\" d=\"M1268.88 1527.98 Q1265.73 1527.98 1263.88 1530.13 Q1262.05 1532.28 1262.05 1536.03 Q1262.05 1539.76 1263.88 1541.93 Q1265.73 1544.09 1268.88 1544.09 Q1272.03 1544.09 1273.86 1541.93 Q1275.71 1539.76 1275.71 1536.03 Q1275.71 1532.28 1273.86 1530.13 Q1272.03 1527.98 1268.88 1527.98 M1278.16 1513.32 L1278.16 1517.58 Q1276.4 1516.75 1274.6 1516.31 Q1272.81 1515.87 1271.05 1515.87 Q1266.42 1515.87 1263.97 1519 Q1261.54 1522.12 1261.19 1528.44 Q1262.56 1526.43 1264.62 1525.36 Q1266.68 1524.27 1269.16 1524.27 Q1274.36 1524.27 1277.37 1527.44 Q1280.41 1530.59 1280.41 1536.03 Q1280.41 1541.36 1277.26 1544.57 Q1274.11 1547.79 1268.88 1547.79 Q1262.88 1547.79 1259.71 1543.21 Q1256.54 1538.6 1256.54 1529.87 Q1256.54 1521.68 1260.43 1516.82 Q1264.32 1511.93 1270.87 1511.93 Q1272.63 1511.93 1274.41 1512.28 Q1276.22 1512.63 1278.16 1513.32 Z\" fill=\"#000000\" fill-rule=\"evenodd\" fill-opacity=\"1\" /><path clip-path=\"url(#clip360)\" d=\"M1677.64 1530.71 Q1674.3 1530.71 1672.38 1532.49 Q1670.48 1534.27 1670.48 1537.4 Q1670.48 1540.52 1672.38 1542.31 Q1674.3 1544.09 1677.64 1544.09 Q1680.97 1544.09 1682.89 1542.31 Q1684.81 1540.5 1684.81 1537.4 Q1684.81 1534.27 1682.89 1532.49 Q1680.99 1530.71 1677.64 1530.71 M1672.96 1528.72 Q1669.95 1527.98 1668.26 1525.92 Q1666.59 1523.86 1666.59 1520.89 Q1666.59 1516.75 1669.53 1514.34 Q1672.5 1511.93 1677.64 1511.93 Q1682.8 1511.93 1685.74 1514.34 Q1688.68 1516.75 1688.68 1520.89 Q1688.68 1523.86 1686.99 1525.92 Q1685.32 1527.98 1682.34 1528.72 Q1685.72 1529.5 1687.59 1531.8 Q1689.49 1534.09 1689.49 1537.4 Q1689.49 1542.42 1686.41 1545.11 Q1683.35 1547.79 1677.64 1547.79 Q1671.92 1547.79 1668.84 1545.11 Q1665.78 1542.42 1665.78 1537.4 Q1665.78 1534.09 1667.68 1531.8 Q1669.58 1529.5 1672.96 1528.72 M1671.25 1521.33 Q1671.25 1524.02 1672.91 1525.52 Q1674.6 1527.03 1677.64 1527.03 Q1680.65 1527.03 1682.34 1525.52 Q1684.05 1524.02 1684.05 1521.33 Q1684.05 1518.65 1682.34 1517.14 Q1680.65 1515.64 1677.64 1515.64 Q1674.6 1515.64 1672.91 1517.14 Q1671.25 1518.65 1671.25 1521.33 Z\" fill=\"#000000\" fill-rule=\"evenodd\" fill-opacity=\"1\" /><path clip-path=\"url(#clip360)\" d=\"M2061.49 1543.18 L2069.13 1543.18 L2069.13 1516.82 L2060.82 1518.49 L2060.82 1514.23 L2069.08 1512.56 L2073.76 1512.56 L2073.76 1543.18 L2081.39 1543.18 L2081.39 1547.12 L2061.49 1547.12 L2061.49 1543.18 Z\" fill=\"#000000\" fill-rule=\"evenodd\" fill-opacity=\"1\" /><path clip-path=\"url(#clip360)\" d=\"M2100.84 1515.64 Q2097.23 1515.64 2095.4 1519.2 Q2093.59 1522.75 2093.59 1529.87 Q2093.59 1536.98 2095.4 1540.55 Q2097.23 1544.09 2100.84 1544.09 Q2104.47 1544.09 2106.28 1540.55 Q2108.11 1536.98 2108.11 1529.87 Q2108.11 1522.75 2106.28 1519.2 Q2104.47 1515.64 2100.84 1515.64 M2100.84 1511.93 Q2106.65 1511.93 2109.7 1516.54 Q2112.78 1521.12 2112.78 1529.87 Q2112.78 1538.6 2109.7 1543.21 Q2106.65 1547.79 2100.84 1547.79 Q2095.03 1547.79 2091.95 1543.21 Q2088.89 1538.6 2088.89 1529.87 Q2088.89 1521.12 2091.95 1516.54 Q2095.03 1511.93 2100.84 1511.93 Z\" fill=\"#000000\" fill-rule=\"evenodd\" fill-opacity=\"1\" /><polyline clip-path=\"url(#clip362)\" style=\"stroke:#000000; stroke-linecap:butt; stroke-linejoin:round; stroke-width:2; stroke-opacity:0.1; fill:none\" points=\"\n",
       "  184.191,1445.72 2352.76,1445.72 \n",
       "  \"/>\n",
       "<polyline clip-path=\"url(#clip362)\" style=\"stroke:#000000; stroke-linecap:butt; stroke-linejoin:round; stroke-width:2; stroke-opacity:0.1; fill:none\" points=\"\n",
       "  184.191,1128.85 2352.76,1128.85 \n",
       "  \"/>\n",
       "<polyline clip-path=\"url(#clip362)\" style=\"stroke:#000000; stroke-linecap:butt; stroke-linejoin:round; stroke-width:2; stroke-opacity:0.1; fill:none\" points=\"\n",
       "  184.191,811.985 2352.76,811.985 \n",
       "  \"/>\n",
       "<polyline clip-path=\"url(#clip362)\" style=\"stroke:#000000; stroke-linecap:butt; stroke-linejoin:round; stroke-width:2; stroke-opacity:0.1; fill:none\" points=\"\n",
       "  184.191,495.12 2352.76,495.12 \n",
       "  \"/>\n",
       "<polyline clip-path=\"url(#clip362)\" style=\"stroke:#000000; stroke-linecap:butt; stroke-linejoin:round; stroke-width:2; stroke-opacity:0.1; fill:none\" points=\"\n",
       "  184.191,178.255 2352.76,178.255 \n",
       "  \"/>\n",
       "<polyline clip-path=\"url(#clip360)\" style=\"stroke:#000000; stroke-linecap:butt; stroke-linejoin:round; stroke-width:4; stroke-opacity:1; fill:none\" points=\"\n",
       "  184.191,1486.45 184.191,47.2441 \n",
       "  \"/>\n",
       "<polyline clip-path=\"url(#clip360)\" style=\"stroke:#000000; stroke-linecap:butt; stroke-linejoin:round; stroke-width:4; stroke-opacity:1; fill:none\" points=\"\n",
       "  184.191,1445.72 210.213,1445.72 \n",
       "  \"/>\n",
       "<polyline clip-path=\"url(#clip360)\" style=\"stroke:#000000; stroke-linecap:butt; stroke-linejoin:round; stroke-width:4; stroke-opacity:1; fill:none\" points=\"\n",
       "  184.191,1128.85 210.213,1128.85 \n",
       "  \"/>\n",
       "<polyline clip-path=\"url(#clip360)\" style=\"stroke:#000000; stroke-linecap:butt; stroke-linejoin:round; stroke-width:4; stroke-opacity:1; fill:none\" points=\"\n",
       "  184.191,811.985 210.213,811.985 \n",
       "  \"/>\n",
       "<polyline clip-path=\"url(#clip360)\" style=\"stroke:#000000; stroke-linecap:butt; stroke-linejoin:round; stroke-width:4; stroke-opacity:1; fill:none\" points=\"\n",
       "  184.191,495.12 210.213,495.12 \n",
       "  \"/>\n",
       "<polyline clip-path=\"url(#clip360)\" style=\"stroke:#000000; stroke-linecap:butt; stroke-linejoin:round; stroke-width:4; stroke-opacity:1; fill:none\" points=\"\n",
       "  184.191,178.255 210.213,178.255 \n",
       "  \"/>\n",
       "<path clip-path=\"url(#clip360)\" d=\"M91.0151 1431.51 Q87.404 1431.51 85.5753 1435.08 Q83.7697 1438.62 83.7697 1445.75 Q83.7697 1452.86 85.5753 1456.42 Q87.404 1459.96 91.0151 1459.96 Q94.6493 1459.96 96.4548 1456.42 Q98.2835 1452.86 98.2835 1445.75 Q98.2835 1438.62 96.4548 1435.08 Q94.6493 1431.51 91.0151 1431.51 M91.0151 1427.81 Q96.8252 1427.81 99.8808 1432.42 Q102.959 1437 102.959 1445.75 Q102.959 1454.48 99.8808 1459.08 Q96.8252 1463.67 91.0151 1463.67 Q85.2049 1463.67 82.1262 1459.08 Q79.0707 1454.48 79.0707 1445.75 Q79.0707 1437 82.1262 1432.42 Q85.2049 1427.81 91.0151 1427.81 Z\" fill=\"#000000\" fill-rule=\"evenodd\" fill-opacity=\"1\" /><path clip-path=\"url(#clip360)\" d=\"M111.177 1457.12 L116.061 1457.12 L116.061 1463 L111.177 1463 L111.177 1457.12 Z\" fill=\"#000000\" fill-rule=\"evenodd\" fill-opacity=\"1\" /><path clip-path=\"url(#clip360)\" d=\"M136.246 1431.51 Q132.635 1431.51 130.807 1435.08 Q129.001 1438.62 129.001 1445.75 Q129.001 1452.86 130.807 1456.42 Q132.635 1459.96 136.246 1459.96 Q139.881 1459.96 141.686 1456.42 Q143.515 1452.86 143.515 1445.75 Q143.515 1438.62 141.686 1435.08 Q139.881 1431.51 136.246 1431.51 M136.246 1427.81 Q142.056 1427.81 145.112 1432.42 Q148.191 1437 148.191 1445.75 Q148.191 1454.48 145.112 1459.08 Q142.056 1463.67 136.246 1463.67 Q130.436 1463.67 127.357 1459.08 Q124.302 1454.48 124.302 1445.75 Q124.302 1437 127.357 1432.42 Q130.436 1427.81 136.246 1427.81 Z\" fill=\"#000000\" fill-rule=\"evenodd\" fill-opacity=\"1\" /><path clip-path=\"url(#clip360)\" d=\"M86.0382 1142.2 L102.358 1142.2 L102.358 1146.13 L80.4133 1146.13 L80.4133 1142.2 Q83.0753 1139.44 87.6586 1134.81 Q92.2651 1130.16 93.4456 1128.82 Q95.691 1126.29 96.5706 1124.56 Q97.4734 1122.8 97.4734 1121.11 Q97.4734 1118.35 95.5289 1116.62 Q93.6076 1114.88 90.5058 1114.88 Q88.3067 1114.88 85.8531 1115.64 Q83.4225 1116.41 80.6447 1117.96 L80.6447 1113.24 Q83.4688 1112.1 85.9225 1111.52 Q88.3762 1110.95 90.4132 1110.95 Q95.7836 1110.95 98.978 1113.63 Q102.172 1116.32 102.172 1120.81 Q102.172 1122.94 101.362 1124.86 Q100.575 1126.76 98.4687 1129.35 Q97.89 1130.02 94.7882 1133.24 Q91.6864 1136.43 86.0382 1142.2 Z\" fill=\"#000000\" fill-rule=\"evenodd\" fill-opacity=\"1\" /><path clip-path=\"url(#clip360)\" d=\"M112.172 1140.25 L117.057 1140.25 L117.057 1146.13 L112.172 1146.13 L112.172 1140.25 Z\" fill=\"#000000\" fill-rule=\"evenodd\" fill-opacity=\"1\" /><path clip-path=\"url(#clip360)\" d=\"M127.288 1111.57 L145.644 1111.57 L145.644 1115.51 L131.57 1115.51 L131.57 1123.98 Q132.589 1123.63 133.607 1123.47 Q134.626 1123.28 135.644 1123.28 Q141.431 1123.28 144.811 1126.45 Q148.191 1129.63 148.191 1135.04 Q148.191 1140.62 144.718 1143.72 Q141.246 1146.8 134.927 1146.8 Q132.751 1146.8 130.482 1146.43 Q128.237 1146.06 125.83 1145.32 L125.83 1140.62 Q127.913 1141.76 130.135 1142.31 Q132.357 1142.87 134.834 1142.87 Q138.839 1142.87 141.177 1140.76 Q143.515 1138.65 143.515 1135.04 Q143.515 1131.43 141.177 1129.33 Q138.839 1127.22 134.834 1127.22 Q132.959 1127.22 131.084 1127.64 Q129.232 1128.05 127.288 1128.93 L127.288 1111.57 Z\" fill=\"#000000\" fill-rule=\"evenodd\" fill-opacity=\"1\" /><path clip-path=\"url(#clip360)\" d=\"M81.0614 794.705 L99.4178 794.705 L99.4178 798.641 L85.3438 798.641 L85.3438 807.113 Q86.3623 806.765 87.3808 806.603 Q88.3993 806.418 89.4178 806.418 Q95.2049 806.418 98.5845 809.59 Q101.964 812.761 101.964 818.177 Q101.964 823.756 98.4919 826.858 Q95.0197 829.937 88.7003 829.937 Q86.5243 829.937 84.2558 829.566 Q82.0105 829.196 79.6031 828.455 L79.6031 823.756 Q81.6864 824.89 83.9086 825.446 Q86.1308 826.002 88.6077 826.002 Q92.6123 826.002 94.9502 823.895 Q97.2882 821.789 97.2882 818.177 Q97.2882 814.566 94.9502 812.46 Q92.6123 810.353 88.6077 810.353 Q86.7327 810.353 84.8577 810.77 Q83.0058 811.187 81.0614 812.066 L81.0614 794.705 Z\" fill=\"#000000\" fill-rule=\"evenodd\" fill-opacity=\"1\" /><path clip-path=\"url(#clip360)\" d=\"M111.177 823.386 L116.061 823.386 L116.061 829.265 L111.177 829.265 L111.177 823.386 Z\" fill=\"#000000\" fill-rule=\"evenodd\" fill-opacity=\"1\" /><path clip-path=\"url(#clip360)\" d=\"M136.246 797.784 Q132.635 797.784 130.807 801.349 Q129.001 804.891 129.001 812.02 Q129.001 819.127 130.807 822.691 Q132.635 826.233 136.246 826.233 Q139.881 826.233 141.686 822.691 Q143.515 819.127 143.515 812.02 Q143.515 804.891 141.686 801.349 Q139.881 797.784 136.246 797.784 M136.246 794.08 Q142.056 794.08 145.112 798.687 Q148.191 803.27 148.191 812.02 Q148.191 820.747 145.112 825.353 Q142.056 829.937 136.246 829.937 Q130.436 829.937 127.357 825.353 Q124.302 820.747 124.302 812.02 Q124.302 803.27 127.357 798.687 Q130.436 794.08 136.246 794.08 Z\" fill=\"#000000\" fill-rule=\"evenodd\" fill-opacity=\"1\" /><path clip-path=\"url(#clip360)\" d=\"M80.8299 477.84 L103.052 477.84 L103.052 479.831 L90.5058 512.4 L85.6216 512.4 L97.4271 481.775 L80.8299 481.775 L80.8299 477.84 Z\" fill=\"#000000\" fill-rule=\"evenodd\" fill-opacity=\"1\" /><path clip-path=\"url(#clip360)\" d=\"M112.172 506.521 L117.057 506.521 L117.057 512.4 L112.172 512.4 L112.172 506.521 Z\" fill=\"#000000\" fill-rule=\"evenodd\" fill-opacity=\"1\" /><path clip-path=\"url(#clip360)\" d=\"M127.288 477.84 L145.644 477.84 L145.644 481.775 L131.57 481.775 L131.57 490.248 Q132.589 489.9 133.607 489.738 Q134.626 489.553 135.644 489.553 Q141.431 489.553 144.811 492.724 Q148.191 495.896 148.191 501.312 Q148.191 506.891 144.718 509.993 Q141.246 513.072 134.927 513.072 Q132.751 513.072 130.482 512.701 Q128.237 512.331 125.83 511.59 L125.83 506.891 Q127.913 508.025 130.135 508.581 Q132.357 509.136 134.834 509.136 Q138.839 509.136 141.177 507.03 Q143.515 504.923 143.515 501.312 Q143.515 497.701 141.177 495.595 Q138.839 493.488 134.834 493.488 Q132.959 493.488 131.084 493.905 Q129.232 494.322 127.288 495.201 L127.288 477.84 Z\" fill=\"#000000\" fill-rule=\"evenodd\" fill-opacity=\"1\" /><path clip-path=\"url(#clip360)\" d=\"M51.6634 191.6 L59.3023 191.6 L59.3023 165.234 L50.9921 166.901 L50.9921 162.642 L59.256 160.975 L63.9319 160.975 L63.9319 191.6 L71.5707 191.6 L71.5707 195.535 L51.6634 195.535 L51.6634 191.6 Z\" fill=\"#000000\" fill-rule=\"evenodd\" fill-opacity=\"1\" /><path clip-path=\"url(#clip360)\" d=\"M91.0151 164.054 Q87.404 164.054 85.5753 167.619 Q83.7697 171.16 83.7697 178.29 Q83.7697 185.396 85.5753 188.961 Q87.404 192.503 91.0151 192.503 Q94.6493 192.503 96.4548 188.961 Q98.2835 185.396 98.2835 178.29 Q98.2835 171.16 96.4548 167.619 Q94.6493 164.054 91.0151 164.054 M91.0151 160.35 Q96.8252 160.35 99.8808 164.957 Q102.959 169.54 102.959 178.29 Q102.959 187.017 99.8808 191.623 Q96.8252 196.206 91.0151 196.206 Q85.2049 196.206 82.1262 191.623 Q79.0707 187.017 79.0707 178.29 Q79.0707 169.54 82.1262 164.957 Q85.2049 160.35 91.0151 160.35 Z\" fill=\"#000000\" fill-rule=\"evenodd\" fill-opacity=\"1\" /><path clip-path=\"url(#clip360)\" d=\"M111.177 189.655 L116.061 189.655 L116.061 195.535 L111.177 195.535 L111.177 189.655 Z\" fill=\"#000000\" fill-rule=\"evenodd\" fill-opacity=\"1\" /><path clip-path=\"url(#clip360)\" d=\"M136.246 164.054 Q132.635 164.054 130.807 167.619 Q129.001 171.16 129.001 178.29 Q129.001 185.396 130.807 188.961 Q132.635 192.503 136.246 192.503 Q139.881 192.503 141.686 188.961 Q143.515 185.396 143.515 178.29 Q143.515 171.16 141.686 167.619 Q139.881 164.054 136.246 164.054 M136.246 160.35 Q142.056 160.35 145.112 164.957 Q148.191 169.54 148.191 178.29 Q148.191 187.017 145.112 191.623 Q142.056 196.206 136.246 196.206 Q130.436 196.206 127.357 191.623 Q124.302 187.017 124.302 178.29 Q124.302 169.54 127.357 164.957 Q130.436 160.35 136.246 160.35 Z\" fill=\"#000000\" fill-rule=\"evenodd\" fill-opacity=\"1\" /><polyline clip-path=\"url(#clip362)\" style=\"stroke:#009af9; stroke-linecap:butt; stroke-linejoin:round; stroke-width:4; stroke-opacity:1; fill:none\" points=\"\n",
       "  245.565,1445.72 450.147,1202.57 654.728,1228.86 859.31,1244.48 1063.89,1173.9 1268.47,1066.81 1473.05,942.11 1677.64,746.078 1882.22,685.294 2086.8,339.488 \n",
       "  2291.38,119.184 \n",
       "  \"/>\n",
       "<polyline clip-path=\"url(#clip362)\" style=\"stroke:#e26f46; stroke-linecap:butt; stroke-linejoin:round; stroke-width:4; stroke-opacity:1; fill:none\" points=\"\n",
       "  245.565,1445.72 450.147,1202.57 654.728,1228.86 859.31,1244.48 1063.89,1173.9 1268.47,1066.81 1473.05,942.11 1677.64,746.078 1882.22,685.294 2086.8,339.488 \n",
       "  2291.38,207.942 \n",
       "  \"/>\n",
       "<polyline clip-path=\"url(#clip362)\" style=\"stroke:#3da44d; stroke-linecap:butt; stroke-linejoin:round; stroke-width:4; stroke-opacity:1; fill:none\" points=\"\n",
       "  245.565,1445.72 450.147,1202.57 654.728,1228.86 859.31,1244.48 1063.89,1173.9 1268.47,1066.81 1473.05,942.11 1677.64,746.078 1882.22,685.294 2086.8,339.488 \n",
       "  2291.38,238.749 \n",
       "  \"/>\n",
       "<polyline clip-path=\"url(#clip362)\" style=\"stroke:#c271d2; stroke-linecap:butt; stroke-linejoin:round; stroke-width:4; stroke-opacity:1; fill:none\" points=\"\n",
       "  245.565,1445.72 450.147,1202.57 654.728,1228.86 859.31,1244.48 1063.89,1173.9 1268.47,1066.81 1473.05,942.11 1677.64,746.078 1882.22,685.294 2086.8,339.488 \n",
       "  2291.38,255.742 \n",
       "  \"/>\n",
       "<polyline clip-path=\"url(#clip362)\" style=\"stroke:#ac8d18; stroke-linecap:butt; stroke-linejoin:round; stroke-width:4; stroke-opacity:1; fill:none\" points=\"\n",
       "  245.565,1445.72 450.147,1202.57 654.728,1228.86 859.31,1244.48 1063.89,1173.9 1268.47,1066.81 1473.05,942.11 1677.64,746.078 1882.22,685.294 2086.8,447.307 \n",
       "  2291.38,319.712 \n",
       "  \"/>\n",
       "<polyline clip-path=\"url(#clip362)\" style=\"stroke:#00a9ad; stroke-linecap:butt; stroke-linejoin:round; stroke-width:4; stroke-opacity:1; fill:none\" points=\"\n",
       "  245.565,1445.72 450.147,1202.57 654.728,1228.86 859.31,1244.48 1063.89,1173.9 1268.47,1066.81 1473.05,942.11 1677.64,746.078 1882.22,691.715 2086.8,518.69 \n",
       "  2291.38,367.271 \n",
       "  \"/>\n",
       "<polyline clip-path=\"url(#clip362)\" style=\"stroke:#ed5d92; stroke-linecap:butt; stroke-linejoin:round; stroke-width:4; stroke-opacity:1; fill:none\" points=\"\n",
       "  245.565,1445.72 450.147,1202.57 654.728,1228.86 859.31,1244.48 1063.89,1173.9 1268.47,1066.81 1473.05,942.11 1677.64,746.078 1882.22,685.294 2086.8,339.488 \n",
       "  2291.38,151.577 \n",
       "  \"/>\n",
       "<polyline clip-path=\"url(#clip362)\" style=\"stroke:#c68125; stroke-linecap:butt; stroke-linejoin:round; stroke-width:4; stroke-opacity:1; fill:none\" points=\"\n",
       "  245.565,1445.72 450.147,1202.57 654.728,1153.06 859.31,1195.59 1063.89,1193.23 1268.47,1144.64 1473.05,842.28 1677.64,743.962 1882.22,499.84 2086.8,361.472 \n",
       "  2291.38,87.9763 \n",
       "  \"/>\n",
       "<polyline clip-path=\"url(#clip362)\" style=\"stroke:#00a98d; stroke-linecap:butt; stroke-linejoin:round; stroke-width:4; stroke-opacity:1; fill:none\" points=\"\n",
       "  245.565,1445.72 450.147,1202.57 654.728,1228.86 859.31,1244.48 1063.89,959.576 1268.47,875.869 1473.05,838.288 1677.64,751.006 1882.22,509.11 2086.8,286.896 \n",
       "  2291.38,155.534 \n",
       "  \"/>\n",
       "<polyline clip-path=\"url(#clip362)\" style=\"stroke:#8e971d; stroke-linecap:butt; stroke-linejoin:round; stroke-width:4; stroke-opacity:1; fill:none\" points=\"\n",
       "  245.565,1445.72 450.147,1202.57 654.728,1228.86 859.31,1244.48 1063.89,1173.9 1268.47,1066.81 1473.05,942.11 1677.64,746.078 1882.22,527.207 2086.8,334.202 \n",
       "  2291.38,144.087 \n",
       "  \"/>\n",
       "</svg>\n"
      ]
     },
     "execution_count": 12,
     "metadata": {},
     "output_type": "execute_result"
    }
   ],
   "source": [
    "p = plot(legend=false)\n",
    "\n",
    "for (path, r) in sol\n",
    "    reset!(mdp)\n",
    "    x = [mdp.sim.x]\n",
    "    for a in path\n",
    "        act!(mdp, a)\n",
    "        push!(x, mdp.sim.x)\n",
    "    end\n",
    "    plot!(p, x)\n",
    "end\n",
    "p"
   ]
  },
  {
   "cell_type": "code",
   "execution_count": null,
   "id": "modified-lecture",
   "metadata": {},
   "outputs": [],
   "source": []
  }
 ],
 "metadata": {
  "kernelspec": {
   "display_name": "Julia 1.6.0",
   "language": "julia",
   "name": "julia-1.6"
  },
  "language_info": {
   "file_extension": ".jl",
   "mimetype": "application/julia",
   "name": "julia",
   "version": "1.6.0"
  }
 },
 "nbformat": 4,
 "nbformat_minor": 5
}
